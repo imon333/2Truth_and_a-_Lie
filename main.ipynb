{
 "cells": [
  {
   "cell_type": "code",
   "execution_count": 414,
   "id": "3aa9099c",
   "metadata": {},
   "outputs": [],
   "source": [
    "import plotly.express as px\n",
    "import pandas as pd\n",
    "from matplotlib import pyplot as plt\n",
    "#imported plotly.express and pandas"
   ]
  },
  {
   "cell_type": "code",
   "execution_count": 415,
   "id": "46b3d1a1",
   "metadata": {},
   "outputs": [],
   "source": [
    "data=pd.read_excel(\"sentimentdataset_clean.xlsx\")\n",
    "#read the excel file\n"
   ]
  },
  {
   "cell_type": "markdown",
   "id": "fbf79b9d",
   "metadata": {},
   "source": [
    "## 1. Yearly distribution of sentiments"
   ]
  },
  {
   "cell_type": "code",
   "execution_count": 416,
   "id": "eeadf10f",
   "metadata": {},
   "outputs": [],
   "source": [
    "sentiment_counts = data.groupby(\"Year\")[\"General_Sentiment\"].value_counts().unstack().fillna(0)\n",
    "#Grouped the data by \"Year\" and counted the occurrences of values in the \"General_Sentiment\" column. `Unstack()` converts the grouped data into a wide format with each sentiment as a separate column.`Fillna(0)` replaces any missing values with 0."
   ]
  },
  {
   "cell_type": "code",
   "execution_count": 417,
   "id": "c962a9c5",
   "metadata": {},
   "outputs": [],
   "source": [
    "data = data[data['Year'] >= 2016]\n",
    "#filtered out dta that is older than 2016"
   ]
  },
  {
   "cell_type": "code",
   "execution_count": 418,
   "id": "c43fb634",
   "metadata": {},
   "outputs": [
    {
     "data": {
      "application/vnd.plotly.v1+json": {
       "config": {
        "plotlyServerURL": "https://plot.ly"
       },
       "data": [
        {
         "alignmentgroup": "True",
         "hovertemplate": "General_Sentiment=Anger<br>Year=%{x}<br>Percentage=%{y}<extra></extra>",
         "legendgroup": "Anger",
         "marker": {
          "color": "rgb(102, 197, 204)",
          "pattern": {
           "shape": ""
          }
         },
         "name": "Anger",
         "offsetgroup": "Anger",
         "orientation": "v",
         "showlegend": true,
         "textposition": "auto",
         "type": "bar",
         "x": [
          2010,
          2011,
          2012,
          2013,
          2014,
          2015,
          2016,
          2017,
          2018,
          2019,
          2020,
          2021,
          2022,
          2023
         ],
         "xaxis": "x",
         "y": [
          0,
          0,
          0,
          0,
          0,
          5.263157894736842,
          0,
          9.523809523809524,
          5.660377358490567,
          4.285714285714286,
          6.25,
          5.172413793103448,
          5.172413793103448,
          6.2717770034843205
         ],
         "yaxis": "y"
        },
        {
         "alignmentgroup": "True",
         "hovertemplate": "General_Sentiment=Anticipation<br>Year=%{x}<br>Percentage=%{y}<extra></extra>",
         "legendgroup": "Anticipation",
         "marker": {
          "color": "rgb(246, 207, 113)",
          "pattern": {
           "shape": ""
          }
         },
         "name": "Anticipation",
         "offsetgroup": "Anticipation",
         "orientation": "v",
         "showlegend": true,
         "textposition": "auto",
         "type": "bar",
         "x": [
          2010,
          2011,
          2012,
          2013,
          2014,
          2015,
          2016,
          2017,
          2018,
          2019,
          2020,
          2021,
          2022,
          2023
         ],
         "xaxis": "x",
         "y": [
          0,
          0,
          0,
          0,
          0,
          26.31578947368421,
          8.108108108108109,
          9.523809523809524,
          5.660377358490567,
          12.857142857142856,
          10.9375,
          3.4482758620689653,
          17.24137931034483,
          4.878048780487805
         ],
         "yaxis": "y"
        },
        {
         "alignmentgroup": "True",
         "hovertemplate": "General_Sentiment=Disgust<br>Year=%{x}<br>Percentage=%{y}<extra></extra>",
         "legendgroup": "Disgust",
         "marker": {
          "color": "rgb(248, 156, 116)",
          "pattern": {
           "shape": ""
          }
         },
         "name": "Disgust",
         "offsetgroup": "Disgust",
         "orientation": "v",
         "showlegend": true,
         "textposition": "auto",
         "type": "bar",
         "x": [
          2010,
          2011,
          2012,
          2013,
          2014,
          2015,
          2016,
          2017,
          2018,
          2019,
          2020,
          2021,
          2022,
          2023
         ],
         "xaxis": "x",
         "y": [
          0,
          0,
          0,
          0,
          0,
          0,
          5.405405405405405,
          0,
          3.7735849056603774,
          2.857142857142857,
          0,
          0,
          0,
          3.1358885017421603
         ],
         "yaxis": "y"
        },
        {
         "alignmentgroup": "True",
         "hovertemplate": "General_Sentiment=Fear<br>Year=%{x}<br>Percentage=%{y}<extra></extra>",
         "legendgroup": "Fear",
         "marker": {
          "color": "rgb(220, 176, 242)",
          "pattern": {
           "shape": ""
          }
         },
         "name": "Fear",
         "offsetgroup": "Fear",
         "orientation": "v",
         "showlegend": true,
         "textposition": "auto",
         "type": "bar",
         "x": [
          2010,
          2011,
          2012,
          2013,
          2014,
          2015,
          2016,
          2017,
          2018,
          2019,
          2020,
          2021,
          2022,
          2023
         ],
         "xaxis": "x",
         "y": [
          0,
          0,
          0,
          0,
          0,
          0,
          2.7027027027027026,
          0,
          3.7735849056603774,
          7.142857142857142,
          3.125,
          10.344827586206897,
          5.172413793103448,
          1.7421602787456445
         ],
         "yaxis": "y"
        },
        {
         "alignmentgroup": "True",
         "hovertemplate": "General_Sentiment=Joy/Happiness<br>Year=%{x}<br>Percentage=%{y}<extra></extra>",
         "legendgroup": "Joy/Happiness",
         "marker": {
          "color": "rgb(135, 197, 95)",
          "pattern": {
           "shape": ""
          }
         },
         "name": "Joy/Happiness",
         "offsetgroup": "Joy/Happiness",
         "orientation": "v",
         "showlegend": true,
         "textposition": "auto",
         "type": "bar",
         "x": [
          2010,
          2011,
          2012,
          2013,
          2014,
          2015,
          2016,
          2017,
          2018,
          2019,
          2020,
          2021,
          2022,
          2023
         ],
         "xaxis": "x",
         "y": [
          33.33333333333333,
          25,
          100,
          100,
          100,
          21.052631578947366,
          16.216216216216218,
          30.952380952380953,
          47.16981132075472,
          31.428571428571427,
          32.8125,
          31.03448275862069,
          31.03448275862069,
          49.47735191637631
         ],
         "yaxis": "y"
        },
        {
         "alignmentgroup": "True",
         "hovertemplate": "General_Sentiment=Love/Affection<br>Year=%{x}<br>Percentage=%{y}<extra></extra>",
         "legendgroup": "Love/Affection",
         "marker": {
          "color": "rgb(158, 185, 243)",
          "pattern": {
           "shape": ""
          }
         },
         "name": "Love/Affection",
         "offsetgroup": "Love/Affection",
         "orientation": "v",
         "showlegend": true,
         "textposition": "auto",
         "type": "bar",
         "x": [
          2010,
          2011,
          2012,
          2013,
          2014,
          2015,
          2016,
          2017,
          2018,
          2019,
          2020,
          2021,
          2022,
          2023
         ],
         "xaxis": "x",
         "y": [
          0,
          0,
          0,
          0,
          0,
          15.789473684210526,
          18.91891891891892,
          14.285714285714285,
          7.547169811320755,
          5.714285714285714,
          1.5625,
          6.896551724137931,
          6.896551724137931,
          5.923344947735192
         ],
         "yaxis": "y"
        },
        {
         "alignmentgroup": "True",
         "hovertemplate": "General_Sentiment=Neutral/Calm<br>Year=%{x}<br>Percentage=%{y}<extra></extra>",
         "legendgroup": "Neutral/Calm",
         "marker": {
          "color": "rgb(254, 136, 177)",
          "pattern": {
           "shape": ""
          }
         },
         "name": "Neutral/Calm",
         "offsetgroup": "Neutral/Calm",
         "orientation": "v",
         "showlegend": true,
         "textposition": "auto",
         "type": "bar",
         "x": [
          2010,
          2011,
          2012,
          2013,
          2014,
          2015,
          2016,
          2017,
          2018,
          2019,
          2020,
          2021,
          2022,
          2023
         ],
         "xaxis": "x",
         "y": [
          66.66666666666666,
          75,
          0,
          0,
          0,
          10.526315789473683,
          16.216216216216218,
          7.142857142857142,
          3.7735849056603774,
          14.285714285714285,
          15.625,
          17.24137931034483,
          6.896551724137931,
          13.937282229965156
         ],
         "yaxis": "y"
        },
        {
         "alignmentgroup": "True",
         "hovertemplate": "General_Sentiment=Sadness<br>Year=%{x}<br>Percentage=%{y}<extra></extra>",
         "legendgroup": "Sadness",
         "marker": {
          "color": "rgb(201, 219, 116)",
          "pattern": {
           "shape": ""
          }
         },
         "name": "Sadness",
         "offsetgroup": "Sadness",
         "orientation": "v",
         "showlegend": true,
         "textposition": "auto",
         "type": "bar",
         "x": [
          2010,
          2011,
          2012,
          2013,
          2014,
          2015,
          2016,
          2017,
          2018,
          2019,
          2020,
          2021,
          2022,
          2023
         ],
         "xaxis": "x",
         "y": [
          0,
          0,
          0,
          0,
          0,
          15.789473684210526,
          24.324324324324326,
          23.809523809523807,
          18.867924528301888,
          18.571428571428573,
          17.1875,
          13.793103448275861,
          20.689655172413794,
          9.40766550522648
         ],
         "yaxis": "y"
        },
        {
         "alignmentgroup": "True",
         "hovertemplate": "General_Sentiment=Suprise<br>Year=%{x}<br>Percentage=%{y}<extra></extra>",
         "legendgroup": "Suprise",
         "marker": {
          "color": "rgb(139, 224, 164)",
          "pattern": {
           "shape": ""
          }
         },
         "name": "Suprise",
         "offsetgroup": "Suprise",
         "orientation": "v",
         "showlegend": true,
         "textposition": "auto",
         "type": "bar",
         "x": [
          2010,
          2011,
          2012,
          2013,
          2014,
          2015,
          2016,
          2017,
          2018,
          2019,
          2020,
          2021,
          2022,
          2023
         ],
         "xaxis": "x",
         "y": [
          0,
          0,
          0,
          0,
          0,
          5.263157894736842,
          5.405405405405405,
          2.380952380952381,
          3.7735849056603774,
          2.857142857142857,
          4.6875,
          6.896551724137931,
          5.172413793103448,
          3.1358885017421603
         ],
         "yaxis": "y"
        },
        {
         "alignmentgroup": "True",
         "hovertemplate": "General_Sentiment=Trust<br>Year=%{x}<br>Percentage=%{y}<extra></extra>",
         "legendgroup": "Trust",
         "marker": {
          "color": "rgb(180, 151, 231)",
          "pattern": {
           "shape": ""
          }
         },
         "name": "Trust",
         "offsetgroup": "Trust",
         "orientation": "v",
         "showlegend": true,
         "textposition": "auto",
         "type": "bar",
         "x": [
          2010,
          2011,
          2012,
          2013,
          2014,
          2015,
          2016,
          2017,
          2018,
          2019,
          2020,
          2021,
          2022,
          2023
         ],
         "xaxis": "x",
         "y": [
          0,
          0,
          0,
          0,
          0,
          0,
          2.7027027027027026,
          2.380952380952381,
          0,
          0,
          7.8125,
          5.172413793103448,
          1.7241379310344827,
          2.0905923344947737
         ],
         "yaxis": "y"
        }
       ],
       "layout": {
        "barmode": "relative",
        "legend": {
         "title": {
          "text": "General_Sentiment"
         },
         "tracegroupgap": 0
        },
        "template": {
         "data": {
          "bar": [
           {
            "error_x": {
             "color": "#2a3f5f"
            },
            "error_y": {
             "color": "#2a3f5f"
            },
            "marker": {
             "line": {
              "color": "#E5ECF6",
              "width": 0.5
             },
             "pattern": {
              "fillmode": "overlay",
              "size": 10,
              "solidity": 0.2
             }
            },
            "type": "bar"
           }
          ],
          "barpolar": [
           {
            "marker": {
             "line": {
              "color": "#E5ECF6",
              "width": 0.5
             },
             "pattern": {
              "fillmode": "overlay",
              "size": 10,
              "solidity": 0.2
             }
            },
            "type": "barpolar"
           }
          ],
          "carpet": [
           {
            "aaxis": {
             "endlinecolor": "#2a3f5f",
             "gridcolor": "white",
             "linecolor": "white",
             "minorgridcolor": "white",
             "startlinecolor": "#2a3f5f"
            },
            "baxis": {
             "endlinecolor": "#2a3f5f",
             "gridcolor": "white",
             "linecolor": "white",
             "minorgridcolor": "white",
             "startlinecolor": "#2a3f5f"
            },
            "type": "carpet"
           }
          ],
          "choropleth": [
           {
            "colorbar": {
             "outlinewidth": 0,
             "ticks": ""
            },
            "type": "choropleth"
           }
          ],
          "contour": [
           {
            "colorbar": {
             "outlinewidth": 0,
             "ticks": ""
            },
            "colorscale": [
             [
              0,
              "#0d0887"
             ],
             [
              0.1111111111111111,
              "#46039f"
             ],
             [
              0.2222222222222222,
              "#7201a8"
             ],
             [
              0.3333333333333333,
              "#9c179e"
             ],
             [
              0.4444444444444444,
              "#bd3786"
             ],
             [
              0.5555555555555556,
              "#d8576b"
             ],
             [
              0.6666666666666666,
              "#ed7953"
             ],
             [
              0.7777777777777778,
              "#fb9f3a"
             ],
             [
              0.8888888888888888,
              "#fdca26"
             ],
             [
              1,
              "#f0f921"
             ]
            ],
            "type": "contour"
           }
          ],
          "contourcarpet": [
           {
            "colorbar": {
             "outlinewidth": 0,
             "ticks": ""
            },
            "type": "contourcarpet"
           }
          ],
          "heatmap": [
           {
            "colorbar": {
             "outlinewidth": 0,
             "ticks": ""
            },
            "colorscale": [
             [
              0,
              "#0d0887"
             ],
             [
              0.1111111111111111,
              "#46039f"
             ],
             [
              0.2222222222222222,
              "#7201a8"
             ],
             [
              0.3333333333333333,
              "#9c179e"
             ],
             [
              0.4444444444444444,
              "#bd3786"
             ],
             [
              0.5555555555555556,
              "#d8576b"
             ],
             [
              0.6666666666666666,
              "#ed7953"
             ],
             [
              0.7777777777777778,
              "#fb9f3a"
             ],
             [
              0.8888888888888888,
              "#fdca26"
             ],
             [
              1,
              "#f0f921"
             ]
            ],
            "type": "heatmap"
           }
          ],
          "heatmapgl": [
           {
            "colorbar": {
             "outlinewidth": 0,
             "ticks": ""
            },
            "colorscale": [
             [
              0,
              "#0d0887"
             ],
             [
              0.1111111111111111,
              "#46039f"
             ],
             [
              0.2222222222222222,
              "#7201a8"
             ],
             [
              0.3333333333333333,
              "#9c179e"
             ],
             [
              0.4444444444444444,
              "#bd3786"
             ],
             [
              0.5555555555555556,
              "#d8576b"
             ],
             [
              0.6666666666666666,
              "#ed7953"
             ],
             [
              0.7777777777777778,
              "#fb9f3a"
             ],
             [
              0.8888888888888888,
              "#fdca26"
             ],
             [
              1,
              "#f0f921"
             ]
            ],
            "type": "heatmapgl"
           }
          ],
          "histogram": [
           {
            "marker": {
             "pattern": {
              "fillmode": "overlay",
              "size": 10,
              "solidity": 0.2
             }
            },
            "type": "histogram"
           }
          ],
          "histogram2d": [
           {
            "colorbar": {
             "outlinewidth": 0,
             "ticks": ""
            },
            "colorscale": [
             [
              0,
              "#0d0887"
             ],
             [
              0.1111111111111111,
              "#46039f"
             ],
             [
              0.2222222222222222,
              "#7201a8"
             ],
             [
              0.3333333333333333,
              "#9c179e"
             ],
             [
              0.4444444444444444,
              "#bd3786"
             ],
             [
              0.5555555555555556,
              "#d8576b"
             ],
             [
              0.6666666666666666,
              "#ed7953"
             ],
             [
              0.7777777777777778,
              "#fb9f3a"
             ],
             [
              0.8888888888888888,
              "#fdca26"
             ],
             [
              1,
              "#f0f921"
             ]
            ],
            "type": "histogram2d"
           }
          ],
          "histogram2dcontour": [
           {
            "colorbar": {
             "outlinewidth": 0,
             "ticks": ""
            },
            "colorscale": [
             [
              0,
              "#0d0887"
             ],
             [
              0.1111111111111111,
              "#46039f"
             ],
             [
              0.2222222222222222,
              "#7201a8"
             ],
             [
              0.3333333333333333,
              "#9c179e"
             ],
             [
              0.4444444444444444,
              "#bd3786"
             ],
             [
              0.5555555555555556,
              "#d8576b"
             ],
             [
              0.6666666666666666,
              "#ed7953"
             ],
             [
              0.7777777777777778,
              "#fb9f3a"
             ],
             [
              0.8888888888888888,
              "#fdca26"
             ],
             [
              1,
              "#f0f921"
             ]
            ],
            "type": "histogram2dcontour"
           }
          ],
          "mesh3d": [
           {
            "colorbar": {
             "outlinewidth": 0,
             "ticks": ""
            },
            "type": "mesh3d"
           }
          ],
          "parcoords": [
           {
            "line": {
             "colorbar": {
              "outlinewidth": 0,
              "ticks": ""
             }
            },
            "type": "parcoords"
           }
          ],
          "pie": [
           {
            "automargin": true,
            "type": "pie"
           }
          ],
          "scatter": [
           {
            "fillpattern": {
             "fillmode": "overlay",
             "size": 10,
             "solidity": 0.2
            },
            "type": "scatter"
           }
          ],
          "scatter3d": [
           {
            "line": {
             "colorbar": {
              "outlinewidth": 0,
              "ticks": ""
             }
            },
            "marker": {
             "colorbar": {
              "outlinewidth": 0,
              "ticks": ""
             }
            },
            "type": "scatter3d"
           }
          ],
          "scattercarpet": [
           {
            "marker": {
             "colorbar": {
              "outlinewidth": 0,
              "ticks": ""
             }
            },
            "type": "scattercarpet"
           }
          ],
          "scattergeo": [
           {
            "marker": {
             "colorbar": {
              "outlinewidth": 0,
              "ticks": ""
             }
            },
            "type": "scattergeo"
           }
          ],
          "scattergl": [
           {
            "marker": {
             "colorbar": {
              "outlinewidth": 0,
              "ticks": ""
             }
            },
            "type": "scattergl"
           }
          ],
          "scattermapbox": [
           {
            "marker": {
             "colorbar": {
              "outlinewidth": 0,
              "ticks": ""
             }
            },
            "type": "scattermapbox"
           }
          ],
          "scatterpolar": [
           {
            "marker": {
             "colorbar": {
              "outlinewidth": 0,
              "ticks": ""
             }
            },
            "type": "scatterpolar"
           }
          ],
          "scatterpolargl": [
           {
            "marker": {
             "colorbar": {
              "outlinewidth": 0,
              "ticks": ""
             }
            },
            "type": "scatterpolargl"
           }
          ],
          "scatterternary": [
           {
            "marker": {
             "colorbar": {
              "outlinewidth": 0,
              "ticks": ""
             }
            },
            "type": "scatterternary"
           }
          ],
          "surface": [
           {
            "colorbar": {
             "outlinewidth": 0,
             "ticks": ""
            },
            "colorscale": [
             [
              0,
              "#0d0887"
             ],
             [
              0.1111111111111111,
              "#46039f"
             ],
             [
              0.2222222222222222,
              "#7201a8"
             ],
             [
              0.3333333333333333,
              "#9c179e"
             ],
             [
              0.4444444444444444,
              "#bd3786"
             ],
             [
              0.5555555555555556,
              "#d8576b"
             ],
             [
              0.6666666666666666,
              "#ed7953"
             ],
             [
              0.7777777777777778,
              "#fb9f3a"
             ],
             [
              0.8888888888888888,
              "#fdca26"
             ],
             [
              1,
              "#f0f921"
             ]
            ],
            "type": "surface"
           }
          ],
          "table": [
           {
            "cells": {
             "fill": {
              "color": "#EBF0F8"
             },
             "line": {
              "color": "white"
             }
            },
            "header": {
             "fill": {
              "color": "#C8D4E3"
             },
             "line": {
              "color": "white"
             }
            },
            "type": "table"
           }
          ]
         },
         "layout": {
          "annotationdefaults": {
           "arrowcolor": "#2a3f5f",
           "arrowhead": 0,
           "arrowwidth": 1
          },
          "autotypenumbers": "strict",
          "coloraxis": {
           "colorbar": {
            "outlinewidth": 0,
            "ticks": ""
           }
          },
          "colorscale": {
           "diverging": [
            [
             0,
             "#8e0152"
            ],
            [
             0.1,
             "#c51b7d"
            ],
            [
             0.2,
             "#de77ae"
            ],
            [
             0.3,
             "#f1b6da"
            ],
            [
             0.4,
             "#fde0ef"
            ],
            [
             0.5,
             "#f7f7f7"
            ],
            [
             0.6,
             "#e6f5d0"
            ],
            [
             0.7,
             "#b8e186"
            ],
            [
             0.8,
             "#7fbc41"
            ],
            [
             0.9,
             "#4d9221"
            ],
            [
             1,
             "#276419"
            ]
           ],
           "sequential": [
            [
             0,
             "#0d0887"
            ],
            [
             0.1111111111111111,
             "#46039f"
            ],
            [
             0.2222222222222222,
             "#7201a8"
            ],
            [
             0.3333333333333333,
             "#9c179e"
            ],
            [
             0.4444444444444444,
             "#bd3786"
            ],
            [
             0.5555555555555556,
             "#d8576b"
            ],
            [
             0.6666666666666666,
             "#ed7953"
            ],
            [
             0.7777777777777778,
             "#fb9f3a"
            ],
            [
             0.8888888888888888,
             "#fdca26"
            ],
            [
             1,
             "#f0f921"
            ]
           ],
           "sequentialminus": [
            [
             0,
             "#0d0887"
            ],
            [
             0.1111111111111111,
             "#46039f"
            ],
            [
             0.2222222222222222,
             "#7201a8"
            ],
            [
             0.3333333333333333,
             "#9c179e"
            ],
            [
             0.4444444444444444,
             "#bd3786"
            ],
            [
             0.5555555555555556,
             "#d8576b"
            ],
            [
             0.6666666666666666,
             "#ed7953"
            ],
            [
             0.7777777777777778,
             "#fb9f3a"
            ],
            [
             0.8888888888888888,
             "#fdca26"
            ],
            [
             1,
             "#f0f921"
            ]
           ]
          },
          "colorway": [
           "#636efa",
           "#EF553B",
           "#00cc96",
           "#ab63fa",
           "#FFA15A",
           "#19d3f3",
           "#FF6692",
           "#B6E880",
           "#FF97FF",
           "#FECB52"
          ],
          "font": {
           "color": "#2a3f5f"
          },
          "geo": {
           "bgcolor": "white",
           "lakecolor": "white",
           "landcolor": "#E5ECF6",
           "showlakes": true,
           "showland": true,
           "subunitcolor": "white"
          },
          "hoverlabel": {
           "align": "left"
          },
          "hovermode": "closest",
          "mapbox": {
           "style": "light"
          },
          "paper_bgcolor": "white",
          "plot_bgcolor": "#E5ECF6",
          "polar": {
           "angularaxis": {
            "gridcolor": "white",
            "linecolor": "white",
            "ticks": ""
           },
           "bgcolor": "#E5ECF6",
           "radialaxis": {
            "gridcolor": "white",
            "linecolor": "white",
            "ticks": ""
           }
          },
          "scene": {
           "xaxis": {
            "backgroundcolor": "#E5ECF6",
            "gridcolor": "white",
            "gridwidth": 2,
            "linecolor": "white",
            "showbackground": true,
            "ticks": "",
            "zerolinecolor": "white"
           },
           "yaxis": {
            "backgroundcolor": "#E5ECF6",
            "gridcolor": "white",
            "gridwidth": 2,
            "linecolor": "white",
            "showbackground": true,
            "ticks": "",
            "zerolinecolor": "white"
           },
           "zaxis": {
            "backgroundcolor": "#E5ECF6",
            "gridcolor": "white",
            "gridwidth": 2,
            "linecolor": "white",
            "showbackground": true,
            "ticks": "",
            "zerolinecolor": "white"
           }
          },
          "shapedefaults": {
           "line": {
            "color": "#2a3f5f"
           }
          },
          "ternary": {
           "aaxis": {
            "gridcolor": "white",
            "linecolor": "white",
            "ticks": ""
           },
           "baxis": {
            "gridcolor": "white",
            "linecolor": "white",
            "ticks": ""
           },
           "bgcolor": "#E5ECF6",
           "caxis": {
            "gridcolor": "white",
            "linecolor": "white",
            "ticks": ""
           }
          },
          "title": {
           "x": 0.05
          },
          "xaxis": {
           "automargin": true,
           "gridcolor": "white",
           "linecolor": "white",
           "ticks": "",
           "title": {
            "standoff": 15
           },
           "zerolinecolor": "white",
           "zerolinewidth": 2
          },
          "yaxis": {
           "automargin": true,
           "gridcolor": "white",
           "linecolor": "white",
           "ticks": "",
           "title": {
            "standoff": 15
           },
           "zerolinecolor": "white",
           "zerolinewidth": 2
          }
         }
        },
        "title": {
         "text": "Sentiment Distribution Across Years"
        },
        "xaxis": {
         "anchor": "y",
         "domain": [
          0,
          1
         ],
         "title": {
          "text": "Year"
         }
        },
        "yaxis": {
         "anchor": "x",
         "domain": [
          0,
          1
         ],
         "title": {
          "text": "Percentage"
         }
        }
       }
      }
     },
     "metadata": {},
     "output_type": "display_data"
    }
   ],
   "source": [
    "\n",
    "sentiment_percentages = sentiment_counts.div(sentiment_counts.sum(axis=1), axis=0) * 100\n",
    "\n",
    "fig = px.bar(\n",
    "    sentiment_percentages,\n",
    "    x=sentiment_percentages.index,\n",
    "    y=sentiment_percentages.columns,\n",
    "    title=\"Sentiment Distribution Across Years\",\n",
    "    labels={\"value\": \"Percentage\", \"Year\": \"Year\"},\n",
    "    color_discrete_sequence=px.colors.qualitative.Pastel\n",
    ")\n",
    "\n",
    "fig.show()\n",
    "\n",
    "#Calculates the percentage of each sentiment category for each month by dividing the count of each sentiment by the total count of all sentiments for that month and multiplying by 100 to convert it into a percentage.\n",
    "#Create a bar plot using Plotly, with the x-axis showing the months and the y-axis showing the percentage distribution of sentiments, and display it with a pastel color scheme."
   ]
  },
  {
   "cell_type": "markdown",
   "id": "cb8bb119",
   "metadata": {},
   "source": [
    "## 2. Monthly distribution of sentiments"
   ]
  },
  {
   "cell_type": "code",
   "execution_count": 419,
   "id": "51f92b4a",
   "metadata": {},
   "outputs": [],
   "source": [
    "\n",
    "sentiment_counts = data.groupby([\"Month\"])[\"General_Sentiment\"].value_counts().unstack().fillna(0)\n",
    "\n",
    "sentiment_melted = sentiment_counts.reset_index().melt(id_vars='Month', value_vars=sentiment_counts.columns)\n",
    "\n",
    "#Grouped the data by \"Month\" and counts the occurrences values in the \"General_Sentiment\" column. `Unstack()` converts the grouped data into a wide format with each sentiment as a separate column.`Fillna(0)` replaces any missing values with 0.\n",
    "\n",
    "#Resets the index of this wide-format DataFrame and then \"melt\" it into a long format, where each row corresponds to a specific month-sentiment combination."
   ]
  },
  {
   "cell_type": "code",
   "execution_count": 420,
   "id": "34a22176",
   "metadata": {},
   "outputs": [],
   "source": [
    "data = data[data['Year'] >= 2016]\n",
    "#filtered out data that is older than 2016"
   ]
  },
  {
   "cell_type": "code",
   "execution_count": 421,
   "id": "9f181e0d",
   "metadata": {},
   "outputs": [
    {
     "data": {
      "application/vnd.plotly.v1+json": {
       "config": {
        "plotlyServerURL": "https://plot.ly"
       },
       "data": [
        {
         "alignmentgroup": "True",
         "hovertemplate": "General_Sentiment=%{text}<br>Month=%{x}<br>Count=%{y}<extra></extra>",
         "legendgroup": "Anger",
         "marker": {
          "color": "#440154",
          "pattern": {
           "shape": ""
          }
         },
         "name": "Anger",
         "offsetgroup": "Anger",
         "orientation": "v",
         "showlegend": true,
         "text": [
          "Anger",
          "Anger",
          "Anger",
          "Anger",
          "Anger",
          "Anger",
          "Anger",
          "Anger",
          "Anger",
          "Anger",
          "Anger",
          "Anger"
         ],
         "textposition": "auto",
         "type": "bar",
         "x": [
          1,
          2,
          3,
          4,
          5,
          6,
          7,
          8,
          9,
          10,
          11,
          12
         ],
         "xaxis": "x",
         "y": [
          5,
          4,
          2,
          3,
          2,
          1,
          1,
          2,
          13,
          2,
          2,
          1
         ],
         "yaxis": "y"
        },
        {
         "alignmentgroup": "True",
         "hovertemplate": "General_Sentiment=%{text}<br>Month=%{x}<br>Count=%{y}<extra></extra>",
         "legendgroup": "Anticipation",
         "marker": {
          "color": "#482878",
          "pattern": {
           "shape": ""
          }
         },
         "name": "Anticipation",
         "offsetgroup": "Anticipation",
         "orientation": "v",
         "showlegend": true,
         "text": [
          "Anticipation",
          "Anticipation",
          "Anticipation",
          "Anticipation",
          "Anticipation",
          "Anticipation",
          "Anticipation",
          "Anticipation",
          "Anticipation",
          "Anticipation",
          "Anticipation",
          "Anticipation"
         ],
         "textposition": "auto",
         "type": "bar",
         "x": [
          1,
          2,
          3,
          4,
          5,
          6,
          7,
          8,
          9,
          10,
          11,
          12
         ],
         "xaxis": "x",
         "y": [
          1,
          6,
          2,
          5,
          3,
          6,
          4,
          5,
          5,
          5,
          8,
          2
         ],
         "yaxis": "y"
        },
        {
         "alignmentgroup": "True",
         "hovertemplate": "General_Sentiment=%{text}<br>Month=%{x}<br>Count=%{y}<extra></extra>",
         "legendgroup": "Disgust",
         "marker": {
          "color": "#3e4989",
          "pattern": {
           "shape": ""
          }
         },
         "name": "Disgust",
         "offsetgroup": "Disgust",
         "orientation": "v",
         "showlegend": true,
         "text": [
          "Disgust",
          "Disgust",
          "Disgust",
          "Disgust",
          "Disgust",
          "Disgust",
          "Disgust",
          "Disgust",
          "Disgust",
          "Disgust",
          "Disgust",
          "Disgust"
         ],
         "textposition": "auto",
         "type": "bar",
         "x": [
          1,
          2,
          3,
          4,
          5,
          6,
          7,
          8,
          9,
          10,
          11,
          12
         ],
         "xaxis": "x",
         "y": [
          0,
          7,
          2,
          0,
          2,
          0,
          2,
          1,
          0,
          0,
          1,
          0
         ],
         "yaxis": "y"
        },
        {
         "alignmentgroup": "True",
         "hovertemplate": "General_Sentiment=%{text}<br>Month=%{x}<br>Count=%{y}<extra></extra>",
         "legendgroup": "Fear",
         "marker": {
          "color": "#31688e",
          "pattern": {
           "shape": ""
          }
         },
         "name": "Fear",
         "offsetgroup": "Fear",
         "orientation": "v",
         "showlegend": true,
         "text": [
          "Fear",
          "Fear",
          "Fear",
          "Fear",
          "Fear",
          "Fear",
          "Fear",
          "Fear",
          "Fear",
          "Fear",
          "Fear",
          "Fear"
         ],
         "textposition": "auto",
         "type": "bar",
         "x": [
          1,
          2,
          3,
          4,
          5,
          6,
          7,
          8,
          9,
          10,
          11,
          12
         ],
         "xaxis": "x",
         "y": [
          3,
          3,
          1,
          3,
          3,
          3,
          1,
          2,
          1,
          1,
          1,
          2
         ],
         "yaxis": "y"
        },
        {
         "alignmentgroup": "True",
         "hovertemplate": "General_Sentiment=%{text}<br>Month=%{x}<br>Count=%{y}<extra></extra>",
         "legendgroup": "Joy/Happiness",
         "marker": {
          "color": "#26828e",
          "pattern": {
           "shape": ""
          }
         },
         "name": "Joy/Happiness",
         "offsetgroup": "Joy/Happiness",
         "orientation": "v",
         "showlegend": true,
         "text": [
          "Joy/Happiness",
          "Joy/Happiness",
          "Joy/Happiness",
          "Joy/Happiness",
          "Joy/Happiness",
          "Joy/Happiness",
          "Joy/Happiness",
          "Joy/Happiness",
          "Joy/Happiness",
          "Joy/Happiness",
          "Joy/Happiness",
          "Joy/Happiness"
         ],
         "textposition": "auto",
         "type": "bar",
         "x": [
          1,
          2,
          3,
          4,
          5,
          6,
          7,
          8,
          9,
          10,
          11,
          12
         ],
         "xaxis": "x",
         "y": [
          50,
          24,
          12,
          12,
          13,
          36,
          28,
          34,
          20,
          12,
          10,
          14
         ],
         "yaxis": "y"
        },
        {
         "alignmentgroup": "True",
         "hovertemplate": "General_Sentiment=%{text}<br>Month=%{x}<br>Count=%{y}<extra></extra>",
         "legendgroup": "Love/Affection",
         "marker": {
          "color": "#1f9e89",
          "pattern": {
           "shape": ""
          }
         },
         "name": "Love/Affection",
         "offsetgroup": "Love/Affection",
         "orientation": "v",
         "showlegend": true,
         "text": [
          "Love/Affection",
          "Love/Affection",
          "Love/Affection",
          "Love/Affection",
          "Love/Affection",
          "Love/Affection",
          "Love/Affection",
          "Love/Affection",
          "Love/Affection",
          "Love/Affection",
          "Love/Affection",
          "Love/Affection"
         ],
         "textposition": "auto",
         "type": "bar",
         "x": [
          1,
          2,
          3,
          4,
          5,
          6,
          7,
          8,
          9,
          10,
          11,
          12
         ],
         "xaxis": "x",
         "y": [
          2,
          16,
          5,
          6,
          2,
          2,
          1,
          2,
          5,
          1,
          3,
          2
         ],
         "yaxis": "y"
        },
        {
         "alignmentgroup": "True",
         "hovertemplate": "General_Sentiment=%{text}<br>Month=%{x}<br>Count=%{y}<extra></extra>",
         "legendgroup": "Neutral/Calm",
         "marker": {
          "color": "#35b779",
          "pattern": {
           "shape": ""
          }
         },
         "name": "Neutral/Calm",
         "offsetgroup": "Neutral/Calm",
         "orientation": "v",
         "showlegend": true,
         "text": [
          "Neutral/Calm",
          "Neutral/Calm",
          "Neutral/Calm",
          "Neutral/Calm",
          "Neutral/Calm",
          "Neutral/Calm",
          "Neutral/Calm",
          "Neutral/Calm",
          "Neutral/Calm",
          "Neutral/Calm",
          "Neutral/Calm",
          "Neutral/Calm"
         ],
         "textposition": "auto",
         "type": "bar",
         "x": [
          1,
          2,
          3,
          4,
          5,
          6,
          7,
          8,
          9,
          10,
          11,
          12
         ],
         "xaxis": "x",
         "y": [
          6,
          8,
          4,
          7,
          7,
          8,
          6,
          4,
          5,
          19,
          8,
          3
         ],
         "yaxis": "y"
        },
        {
         "alignmentgroup": "True",
         "hovertemplate": "General_Sentiment=%{text}<br>Month=%{x}<br>Count=%{y}<extra></extra>",
         "legendgroup": "Sadness",
         "marker": {
          "color": "#6ece58",
          "pattern": {
           "shape": ""
          }
         },
         "name": "Sadness",
         "offsetgroup": "Sadness",
         "orientation": "v",
         "showlegend": true,
         "text": [
          "Sadness",
          "Sadness",
          "Sadness",
          "Sadness",
          "Sadness",
          "Sadness",
          "Sadness",
          "Sadness",
          "Sadness",
          "Sadness",
          "Sadness",
          "Sadness"
         ],
         "textposition": "auto",
         "type": "bar",
         "x": [
          1,
          2,
          3,
          4,
          5,
          6,
          7,
          8,
          9,
          10,
          11,
          12
         ],
         "xaxis": "x",
         "y": [
          8,
          9,
          10,
          6,
          4,
          5,
          6,
          16,
          18,
          4,
          7,
          7
         ],
         "yaxis": "y"
        },
        {
         "alignmentgroup": "True",
         "hovertemplate": "General_Sentiment=%{text}<br>Month=%{x}<br>Count=%{y}<extra></extra>",
         "legendgroup": "Suprise",
         "marker": {
          "color": "#b5de2b",
          "pattern": {
           "shape": ""
          }
         },
         "name": "Suprise",
         "offsetgroup": "Suprise",
         "orientation": "v",
         "showlegend": true,
         "text": [
          "Suprise",
          "Suprise",
          "Suprise",
          "Suprise",
          "Suprise",
          "Suprise",
          "Suprise",
          "Suprise",
          "Suprise",
          "Suprise",
          "Suprise",
          "Suprise"
         ],
         "textposition": "auto",
         "type": "bar",
         "x": [
          1,
          2,
          3,
          4,
          5,
          6,
          7,
          8,
          9,
          10,
          11,
          12
         ],
         "xaxis": "x",
         "y": [
          1,
          5,
          3,
          2,
          5,
          3,
          2,
          3,
          1,
          1,
          0,
          0
         ],
         "yaxis": "y"
        },
        {
         "alignmentgroup": "True",
         "hovertemplate": "General_Sentiment=%{text}<br>Month=%{x}<br>Count=%{y}<extra></extra>",
         "legendgroup": "Trust",
         "marker": {
          "color": "#fde725",
          "pattern": {
           "shape": ""
          }
         },
         "name": "Trust",
         "offsetgroup": "Trust",
         "orientation": "v",
         "showlegend": true,
         "text": [
          "Trust",
          "Trust",
          "Trust",
          "Trust",
          "Trust",
          "Trust",
          "Trust",
          "Trust",
          "Trust",
          "Trust",
          "Trust",
          "Trust"
         ],
         "textposition": "auto",
         "type": "bar",
         "x": [
          1,
          2,
          3,
          4,
          5,
          6,
          7,
          8,
          9,
          10,
          11,
          12
         ],
         "xaxis": "x",
         "y": [
          1,
          2,
          1,
          3,
          3,
          2,
          2,
          2,
          0,
          0,
          1,
          0
         ],
         "yaxis": "y"
        }
       ],
       "layout": {
        "barmode": "relative",
        "legend": {
         "title": {
          "text": "General_Sentiment"
         },
         "tracegroupgap": 0
        },
        "template": {
         "data": {
          "bar": [
           {
            "error_x": {
             "color": "#2a3f5f"
            },
            "error_y": {
             "color": "#2a3f5f"
            },
            "marker": {
             "line": {
              "color": "#E5ECF6",
              "width": 0.5
             },
             "pattern": {
              "fillmode": "overlay",
              "size": 10,
              "solidity": 0.2
             }
            },
            "type": "bar"
           }
          ],
          "barpolar": [
           {
            "marker": {
             "line": {
              "color": "#E5ECF6",
              "width": 0.5
             },
             "pattern": {
              "fillmode": "overlay",
              "size": 10,
              "solidity": 0.2
             }
            },
            "type": "barpolar"
           }
          ],
          "carpet": [
           {
            "aaxis": {
             "endlinecolor": "#2a3f5f",
             "gridcolor": "white",
             "linecolor": "white",
             "minorgridcolor": "white",
             "startlinecolor": "#2a3f5f"
            },
            "baxis": {
             "endlinecolor": "#2a3f5f",
             "gridcolor": "white",
             "linecolor": "white",
             "minorgridcolor": "white",
             "startlinecolor": "#2a3f5f"
            },
            "type": "carpet"
           }
          ],
          "choropleth": [
           {
            "colorbar": {
             "outlinewidth": 0,
             "ticks": ""
            },
            "type": "choropleth"
           }
          ],
          "contour": [
           {
            "colorbar": {
             "outlinewidth": 0,
             "ticks": ""
            },
            "colorscale": [
             [
              0,
              "#0d0887"
             ],
             [
              0.1111111111111111,
              "#46039f"
             ],
             [
              0.2222222222222222,
              "#7201a8"
             ],
             [
              0.3333333333333333,
              "#9c179e"
             ],
             [
              0.4444444444444444,
              "#bd3786"
             ],
             [
              0.5555555555555556,
              "#d8576b"
             ],
             [
              0.6666666666666666,
              "#ed7953"
             ],
             [
              0.7777777777777778,
              "#fb9f3a"
             ],
             [
              0.8888888888888888,
              "#fdca26"
             ],
             [
              1,
              "#f0f921"
             ]
            ],
            "type": "contour"
           }
          ],
          "contourcarpet": [
           {
            "colorbar": {
             "outlinewidth": 0,
             "ticks": ""
            },
            "type": "contourcarpet"
           }
          ],
          "heatmap": [
           {
            "colorbar": {
             "outlinewidth": 0,
             "ticks": ""
            },
            "colorscale": [
             [
              0,
              "#0d0887"
             ],
             [
              0.1111111111111111,
              "#46039f"
             ],
             [
              0.2222222222222222,
              "#7201a8"
             ],
             [
              0.3333333333333333,
              "#9c179e"
             ],
             [
              0.4444444444444444,
              "#bd3786"
             ],
             [
              0.5555555555555556,
              "#d8576b"
             ],
             [
              0.6666666666666666,
              "#ed7953"
             ],
             [
              0.7777777777777778,
              "#fb9f3a"
             ],
             [
              0.8888888888888888,
              "#fdca26"
             ],
             [
              1,
              "#f0f921"
             ]
            ],
            "type": "heatmap"
           }
          ],
          "heatmapgl": [
           {
            "colorbar": {
             "outlinewidth": 0,
             "ticks": ""
            },
            "colorscale": [
             [
              0,
              "#0d0887"
             ],
             [
              0.1111111111111111,
              "#46039f"
             ],
             [
              0.2222222222222222,
              "#7201a8"
             ],
             [
              0.3333333333333333,
              "#9c179e"
             ],
             [
              0.4444444444444444,
              "#bd3786"
             ],
             [
              0.5555555555555556,
              "#d8576b"
             ],
             [
              0.6666666666666666,
              "#ed7953"
             ],
             [
              0.7777777777777778,
              "#fb9f3a"
             ],
             [
              0.8888888888888888,
              "#fdca26"
             ],
             [
              1,
              "#f0f921"
             ]
            ],
            "type": "heatmapgl"
           }
          ],
          "histogram": [
           {
            "marker": {
             "pattern": {
              "fillmode": "overlay",
              "size": 10,
              "solidity": 0.2
             }
            },
            "type": "histogram"
           }
          ],
          "histogram2d": [
           {
            "colorbar": {
             "outlinewidth": 0,
             "ticks": ""
            },
            "colorscale": [
             [
              0,
              "#0d0887"
             ],
             [
              0.1111111111111111,
              "#46039f"
             ],
             [
              0.2222222222222222,
              "#7201a8"
             ],
             [
              0.3333333333333333,
              "#9c179e"
             ],
             [
              0.4444444444444444,
              "#bd3786"
             ],
             [
              0.5555555555555556,
              "#d8576b"
             ],
             [
              0.6666666666666666,
              "#ed7953"
             ],
             [
              0.7777777777777778,
              "#fb9f3a"
             ],
             [
              0.8888888888888888,
              "#fdca26"
             ],
             [
              1,
              "#f0f921"
             ]
            ],
            "type": "histogram2d"
           }
          ],
          "histogram2dcontour": [
           {
            "colorbar": {
             "outlinewidth": 0,
             "ticks": ""
            },
            "colorscale": [
             [
              0,
              "#0d0887"
             ],
             [
              0.1111111111111111,
              "#46039f"
             ],
             [
              0.2222222222222222,
              "#7201a8"
             ],
             [
              0.3333333333333333,
              "#9c179e"
             ],
             [
              0.4444444444444444,
              "#bd3786"
             ],
             [
              0.5555555555555556,
              "#d8576b"
             ],
             [
              0.6666666666666666,
              "#ed7953"
             ],
             [
              0.7777777777777778,
              "#fb9f3a"
             ],
             [
              0.8888888888888888,
              "#fdca26"
             ],
             [
              1,
              "#f0f921"
             ]
            ],
            "type": "histogram2dcontour"
           }
          ],
          "mesh3d": [
           {
            "colorbar": {
             "outlinewidth": 0,
             "ticks": ""
            },
            "type": "mesh3d"
           }
          ],
          "parcoords": [
           {
            "line": {
             "colorbar": {
              "outlinewidth": 0,
              "ticks": ""
             }
            },
            "type": "parcoords"
           }
          ],
          "pie": [
           {
            "automargin": true,
            "type": "pie"
           }
          ],
          "scatter": [
           {
            "fillpattern": {
             "fillmode": "overlay",
             "size": 10,
             "solidity": 0.2
            },
            "type": "scatter"
           }
          ],
          "scatter3d": [
           {
            "line": {
             "colorbar": {
              "outlinewidth": 0,
              "ticks": ""
             }
            },
            "marker": {
             "colorbar": {
              "outlinewidth": 0,
              "ticks": ""
             }
            },
            "type": "scatter3d"
           }
          ],
          "scattercarpet": [
           {
            "marker": {
             "colorbar": {
              "outlinewidth": 0,
              "ticks": ""
             }
            },
            "type": "scattercarpet"
           }
          ],
          "scattergeo": [
           {
            "marker": {
             "colorbar": {
              "outlinewidth": 0,
              "ticks": ""
             }
            },
            "type": "scattergeo"
           }
          ],
          "scattergl": [
           {
            "marker": {
             "colorbar": {
              "outlinewidth": 0,
              "ticks": ""
             }
            },
            "type": "scattergl"
           }
          ],
          "scattermapbox": [
           {
            "marker": {
             "colorbar": {
              "outlinewidth": 0,
              "ticks": ""
             }
            },
            "type": "scattermapbox"
           }
          ],
          "scatterpolar": [
           {
            "marker": {
             "colorbar": {
              "outlinewidth": 0,
              "ticks": ""
             }
            },
            "type": "scatterpolar"
           }
          ],
          "scatterpolargl": [
           {
            "marker": {
             "colorbar": {
              "outlinewidth": 0,
              "ticks": ""
             }
            },
            "type": "scatterpolargl"
           }
          ],
          "scatterternary": [
           {
            "marker": {
             "colorbar": {
              "outlinewidth": 0,
              "ticks": ""
             }
            },
            "type": "scatterternary"
           }
          ],
          "surface": [
           {
            "colorbar": {
             "outlinewidth": 0,
             "ticks": ""
            },
            "colorscale": [
             [
              0,
              "#0d0887"
             ],
             [
              0.1111111111111111,
              "#46039f"
             ],
             [
              0.2222222222222222,
              "#7201a8"
             ],
             [
              0.3333333333333333,
              "#9c179e"
             ],
             [
              0.4444444444444444,
              "#bd3786"
             ],
             [
              0.5555555555555556,
              "#d8576b"
             ],
             [
              0.6666666666666666,
              "#ed7953"
             ],
             [
              0.7777777777777778,
              "#fb9f3a"
             ],
             [
              0.8888888888888888,
              "#fdca26"
             ],
             [
              1,
              "#f0f921"
             ]
            ],
            "type": "surface"
           }
          ],
          "table": [
           {
            "cells": {
             "fill": {
              "color": "#EBF0F8"
             },
             "line": {
              "color": "white"
             }
            },
            "header": {
             "fill": {
              "color": "#C8D4E3"
             },
             "line": {
              "color": "white"
             }
            },
            "type": "table"
           }
          ]
         },
         "layout": {
          "annotationdefaults": {
           "arrowcolor": "#2a3f5f",
           "arrowhead": 0,
           "arrowwidth": 1
          },
          "autotypenumbers": "strict",
          "coloraxis": {
           "colorbar": {
            "outlinewidth": 0,
            "ticks": ""
           }
          },
          "colorscale": {
           "diverging": [
            [
             0,
             "#8e0152"
            ],
            [
             0.1,
             "#c51b7d"
            ],
            [
             0.2,
             "#de77ae"
            ],
            [
             0.3,
             "#f1b6da"
            ],
            [
             0.4,
             "#fde0ef"
            ],
            [
             0.5,
             "#f7f7f7"
            ],
            [
             0.6,
             "#e6f5d0"
            ],
            [
             0.7,
             "#b8e186"
            ],
            [
             0.8,
             "#7fbc41"
            ],
            [
             0.9,
             "#4d9221"
            ],
            [
             1,
             "#276419"
            ]
           ],
           "sequential": [
            [
             0,
             "#0d0887"
            ],
            [
             0.1111111111111111,
             "#46039f"
            ],
            [
             0.2222222222222222,
             "#7201a8"
            ],
            [
             0.3333333333333333,
             "#9c179e"
            ],
            [
             0.4444444444444444,
             "#bd3786"
            ],
            [
             0.5555555555555556,
             "#d8576b"
            ],
            [
             0.6666666666666666,
             "#ed7953"
            ],
            [
             0.7777777777777778,
             "#fb9f3a"
            ],
            [
             0.8888888888888888,
             "#fdca26"
            ],
            [
             1,
             "#f0f921"
            ]
           ],
           "sequentialminus": [
            [
             0,
             "#0d0887"
            ],
            [
             0.1111111111111111,
             "#46039f"
            ],
            [
             0.2222222222222222,
             "#7201a8"
            ],
            [
             0.3333333333333333,
             "#9c179e"
            ],
            [
             0.4444444444444444,
             "#bd3786"
            ],
            [
             0.5555555555555556,
             "#d8576b"
            ],
            [
             0.6666666666666666,
             "#ed7953"
            ],
            [
             0.7777777777777778,
             "#fb9f3a"
            ],
            [
             0.8888888888888888,
             "#fdca26"
            ],
            [
             1,
             "#f0f921"
            ]
           ]
          },
          "colorway": [
           "#636efa",
           "#EF553B",
           "#00cc96",
           "#ab63fa",
           "#FFA15A",
           "#19d3f3",
           "#FF6692",
           "#B6E880",
           "#FF97FF",
           "#FECB52"
          ],
          "font": {
           "color": "#2a3f5f"
          },
          "geo": {
           "bgcolor": "white",
           "lakecolor": "white",
           "landcolor": "#E5ECF6",
           "showlakes": true,
           "showland": true,
           "subunitcolor": "white"
          },
          "hoverlabel": {
           "align": "left"
          },
          "hovermode": "closest",
          "mapbox": {
           "style": "light"
          },
          "paper_bgcolor": "white",
          "plot_bgcolor": "#E5ECF6",
          "polar": {
           "angularaxis": {
            "gridcolor": "white",
            "linecolor": "white",
            "ticks": ""
           },
           "bgcolor": "#E5ECF6",
           "radialaxis": {
            "gridcolor": "white",
            "linecolor": "white",
            "ticks": ""
           }
          },
          "scene": {
           "xaxis": {
            "backgroundcolor": "#E5ECF6",
            "gridcolor": "white",
            "gridwidth": 2,
            "linecolor": "white",
            "showbackground": true,
            "ticks": "",
            "zerolinecolor": "white"
           },
           "yaxis": {
            "backgroundcolor": "#E5ECF6",
            "gridcolor": "white",
            "gridwidth": 2,
            "linecolor": "white",
            "showbackground": true,
            "ticks": "",
            "zerolinecolor": "white"
           },
           "zaxis": {
            "backgroundcolor": "#E5ECF6",
            "gridcolor": "white",
            "gridwidth": 2,
            "linecolor": "white",
            "showbackground": true,
            "ticks": "",
            "zerolinecolor": "white"
           }
          },
          "shapedefaults": {
           "line": {
            "color": "#2a3f5f"
           }
          },
          "ternary": {
           "aaxis": {
            "gridcolor": "white",
            "linecolor": "white",
            "ticks": ""
           },
           "baxis": {
            "gridcolor": "white",
            "linecolor": "white",
            "ticks": ""
           },
           "bgcolor": "#E5ECF6",
           "caxis": {
            "gridcolor": "white",
            "linecolor": "white",
            "ticks": ""
           }
          },
          "title": {
           "x": 0.05
          },
          "xaxis": {
           "automargin": true,
           "gridcolor": "white",
           "linecolor": "white",
           "ticks": "",
           "title": {
            "standoff": 15
           },
           "zerolinecolor": "white",
           "zerolinewidth": 2
          },
          "yaxis": {
           "automargin": true,
           "gridcolor": "white",
           "linecolor": "white",
           "ticks": "",
           "title": {
            "standoff": 15
           },
           "zerolinecolor": "white",
           "zerolinewidth": 2
          }
         }
        },
        "title": {
         "text": "Sentiment Distribution Across Months"
        },
        "xaxis": {
         "anchor": "y",
         "domain": [
          0,
          1
         ],
         "title": {
          "text": "Month"
         }
        },
        "yaxis": {
         "anchor": "x",
         "domain": [
          0,
          1
         ],
         "title": {
          "text": "Count"
         }
        }
       }
      }
     },
     "metadata": {},
     "output_type": "display_data"
    }
   ],
   "source": [
    "fig = px.bar(\n",
    "    sentiment_melted,\n",
    "    x='Month',\n",
    "    y='value',\n",
    "    color='General_Sentiment',\n",
    "    title=\"Sentiment Distribution Across Months\",\n",
    "    labels={\"value\": \"Count\", \"Month\": \"Month\"},\n",
    "    color_discrete_sequence=px.colors.sequential.Viridis,\n",
    "    text='General_Sentiment'\n",
    ")\n",
    "\n",
    "fig.show()\n",
    "#Generate a bar plot, where the x-axis represents the \"Month\" and the y-axis represents the count of sentiments. The bars are colored based on the \"General_Sentiment\" category, and the plot uses the Viridis color scheme.\n",
    "#The `text='General_Sentiment'` option adds labels on each bar, showing the sentiment category."
   ]
  },
  {
   "cell_type": "markdown",
   "id": "703488a9",
   "metadata": {},
   "source": [
    "## 3. Daily distribution of sentiments\n"
   ]
  },
  {
   "cell_type": "code",
   "execution_count": 422,
   "id": "e44fb264",
   "metadata": {},
   "outputs": [],
   "source": [
    "sentiment_counts = data.groupby(\"Day\")[\"General_Sentiment\"].value_counts().unstack().fillna(0)\n",
    "#Grouped the data by \"Day\" and counted the occurrences of values in the \"General_Sentiment\" column. `Unstack()` converts the grouped data into a wide format with each sentiment as a separate column.`Fillna(0)` replaces any missing values with 0."
   ]
  },
  {
   "cell_type": "code",
   "execution_count": 423,
   "id": "028ab3a0",
   "metadata": {},
   "outputs": [],
   "source": [
    "data = data[data['Year'] >= 2016]\n",
    "#filtered out data older than 2016"
   ]
  },
  {
   "cell_type": "code",
   "execution_count": 424,
   "id": "dfa40bca",
   "metadata": {},
   "outputs": [
    {
     "data": {
      "application/vnd.plotly.v1+json": {
       "config": {
        "plotlyServerURL": "https://plot.ly"
       },
       "data": [
        {
         "alignmentgroup": "True",
         "hovertemplate": "General_Sentiment=Anger<br>Day=%{x}<br>Count=%{y}<extra></extra>",
         "legendgroup": "Anger",
         "marker": {
          "color": "#1F77B4",
          "pattern": {
           "shape": ""
          }
         },
         "name": "Anger",
         "offsetgroup": "Anger",
         "orientation": "v",
         "showlegend": true,
         "textposition": "auto",
         "type": "bar",
         "x": [
          1,
          2,
          3,
          4,
          5,
          6,
          7,
          8,
          9,
          10,
          11,
          12,
          13,
          14,
          15,
          16,
          17,
          18,
          19,
          20,
          21,
          22,
          23,
          24,
          25,
          26,
          27,
          28,
          29,
          30,
          31
         ],
         "xaxis": "x",
         "y": [
          1,
          1,
          1,
          0,
          2,
          0,
          2,
          1,
          0,
          3,
          1,
          2,
          1,
          0,
          4,
          2,
          1,
          0,
          1,
          3,
          0,
          3,
          3,
          0,
          0,
          1,
          1,
          1,
          1,
          2,
          0
         ],
         "yaxis": "y"
        },
        {
         "alignmentgroup": "True",
         "hovertemplate": "General_Sentiment=Anticipation<br>Day=%{x}<br>Count=%{y}<extra></extra>",
         "legendgroup": "Anticipation",
         "marker": {
          "color": "#FF7F0E",
          "pattern": {
           "shape": ""
          }
         },
         "name": "Anticipation",
         "offsetgroup": "Anticipation",
         "orientation": "v",
         "showlegend": true,
         "textposition": "auto",
         "type": "bar",
         "x": [
          1,
          2,
          3,
          4,
          5,
          6,
          7,
          8,
          9,
          10,
          11,
          12,
          13,
          14,
          15,
          16,
          17,
          18,
          19,
          20,
          21,
          22,
          23,
          24,
          25,
          26,
          27,
          28,
          29,
          30,
          31
         ],
         "xaxis": "x",
         "y": [
          2,
          1,
          3,
          0,
          2,
          1,
          0,
          2,
          1,
          5,
          3,
          2,
          1,
          0,
          6,
          0,
          3,
          5,
          0,
          0,
          0,
          4,
          0,
          2,
          2,
          2,
          0,
          3,
          1,
          1,
          0
         ],
         "yaxis": "y"
        },
        {
         "alignmentgroup": "True",
         "hovertemplate": "General_Sentiment=Disgust<br>Day=%{x}<br>Count=%{y}<extra></extra>",
         "legendgroup": "Disgust",
         "marker": {
          "color": "#2CA02C",
          "pattern": {
           "shape": ""
          }
         },
         "name": "Disgust",
         "offsetgroup": "Disgust",
         "orientation": "v",
         "showlegend": true,
         "textposition": "auto",
         "type": "bar",
         "x": [
          1,
          2,
          3,
          4,
          5,
          6,
          7,
          8,
          9,
          10,
          11,
          12,
          13,
          14,
          15,
          16,
          17,
          18,
          19,
          20,
          21,
          22,
          23,
          24,
          25,
          26,
          27,
          28,
          29,
          30,
          31
         ],
         "xaxis": "x",
         "y": [
          2,
          1,
          1,
          0,
          1,
          0,
          0,
          0,
          0,
          1,
          1,
          1,
          0,
          0,
          0,
          0,
          1,
          1,
          1,
          0,
          1,
          0,
          0,
          0,
          0,
          1,
          1,
          1,
          0,
          0,
          0
         ],
         "yaxis": "y"
        },
        {
         "alignmentgroup": "True",
         "hovertemplate": "General_Sentiment=Fear<br>Day=%{x}<br>Count=%{y}<extra></extra>",
         "legendgroup": "Fear",
         "marker": {
          "color": "#D62728",
          "pattern": {
           "shape": ""
          }
         },
         "name": "Fear",
         "offsetgroup": "Fear",
         "orientation": "v",
         "showlegend": true,
         "textposition": "auto",
         "type": "bar",
         "x": [
          1,
          2,
          3,
          4,
          5,
          6,
          7,
          8,
          9,
          10,
          11,
          12,
          13,
          14,
          15,
          16,
          17,
          18,
          19,
          20,
          21,
          22,
          23,
          24,
          25,
          26,
          27,
          28,
          29,
          30,
          31
         ],
         "xaxis": "x",
         "y": [
          0,
          0,
          1,
          0,
          1,
          0,
          1,
          4,
          0,
          1,
          1,
          2,
          0,
          1,
          1,
          0,
          1,
          0,
          0,
          4,
          0,
          2,
          0,
          0,
          1,
          0,
          0,
          0,
          1,
          2,
          0
         ],
         "yaxis": "y"
        },
        {
         "alignmentgroup": "True",
         "hovertemplate": "General_Sentiment=Joy/Happiness<br>Day=%{x}<br>Count=%{y}<extra></extra>",
         "legendgroup": "Joy/Happiness",
         "marker": {
          "color": "#9467BD",
          "pattern": {
           "shape": ""
          }
         },
         "name": "Joy/Happiness",
         "offsetgroup": "Joy/Happiness",
         "orientation": "v",
         "showlegend": true,
         "textposition": "auto",
         "type": "bar",
         "x": [
          1,
          2,
          3,
          4,
          5,
          6,
          7,
          8,
          9,
          10,
          11,
          12,
          13,
          14,
          15,
          16,
          17,
          18,
          19,
          20,
          21,
          22,
          23,
          24,
          25,
          26,
          27,
          28,
          29,
          30,
          31
         ],
         "xaxis": "x",
         "y": [
          7,
          11,
          5,
          2,
          21,
          4,
          4,
          11,
          2,
          21,
          2,
          9,
          4,
          6,
          26,
          6,
          5,
          12,
          6,
          12,
          5,
          16,
          4,
          5,
          8,
          4,
          4,
          22,
          7,
          9,
          5
         ],
         "yaxis": "y"
        },
        {
         "alignmentgroup": "True",
         "hovertemplate": "General_Sentiment=Love/Affection<br>Day=%{x}<br>Count=%{y}<extra></extra>",
         "legendgroup": "Love/Affection",
         "marker": {
          "color": "#8C564B",
          "pattern": {
           "shape": ""
          }
         },
         "name": "Love/Affection",
         "offsetgroup": "Love/Affection",
         "orientation": "v",
         "showlegend": true,
         "textposition": "auto",
         "type": "bar",
         "x": [
          1,
          2,
          3,
          4,
          5,
          6,
          7,
          8,
          9,
          10,
          11,
          12,
          13,
          14,
          15,
          16,
          17,
          18,
          19,
          20,
          21,
          22,
          23,
          24,
          25,
          26,
          27,
          28,
          29,
          30,
          31
         ],
         "xaxis": "x",
         "y": [
          2,
          0,
          4,
          1,
          2,
          0,
          1,
          0,
          0,
          5,
          0,
          2,
          0,
          2,
          8,
          0,
          1,
          2,
          2,
          2,
          0,
          0,
          2,
          2,
          2,
          1,
          0,
          4,
          0,
          2,
          0
         ],
         "yaxis": "y"
        },
        {
         "alignmentgroup": "True",
         "hovertemplate": "General_Sentiment=Neutral/Calm<br>Day=%{x}<br>Count=%{y}<extra></extra>",
         "legendgroup": "Neutral/Calm",
         "marker": {
          "color": "#E377C2",
          "pattern": {
           "shape": ""
          }
         },
         "name": "Neutral/Calm",
         "offsetgroup": "Neutral/Calm",
         "orientation": "v",
         "showlegend": true,
         "textposition": "auto",
         "type": "bar",
         "x": [
          1,
          2,
          3,
          4,
          5,
          6,
          7,
          8,
          9,
          10,
          11,
          12,
          13,
          14,
          15,
          16,
          17,
          18,
          19,
          20,
          21,
          22,
          23,
          24,
          25,
          26,
          27,
          28,
          29,
          30,
          31
         ],
         "xaxis": "x",
         "y": [
          2,
          3,
          2,
          2,
          3,
          1,
          1,
          6,
          1,
          7,
          2,
          8,
          1,
          2,
          5,
          0,
          1,
          8,
          1,
          4,
          2,
          5,
          1,
          0,
          1,
          0,
          3,
          8,
          0,
          5,
          0
         ],
         "yaxis": "y"
        },
        {
         "alignmentgroup": "True",
         "hovertemplate": "General_Sentiment=Sadness<br>Day=%{x}<br>Count=%{y}<extra></extra>",
         "legendgroup": "Sadness",
         "marker": {
          "color": "#7F7F7F",
          "pattern": {
           "shape": ""
          }
         },
         "name": "Sadness",
         "offsetgroup": "Sadness",
         "orientation": "v",
         "showlegend": true,
         "textposition": "auto",
         "type": "bar",
         "x": [
          1,
          2,
          3,
          4,
          5,
          6,
          7,
          8,
          9,
          10,
          11,
          12,
          13,
          14,
          15,
          16,
          17,
          18,
          19,
          20,
          21,
          22,
          23,
          24,
          25,
          26,
          27,
          28,
          29,
          30,
          31
         ],
         "xaxis": "x",
         "y": [
          3,
          6,
          2,
          0,
          7,
          0,
          1,
          2,
          1,
          9,
          1,
          7,
          0,
          1,
          12,
          1,
          2,
          11,
          2,
          7,
          2,
          3,
          0,
          1,
          6,
          1,
          1,
          11,
          0,
          0,
          0
         ],
         "yaxis": "y"
        },
        {
         "alignmentgroup": "True",
         "hovertemplate": "General_Sentiment=Suprise<br>Day=%{x}<br>Count=%{y}<extra></extra>",
         "legendgroup": "Suprise",
         "marker": {
          "color": "#BCBD22",
          "pattern": {
           "shape": ""
          }
         },
         "name": "Suprise",
         "offsetgroup": "Suprise",
         "orientation": "v",
         "showlegend": true,
         "textposition": "auto",
         "type": "bar",
         "x": [
          1,
          2,
          3,
          4,
          5,
          6,
          7,
          8,
          9,
          10,
          11,
          12,
          13,
          14,
          15,
          16,
          17,
          18,
          19,
          20,
          21,
          22,
          23,
          24,
          25,
          26,
          27,
          28,
          29,
          30,
          31
         ],
         "xaxis": "x",
         "y": [
          0,
          3,
          0,
          0,
          4,
          0,
          0,
          4,
          0,
          4,
          0,
          1,
          0,
          0,
          1,
          1,
          0,
          2,
          0,
          0,
          0,
          0,
          0,
          1,
          1,
          0,
          1,
          3,
          0,
          0,
          0
         ],
         "yaxis": "y"
        },
        {
         "alignmentgroup": "True",
         "hovertemplate": "General_Sentiment=Trust<br>Day=%{x}<br>Count=%{y}<extra></extra>",
         "legendgroup": "Trust",
         "marker": {
          "color": "#17BECF",
          "pattern": {
           "shape": ""
          }
         },
         "name": "Trust",
         "offsetgroup": "Trust",
         "orientation": "v",
         "showlegend": true,
         "textposition": "auto",
         "type": "bar",
         "x": [
          1,
          2,
          3,
          4,
          5,
          6,
          7,
          8,
          9,
          10,
          11,
          12,
          13,
          14,
          15,
          16,
          17,
          18,
          19,
          20,
          21,
          22,
          23,
          24,
          25,
          26,
          27,
          28,
          29,
          30,
          31
         ],
         "xaxis": "x",
         "y": [
          1,
          1,
          0,
          0,
          0,
          0,
          0,
          1,
          0,
          2,
          0,
          0,
          0,
          0,
          5,
          1,
          0,
          1,
          0,
          3,
          0,
          0,
          0,
          0,
          1,
          0,
          0,
          1,
          0,
          0,
          0
         ],
         "yaxis": "y"
        }
       ],
       "layout": {
        "barmode": "relative",
        "legend": {
         "title": {
          "text": "General_Sentiment"
         },
         "tracegroupgap": 0
        },
        "template": {
         "data": {
          "bar": [
           {
            "error_x": {
             "color": "#2a3f5f"
            },
            "error_y": {
             "color": "#2a3f5f"
            },
            "marker": {
             "line": {
              "color": "#E5ECF6",
              "width": 0.5
             },
             "pattern": {
              "fillmode": "overlay",
              "size": 10,
              "solidity": 0.2
             }
            },
            "type": "bar"
           }
          ],
          "barpolar": [
           {
            "marker": {
             "line": {
              "color": "#E5ECF6",
              "width": 0.5
             },
             "pattern": {
              "fillmode": "overlay",
              "size": 10,
              "solidity": 0.2
             }
            },
            "type": "barpolar"
           }
          ],
          "carpet": [
           {
            "aaxis": {
             "endlinecolor": "#2a3f5f",
             "gridcolor": "white",
             "linecolor": "white",
             "minorgridcolor": "white",
             "startlinecolor": "#2a3f5f"
            },
            "baxis": {
             "endlinecolor": "#2a3f5f",
             "gridcolor": "white",
             "linecolor": "white",
             "minorgridcolor": "white",
             "startlinecolor": "#2a3f5f"
            },
            "type": "carpet"
           }
          ],
          "choropleth": [
           {
            "colorbar": {
             "outlinewidth": 0,
             "ticks": ""
            },
            "type": "choropleth"
           }
          ],
          "contour": [
           {
            "colorbar": {
             "outlinewidth": 0,
             "ticks": ""
            },
            "colorscale": [
             [
              0,
              "#0d0887"
             ],
             [
              0.1111111111111111,
              "#46039f"
             ],
             [
              0.2222222222222222,
              "#7201a8"
             ],
             [
              0.3333333333333333,
              "#9c179e"
             ],
             [
              0.4444444444444444,
              "#bd3786"
             ],
             [
              0.5555555555555556,
              "#d8576b"
             ],
             [
              0.6666666666666666,
              "#ed7953"
             ],
             [
              0.7777777777777778,
              "#fb9f3a"
             ],
             [
              0.8888888888888888,
              "#fdca26"
             ],
             [
              1,
              "#f0f921"
             ]
            ],
            "type": "contour"
           }
          ],
          "contourcarpet": [
           {
            "colorbar": {
             "outlinewidth": 0,
             "ticks": ""
            },
            "type": "contourcarpet"
           }
          ],
          "heatmap": [
           {
            "colorbar": {
             "outlinewidth": 0,
             "ticks": ""
            },
            "colorscale": [
             [
              0,
              "#0d0887"
             ],
             [
              0.1111111111111111,
              "#46039f"
             ],
             [
              0.2222222222222222,
              "#7201a8"
             ],
             [
              0.3333333333333333,
              "#9c179e"
             ],
             [
              0.4444444444444444,
              "#bd3786"
             ],
             [
              0.5555555555555556,
              "#d8576b"
             ],
             [
              0.6666666666666666,
              "#ed7953"
             ],
             [
              0.7777777777777778,
              "#fb9f3a"
             ],
             [
              0.8888888888888888,
              "#fdca26"
             ],
             [
              1,
              "#f0f921"
             ]
            ],
            "type": "heatmap"
           }
          ],
          "heatmapgl": [
           {
            "colorbar": {
             "outlinewidth": 0,
             "ticks": ""
            },
            "colorscale": [
             [
              0,
              "#0d0887"
             ],
             [
              0.1111111111111111,
              "#46039f"
             ],
             [
              0.2222222222222222,
              "#7201a8"
             ],
             [
              0.3333333333333333,
              "#9c179e"
             ],
             [
              0.4444444444444444,
              "#bd3786"
             ],
             [
              0.5555555555555556,
              "#d8576b"
             ],
             [
              0.6666666666666666,
              "#ed7953"
             ],
             [
              0.7777777777777778,
              "#fb9f3a"
             ],
             [
              0.8888888888888888,
              "#fdca26"
             ],
             [
              1,
              "#f0f921"
             ]
            ],
            "type": "heatmapgl"
           }
          ],
          "histogram": [
           {
            "marker": {
             "pattern": {
              "fillmode": "overlay",
              "size": 10,
              "solidity": 0.2
             }
            },
            "type": "histogram"
           }
          ],
          "histogram2d": [
           {
            "colorbar": {
             "outlinewidth": 0,
             "ticks": ""
            },
            "colorscale": [
             [
              0,
              "#0d0887"
             ],
             [
              0.1111111111111111,
              "#46039f"
             ],
             [
              0.2222222222222222,
              "#7201a8"
             ],
             [
              0.3333333333333333,
              "#9c179e"
             ],
             [
              0.4444444444444444,
              "#bd3786"
             ],
             [
              0.5555555555555556,
              "#d8576b"
             ],
             [
              0.6666666666666666,
              "#ed7953"
             ],
             [
              0.7777777777777778,
              "#fb9f3a"
             ],
             [
              0.8888888888888888,
              "#fdca26"
             ],
             [
              1,
              "#f0f921"
             ]
            ],
            "type": "histogram2d"
           }
          ],
          "histogram2dcontour": [
           {
            "colorbar": {
             "outlinewidth": 0,
             "ticks": ""
            },
            "colorscale": [
             [
              0,
              "#0d0887"
             ],
             [
              0.1111111111111111,
              "#46039f"
             ],
             [
              0.2222222222222222,
              "#7201a8"
             ],
             [
              0.3333333333333333,
              "#9c179e"
             ],
             [
              0.4444444444444444,
              "#bd3786"
             ],
             [
              0.5555555555555556,
              "#d8576b"
             ],
             [
              0.6666666666666666,
              "#ed7953"
             ],
             [
              0.7777777777777778,
              "#fb9f3a"
             ],
             [
              0.8888888888888888,
              "#fdca26"
             ],
             [
              1,
              "#f0f921"
             ]
            ],
            "type": "histogram2dcontour"
           }
          ],
          "mesh3d": [
           {
            "colorbar": {
             "outlinewidth": 0,
             "ticks": ""
            },
            "type": "mesh3d"
           }
          ],
          "parcoords": [
           {
            "line": {
             "colorbar": {
              "outlinewidth": 0,
              "ticks": ""
             }
            },
            "type": "parcoords"
           }
          ],
          "pie": [
           {
            "automargin": true,
            "type": "pie"
           }
          ],
          "scatter": [
           {
            "fillpattern": {
             "fillmode": "overlay",
             "size": 10,
             "solidity": 0.2
            },
            "type": "scatter"
           }
          ],
          "scatter3d": [
           {
            "line": {
             "colorbar": {
              "outlinewidth": 0,
              "ticks": ""
             }
            },
            "marker": {
             "colorbar": {
              "outlinewidth": 0,
              "ticks": ""
             }
            },
            "type": "scatter3d"
           }
          ],
          "scattercarpet": [
           {
            "marker": {
             "colorbar": {
              "outlinewidth": 0,
              "ticks": ""
             }
            },
            "type": "scattercarpet"
           }
          ],
          "scattergeo": [
           {
            "marker": {
             "colorbar": {
              "outlinewidth": 0,
              "ticks": ""
             }
            },
            "type": "scattergeo"
           }
          ],
          "scattergl": [
           {
            "marker": {
             "colorbar": {
              "outlinewidth": 0,
              "ticks": ""
             }
            },
            "type": "scattergl"
           }
          ],
          "scattermapbox": [
           {
            "marker": {
             "colorbar": {
              "outlinewidth": 0,
              "ticks": ""
             }
            },
            "type": "scattermapbox"
           }
          ],
          "scatterpolar": [
           {
            "marker": {
             "colorbar": {
              "outlinewidth": 0,
              "ticks": ""
             }
            },
            "type": "scatterpolar"
           }
          ],
          "scatterpolargl": [
           {
            "marker": {
             "colorbar": {
              "outlinewidth": 0,
              "ticks": ""
             }
            },
            "type": "scatterpolargl"
           }
          ],
          "scatterternary": [
           {
            "marker": {
             "colorbar": {
              "outlinewidth": 0,
              "ticks": ""
             }
            },
            "type": "scatterternary"
           }
          ],
          "surface": [
           {
            "colorbar": {
             "outlinewidth": 0,
             "ticks": ""
            },
            "colorscale": [
             [
              0,
              "#0d0887"
             ],
             [
              0.1111111111111111,
              "#46039f"
             ],
             [
              0.2222222222222222,
              "#7201a8"
             ],
             [
              0.3333333333333333,
              "#9c179e"
             ],
             [
              0.4444444444444444,
              "#bd3786"
             ],
             [
              0.5555555555555556,
              "#d8576b"
             ],
             [
              0.6666666666666666,
              "#ed7953"
             ],
             [
              0.7777777777777778,
              "#fb9f3a"
             ],
             [
              0.8888888888888888,
              "#fdca26"
             ],
             [
              1,
              "#f0f921"
             ]
            ],
            "type": "surface"
           }
          ],
          "table": [
           {
            "cells": {
             "fill": {
              "color": "#EBF0F8"
             },
             "line": {
              "color": "white"
             }
            },
            "header": {
             "fill": {
              "color": "#C8D4E3"
             },
             "line": {
              "color": "white"
             }
            },
            "type": "table"
           }
          ]
         },
         "layout": {
          "annotationdefaults": {
           "arrowcolor": "#2a3f5f",
           "arrowhead": 0,
           "arrowwidth": 1
          },
          "autotypenumbers": "strict",
          "coloraxis": {
           "colorbar": {
            "outlinewidth": 0,
            "ticks": ""
           }
          },
          "colorscale": {
           "diverging": [
            [
             0,
             "#8e0152"
            ],
            [
             0.1,
             "#c51b7d"
            ],
            [
             0.2,
             "#de77ae"
            ],
            [
             0.3,
             "#f1b6da"
            ],
            [
             0.4,
             "#fde0ef"
            ],
            [
             0.5,
             "#f7f7f7"
            ],
            [
             0.6,
             "#e6f5d0"
            ],
            [
             0.7,
             "#b8e186"
            ],
            [
             0.8,
             "#7fbc41"
            ],
            [
             0.9,
             "#4d9221"
            ],
            [
             1,
             "#276419"
            ]
           ],
           "sequential": [
            [
             0,
             "#0d0887"
            ],
            [
             0.1111111111111111,
             "#46039f"
            ],
            [
             0.2222222222222222,
             "#7201a8"
            ],
            [
             0.3333333333333333,
             "#9c179e"
            ],
            [
             0.4444444444444444,
             "#bd3786"
            ],
            [
             0.5555555555555556,
             "#d8576b"
            ],
            [
             0.6666666666666666,
             "#ed7953"
            ],
            [
             0.7777777777777778,
             "#fb9f3a"
            ],
            [
             0.8888888888888888,
             "#fdca26"
            ],
            [
             1,
             "#f0f921"
            ]
           ],
           "sequentialminus": [
            [
             0,
             "#0d0887"
            ],
            [
             0.1111111111111111,
             "#46039f"
            ],
            [
             0.2222222222222222,
             "#7201a8"
            ],
            [
             0.3333333333333333,
             "#9c179e"
            ],
            [
             0.4444444444444444,
             "#bd3786"
            ],
            [
             0.5555555555555556,
             "#d8576b"
            ],
            [
             0.6666666666666666,
             "#ed7953"
            ],
            [
             0.7777777777777778,
             "#fb9f3a"
            ],
            [
             0.8888888888888888,
             "#fdca26"
            ],
            [
             1,
             "#f0f921"
            ]
           ]
          },
          "colorway": [
           "#636efa",
           "#EF553B",
           "#00cc96",
           "#ab63fa",
           "#FFA15A",
           "#19d3f3",
           "#FF6692",
           "#B6E880",
           "#FF97FF",
           "#FECB52"
          ],
          "font": {
           "color": "#2a3f5f"
          },
          "geo": {
           "bgcolor": "white",
           "lakecolor": "white",
           "landcolor": "#E5ECF6",
           "showlakes": true,
           "showland": true,
           "subunitcolor": "white"
          },
          "hoverlabel": {
           "align": "left"
          },
          "hovermode": "closest",
          "mapbox": {
           "style": "light"
          },
          "paper_bgcolor": "white",
          "plot_bgcolor": "#E5ECF6",
          "polar": {
           "angularaxis": {
            "gridcolor": "white",
            "linecolor": "white",
            "ticks": ""
           },
           "bgcolor": "#E5ECF6",
           "radialaxis": {
            "gridcolor": "white",
            "linecolor": "white",
            "ticks": ""
           }
          },
          "scene": {
           "xaxis": {
            "backgroundcolor": "#E5ECF6",
            "gridcolor": "white",
            "gridwidth": 2,
            "linecolor": "white",
            "showbackground": true,
            "ticks": "",
            "zerolinecolor": "white"
           },
           "yaxis": {
            "backgroundcolor": "#E5ECF6",
            "gridcolor": "white",
            "gridwidth": 2,
            "linecolor": "white",
            "showbackground": true,
            "ticks": "",
            "zerolinecolor": "white"
           },
           "zaxis": {
            "backgroundcolor": "#E5ECF6",
            "gridcolor": "white",
            "gridwidth": 2,
            "linecolor": "white",
            "showbackground": true,
            "ticks": "",
            "zerolinecolor": "white"
           }
          },
          "shapedefaults": {
           "line": {
            "color": "#2a3f5f"
           }
          },
          "ternary": {
           "aaxis": {
            "gridcolor": "white",
            "linecolor": "white",
            "ticks": ""
           },
           "baxis": {
            "gridcolor": "white",
            "linecolor": "white",
            "ticks": ""
           },
           "bgcolor": "#E5ECF6",
           "caxis": {
            "gridcolor": "white",
            "linecolor": "white",
            "ticks": ""
           }
          },
          "title": {
           "x": 0.05
          },
          "xaxis": {
           "automargin": true,
           "gridcolor": "white",
           "linecolor": "white",
           "ticks": "",
           "title": {
            "standoff": 15
           },
           "zerolinecolor": "white",
           "zerolinewidth": 2
          },
          "yaxis": {
           "automargin": true,
           "gridcolor": "white",
           "linecolor": "white",
           "ticks": "",
           "title": {
            "standoff": 15
           },
           "zerolinecolor": "white",
           "zerolinewidth": 2
          }
         }
        },
        "title": {
         "text": "Sentiment Distribution Across Days"
        },
        "xaxis": {
         "anchor": "y",
         "domain": [
          0,
          1
         ],
         "title": {
          "text": "Day"
         }
        },
        "yaxis": {
         "anchor": "x",
         "domain": [
          0,
          1
         ],
         "title": {
          "text": "Count"
         }
        }
       }
      }
     },
     "metadata": {},
     "output_type": "display_data"
    }
   ],
   "source": [
    "fig = px.bar(\n",
    "    sentiment_counts,\n",
    "    x=sentiment_counts.index,\n",
    "    y=sentiment_counts.columns,\n",
    "    title=\"Sentiment Distribution Across Days\",\n",
    "    labels={\"value\": \"Count\", \"Day\": \"Day\"},\n",
    "    color_discrete_sequence=px.colors.qualitative.D3\n",
    ")\n",
    "\n",
    "fig.show()\n",
    "\n",
    "#Sentiment distribution across days. The x-axis is the index, representing days, the y-axis is the sentiment count.\n",
    "#The bars are colored using a discrete color sequence. The chart is shown using `fig.show()`."
   ]
  },
  {
   "cell_type": "code",
   "execution_count": 425,
   "id": "aa8bc36a",
   "metadata": {},
   "outputs": [
    {
     "name": "stderr",
     "output_type": "stream",
     "text": [
      "/var/folders/0_/ryhxg2cd71z1f4879zqk8ffr0000gn/T/ipykernel_6471/814581828.py:6: FutureWarning:\n",
      "\n",
      "The default of observed=False is deprecated and will be changed to True in a future version of pandas. Pass observed=False to retain current behavior or observed=True to adopt the future default and silence this warning.\n",
      "\n"
     ]
    },
    {
     "data": {
      "application/vnd.plotly.v1+json": {
       "config": {
        "plotlyServerURL": "https://plot.ly"
       },
       "data": [
        {
         "alignmentgroup": "True",
         "hovertemplate": "General_Sentiment=%{text}<br>Day of Week=%{x}<br>Count=%{y}<extra></extra>",
         "legendgroup": "Anger",
         "marker": {
          "color": "rgb(251,180,174)",
          "pattern": {
           "shape": ""
          }
         },
         "name": "Anger",
         "offsetgroup": "Anger",
         "orientation": "v",
         "showlegend": true,
         "text": [
          "Anger",
          "Anger",
          "Anger",
          "Anger",
          "Anger",
          "Anger",
          "Anger"
         ],
         "textposition": "auto",
         "type": "bar",
         "x": [
          "Monday",
          "Tuesday",
          "Wednesday",
          "Thursday",
          "Friday",
          "Saturday",
          "Sunday"
         ],
         "xaxis": "x",
         "y": [
          4,
          9,
          7,
          3,
          7,
          5,
          3
         ],
         "yaxis": "y"
        },
        {
         "alignmentgroup": "True",
         "hovertemplate": "General_Sentiment=%{text}<br>Day of Week=%{x}<br>Count=%{y}<extra></extra>",
         "legendgroup": "Fear",
         "marker": {
          "color": "rgb(179,205,227)",
          "pattern": {
           "shape": ""
          }
         },
         "name": "Fear",
         "offsetgroup": "Fear",
         "orientation": "v",
         "showlegend": true,
         "text": [
          "Fear",
          "Fear",
          "Fear",
          "Fear",
          "Fear",
          "Fear",
          "Fear"
         ],
         "textposition": "auto",
         "type": "bar",
         "x": [
          "Monday",
          "Tuesday",
          "Wednesday",
          "Thursday",
          "Friday",
          "Saturday",
          "Sunday"
         ],
         "xaxis": "x",
         "y": [
          3,
          1,
          2,
          4,
          5,
          9,
          0
         ],
         "yaxis": "y"
        },
        {
         "alignmentgroup": "True",
         "hovertemplate": "General_Sentiment=%{text}<br>Day of Week=%{x}<br>Count=%{y}<extra></extra>",
         "legendgroup": "Joy/Happiness",
         "marker": {
          "color": "rgb(204,235,197)",
          "pattern": {
           "shape": ""
          }
         },
         "name": "Joy/Happiness",
         "offsetgroup": "Joy/Happiness",
         "orientation": "v",
         "showlegend": true,
         "text": [
          "Joy/Happiness",
          "Joy/Happiness",
          "Joy/Happiness",
          "Joy/Happiness",
          "Joy/Happiness",
          "Joy/Happiness",
          "Joy/Happiness"
         ],
         "textposition": "auto",
         "type": "bar",
         "x": [
          "Monday",
          "Tuesday",
          "Wednesday",
          "Thursday",
          "Friday",
          "Saturday",
          "Sunday"
         ],
         "xaxis": "x",
         "y": [
          43,
          36,
          41,
          38,
          37,
          33,
          37
         ],
         "yaxis": "y"
        },
        {
         "alignmentgroup": "True",
         "hovertemplate": "General_Sentiment=%{text}<br>Day of Week=%{x}<br>Count=%{y}<extra></extra>",
         "legendgroup": "Suprise",
         "marker": {
          "color": "rgb(222,203,228)",
          "pattern": {
           "shape": ""
          }
         },
         "name": "Suprise",
         "offsetgroup": "Suprise",
         "orientation": "v",
         "showlegend": true,
         "text": [
          "Suprise",
          "Suprise",
          "Suprise",
          "Suprise",
          "Suprise",
          "Suprise",
          "Suprise"
         ],
         "textposition": "auto",
         "type": "bar",
         "x": [
          "Monday",
          "Tuesday",
          "Wednesday",
          "Thursday",
          "Friday",
          "Saturday",
          "Sunday"
         ],
         "xaxis": "x",
         "y": [
          3,
          2,
          5,
          4,
          3,
          4,
          5
         ],
         "yaxis": "y"
        },
        {
         "alignmentgroup": "True",
         "hovertemplate": "General_Sentiment=%{text}<br>Day of Week=%{x}<br>Count=%{y}<extra></extra>",
         "legendgroup": "Love/Affection",
         "marker": {
          "color": "rgb(254,217,166)",
          "pattern": {
           "shape": ""
          }
         },
         "name": "Love/Affection",
         "offsetgroup": "Love/Affection",
         "orientation": "v",
         "showlegend": true,
         "text": [
          "Love/Affection",
          "Love/Affection",
          "Love/Affection",
          "Love/Affection",
          "Love/Affection",
          "Love/Affection",
          "Love/Affection"
         ],
         "textposition": "auto",
         "type": "bar",
         "x": [
          "Monday",
          "Tuesday",
          "Wednesday",
          "Thursday",
          "Friday",
          "Saturday",
          "Sunday"
         ],
         "xaxis": "x",
         "y": [
          6,
          10,
          4,
          4,
          8,
          3,
          12
         ],
         "yaxis": "y"
        },
        {
         "alignmentgroup": "True",
         "hovertemplate": "General_Sentiment=%{text}<br>Day of Week=%{x}<br>Count=%{y}<extra></extra>",
         "legendgroup": "Anticipation",
         "marker": {
          "color": "rgb(255,255,204)",
          "pattern": {
           "shape": ""
          }
         },
         "name": "Anticipation",
         "offsetgroup": "Anticipation",
         "orientation": "v",
         "showlegend": true,
         "text": [
          "Anticipation",
          "Anticipation",
          "Anticipation",
          "Anticipation",
          "Anticipation",
          "Anticipation",
          "Anticipation"
         ],
         "textposition": "auto",
         "type": "bar",
         "x": [
          "Monday",
          "Tuesday",
          "Wednesday",
          "Thursday",
          "Friday",
          "Saturday",
          "Sunday"
         ],
         "xaxis": "x",
         "y": [
          9,
          6,
          3,
          6,
          7,
          10,
          11
         ],
         "yaxis": "y"
        },
        {
         "alignmentgroup": "True",
         "hovertemplate": "General_Sentiment=%{text}<br>Day of Week=%{x}<br>Count=%{y}<extra></extra>",
         "legendgroup": "Sadness",
         "marker": {
          "color": "rgb(229,216,189)",
          "pattern": {
           "shape": ""
          }
         },
         "name": "Sadness",
         "offsetgroup": "Sadness",
         "orientation": "v",
         "showlegend": true,
         "text": [
          "Sadness",
          "Sadness",
          "Sadness",
          "Sadness",
          "Sadness",
          "Sadness",
          "Sadness"
         ],
         "textposition": "auto",
         "type": "bar",
         "x": [
          "Monday",
          "Tuesday",
          "Wednesday",
          "Thursday",
          "Friday",
          "Saturday",
          "Sunday"
         ],
         "xaxis": "x",
         "y": [
          15,
          16,
          8,
          14,
          13,
          14,
          20
         ],
         "yaxis": "y"
        },
        {
         "alignmentgroup": "True",
         "hovertemplate": "General_Sentiment=%{text}<br>Day of Week=%{x}<br>Count=%{y}<extra></extra>",
         "legendgroup": "Disgust",
         "marker": {
          "color": "rgb(253,218,236)",
          "pattern": {
           "shape": ""
          }
         },
         "name": "Disgust",
         "offsetgroup": "Disgust",
         "orientation": "v",
         "showlegend": true,
         "text": [
          "Disgust",
          "Disgust",
          "Disgust",
          "Disgust",
          "Disgust",
          "Disgust",
          "Disgust"
         ],
         "textposition": "auto",
         "type": "bar",
         "x": [
          "Monday",
          "Tuesday",
          "Wednesday",
          "Thursday",
          "Friday",
          "Saturday",
          "Sunday"
         ],
         "xaxis": "x",
         "y": [
          1,
          3,
          1,
          1,
          3,
          3,
          3
         ],
         "yaxis": "y"
        },
        {
         "alignmentgroup": "True",
         "hovertemplate": "General_Sentiment=%{text}<br>Day of Week=%{x}<br>Count=%{y}<extra></extra>",
         "legendgroup": "Trust",
         "marker": {
          "color": "rgb(242,242,242)",
          "pattern": {
           "shape": ""
          }
         },
         "name": "Trust",
         "offsetgroup": "Trust",
         "orientation": "v",
         "showlegend": true,
         "text": [
          "Trust",
          "Trust",
          "Trust",
          "Trust",
          "Trust",
          "Trust",
          "Trust"
         ],
         "textposition": "auto",
         "type": "bar",
         "x": [
          "Monday",
          "Tuesday",
          "Wednesday",
          "Thursday",
          "Friday",
          "Saturday",
          "Sunday"
         ],
         "xaxis": "x",
         "y": [
          2,
          3,
          3,
          5,
          1,
          3,
          0
         ],
         "yaxis": "y"
        },
        {
         "alignmentgroup": "True",
         "hovertemplate": "General_Sentiment=%{text}<br>Day of Week=%{x}<br>Count=%{y}<extra></extra>",
         "legendgroup": "Neutral/Calm",
         "marker": {
          "color": "rgb(251,180,174)",
          "pattern": {
           "shape": ""
          }
         },
         "name": "Neutral/Calm",
         "offsetgroup": "Neutral/Calm",
         "orientation": "v",
         "showlegend": true,
         "text": [
          "Neutral/Calm",
          "Neutral/Calm",
          "Neutral/Calm",
          "Neutral/Calm",
          "Neutral/Calm",
          "Neutral/Calm",
          "Neutral/Calm"
         ],
         "textposition": "auto",
         "type": "bar",
         "x": [
          "Monday",
          "Tuesday",
          "Wednesday",
          "Thursday",
          "Friday",
          "Saturday",
          "Sunday"
         ],
         "xaxis": "x",
         "y": [
          7,
          15,
          10,
          9,
          15,
          19,
          10
         ],
         "yaxis": "y"
        }
       ],
       "layout": {
        "barmode": "relative",
        "legend": {
         "title": {
          "text": "General_Sentiment"
         },
         "tracegroupgap": 0
        },
        "template": {
         "data": {
          "bar": [
           {
            "error_x": {
             "color": "#2a3f5f"
            },
            "error_y": {
             "color": "#2a3f5f"
            },
            "marker": {
             "line": {
              "color": "#E5ECF6",
              "width": 0.5
             },
             "pattern": {
              "fillmode": "overlay",
              "size": 10,
              "solidity": 0.2
             }
            },
            "type": "bar"
           }
          ],
          "barpolar": [
           {
            "marker": {
             "line": {
              "color": "#E5ECF6",
              "width": 0.5
             },
             "pattern": {
              "fillmode": "overlay",
              "size": 10,
              "solidity": 0.2
             }
            },
            "type": "barpolar"
           }
          ],
          "carpet": [
           {
            "aaxis": {
             "endlinecolor": "#2a3f5f",
             "gridcolor": "white",
             "linecolor": "white",
             "minorgridcolor": "white",
             "startlinecolor": "#2a3f5f"
            },
            "baxis": {
             "endlinecolor": "#2a3f5f",
             "gridcolor": "white",
             "linecolor": "white",
             "minorgridcolor": "white",
             "startlinecolor": "#2a3f5f"
            },
            "type": "carpet"
           }
          ],
          "choropleth": [
           {
            "colorbar": {
             "outlinewidth": 0,
             "ticks": ""
            },
            "type": "choropleth"
           }
          ],
          "contour": [
           {
            "colorbar": {
             "outlinewidth": 0,
             "ticks": ""
            },
            "colorscale": [
             [
              0,
              "#0d0887"
             ],
             [
              0.1111111111111111,
              "#46039f"
             ],
             [
              0.2222222222222222,
              "#7201a8"
             ],
             [
              0.3333333333333333,
              "#9c179e"
             ],
             [
              0.4444444444444444,
              "#bd3786"
             ],
             [
              0.5555555555555556,
              "#d8576b"
             ],
             [
              0.6666666666666666,
              "#ed7953"
             ],
             [
              0.7777777777777778,
              "#fb9f3a"
             ],
             [
              0.8888888888888888,
              "#fdca26"
             ],
             [
              1,
              "#f0f921"
             ]
            ],
            "type": "contour"
           }
          ],
          "contourcarpet": [
           {
            "colorbar": {
             "outlinewidth": 0,
             "ticks": ""
            },
            "type": "contourcarpet"
           }
          ],
          "heatmap": [
           {
            "colorbar": {
             "outlinewidth": 0,
             "ticks": ""
            },
            "colorscale": [
             [
              0,
              "#0d0887"
             ],
             [
              0.1111111111111111,
              "#46039f"
             ],
             [
              0.2222222222222222,
              "#7201a8"
             ],
             [
              0.3333333333333333,
              "#9c179e"
             ],
             [
              0.4444444444444444,
              "#bd3786"
             ],
             [
              0.5555555555555556,
              "#d8576b"
             ],
             [
              0.6666666666666666,
              "#ed7953"
             ],
             [
              0.7777777777777778,
              "#fb9f3a"
             ],
             [
              0.8888888888888888,
              "#fdca26"
             ],
             [
              1,
              "#f0f921"
             ]
            ],
            "type": "heatmap"
           }
          ],
          "heatmapgl": [
           {
            "colorbar": {
             "outlinewidth": 0,
             "ticks": ""
            },
            "colorscale": [
             [
              0,
              "#0d0887"
             ],
             [
              0.1111111111111111,
              "#46039f"
             ],
             [
              0.2222222222222222,
              "#7201a8"
             ],
             [
              0.3333333333333333,
              "#9c179e"
             ],
             [
              0.4444444444444444,
              "#bd3786"
             ],
             [
              0.5555555555555556,
              "#d8576b"
             ],
             [
              0.6666666666666666,
              "#ed7953"
             ],
             [
              0.7777777777777778,
              "#fb9f3a"
             ],
             [
              0.8888888888888888,
              "#fdca26"
             ],
             [
              1,
              "#f0f921"
             ]
            ],
            "type": "heatmapgl"
           }
          ],
          "histogram": [
           {
            "marker": {
             "pattern": {
              "fillmode": "overlay",
              "size": 10,
              "solidity": 0.2
             }
            },
            "type": "histogram"
           }
          ],
          "histogram2d": [
           {
            "colorbar": {
             "outlinewidth": 0,
             "ticks": ""
            },
            "colorscale": [
             [
              0,
              "#0d0887"
             ],
             [
              0.1111111111111111,
              "#46039f"
             ],
             [
              0.2222222222222222,
              "#7201a8"
             ],
             [
              0.3333333333333333,
              "#9c179e"
             ],
             [
              0.4444444444444444,
              "#bd3786"
             ],
             [
              0.5555555555555556,
              "#d8576b"
             ],
             [
              0.6666666666666666,
              "#ed7953"
             ],
             [
              0.7777777777777778,
              "#fb9f3a"
             ],
             [
              0.8888888888888888,
              "#fdca26"
             ],
             [
              1,
              "#f0f921"
             ]
            ],
            "type": "histogram2d"
           }
          ],
          "histogram2dcontour": [
           {
            "colorbar": {
             "outlinewidth": 0,
             "ticks": ""
            },
            "colorscale": [
             [
              0,
              "#0d0887"
             ],
             [
              0.1111111111111111,
              "#46039f"
             ],
             [
              0.2222222222222222,
              "#7201a8"
             ],
             [
              0.3333333333333333,
              "#9c179e"
             ],
             [
              0.4444444444444444,
              "#bd3786"
             ],
             [
              0.5555555555555556,
              "#d8576b"
             ],
             [
              0.6666666666666666,
              "#ed7953"
             ],
             [
              0.7777777777777778,
              "#fb9f3a"
             ],
             [
              0.8888888888888888,
              "#fdca26"
             ],
             [
              1,
              "#f0f921"
             ]
            ],
            "type": "histogram2dcontour"
           }
          ],
          "mesh3d": [
           {
            "colorbar": {
             "outlinewidth": 0,
             "ticks": ""
            },
            "type": "mesh3d"
           }
          ],
          "parcoords": [
           {
            "line": {
             "colorbar": {
              "outlinewidth": 0,
              "ticks": ""
             }
            },
            "type": "parcoords"
           }
          ],
          "pie": [
           {
            "automargin": true,
            "type": "pie"
           }
          ],
          "scatter": [
           {
            "fillpattern": {
             "fillmode": "overlay",
             "size": 10,
             "solidity": 0.2
            },
            "type": "scatter"
           }
          ],
          "scatter3d": [
           {
            "line": {
             "colorbar": {
              "outlinewidth": 0,
              "ticks": ""
             }
            },
            "marker": {
             "colorbar": {
              "outlinewidth": 0,
              "ticks": ""
             }
            },
            "type": "scatter3d"
           }
          ],
          "scattercarpet": [
           {
            "marker": {
             "colorbar": {
              "outlinewidth": 0,
              "ticks": ""
             }
            },
            "type": "scattercarpet"
           }
          ],
          "scattergeo": [
           {
            "marker": {
             "colorbar": {
              "outlinewidth": 0,
              "ticks": ""
             }
            },
            "type": "scattergeo"
           }
          ],
          "scattergl": [
           {
            "marker": {
             "colorbar": {
              "outlinewidth": 0,
              "ticks": ""
             }
            },
            "type": "scattergl"
           }
          ],
          "scattermapbox": [
           {
            "marker": {
             "colorbar": {
              "outlinewidth": 0,
              "ticks": ""
             }
            },
            "type": "scattermapbox"
           }
          ],
          "scatterpolar": [
           {
            "marker": {
             "colorbar": {
              "outlinewidth": 0,
              "ticks": ""
             }
            },
            "type": "scatterpolar"
           }
          ],
          "scatterpolargl": [
           {
            "marker": {
             "colorbar": {
              "outlinewidth": 0,
              "ticks": ""
             }
            },
            "type": "scatterpolargl"
           }
          ],
          "scatterternary": [
           {
            "marker": {
             "colorbar": {
              "outlinewidth": 0,
              "ticks": ""
             }
            },
            "type": "scatterternary"
           }
          ],
          "surface": [
           {
            "colorbar": {
             "outlinewidth": 0,
             "ticks": ""
            },
            "colorscale": [
             [
              0,
              "#0d0887"
             ],
             [
              0.1111111111111111,
              "#46039f"
             ],
             [
              0.2222222222222222,
              "#7201a8"
             ],
             [
              0.3333333333333333,
              "#9c179e"
             ],
             [
              0.4444444444444444,
              "#bd3786"
             ],
             [
              0.5555555555555556,
              "#d8576b"
             ],
             [
              0.6666666666666666,
              "#ed7953"
             ],
             [
              0.7777777777777778,
              "#fb9f3a"
             ],
             [
              0.8888888888888888,
              "#fdca26"
             ],
             [
              1,
              "#f0f921"
             ]
            ],
            "type": "surface"
           }
          ],
          "table": [
           {
            "cells": {
             "fill": {
              "color": "#EBF0F8"
             },
             "line": {
              "color": "white"
             }
            },
            "header": {
             "fill": {
              "color": "#C8D4E3"
             },
             "line": {
              "color": "white"
             }
            },
            "type": "table"
           }
          ]
         },
         "layout": {
          "annotationdefaults": {
           "arrowcolor": "#2a3f5f",
           "arrowhead": 0,
           "arrowwidth": 1
          },
          "autotypenumbers": "strict",
          "coloraxis": {
           "colorbar": {
            "outlinewidth": 0,
            "ticks": ""
           }
          },
          "colorscale": {
           "diverging": [
            [
             0,
             "#8e0152"
            ],
            [
             0.1,
             "#c51b7d"
            ],
            [
             0.2,
             "#de77ae"
            ],
            [
             0.3,
             "#f1b6da"
            ],
            [
             0.4,
             "#fde0ef"
            ],
            [
             0.5,
             "#f7f7f7"
            ],
            [
             0.6,
             "#e6f5d0"
            ],
            [
             0.7,
             "#b8e186"
            ],
            [
             0.8,
             "#7fbc41"
            ],
            [
             0.9,
             "#4d9221"
            ],
            [
             1,
             "#276419"
            ]
           ],
           "sequential": [
            [
             0,
             "#0d0887"
            ],
            [
             0.1111111111111111,
             "#46039f"
            ],
            [
             0.2222222222222222,
             "#7201a8"
            ],
            [
             0.3333333333333333,
             "#9c179e"
            ],
            [
             0.4444444444444444,
             "#bd3786"
            ],
            [
             0.5555555555555556,
             "#d8576b"
            ],
            [
             0.6666666666666666,
             "#ed7953"
            ],
            [
             0.7777777777777778,
             "#fb9f3a"
            ],
            [
             0.8888888888888888,
             "#fdca26"
            ],
            [
             1,
             "#f0f921"
            ]
           ],
           "sequentialminus": [
            [
             0,
             "#0d0887"
            ],
            [
             0.1111111111111111,
             "#46039f"
            ],
            [
             0.2222222222222222,
             "#7201a8"
            ],
            [
             0.3333333333333333,
             "#9c179e"
            ],
            [
             0.4444444444444444,
             "#bd3786"
            ],
            [
             0.5555555555555556,
             "#d8576b"
            ],
            [
             0.6666666666666666,
             "#ed7953"
            ],
            [
             0.7777777777777778,
             "#fb9f3a"
            ],
            [
             0.8888888888888888,
             "#fdca26"
            ],
            [
             1,
             "#f0f921"
            ]
           ]
          },
          "colorway": [
           "#636efa",
           "#EF553B",
           "#00cc96",
           "#ab63fa",
           "#FFA15A",
           "#19d3f3",
           "#FF6692",
           "#B6E880",
           "#FF97FF",
           "#FECB52"
          ],
          "font": {
           "color": "#2a3f5f"
          },
          "geo": {
           "bgcolor": "white",
           "lakecolor": "white",
           "landcolor": "#E5ECF6",
           "showlakes": true,
           "showland": true,
           "subunitcolor": "white"
          },
          "hoverlabel": {
           "align": "left"
          },
          "hovermode": "closest",
          "mapbox": {
           "style": "light"
          },
          "paper_bgcolor": "white",
          "plot_bgcolor": "#E5ECF6",
          "polar": {
           "angularaxis": {
            "gridcolor": "white",
            "linecolor": "white",
            "ticks": ""
           },
           "bgcolor": "#E5ECF6",
           "radialaxis": {
            "gridcolor": "white",
            "linecolor": "white",
            "ticks": ""
           }
          },
          "scene": {
           "xaxis": {
            "backgroundcolor": "#E5ECF6",
            "gridcolor": "white",
            "gridwidth": 2,
            "linecolor": "white",
            "showbackground": true,
            "ticks": "",
            "zerolinecolor": "white"
           },
           "yaxis": {
            "backgroundcolor": "#E5ECF6",
            "gridcolor": "white",
            "gridwidth": 2,
            "linecolor": "white",
            "showbackground": true,
            "ticks": "",
            "zerolinecolor": "white"
           },
           "zaxis": {
            "backgroundcolor": "#E5ECF6",
            "gridcolor": "white",
            "gridwidth": 2,
            "linecolor": "white",
            "showbackground": true,
            "ticks": "",
            "zerolinecolor": "white"
           }
          },
          "shapedefaults": {
           "line": {
            "color": "#2a3f5f"
           }
          },
          "ternary": {
           "aaxis": {
            "gridcolor": "white",
            "linecolor": "white",
            "ticks": ""
           },
           "baxis": {
            "gridcolor": "white",
            "linecolor": "white",
            "ticks": ""
           },
           "bgcolor": "#E5ECF6",
           "caxis": {
            "gridcolor": "white",
            "linecolor": "white",
            "ticks": ""
           }
          },
          "title": {
           "x": 0.05
          },
          "xaxis": {
           "automargin": true,
           "gridcolor": "white",
           "linecolor": "white",
           "ticks": "",
           "title": {
            "standoff": 15
           },
           "zerolinecolor": "white",
           "zerolinewidth": 2
          },
          "yaxis": {
           "automargin": true,
           "gridcolor": "white",
           "linecolor": "white",
           "ticks": "",
           "title": {
            "standoff": 15
           },
           "zerolinecolor": "white",
           "zerolinewidth": 2
          }
         }
        },
        "title": {
         "text": "Sentiment Distribution Across Weekdays"
        },
        "xaxis": {
         "anchor": "y",
         "domain": [
          0,
          1
         ],
         "title": {
          "text": "Day of Week"
         }
        },
        "yaxis": {
         "anchor": "x",
         "domain": [
          0,
          1
         ],
         "title": {
          "text": "Count"
         }
        }
       }
      }
     },
     "metadata": {},
     "output_type": "display_data"
    }
   ],
   "source": [
    "data['Weekday'] = pd.to_datetime(data['Timestamp']).dt.day_name()\n",
    "\n",
    "ordered_weekdays = ['Monday', 'Tuesday', 'Wednesday', 'Thursday', 'Friday', 'Saturday', 'Sunday']\n",
    "data['Weekday'] = pd.Categorical(data['Weekday'], categories=ordered_weekdays, ordered=True)\n",
    "\n",
    "sentiment_melted = data.groupby('Weekday')['General_Sentiment'].value_counts().unstack(fill_value=0).reset_index().melt(id_vars='Weekday')\n",
    "\n",
    "sentiment_melted = sentiment_melted.sort_values('Weekday')\n",
    "\n",
    "fig = px.bar(\n",
    "    sentiment_melted,\n",
    "    x='Weekday',\n",
    "    y='value',\n",
    "    color='General_Sentiment',\n",
    "    title=\"Sentiment Distribution Across Weekdays\",\n",
    "    labels={\"value\": \"Count\", \"Weekday\": \"Day of Week\"},\n",
    "    color_discrete_sequence=px.colors.qualitative.Pastel1,\n",
    "    text='General_Sentiment'\n",
    ")\n",
    "\n",
    "fig.show()\n",
    "\n",
    "#'Timestamp' was converting to datetime and weekday names ware extracted\n",
    "#Created a Monday-Sunday order in ordered_weekdays, then made sure Weekday is a categorical variable\n",
    "#Grouped data by Weekday and General Sentiment, and melted for plotting\n",
    "#Sorted by Weekday (categorical order)\n",
    "#Create the bar plot with a different color palette (Pastel1)"
   ]
  },
  {
   "cell_type": "markdown",
   "id": "7019b3dc",
   "metadata": {},
   "source": [
    "## 4. Hourly distribution of sentiments\n"
   ]
  },
  {
   "cell_type": "code",
   "execution_count": 426,
   "id": "92616876",
   "metadata": {},
   "outputs": [],
   "source": [
    "sentiment_counts = data.groupby(\"Hour\")[\"General_Sentiment\"].value_counts().unstack().fillna(0)\n",
    "#Grouped the data by \"Hour\" and counted the occurrences of values in the \"General_Sentiment\" column.\n",
    "#`Unstack()` converts the grouped data into a wide format with each sentiment as a separate column.`Fillna(0)` replaces any missing values with 0."
   ]
  },
  {
   "cell_type": "code",
   "execution_count": 427,
   "id": "47ed752d",
   "metadata": {},
   "outputs": [],
   "source": [
    "data = data[data['Year'] >= 2016]\n",
    "#filtered out data older than 2016"
   ]
  },
  {
   "cell_type": "code",
   "execution_count": 428,
   "id": "8823ea2c",
   "metadata": {},
   "outputs": [
    {
     "data": {
      "application/vnd.plotly.v1+json": {
       "config": {
        "plotlyServerURL": "https://plot.ly"
       },
       "data": [
        {
         "alignmentgroup": "True",
         "hovertemplate": "General_Sentiment=Anger<br>Hour=%{x}<br>Count=%{y}<extra></extra>",
         "legendgroup": "Anger",
         "marker": {
          "color": "#2E91E5",
          "pattern": {
           "shape": ""
          }
         },
         "name": "Anger",
         "offsetgroup": "Anger",
         "orientation": "v",
         "showlegend": true,
         "textposition": "auto",
         "type": "bar",
         "x": [
          0,
          2,
          3,
          5,
          6,
          7,
          8,
          9,
          10,
          11,
          12,
          13,
          14,
          15,
          16,
          17,
          18,
          19,
          20,
          21,
          22,
          23
         ],
         "xaxis": "x",
         "y": [
          0,
          0,
          0,
          0,
          0,
          0,
          0,
          3,
          1,
          3,
          6,
          0,
          9,
          2,
          5,
          3,
          2,
          1,
          0,
          1,
          2,
          0
         ],
         "yaxis": "y"
        },
        {
         "alignmentgroup": "True",
         "hovertemplate": "General_Sentiment=Anticipation<br>Hour=%{x}<br>Count=%{y}<extra></extra>",
         "legendgroup": "Anticipation",
         "marker": {
          "color": "#E15F99",
          "pattern": {
           "shape": ""
          }
         },
         "name": "Anticipation",
         "offsetgroup": "Anticipation",
         "orientation": "v",
         "showlegend": true,
         "textposition": "auto",
         "type": "bar",
         "x": [
          0,
          2,
          3,
          5,
          6,
          7,
          8,
          9,
          10,
          11,
          12,
          13,
          14,
          15,
          16,
          17,
          18,
          19,
          20,
          21,
          22,
          23
         ],
         "xaxis": "x",
         "y": [
          0,
          0,
          0,
          0,
          2,
          5,
          4,
          1,
          3,
          1,
          3,
          4,
          10,
          6,
          1,
          1,
          1,
          3,
          4,
          1,
          2,
          0
         ],
         "yaxis": "y"
        },
        {
         "alignmentgroup": "True",
         "hovertemplate": "General_Sentiment=Disgust<br>Hour=%{x}<br>Count=%{y}<extra></extra>",
         "legendgroup": "Disgust",
         "marker": {
          "color": "#1CA71C",
          "pattern": {
           "shape": ""
          }
         },
         "name": "Disgust",
         "offsetgroup": "Disgust",
         "orientation": "v",
         "showlegend": true,
         "textposition": "auto",
         "type": "bar",
         "x": [
          0,
          2,
          3,
          5,
          6,
          7,
          8,
          9,
          10,
          11,
          12,
          13,
          14,
          15,
          16,
          17,
          18,
          19,
          20,
          21,
          22,
          23
         ],
         "xaxis": "x",
         "y": [
          0,
          0,
          0,
          0,
          0,
          0,
          0,
          2,
          0,
          0,
          1,
          0,
          2,
          2,
          0,
          1,
          2,
          2,
          0,
          2,
          0,
          1
         ],
         "yaxis": "y"
        },
        {
         "alignmentgroup": "True",
         "hovertemplate": "General_Sentiment=Fear<br>Hour=%{x}<br>Count=%{y}<extra></extra>",
         "legendgroup": "Fear",
         "marker": {
          "color": "#FB0D0D",
          "pattern": {
           "shape": ""
          }
         },
         "name": "Fear",
         "offsetgroup": "Fear",
         "orientation": "v",
         "showlegend": true,
         "textposition": "auto",
         "type": "bar",
         "x": [
          0,
          2,
          3,
          5,
          6,
          7,
          8,
          9,
          10,
          11,
          12,
          13,
          14,
          15,
          16,
          17,
          18,
          19,
          20,
          21,
          22,
          23
         ],
         "xaxis": "x",
         "y": [
          0,
          1,
          1,
          0,
          0,
          0,
          1,
          2,
          2,
          1,
          0,
          1,
          4,
          1,
          0,
          3,
          3,
          0,
          0,
          3,
          0,
          1
         ],
         "yaxis": "y"
        },
        {
         "alignmentgroup": "True",
         "hovertemplate": "General_Sentiment=Joy/Happiness<br>Hour=%{x}<br>Count=%{y}<extra></extra>",
         "legendgroup": "Joy/Happiness",
         "marker": {
          "color": "#DA16FF",
          "pattern": {
           "shape": ""
          }
         },
         "name": "Joy/Happiness",
         "offsetgroup": "Joy/Happiness",
         "orientation": "v",
         "showlegend": true,
         "textposition": "auto",
         "type": "bar",
         "x": [
          0,
          2,
          3,
          5,
          6,
          7,
          8,
          9,
          10,
          11,
          12,
          13,
          14,
          15,
          16,
          17,
          18,
          19,
          20,
          21,
          22,
          23
         ],
         "xaxis": "x",
         "y": [
          1,
          0,
          0,
          1,
          0,
          1,
          7,
          9,
          11,
          8,
          15,
          13,
          32,
          20,
          25,
          15,
          24,
          27,
          21,
          19,
          14,
          2
         ],
         "yaxis": "y"
        },
        {
         "alignmentgroup": "True",
         "hovertemplate": "General_Sentiment=Love/Affection<br>Hour=%{x}<br>Count=%{y}<extra></extra>",
         "legendgroup": "Love/Affection",
         "marker": {
          "color": "#222A2A",
          "pattern": {
           "shape": ""
          }
         },
         "name": "Love/Affection",
         "offsetgroup": "Love/Affection",
         "orientation": "v",
         "showlegend": true,
         "textposition": "auto",
         "type": "bar",
         "x": [
          0,
          2,
          3,
          5,
          6,
          7,
          8,
          9,
          10,
          11,
          12,
          13,
          14,
          15,
          16,
          17,
          18,
          19,
          20,
          21,
          22,
          23
         ],
         "xaxis": "x",
         "y": [
          0,
          0,
          0,
          0,
          0,
          0,
          2,
          2,
          3,
          8,
          2,
          1,
          4,
          0,
          7,
          2,
          2,
          7,
          5,
          2,
          0,
          0
         ],
         "yaxis": "y"
        },
        {
         "alignmentgroup": "True",
         "hovertemplate": "General_Sentiment=Neutral/Calm<br>Hour=%{x}<br>Count=%{y}<extra></extra>",
         "legendgroup": "Neutral/Calm",
         "marker": {
          "color": "#B68100",
          "pattern": {
           "shape": ""
          }
         },
         "name": "Neutral/Calm",
         "offsetgroup": "Neutral/Calm",
         "orientation": "v",
         "showlegend": true,
         "textposition": "auto",
         "type": "bar",
         "x": [
          0,
          2,
          3,
          5,
          6,
          7,
          8,
          9,
          10,
          11,
          12,
          13,
          14,
          15,
          16,
          17,
          18,
          19,
          20,
          21,
          22,
          23
         ],
         "xaxis": "x",
         "y": [
          0,
          0,
          0,
          0,
          0,
          0,
          1,
          4,
          0,
          2,
          5,
          1,
          7,
          5,
          6,
          12,
          12,
          20,
          6,
          2,
          2,
          0
         ],
         "yaxis": "y"
        },
        {
         "alignmentgroup": "True",
         "hovertemplate": "General_Sentiment=Sadness<br>Hour=%{x}<br>Count=%{y}<extra></extra>",
         "legendgroup": "Sadness",
         "marker": {
          "color": "#750D86",
          "pattern": {
           "shape": ""
          }
         },
         "name": "Sadness",
         "offsetgroup": "Sadness",
         "orientation": "v",
         "showlegend": true,
         "textposition": "auto",
         "type": "bar",
         "x": [
          0,
          2,
          3,
          5,
          6,
          7,
          8,
          9,
          10,
          11,
          12,
          13,
          14,
          15,
          16,
          17,
          18,
          19,
          20,
          21,
          22,
          23
         ],
         "xaxis": "x",
         "y": [
          0,
          0,
          1,
          0,
          0,
          0,
          3,
          3,
          3,
          5,
          1,
          4,
          11,
          5,
          11,
          6,
          11,
          9,
          10,
          8,
          8,
          1
         ],
         "yaxis": "y"
        },
        {
         "alignmentgroup": "True",
         "hovertemplate": "General_Sentiment=Suprise<br>Hour=%{x}<br>Count=%{y}<extra></extra>",
         "legendgroup": "Suprise",
         "marker": {
          "color": "#EB663B",
          "pattern": {
           "shape": ""
          }
         },
         "name": "Suprise",
         "offsetgroup": "Suprise",
         "orientation": "v",
         "showlegend": true,
         "textposition": "auto",
         "type": "bar",
         "x": [
          0,
          2,
          3,
          5,
          6,
          7,
          8,
          9,
          10,
          11,
          12,
          13,
          14,
          15,
          16,
          17,
          18,
          19,
          20,
          21,
          22,
          23
         ],
         "xaxis": "x",
         "y": [
          0,
          0,
          0,
          0,
          0,
          0,
          0,
          1,
          0,
          2,
          3,
          3,
          6,
          1,
          2,
          1,
          1,
          2,
          0,
          0,
          2,
          2
         ],
         "yaxis": "y"
        },
        {
         "alignmentgroup": "True",
         "hovertemplate": "General_Sentiment=Trust<br>Hour=%{x}<br>Count=%{y}<extra></extra>",
         "legendgroup": "Trust",
         "marker": {
          "color": "#511CFB",
          "pattern": {
           "shape": ""
          }
         },
         "name": "Trust",
         "offsetgroup": "Trust",
         "orientation": "v",
         "showlegend": true,
         "textposition": "auto",
         "type": "bar",
         "x": [
          0,
          2,
          3,
          5,
          6,
          7,
          8,
          9,
          10,
          11,
          12,
          13,
          14,
          15,
          16,
          17,
          18,
          19,
          20,
          21,
          22,
          23
         ],
         "xaxis": "x",
         "y": [
          0,
          0,
          0,
          0,
          0,
          0,
          0,
          0,
          1,
          1,
          0,
          0,
          1,
          1,
          6,
          2,
          2,
          1,
          1,
          0,
          1,
          0
         ],
         "yaxis": "y"
        }
       ],
       "layout": {
        "barmode": "relative",
        "legend": {
         "title": {
          "text": "General_Sentiment"
         },
         "tracegroupgap": 0
        },
        "template": {
         "data": {
          "bar": [
           {
            "error_x": {
             "color": "#2a3f5f"
            },
            "error_y": {
             "color": "#2a3f5f"
            },
            "marker": {
             "line": {
              "color": "#E5ECF6",
              "width": 0.5
             },
             "pattern": {
              "fillmode": "overlay",
              "size": 10,
              "solidity": 0.2
             }
            },
            "type": "bar"
           }
          ],
          "barpolar": [
           {
            "marker": {
             "line": {
              "color": "#E5ECF6",
              "width": 0.5
             },
             "pattern": {
              "fillmode": "overlay",
              "size": 10,
              "solidity": 0.2
             }
            },
            "type": "barpolar"
           }
          ],
          "carpet": [
           {
            "aaxis": {
             "endlinecolor": "#2a3f5f",
             "gridcolor": "white",
             "linecolor": "white",
             "minorgridcolor": "white",
             "startlinecolor": "#2a3f5f"
            },
            "baxis": {
             "endlinecolor": "#2a3f5f",
             "gridcolor": "white",
             "linecolor": "white",
             "minorgridcolor": "white",
             "startlinecolor": "#2a3f5f"
            },
            "type": "carpet"
           }
          ],
          "choropleth": [
           {
            "colorbar": {
             "outlinewidth": 0,
             "ticks": ""
            },
            "type": "choropleth"
           }
          ],
          "contour": [
           {
            "colorbar": {
             "outlinewidth": 0,
             "ticks": ""
            },
            "colorscale": [
             [
              0,
              "#0d0887"
             ],
             [
              0.1111111111111111,
              "#46039f"
             ],
             [
              0.2222222222222222,
              "#7201a8"
             ],
             [
              0.3333333333333333,
              "#9c179e"
             ],
             [
              0.4444444444444444,
              "#bd3786"
             ],
             [
              0.5555555555555556,
              "#d8576b"
             ],
             [
              0.6666666666666666,
              "#ed7953"
             ],
             [
              0.7777777777777778,
              "#fb9f3a"
             ],
             [
              0.8888888888888888,
              "#fdca26"
             ],
             [
              1,
              "#f0f921"
             ]
            ],
            "type": "contour"
           }
          ],
          "contourcarpet": [
           {
            "colorbar": {
             "outlinewidth": 0,
             "ticks": ""
            },
            "type": "contourcarpet"
           }
          ],
          "heatmap": [
           {
            "colorbar": {
             "outlinewidth": 0,
             "ticks": ""
            },
            "colorscale": [
             [
              0,
              "#0d0887"
             ],
             [
              0.1111111111111111,
              "#46039f"
             ],
             [
              0.2222222222222222,
              "#7201a8"
             ],
             [
              0.3333333333333333,
              "#9c179e"
             ],
             [
              0.4444444444444444,
              "#bd3786"
             ],
             [
              0.5555555555555556,
              "#d8576b"
             ],
             [
              0.6666666666666666,
              "#ed7953"
             ],
             [
              0.7777777777777778,
              "#fb9f3a"
             ],
             [
              0.8888888888888888,
              "#fdca26"
             ],
             [
              1,
              "#f0f921"
             ]
            ],
            "type": "heatmap"
           }
          ],
          "heatmapgl": [
           {
            "colorbar": {
             "outlinewidth": 0,
             "ticks": ""
            },
            "colorscale": [
             [
              0,
              "#0d0887"
             ],
             [
              0.1111111111111111,
              "#46039f"
             ],
             [
              0.2222222222222222,
              "#7201a8"
             ],
             [
              0.3333333333333333,
              "#9c179e"
             ],
             [
              0.4444444444444444,
              "#bd3786"
             ],
             [
              0.5555555555555556,
              "#d8576b"
             ],
             [
              0.6666666666666666,
              "#ed7953"
             ],
             [
              0.7777777777777778,
              "#fb9f3a"
             ],
             [
              0.8888888888888888,
              "#fdca26"
             ],
             [
              1,
              "#f0f921"
             ]
            ],
            "type": "heatmapgl"
           }
          ],
          "histogram": [
           {
            "marker": {
             "pattern": {
              "fillmode": "overlay",
              "size": 10,
              "solidity": 0.2
             }
            },
            "type": "histogram"
           }
          ],
          "histogram2d": [
           {
            "colorbar": {
             "outlinewidth": 0,
             "ticks": ""
            },
            "colorscale": [
             [
              0,
              "#0d0887"
             ],
             [
              0.1111111111111111,
              "#46039f"
             ],
             [
              0.2222222222222222,
              "#7201a8"
             ],
             [
              0.3333333333333333,
              "#9c179e"
             ],
             [
              0.4444444444444444,
              "#bd3786"
             ],
             [
              0.5555555555555556,
              "#d8576b"
             ],
             [
              0.6666666666666666,
              "#ed7953"
             ],
             [
              0.7777777777777778,
              "#fb9f3a"
             ],
             [
              0.8888888888888888,
              "#fdca26"
             ],
             [
              1,
              "#f0f921"
             ]
            ],
            "type": "histogram2d"
           }
          ],
          "histogram2dcontour": [
           {
            "colorbar": {
             "outlinewidth": 0,
             "ticks": ""
            },
            "colorscale": [
             [
              0,
              "#0d0887"
             ],
             [
              0.1111111111111111,
              "#46039f"
             ],
             [
              0.2222222222222222,
              "#7201a8"
             ],
             [
              0.3333333333333333,
              "#9c179e"
             ],
             [
              0.4444444444444444,
              "#bd3786"
             ],
             [
              0.5555555555555556,
              "#d8576b"
             ],
             [
              0.6666666666666666,
              "#ed7953"
             ],
             [
              0.7777777777777778,
              "#fb9f3a"
             ],
             [
              0.8888888888888888,
              "#fdca26"
             ],
             [
              1,
              "#f0f921"
             ]
            ],
            "type": "histogram2dcontour"
           }
          ],
          "mesh3d": [
           {
            "colorbar": {
             "outlinewidth": 0,
             "ticks": ""
            },
            "type": "mesh3d"
           }
          ],
          "parcoords": [
           {
            "line": {
             "colorbar": {
              "outlinewidth": 0,
              "ticks": ""
             }
            },
            "type": "parcoords"
           }
          ],
          "pie": [
           {
            "automargin": true,
            "type": "pie"
           }
          ],
          "scatter": [
           {
            "fillpattern": {
             "fillmode": "overlay",
             "size": 10,
             "solidity": 0.2
            },
            "type": "scatter"
           }
          ],
          "scatter3d": [
           {
            "line": {
             "colorbar": {
              "outlinewidth": 0,
              "ticks": ""
             }
            },
            "marker": {
             "colorbar": {
              "outlinewidth": 0,
              "ticks": ""
             }
            },
            "type": "scatter3d"
           }
          ],
          "scattercarpet": [
           {
            "marker": {
             "colorbar": {
              "outlinewidth": 0,
              "ticks": ""
             }
            },
            "type": "scattercarpet"
           }
          ],
          "scattergeo": [
           {
            "marker": {
             "colorbar": {
              "outlinewidth": 0,
              "ticks": ""
             }
            },
            "type": "scattergeo"
           }
          ],
          "scattergl": [
           {
            "marker": {
             "colorbar": {
              "outlinewidth": 0,
              "ticks": ""
             }
            },
            "type": "scattergl"
           }
          ],
          "scattermapbox": [
           {
            "marker": {
             "colorbar": {
              "outlinewidth": 0,
              "ticks": ""
             }
            },
            "type": "scattermapbox"
           }
          ],
          "scatterpolar": [
           {
            "marker": {
             "colorbar": {
              "outlinewidth": 0,
              "ticks": ""
             }
            },
            "type": "scatterpolar"
           }
          ],
          "scatterpolargl": [
           {
            "marker": {
             "colorbar": {
              "outlinewidth": 0,
              "ticks": ""
             }
            },
            "type": "scatterpolargl"
           }
          ],
          "scatterternary": [
           {
            "marker": {
             "colorbar": {
              "outlinewidth": 0,
              "ticks": ""
             }
            },
            "type": "scatterternary"
           }
          ],
          "surface": [
           {
            "colorbar": {
             "outlinewidth": 0,
             "ticks": ""
            },
            "colorscale": [
             [
              0,
              "#0d0887"
             ],
             [
              0.1111111111111111,
              "#46039f"
             ],
             [
              0.2222222222222222,
              "#7201a8"
             ],
             [
              0.3333333333333333,
              "#9c179e"
             ],
             [
              0.4444444444444444,
              "#bd3786"
             ],
             [
              0.5555555555555556,
              "#d8576b"
             ],
             [
              0.6666666666666666,
              "#ed7953"
             ],
             [
              0.7777777777777778,
              "#fb9f3a"
             ],
             [
              0.8888888888888888,
              "#fdca26"
             ],
             [
              1,
              "#f0f921"
             ]
            ],
            "type": "surface"
           }
          ],
          "table": [
           {
            "cells": {
             "fill": {
              "color": "#EBF0F8"
             },
             "line": {
              "color": "white"
             }
            },
            "header": {
             "fill": {
              "color": "#C8D4E3"
             },
             "line": {
              "color": "white"
             }
            },
            "type": "table"
           }
          ]
         },
         "layout": {
          "annotationdefaults": {
           "arrowcolor": "#2a3f5f",
           "arrowhead": 0,
           "arrowwidth": 1
          },
          "autotypenumbers": "strict",
          "coloraxis": {
           "colorbar": {
            "outlinewidth": 0,
            "ticks": ""
           }
          },
          "colorscale": {
           "diverging": [
            [
             0,
             "#8e0152"
            ],
            [
             0.1,
             "#c51b7d"
            ],
            [
             0.2,
             "#de77ae"
            ],
            [
             0.3,
             "#f1b6da"
            ],
            [
             0.4,
             "#fde0ef"
            ],
            [
             0.5,
             "#f7f7f7"
            ],
            [
             0.6,
             "#e6f5d0"
            ],
            [
             0.7,
             "#b8e186"
            ],
            [
             0.8,
             "#7fbc41"
            ],
            [
             0.9,
             "#4d9221"
            ],
            [
             1,
             "#276419"
            ]
           ],
           "sequential": [
            [
             0,
             "#0d0887"
            ],
            [
             0.1111111111111111,
             "#46039f"
            ],
            [
             0.2222222222222222,
             "#7201a8"
            ],
            [
             0.3333333333333333,
             "#9c179e"
            ],
            [
             0.4444444444444444,
             "#bd3786"
            ],
            [
             0.5555555555555556,
             "#d8576b"
            ],
            [
             0.6666666666666666,
             "#ed7953"
            ],
            [
             0.7777777777777778,
             "#fb9f3a"
            ],
            [
             0.8888888888888888,
             "#fdca26"
            ],
            [
             1,
             "#f0f921"
            ]
           ],
           "sequentialminus": [
            [
             0,
             "#0d0887"
            ],
            [
             0.1111111111111111,
             "#46039f"
            ],
            [
             0.2222222222222222,
             "#7201a8"
            ],
            [
             0.3333333333333333,
             "#9c179e"
            ],
            [
             0.4444444444444444,
             "#bd3786"
            ],
            [
             0.5555555555555556,
             "#d8576b"
            ],
            [
             0.6666666666666666,
             "#ed7953"
            ],
            [
             0.7777777777777778,
             "#fb9f3a"
            ],
            [
             0.8888888888888888,
             "#fdca26"
            ],
            [
             1,
             "#f0f921"
            ]
           ]
          },
          "colorway": [
           "#636efa",
           "#EF553B",
           "#00cc96",
           "#ab63fa",
           "#FFA15A",
           "#19d3f3",
           "#FF6692",
           "#B6E880",
           "#FF97FF",
           "#FECB52"
          ],
          "font": {
           "color": "#2a3f5f"
          },
          "geo": {
           "bgcolor": "white",
           "lakecolor": "white",
           "landcolor": "#E5ECF6",
           "showlakes": true,
           "showland": true,
           "subunitcolor": "white"
          },
          "hoverlabel": {
           "align": "left"
          },
          "hovermode": "closest",
          "mapbox": {
           "style": "light"
          },
          "paper_bgcolor": "white",
          "plot_bgcolor": "#E5ECF6",
          "polar": {
           "angularaxis": {
            "gridcolor": "white",
            "linecolor": "white",
            "ticks": ""
           },
           "bgcolor": "#E5ECF6",
           "radialaxis": {
            "gridcolor": "white",
            "linecolor": "white",
            "ticks": ""
           }
          },
          "scene": {
           "xaxis": {
            "backgroundcolor": "#E5ECF6",
            "gridcolor": "white",
            "gridwidth": 2,
            "linecolor": "white",
            "showbackground": true,
            "ticks": "",
            "zerolinecolor": "white"
           },
           "yaxis": {
            "backgroundcolor": "#E5ECF6",
            "gridcolor": "white",
            "gridwidth": 2,
            "linecolor": "white",
            "showbackground": true,
            "ticks": "",
            "zerolinecolor": "white"
           },
           "zaxis": {
            "backgroundcolor": "#E5ECF6",
            "gridcolor": "white",
            "gridwidth": 2,
            "linecolor": "white",
            "showbackground": true,
            "ticks": "",
            "zerolinecolor": "white"
           }
          },
          "shapedefaults": {
           "line": {
            "color": "#2a3f5f"
           }
          },
          "ternary": {
           "aaxis": {
            "gridcolor": "white",
            "linecolor": "white",
            "ticks": ""
           },
           "baxis": {
            "gridcolor": "white",
            "linecolor": "white",
            "ticks": ""
           },
           "bgcolor": "#E5ECF6",
           "caxis": {
            "gridcolor": "white",
            "linecolor": "white",
            "ticks": ""
           }
          },
          "title": {
           "x": 0.05
          },
          "xaxis": {
           "automargin": true,
           "gridcolor": "white",
           "linecolor": "white",
           "ticks": "",
           "title": {
            "standoff": 15
           },
           "zerolinecolor": "white",
           "zerolinewidth": 2
          },
          "yaxis": {
           "automargin": true,
           "gridcolor": "white",
           "linecolor": "white",
           "ticks": "",
           "title": {
            "standoff": 15
           },
           "zerolinecolor": "white",
           "zerolinewidth": 2
          }
         }
        },
        "title": {
         "text": "Sentiment Distribution Across Hours"
        },
        "xaxis": {
         "anchor": "y",
         "domain": [
          0,
          1
         ],
         "title": {
          "text": "Hour"
         }
        },
        "yaxis": {
         "anchor": "x",
         "domain": [
          0,
          1
         ],
         "title": {
          "text": "Count"
         }
        }
       }
      }
     },
     "metadata": {},
     "output_type": "display_data"
    }
   ],
   "source": [
    "fig = px.bar(\n",
    "    sentiment_counts,\n",
    "    x=sentiment_counts.index,\n",
    "    y=sentiment_counts.columns,\n",
    "    title=\"Sentiment Distribution Across Hours\",\n",
    "    labels={\"value\": \"Count\", \"Hours\": \"Hours\"},\n",
    "    color_discrete_sequence=px.colors.qualitative.Dark24\n",
    ")\n",
    "\n",
    "\n",
    "fig.show()\n",
    "\n",
    "#Created a bar chart of sentiments by hour, assigned labels and use the color palette Dark24\n"
   ]
  },
  {
   "cell_type": "markdown",
   "id": "cebba3eb",
   "metadata": {},
   "source": [
    "## Additional: Sentiments per platform"
   ]
  },
  {
   "cell_type": "code",
   "execution_count": 429,
   "id": "86d939d1",
   "metadata": {},
   "outputs": [],
   "source": [
    "platform_sentiment_counts = data.groupby(['Platform', 'General_Sentiment']).size().reset_index(name='Count')\n",
    "#The data is grouped by 'Platform' and 'General_Sentiment', counting occurrences of each sentiment per platform."
   ]
  },
  {
   "cell_type": "code",
   "execution_count": 430,
   "id": "d415bcb9",
   "metadata": {},
   "outputs": [],
   "source": [
    "data = data[data['Year'] >= 2016]\n",
    "#filtered out data older than 2016"
   ]
  },
  {
   "cell_type": "code",
   "execution_count": 431,
   "id": "b1304f2d",
   "metadata": {},
   "outputs": [
    {
     "data": {
      "application/vnd.plotly.v1+json": {
       "config": {
        "plotlyServerURL": "https://plot.ly"
       },
       "data": [
        {
         "domain": {
          "x": [
           0,
           0.2888888888888889
          ],
          "y": [
           0,
           1
          ]
         },
         "labels": [
          "Anger",
          "Anticipation",
          "Disgust",
          "Fear",
          "Joy/Happiness",
          "Love/Affection",
          "Neutral/Calm",
          "Sadness",
          "Suprise",
          "Trust"
         ],
         "name": "Facebook",
         "textinfo": "percent+label",
         "textposition": "inside",
         "type": "pie",
         "values": [
          11,
          15,
          4,
          9,
          94,
          7,
          28,
          30,
          4,
          6
         ]
        },
        {
         "domain": {
          "x": [
           0.35555555555555557,
           0.6444444444444445
          ],
          "y": [
           0,
           1
          ]
         },
         "labels": [
          "Anger",
          "Anticipation",
          "Disgust",
          "Fear",
          "Joy/Happiness",
          "Love/Affection",
          "Neutral/Calm",
          "Sadness",
          "Suprise",
          "Trust"
         ],
         "name": "Instagram",
         "textinfo": "percent+label",
         "textposition": "inside",
         "type": "pie",
         "values": [
          14,
          18,
          4,
          7,
          92,
          19,
          29,
          35,
          16,
          4
         ]
        },
        {
         "domain": {
          "x": [
           0.7111111111111111,
           1
          ],
          "y": [
           0,
           1
          ]
         },
         "labels": [
          "Anger",
          "Anticipation",
          "Disgust",
          "Fear",
          "Joy/Happiness",
          "Love/Affection",
          "Neutral/Calm",
          "Sadness",
          "Suprise",
          "Trust"
         ],
         "name": "Twitter",
         "textinfo": "percent+label",
         "textposition": "inside",
         "type": "pie",
         "values": [
          13,
          19,
          7,
          8,
          79,
          21,
          28,
          35,
          6,
          7
         ]
        }
       ],
       "layout": {
        "annotations": [
         {
          "font": {
           "size": 16
          },
          "showarrow": false,
          "text": "Facebook",
          "x": 0.14444444444444446,
          "xanchor": "center",
          "xref": "paper",
          "y": 1,
          "yanchor": "bottom",
          "yref": "paper"
         },
         {
          "font": {
           "size": 16
          },
          "showarrow": false,
          "text": "Instagram",
          "x": 0.5,
          "xanchor": "center",
          "xref": "paper",
          "y": 1,
          "yanchor": "bottom",
          "yref": "paper"
         },
         {
          "font": {
           "size": 16
          },
          "showarrow": false,
          "text": "Twitter",
          "x": 0.8555555555555556,
          "xanchor": "center",
          "xref": "paper",
          "y": 1,
          "yanchor": "bottom",
          "yref": "paper"
         }
        ],
        "height": 400,
        "template": {
         "data": {
          "bar": [
           {
            "error_x": {
             "color": "#2a3f5f"
            },
            "error_y": {
             "color": "#2a3f5f"
            },
            "marker": {
             "line": {
              "color": "#E5ECF6",
              "width": 0.5
             },
             "pattern": {
              "fillmode": "overlay",
              "size": 10,
              "solidity": 0.2
             }
            },
            "type": "bar"
           }
          ],
          "barpolar": [
           {
            "marker": {
             "line": {
              "color": "#E5ECF6",
              "width": 0.5
             },
             "pattern": {
              "fillmode": "overlay",
              "size": 10,
              "solidity": 0.2
             }
            },
            "type": "barpolar"
           }
          ],
          "carpet": [
           {
            "aaxis": {
             "endlinecolor": "#2a3f5f",
             "gridcolor": "white",
             "linecolor": "white",
             "minorgridcolor": "white",
             "startlinecolor": "#2a3f5f"
            },
            "baxis": {
             "endlinecolor": "#2a3f5f",
             "gridcolor": "white",
             "linecolor": "white",
             "minorgridcolor": "white",
             "startlinecolor": "#2a3f5f"
            },
            "type": "carpet"
           }
          ],
          "choropleth": [
           {
            "colorbar": {
             "outlinewidth": 0,
             "ticks": ""
            },
            "type": "choropleth"
           }
          ],
          "contour": [
           {
            "colorbar": {
             "outlinewidth": 0,
             "ticks": ""
            },
            "colorscale": [
             [
              0,
              "#0d0887"
             ],
             [
              0.1111111111111111,
              "#46039f"
             ],
             [
              0.2222222222222222,
              "#7201a8"
             ],
             [
              0.3333333333333333,
              "#9c179e"
             ],
             [
              0.4444444444444444,
              "#bd3786"
             ],
             [
              0.5555555555555556,
              "#d8576b"
             ],
             [
              0.6666666666666666,
              "#ed7953"
             ],
             [
              0.7777777777777778,
              "#fb9f3a"
             ],
             [
              0.8888888888888888,
              "#fdca26"
             ],
             [
              1,
              "#f0f921"
             ]
            ],
            "type": "contour"
           }
          ],
          "contourcarpet": [
           {
            "colorbar": {
             "outlinewidth": 0,
             "ticks": ""
            },
            "type": "contourcarpet"
           }
          ],
          "heatmap": [
           {
            "colorbar": {
             "outlinewidth": 0,
             "ticks": ""
            },
            "colorscale": [
             [
              0,
              "#0d0887"
             ],
             [
              0.1111111111111111,
              "#46039f"
             ],
             [
              0.2222222222222222,
              "#7201a8"
             ],
             [
              0.3333333333333333,
              "#9c179e"
             ],
             [
              0.4444444444444444,
              "#bd3786"
             ],
             [
              0.5555555555555556,
              "#d8576b"
             ],
             [
              0.6666666666666666,
              "#ed7953"
             ],
             [
              0.7777777777777778,
              "#fb9f3a"
             ],
             [
              0.8888888888888888,
              "#fdca26"
             ],
             [
              1,
              "#f0f921"
             ]
            ],
            "type": "heatmap"
           }
          ],
          "heatmapgl": [
           {
            "colorbar": {
             "outlinewidth": 0,
             "ticks": ""
            },
            "colorscale": [
             [
              0,
              "#0d0887"
             ],
             [
              0.1111111111111111,
              "#46039f"
             ],
             [
              0.2222222222222222,
              "#7201a8"
             ],
             [
              0.3333333333333333,
              "#9c179e"
             ],
             [
              0.4444444444444444,
              "#bd3786"
             ],
             [
              0.5555555555555556,
              "#d8576b"
             ],
             [
              0.6666666666666666,
              "#ed7953"
             ],
             [
              0.7777777777777778,
              "#fb9f3a"
             ],
             [
              0.8888888888888888,
              "#fdca26"
             ],
             [
              1,
              "#f0f921"
             ]
            ],
            "type": "heatmapgl"
           }
          ],
          "histogram": [
           {
            "marker": {
             "pattern": {
              "fillmode": "overlay",
              "size": 10,
              "solidity": 0.2
             }
            },
            "type": "histogram"
           }
          ],
          "histogram2d": [
           {
            "colorbar": {
             "outlinewidth": 0,
             "ticks": ""
            },
            "colorscale": [
             [
              0,
              "#0d0887"
             ],
             [
              0.1111111111111111,
              "#46039f"
             ],
             [
              0.2222222222222222,
              "#7201a8"
             ],
             [
              0.3333333333333333,
              "#9c179e"
             ],
             [
              0.4444444444444444,
              "#bd3786"
             ],
             [
              0.5555555555555556,
              "#d8576b"
             ],
             [
              0.6666666666666666,
              "#ed7953"
             ],
             [
              0.7777777777777778,
              "#fb9f3a"
             ],
             [
              0.8888888888888888,
              "#fdca26"
             ],
             [
              1,
              "#f0f921"
             ]
            ],
            "type": "histogram2d"
           }
          ],
          "histogram2dcontour": [
           {
            "colorbar": {
             "outlinewidth": 0,
             "ticks": ""
            },
            "colorscale": [
             [
              0,
              "#0d0887"
             ],
             [
              0.1111111111111111,
              "#46039f"
             ],
             [
              0.2222222222222222,
              "#7201a8"
             ],
             [
              0.3333333333333333,
              "#9c179e"
             ],
             [
              0.4444444444444444,
              "#bd3786"
             ],
             [
              0.5555555555555556,
              "#d8576b"
             ],
             [
              0.6666666666666666,
              "#ed7953"
             ],
             [
              0.7777777777777778,
              "#fb9f3a"
             ],
             [
              0.8888888888888888,
              "#fdca26"
             ],
             [
              1,
              "#f0f921"
             ]
            ],
            "type": "histogram2dcontour"
           }
          ],
          "mesh3d": [
           {
            "colorbar": {
             "outlinewidth": 0,
             "ticks": ""
            },
            "type": "mesh3d"
           }
          ],
          "parcoords": [
           {
            "line": {
             "colorbar": {
              "outlinewidth": 0,
              "ticks": ""
             }
            },
            "type": "parcoords"
           }
          ],
          "pie": [
           {
            "automargin": true,
            "type": "pie"
           }
          ],
          "scatter": [
           {
            "fillpattern": {
             "fillmode": "overlay",
             "size": 10,
             "solidity": 0.2
            },
            "type": "scatter"
           }
          ],
          "scatter3d": [
           {
            "line": {
             "colorbar": {
              "outlinewidth": 0,
              "ticks": ""
             }
            },
            "marker": {
             "colorbar": {
              "outlinewidth": 0,
              "ticks": ""
             }
            },
            "type": "scatter3d"
           }
          ],
          "scattercarpet": [
           {
            "marker": {
             "colorbar": {
              "outlinewidth": 0,
              "ticks": ""
             }
            },
            "type": "scattercarpet"
           }
          ],
          "scattergeo": [
           {
            "marker": {
             "colorbar": {
              "outlinewidth": 0,
              "ticks": ""
             }
            },
            "type": "scattergeo"
           }
          ],
          "scattergl": [
           {
            "marker": {
             "colorbar": {
              "outlinewidth": 0,
              "ticks": ""
             }
            },
            "type": "scattergl"
           }
          ],
          "scattermapbox": [
           {
            "marker": {
             "colorbar": {
              "outlinewidth": 0,
              "ticks": ""
             }
            },
            "type": "scattermapbox"
           }
          ],
          "scatterpolar": [
           {
            "marker": {
             "colorbar": {
              "outlinewidth": 0,
              "ticks": ""
             }
            },
            "type": "scatterpolar"
           }
          ],
          "scatterpolargl": [
           {
            "marker": {
             "colorbar": {
              "outlinewidth": 0,
              "ticks": ""
             }
            },
            "type": "scatterpolargl"
           }
          ],
          "scatterternary": [
           {
            "marker": {
             "colorbar": {
              "outlinewidth": 0,
              "ticks": ""
             }
            },
            "type": "scatterternary"
           }
          ],
          "surface": [
           {
            "colorbar": {
             "outlinewidth": 0,
             "ticks": ""
            },
            "colorscale": [
             [
              0,
              "#0d0887"
             ],
             [
              0.1111111111111111,
              "#46039f"
             ],
             [
              0.2222222222222222,
              "#7201a8"
             ],
             [
              0.3333333333333333,
              "#9c179e"
             ],
             [
              0.4444444444444444,
              "#bd3786"
             ],
             [
              0.5555555555555556,
              "#d8576b"
             ],
             [
              0.6666666666666666,
              "#ed7953"
             ],
             [
              0.7777777777777778,
              "#fb9f3a"
             ],
             [
              0.8888888888888888,
              "#fdca26"
             ],
             [
              1,
              "#f0f921"
             ]
            ],
            "type": "surface"
           }
          ],
          "table": [
           {
            "cells": {
             "fill": {
              "color": "#EBF0F8"
             },
             "line": {
              "color": "white"
             }
            },
            "header": {
             "fill": {
              "color": "#C8D4E3"
             },
             "line": {
              "color": "white"
             }
            },
            "type": "table"
           }
          ]
         },
         "layout": {
          "annotationdefaults": {
           "arrowcolor": "#2a3f5f",
           "arrowhead": 0,
           "arrowwidth": 1
          },
          "autotypenumbers": "strict",
          "coloraxis": {
           "colorbar": {
            "outlinewidth": 0,
            "ticks": ""
           }
          },
          "colorscale": {
           "diverging": [
            [
             0,
             "#8e0152"
            ],
            [
             0.1,
             "#c51b7d"
            ],
            [
             0.2,
             "#de77ae"
            ],
            [
             0.3,
             "#f1b6da"
            ],
            [
             0.4,
             "#fde0ef"
            ],
            [
             0.5,
             "#f7f7f7"
            ],
            [
             0.6,
             "#e6f5d0"
            ],
            [
             0.7,
             "#b8e186"
            ],
            [
             0.8,
             "#7fbc41"
            ],
            [
             0.9,
             "#4d9221"
            ],
            [
             1,
             "#276419"
            ]
           ],
           "sequential": [
            [
             0,
             "#0d0887"
            ],
            [
             0.1111111111111111,
             "#46039f"
            ],
            [
             0.2222222222222222,
             "#7201a8"
            ],
            [
             0.3333333333333333,
             "#9c179e"
            ],
            [
             0.4444444444444444,
             "#bd3786"
            ],
            [
             0.5555555555555556,
             "#d8576b"
            ],
            [
             0.6666666666666666,
             "#ed7953"
            ],
            [
             0.7777777777777778,
             "#fb9f3a"
            ],
            [
             0.8888888888888888,
             "#fdca26"
            ],
            [
             1,
             "#f0f921"
            ]
           ],
           "sequentialminus": [
            [
             0,
             "#0d0887"
            ],
            [
             0.1111111111111111,
             "#46039f"
            ],
            [
             0.2222222222222222,
             "#7201a8"
            ],
            [
             0.3333333333333333,
             "#9c179e"
            ],
            [
             0.4444444444444444,
             "#bd3786"
            ],
            [
             0.5555555555555556,
             "#d8576b"
            ],
            [
             0.6666666666666666,
             "#ed7953"
            ],
            [
             0.7777777777777778,
             "#fb9f3a"
            ],
            [
             0.8888888888888888,
             "#fdca26"
            ],
            [
             1,
             "#f0f921"
            ]
           ]
          },
          "colorway": [
           "#636efa",
           "#EF553B",
           "#00cc96",
           "#ab63fa",
           "#FFA15A",
           "#19d3f3",
           "#FF6692",
           "#B6E880",
           "#FF97FF",
           "#FECB52"
          ],
          "font": {
           "color": "#2a3f5f"
          },
          "geo": {
           "bgcolor": "white",
           "lakecolor": "white",
           "landcolor": "#E5ECF6",
           "showlakes": true,
           "showland": true,
           "subunitcolor": "white"
          },
          "hoverlabel": {
           "align": "left"
          },
          "hovermode": "closest",
          "mapbox": {
           "style": "light"
          },
          "paper_bgcolor": "white",
          "plot_bgcolor": "#E5ECF6",
          "polar": {
           "angularaxis": {
            "gridcolor": "white",
            "linecolor": "white",
            "ticks": ""
           },
           "bgcolor": "#E5ECF6",
           "radialaxis": {
            "gridcolor": "white",
            "linecolor": "white",
            "ticks": ""
           }
          },
          "scene": {
           "xaxis": {
            "backgroundcolor": "#E5ECF6",
            "gridcolor": "white",
            "gridwidth": 2,
            "linecolor": "white",
            "showbackground": true,
            "ticks": "",
            "zerolinecolor": "white"
           },
           "yaxis": {
            "backgroundcolor": "#E5ECF6",
            "gridcolor": "white",
            "gridwidth": 2,
            "linecolor": "white",
            "showbackground": true,
            "ticks": "",
            "zerolinecolor": "white"
           },
           "zaxis": {
            "backgroundcolor": "#E5ECF6",
            "gridcolor": "white",
            "gridwidth": 2,
            "linecolor": "white",
            "showbackground": true,
            "ticks": "",
            "zerolinecolor": "white"
           }
          },
          "shapedefaults": {
           "line": {
            "color": "#2a3f5f"
           }
          },
          "ternary": {
           "aaxis": {
            "gridcolor": "white",
            "linecolor": "white",
            "ticks": ""
           },
           "baxis": {
            "gridcolor": "white",
            "linecolor": "white",
            "ticks": ""
           },
           "bgcolor": "#E5ECF6",
           "caxis": {
            "gridcolor": "white",
            "linecolor": "white",
            "ticks": ""
           }
          },
          "title": {
           "x": 0.05
          },
          "xaxis": {
           "automargin": true,
           "gridcolor": "white",
           "linecolor": "white",
           "ticks": "",
           "title": {
            "standoff": 15
           },
           "zerolinecolor": "white",
           "zerolinewidth": 2
          },
          "yaxis": {
           "automargin": true,
           "gridcolor": "white",
           "linecolor": "white",
           "ticks": "",
           "title": {
            "standoff": 15
           },
           "zerolinecolor": "white",
           "zerolinewidth": 2
          }
         }
        },
        "title": {
         "text": "Sentiment Distribution Across Platforms"
        }
       }
      }
     },
     "metadata": {},
     "output_type": "display_data"
    }
   ],
   "source": [
    "from plotly.subplots import make_subplots\n",
    "import plotly.graph_objects as go\n",
    "\n",
    "platforms = platform_sentiment_counts['Platform'].unique()\n",
    "\n",
    "cols = len(platforms)\n",
    "rows = 1\n",
    "\n",
    "fig = make_subplots(rows=rows, cols=cols, specs=[[{'type':'domain'}]*cols],\n",
    "                    subplot_titles=platforms)\n",
    "\n",
    "for i, platform in enumerate(platforms):\n",
    "    platform_data = platform_sentiment_counts[platform_sentiment_counts['Platform'] == platform]\n",
    "    row = 1\n",
    "    col = i % cols + 1 \n",
    "    \n",
    "    fig.add_trace(\n",
    "        go.Pie(\n",
    "            labels=platform_data['General_Sentiment'],\n",
    "            values=platform_data['Count'],\n",
    "            name=platform\n",
    "        ),\n",
    "        row=row, col=col\n",
    "    )\n",
    "\n",
    "fig.update_layout(\n",
    "    title_text='Sentiment Distribution Across Platforms',\n",
    "    height=400,\n",
    ")\n",
    "\n",
    "fig.update_traces(textposition='inside', textinfo='percent+label')\n",
    "\n",
    "fig.show()\n",
    "\n",
    "#This chart visualizes sentiment distribution across multiple platforms.\n",
    "#The unique platforms are used to define the number of columns for the subplot grid, with one row.\n",
    "#For each platform, a pie chart is generated, showing the proportions of sentiments using the sentiment counts as values.\n",
    "#Each pie chart is added to the corresponding subplot.\n",
    "#The layout is updated with a title and chart size, and the pie charts display the percentage and label inside each segment."
   ]
  },
  {
   "cell_type": "markdown",
   "id": "47b34b62",
   "metadata": {},
   "source": [
    "## Additional: Sentiments per county\n"
   ]
  },
  {
   "cell_type": "code",
   "execution_count": 432,
   "id": "50b4e525",
   "metadata": {},
   "outputs": [],
   "source": [
    "country_sentiment_counts = data.groupby(['Country', 'General_Sentiment']).size().reset_index(name='Count')\n",
    "#The data is grouped by 'Country' and 'General_Sentiment', counting occurrences of each sentiment per country."
   ]
  },
  {
   "cell_type": "code",
   "execution_count": 433,
   "id": "113f084f",
   "metadata": {},
   "outputs": [],
   "source": [
    "data = data[data['Year'] >= 2016]\n",
    "#filtered out data older than 2016"
   ]
  },
  {
   "cell_type": "code",
   "execution_count": 434,
   "id": "10cbd6c5",
   "metadata": {},
   "outputs": [
    {
     "data": {
      "application/vnd.plotly.v1+json": {
       "config": {
        "plotlyServerURL": "https://plot.ly"
       },
       "data": [
        {
         "branchvalues": "total",
         "customdata": [
          [
           "Anger"
          ],
          [
           "Joy/Happiness"
          ],
          [
           "Joy/Happiness"
          ],
          [
           "Suprise"
          ],
          [
           "Anticipation"
          ],
          [
           "Sadness"
          ],
          [
           "Joy/Happiness"
          ],
          [
           "Joy/Happiness"
          ],
          [
           "Joy/Happiness"
          ],
          [
           "Fear"
          ],
          [
           "Fear"
          ],
          [
           "Love/Affection"
          ],
          [
           "Neutral/Calm"
          ],
          [
           "Neutral/Calm"
          ],
          [
           "Anticipation"
          ],
          [
           "Neutral/Calm"
          ],
          [
           "Anticipation"
          ],
          [
           "Suprise"
          ],
          [
           "Sadness"
          ],
          [
           "Anger"
          ],
          [
           "Anticipation"
          ],
          [
           "Sadness"
          ],
          [
           "Sadness"
          ],
          [
           "Joy/Happiness"
          ],
          [
           "Disgust"
          ],
          [
           "Anger"
          ],
          [
           "Joy/Happiness"
          ],
          [
           "Suprise"
          ],
          [
           "Anger"
          ],
          [
           "Trust"
          ],
          [
           "Joy/Happiness"
          ],
          [
           "Fear"
          ],
          [
           "Joy/Happiness"
          ],
          [
           "Sadness"
          ],
          [
           "Disgust"
          ],
          [
           "Anticipation"
          ],
          [
           "Love/Affection"
          ],
          [
           "Sadness"
          ],
          [
           "Love/Affection"
          ],
          [
           "Neutral/Calm"
          ],
          [
           "Neutral/Calm"
          ],
          [
           "Trust"
          ],
          [
           "Love/Affection"
          ],
          [
           "Sadness"
          ],
          [
           "Joy/Happiness"
          ],
          [
           "Fear"
          ],
          [
           "Disgust"
          ],
          [
           "Fear"
          ],
          [
           "Anger"
          ],
          [
           "Anticipation"
          ],
          [
           "Anticipation"
          ],
          [
           "Fear"
          ],
          [
           "Anticipation"
          ],
          [
           "Joy/Happiness"
          ],
          [
           "Trust"
          ],
          [
           "Love/Affection"
          ],
          [
           "Disgust"
          ],
          [
           "Love/Affection"
          ],
          [
           "Anticipation"
          ],
          [
           "Neutral/Calm"
          ],
          [
           "Suprise"
          ],
          [
           "Neutral/Calm"
          ],
          [
           "Anger"
          ],
          [
           "Love/Affection"
          ],
          [
           "Love/Affection"
          ],
          [
           "Joy/Happiness"
          ],
          [
           "Anticipation"
          ],
          [
           "Sadness"
          ],
          [
           "Sadness"
          ],
          [
           "Suprise"
          ],
          [
           "Sadness"
          ],
          [
           "Disgust"
          ],
          [
           "Anticipation"
          ],
          [
           "Neutral/Calm"
          ],
          [
           "Neutral/Calm"
          ],
          [
           "Joy/Happiness"
          ],
          [
           "Joy/Happiness"
          ],
          [
           "Love/Affection"
          ],
          [
           "Trust"
          ],
          [
           "Disgust"
          ],
          [
           "Joy/Happiness"
          ],
          [
           "Suprise"
          ],
          [
           "Trust"
          ],
          [
           "Joy/Happiness"
          ],
          [
           "Anticipation"
          ],
          [
           "Love/Affection"
          ],
          [
           "Sadness"
          ],
          [
           "Anticipation"
          ],
          [
           "Sadness"
          ],
          [
           "Neutral/Calm"
          ],
          [
           "Love/Affection"
          ],
          [
           "Neutral/Calm"
          ],
          [
           "Fear"
          ],
          [
           "Trust"
          ],
          [
           "Sadness"
          ],
          [
           "Joy/Happiness"
          ],
          [
           "Anticipation"
          ],
          [
           "Suprise"
          ],
          [
           "Neutral/Calm"
          ],
          [
           "Anticipation"
          ],
          [
           "Neutral/Calm"
          ],
          [
           "Anticipation"
          ],
          [
           "Neutral/Calm"
          ],
          [
           "Fear"
          ],
          [
           "Joy/Happiness"
          ],
          [
           "Suprise"
          ],
          [
           "Trust"
          ],
          [
           "(?)"
          ],
          [
           "Joy/Happiness"
          ],
          [
           "(?)"
          ],
          [
           "(?)"
          ],
          [
           "Anticipation"
          ],
          [
           "(?)"
          ],
          [
           "Anticipation"
          ],
          [
           "Joy/Happiness"
          ],
          [
           "Anticipation"
          ],
          [
           "Joy/Happiness"
          ],
          [
           "(?)"
          ],
          [
           "(?)"
          ],
          [
           "(?)"
          ],
          [
           "(?)"
          ],
          [
           "Love/Affection"
          ],
          [
           "(?)"
          ],
          [
           "Joy/Happiness"
          ],
          [
           "(?)"
          ],
          [
           "Suprise"
          ],
          [
           "Love/Affection"
          ],
          [
           "Neutral/Calm"
          ],
          [
           "(?)"
          ],
          [
           "Joy/Happiness"
          ],
          [
           "Anticipation"
          ],
          [
           "Trust"
          ],
          [
           "Anticipation"
          ],
          [
           "(?)"
          ],
          [
           "(?)"
          ],
          [
           "Neutral/Calm"
          ],
          [
           "(?)"
          ],
          [
           "Neutral/Calm"
          ],
          [
           "(?)"
          ],
          [
           "(?)"
          ]
         ],
         "domain": {
          "x": [
           0,
           1
          ],
          "y": [
           0,
           1
          ]
         },
         "hovertemplate": "labels=%{label}<br>Count=%{value}<br>parent=%{parent}<br>id=%{id}<br>General_Sentiment=%{customdata[0]}<extra></extra>",
         "ids": [
          "Australia/Anger",
          "Canada/Joy/Happiness",
          "Netherlands/Joy/Happiness",
          "South Africa/Suprise",
          "UK/Anticipation",
          "Netherlands/Sadness",
          "Colombia/Joy/Happiness",
          "Jamaica/Joy/Happiness",
          "Norway/Joy/Happiness",
          "Germany/Fear",
          "Canada/Fear",
          "South Africa/Love/Affection",
          "Sweden/Neutral/Calm",
          "Thailand/Neutral/Calm",
          "Switzerland/Anticipation",
          "UK/Neutral/Calm",
          "USA/Anticipation",
          "UK/Suprise",
          "South Africa/Sadness",
          "Canada/Anger",
          "Czech Republic/Anticipation",
          "India/Sadness",
          "Spain/Sadness",
          "Denmark/Joy/Happiness",
          "Australia/Disgust",
          "Germany/Anger",
          "Spain/Joy/Happiness",
          "USA/Suprise",
          "India/Anger",
          "Australia/Trust",
          "UK/Joy/Happiness",
          "UK/Fear",
          "France/Joy/Happiness",
          "UK/Sadness",
          "Canada/Disgust",
          "Greece/Anticipation",
          "Ireland/Love/Affection",
          "USA/Sadness",
          "UK/Love/Affection",
          "India/Neutral/Calm",
          "Maldives/Neutral/Calm",
          "Canada/Trust",
          "Kenya/Love/Affection",
          "Canada/Sadness",
          "USA/Joy/Happiness",
          "India/Fear",
          "Germany/Disgust",
          "France/Fear",
          "UK/Anger",
          "China/Anticipation",
          "Germany/Anticipation",
          "USA/Fear",
          "India/Anticipation",
          "Germany/Joy/Happiness",
          "France/Trust",
          "Italy/Love/Affection",
          "India/Disgust",
          "Australia/Love/Affection",
          "Japan/Anticipation",
          "USA/Neutral/Calm",
          "Australia/Suprise",
          "Germany/Neutral/Calm",
          "USA/Anger",
          "India/Love/Affection",
          "USA/Love/Affection",
          "India/Joy/Happiness",
          "Peru/Anticipation",
          "Italy/Sadness",
          "Japan/Sadness",
          "Brazil/Suprise",
          "Germany/Sadness",
          "UK/Disgust",
          "Australia/Anticipation",
          "Greece/Neutral/Calm",
          "Australia/Neutral/Calm",
          "Japan/Joy/Happiness",
          "Australia/Joy/Happiness",
          "Brazil/Love/Affection",
          "Japan/Trust",
          "USA/Disgust",
          "Italy/Joy/Happiness",
          "Canada/Suprise",
          "Portugal/Trust",
          "Austria/Joy/Happiness",
          "Belgium/Anticipation",
          "Canada/Love/Affection",
          "France/Sadness",
          "Scotland/Anticipation",
          "Australia/Sadness",
          "Brazil/Neutral/Calm",
          "Japan/Love/Affection",
          "Japan/Neutral/Calm",
          "Australia/Fear",
          "UK/Trust",
          "Brazil/Sadness",
          "Belgium/Joy/Happiness",
          "South Africa/Anticipation",
          "France/Suprise",
          "France/Neutral/Calm",
          "Cambodia/Anticipation",
          "Switzerland/Neutral/Calm",
          "Canada/Anticipation",
          "Canada/Neutral/Calm",
          "Brazil/Fear",
          "Brazil/Joy/Happiness",
          "Jordan/Suprise",
          "USA/Trust",
          "Australia",
          "Austria",
          "Belgium",
          "Brazil",
          "Cambodia",
          "Canada",
          "China",
          "Colombia",
          "Czech Republic",
          "Denmark",
          "France",
          "Germany",
          "Greece",
          "India",
          "Ireland",
          "Italy",
          "Jamaica",
          "Japan",
          "Jordan",
          "Kenya",
          "Maldives",
          "Netherlands",
          "Norway",
          "Peru",
          "Portugal",
          "Scotland",
          "South Africa",
          "Spain",
          "Sweden",
          "Switzerland",
          "Thailand",
          "UK",
          "USA"
         ],
         "labels": [
          "Anger",
          "Joy/Happiness",
          "Joy/Happiness",
          "Suprise",
          "Anticipation",
          "Sadness",
          "Joy/Happiness",
          "Joy/Happiness",
          "Joy/Happiness",
          "Fear",
          "Fear",
          "Love/Affection",
          "Neutral/Calm",
          "Neutral/Calm",
          "Anticipation",
          "Neutral/Calm",
          "Anticipation",
          "Suprise",
          "Sadness",
          "Anger",
          "Anticipation",
          "Sadness",
          "Sadness",
          "Joy/Happiness",
          "Disgust",
          "Anger",
          "Joy/Happiness",
          "Suprise",
          "Anger",
          "Trust",
          "Joy/Happiness",
          "Fear",
          "Joy/Happiness",
          "Sadness",
          "Disgust",
          "Anticipation",
          "Love/Affection",
          "Sadness",
          "Love/Affection",
          "Neutral/Calm",
          "Neutral/Calm",
          "Trust",
          "Love/Affection",
          "Sadness",
          "Joy/Happiness",
          "Fear",
          "Disgust",
          "Fear",
          "Anger",
          "Anticipation",
          "Anticipation",
          "Fear",
          "Anticipation",
          "Joy/Happiness",
          "Trust",
          "Love/Affection",
          "Disgust",
          "Love/Affection",
          "Anticipation",
          "Neutral/Calm",
          "Suprise",
          "Neutral/Calm",
          "Anger",
          "Love/Affection",
          "Love/Affection",
          "Joy/Happiness",
          "Anticipation",
          "Sadness",
          "Sadness",
          "Suprise",
          "Sadness",
          "Disgust",
          "Anticipation",
          "Neutral/Calm",
          "Neutral/Calm",
          "Joy/Happiness",
          "Joy/Happiness",
          "Love/Affection",
          "Trust",
          "Disgust",
          "Joy/Happiness",
          "Suprise",
          "Trust",
          "Joy/Happiness",
          "Anticipation",
          "Love/Affection",
          "Sadness",
          "Anticipation",
          "Sadness",
          "Neutral/Calm",
          "Love/Affection",
          "Neutral/Calm",
          "Fear",
          "Trust",
          "Sadness",
          "Joy/Happiness",
          "Anticipation",
          "Suprise",
          "Neutral/Calm",
          "Anticipation",
          "Neutral/Calm",
          "Anticipation",
          "Neutral/Calm",
          "Fear",
          "Joy/Happiness",
          "Suprise",
          "Trust",
          "Australia",
          "Austria",
          "Belgium",
          "Brazil",
          "Cambodia",
          "Canada",
          "China",
          "Colombia",
          "Czech Republic",
          "Denmark",
          "France",
          "Germany",
          "Greece",
          "India",
          "Ireland",
          "Italy",
          "Jamaica",
          "Japan",
          "Jordan",
          "Kenya",
          "Maldives",
          "Netherlands",
          "Norway",
          "Peru",
          "Portugal",
          "Scotland",
          "South Africa",
          "Spain",
          "Sweden",
          "Switzerland",
          "Thailand",
          "UK",
          "USA"
         ],
         "marker": {
          "colors": [
           "rgb(141,211,199)",
           "rgb(255,255,179)",
           "rgb(255,255,179)",
           "rgb(190,186,218)",
           "rgb(251,128,114)",
           "rgb(128,177,211)",
           "rgb(255,255,179)",
           "rgb(255,255,179)",
           "rgb(255,255,179)",
           "rgb(253,180,98)",
           "rgb(253,180,98)",
           "rgb(179,222,105)",
           "rgb(252,205,229)",
           "rgb(252,205,229)",
           "rgb(251,128,114)",
           "rgb(252,205,229)",
           "rgb(251,128,114)",
           "rgb(190,186,218)",
           "rgb(128,177,211)",
           "rgb(141,211,199)",
           "rgb(251,128,114)",
           "rgb(128,177,211)",
           "rgb(128,177,211)",
           "rgb(255,255,179)",
           "rgb(217,217,217)",
           "rgb(141,211,199)",
           "rgb(255,255,179)",
           "rgb(190,186,218)",
           "rgb(141,211,199)",
           "rgb(188,128,189)",
           "rgb(255,255,179)",
           "rgb(253,180,98)",
           "rgb(255,255,179)",
           "rgb(128,177,211)",
           "rgb(217,217,217)",
           "rgb(251,128,114)",
           "rgb(179,222,105)",
           "rgb(128,177,211)",
           "rgb(179,222,105)",
           "rgb(252,205,229)",
           "rgb(252,205,229)",
           "rgb(188,128,189)",
           "rgb(179,222,105)",
           "rgb(128,177,211)",
           "rgb(255,255,179)",
           "rgb(253,180,98)",
           "rgb(217,217,217)",
           "rgb(253,180,98)",
           "rgb(141,211,199)",
           "rgb(251,128,114)",
           "rgb(251,128,114)",
           "rgb(253,180,98)",
           "rgb(251,128,114)",
           "rgb(255,255,179)",
           "rgb(188,128,189)",
           "rgb(179,222,105)",
           "rgb(217,217,217)",
           "rgb(179,222,105)",
           "rgb(251,128,114)",
           "rgb(252,205,229)",
           "rgb(190,186,218)",
           "rgb(252,205,229)",
           "rgb(141,211,199)",
           "rgb(179,222,105)",
           "rgb(179,222,105)",
           "rgb(255,255,179)",
           "rgb(251,128,114)",
           "rgb(128,177,211)",
           "rgb(128,177,211)",
           "rgb(190,186,218)",
           "rgb(128,177,211)",
           "rgb(217,217,217)",
           "rgb(251,128,114)",
           "rgb(252,205,229)",
           "rgb(252,205,229)",
           "rgb(255,255,179)",
           "rgb(255,255,179)",
           "rgb(179,222,105)",
           "rgb(188,128,189)",
           "rgb(217,217,217)",
           "rgb(255,255,179)",
           "rgb(190,186,218)",
           "rgb(188,128,189)",
           "rgb(255,255,179)",
           "rgb(251,128,114)",
           "rgb(179,222,105)",
           "rgb(128,177,211)",
           "rgb(251,128,114)",
           "rgb(128,177,211)",
           "rgb(252,205,229)",
           "rgb(179,222,105)",
           "rgb(252,205,229)",
           "rgb(253,180,98)",
           "rgb(188,128,189)",
           "rgb(128,177,211)",
           "rgb(255,255,179)",
           "rgb(251,128,114)",
           "rgb(190,186,218)",
           "rgb(252,205,229)",
           "rgb(251,128,114)",
           "rgb(252,205,229)",
           "rgb(251,128,114)",
           "rgb(252,205,229)",
           "rgb(253,180,98)",
           "rgb(255,255,179)",
           "rgb(190,186,218)",
           "rgb(188,128,189)",
           "rgb(204,235,197)",
           "rgb(255,255,179)",
           "rgb(204,235,197)",
           "rgb(204,235,197)",
           "rgb(251,128,114)",
           "rgb(204,235,197)",
           "rgb(251,128,114)",
           "rgb(255,255,179)",
           "rgb(251,128,114)",
           "rgb(255,255,179)",
           "rgb(204,235,197)",
           "rgb(204,235,197)",
           "rgb(204,235,197)",
           "rgb(204,235,197)",
           "rgb(179,222,105)",
           "rgb(204,235,197)",
           "rgb(255,255,179)",
           "rgb(204,235,197)",
           "rgb(190,186,218)",
           "rgb(179,222,105)",
           "rgb(252,205,229)",
           "rgb(204,235,197)",
           "rgb(255,255,179)",
           "rgb(251,128,114)",
           "rgb(188,128,189)",
           "rgb(251,128,114)",
           "rgb(204,235,197)",
           "rgb(204,235,197)",
           "rgb(252,205,229)",
           "rgb(204,235,197)",
           "rgb(252,205,229)",
           "rgb(204,235,197)",
           "rgb(204,235,197)"
          ]
         },
         "name": "",
         "parents": [
          "Australia",
          "Canada",
          "Netherlands",
          "South Africa",
          "UK",
          "Netherlands",
          "Colombia",
          "Jamaica",
          "Norway",
          "Germany",
          "Canada",
          "South Africa",
          "Sweden",
          "Thailand",
          "Switzerland",
          "UK",
          "USA",
          "UK",
          "South Africa",
          "Canada",
          "Czech Republic",
          "India",
          "Spain",
          "Denmark",
          "Australia",
          "Germany",
          "Spain",
          "USA",
          "India",
          "Australia",
          "UK",
          "UK",
          "France",
          "UK",
          "Canada",
          "Greece",
          "Ireland",
          "USA",
          "UK",
          "India",
          "Maldives",
          "Canada",
          "Kenya",
          "Canada",
          "USA",
          "India",
          "Germany",
          "France",
          "UK",
          "China",
          "Germany",
          "USA",
          "India",
          "Germany",
          "France",
          "Italy",
          "India",
          "Australia",
          "Japan",
          "USA",
          "Australia",
          "Germany",
          "USA",
          "India",
          "USA",
          "India",
          "Peru",
          "Italy",
          "Japan",
          "Brazil",
          "Germany",
          "UK",
          "Australia",
          "Greece",
          "Australia",
          "Japan",
          "Australia",
          "Brazil",
          "Japan",
          "USA",
          "Italy",
          "Canada",
          "Portugal",
          "Austria",
          "Belgium",
          "Canada",
          "France",
          "Scotland",
          "Australia",
          "Brazil",
          "Japan",
          "Japan",
          "Australia",
          "UK",
          "Brazil",
          "Belgium",
          "South Africa",
          "France",
          "France",
          "Cambodia",
          "Switzerland",
          "Canada",
          "Canada",
          "Brazil",
          "Brazil",
          "Jordan",
          "USA",
          "",
          "",
          "",
          "",
          "",
          "",
          "",
          "",
          "",
          "",
          "",
          "",
          "",
          "",
          "",
          "",
          "",
          "",
          "",
          "",
          "",
          "",
          "",
          "",
          "",
          "",
          "",
          "",
          "",
          "",
          "",
          "",
          ""
         ],
         "type": "treemap",
         "values": [
          2,
          58,
          3,
          2,
          8,
          1,
          1,
          1,
          1,
          1,
          2,
          1,
          2,
          1,
          1,
          15,
          12,
          5,
          2,
          9,
          2,
          11,
          4,
          2,
          1,
          1,
          1,
          9,
          4,
          4,
          59,
          5,
          3,
          15,
          2,
          1,
          1,
          21,
          11,
          6,
          1,
          3,
          1,
          17,
          79,
          4,
          1,
          1,
          9,
          1,
          2,
          7,
          9,
          4,
          3,
          2,
          3,
          10,
          1,
          17,
          4,
          1,
          13,
          2,
          13,
          24,
          1,
          1,
          3,
          3,
          4,
          6,
          6,
          4,
          7,
          6,
          14,
          1,
          1,
          2,
          2,
          1,
          1,
          1,
          1,
          4,
          5,
          1,
          11,
          1,
          1,
          2,
          3,
          2,
          5,
          1,
          1,
          1,
          3,
          1,
          1,
          4,
          24,
          1,
          5,
          1,
          3,
          62,
          1,
          2,
          16,
          1,
          124,
          1,
          1,
          2,
          2,
          16,
          14,
          5,
          63,
          1,
          5,
          1,
          14,
          1,
          1,
          1,
          4,
          1,
          1,
          1,
          1,
          6,
          5,
          2,
          2,
          1,
          135,
          176
         ]
        }
       ],
       "layout": {
        "legend": {
         "tracegroupgap": 0
        },
        "template": {
         "data": {
          "bar": [
           {
            "error_x": {
             "color": "#2a3f5f"
            },
            "error_y": {
             "color": "#2a3f5f"
            },
            "marker": {
             "line": {
              "color": "#E5ECF6",
              "width": 0.5
             },
             "pattern": {
              "fillmode": "overlay",
              "size": 10,
              "solidity": 0.2
             }
            },
            "type": "bar"
           }
          ],
          "barpolar": [
           {
            "marker": {
             "line": {
              "color": "#E5ECF6",
              "width": 0.5
             },
             "pattern": {
              "fillmode": "overlay",
              "size": 10,
              "solidity": 0.2
             }
            },
            "type": "barpolar"
           }
          ],
          "carpet": [
           {
            "aaxis": {
             "endlinecolor": "#2a3f5f",
             "gridcolor": "white",
             "linecolor": "white",
             "minorgridcolor": "white",
             "startlinecolor": "#2a3f5f"
            },
            "baxis": {
             "endlinecolor": "#2a3f5f",
             "gridcolor": "white",
             "linecolor": "white",
             "minorgridcolor": "white",
             "startlinecolor": "#2a3f5f"
            },
            "type": "carpet"
           }
          ],
          "choropleth": [
           {
            "colorbar": {
             "outlinewidth": 0,
             "ticks": ""
            },
            "type": "choropleth"
           }
          ],
          "contour": [
           {
            "colorbar": {
             "outlinewidth": 0,
             "ticks": ""
            },
            "colorscale": [
             [
              0,
              "#0d0887"
             ],
             [
              0.1111111111111111,
              "#46039f"
             ],
             [
              0.2222222222222222,
              "#7201a8"
             ],
             [
              0.3333333333333333,
              "#9c179e"
             ],
             [
              0.4444444444444444,
              "#bd3786"
             ],
             [
              0.5555555555555556,
              "#d8576b"
             ],
             [
              0.6666666666666666,
              "#ed7953"
             ],
             [
              0.7777777777777778,
              "#fb9f3a"
             ],
             [
              0.8888888888888888,
              "#fdca26"
             ],
             [
              1,
              "#f0f921"
             ]
            ],
            "type": "contour"
           }
          ],
          "contourcarpet": [
           {
            "colorbar": {
             "outlinewidth": 0,
             "ticks": ""
            },
            "type": "contourcarpet"
           }
          ],
          "heatmap": [
           {
            "colorbar": {
             "outlinewidth": 0,
             "ticks": ""
            },
            "colorscale": [
             [
              0,
              "#0d0887"
             ],
             [
              0.1111111111111111,
              "#46039f"
             ],
             [
              0.2222222222222222,
              "#7201a8"
             ],
             [
              0.3333333333333333,
              "#9c179e"
             ],
             [
              0.4444444444444444,
              "#bd3786"
             ],
             [
              0.5555555555555556,
              "#d8576b"
             ],
             [
              0.6666666666666666,
              "#ed7953"
             ],
             [
              0.7777777777777778,
              "#fb9f3a"
             ],
             [
              0.8888888888888888,
              "#fdca26"
             ],
             [
              1,
              "#f0f921"
             ]
            ],
            "type": "heatmap"
           }
          ],
          "heatmapgl": [
           {
            "colorbar": {
             "outlinewidth": 0,
             "ticks": ""
            },
            "colorscale": [
             [
              0,
              "#0d0887"
             ],
             [
              0.1111111111111111,
              "#46039f"
             ],
             [
              0.2222222222222222,
              "#7201a8"
             ],
             [
              0.3333333333333333,
              "#9c179e"
             ],
             [
              0.4444444444444444,
              "#bd3786"
             ],
             [
              0.5555555555555556,
              "#d8576b"
             ],
             [
              0.6666666666666666,
              "#ed7953"
             ],
             [
              0.7777777777777778,
              "#fb9f3a"
             ],
             [
              0.8888888888888888,
              "#fdca26"
             ],
             [
              1,
              "#f0f921"
             ]
            ],
            "type": "heatmapgl"
           }
          ],
          "histogram": [
           {
            "marker": {
             "pattern": {
              "fillmode": "overlay",
              "size": 10,
              "solidity": 0.2
             }
            },
            "type": "histogram"
           }
          ],
          "histogram2d": [
           {
            "colorbar": {
             "outlinewidth": 0,
             "ticks": ""
            },
            "colorscale": [
             [
              0,
              "#0d0887"
             ],
             [
              0.1111111111111111,
              "#46039f"
             ],
             [
              0.2222222222222222,
              "#7201a8"
             ],
             [
              0.3333333333333333,
              "#9c179e"
             ],
             [
              0.4444444444444444,
              "#bd3786"
             ],
             [
              0.5555555555555556,
              "#d8576b"
             ],
             [
              0.6666666666666666,
              "#ed7953"
             ],
             [
              0.7777777777777778,
              "#fb9f3a"
             ],
             [
              0.8888888888888888,
              "#fdca26"
             ],
             [
              1,
              "#f0f921"
             ]
            ],
            "type": "histogram2d"
           }
          ],
          "histogram2dcontour": [
           {
            "colorbar": {
             "outlinewidth": 0,
             "ticks": ""
            },
            "colorscale": [
             [
              0,
              "#0d0887"
             ],
             [
              0.1111111111111111,
              "#46039f"
             ],
             [
              0.2222222222222222,
              "#7201a8"
             ],
             [
              0.3333333333333333,
              "#9c179e"
             ],
             [
              0.4444444444444444,
              "#bd3786"
             ],
             [
              0.5555555555555556,
              "#d8576b"
             ],
             [
              0.6666666666666666,
              "#ed7953"
             ],
             [
              0.7777777777777778,
              "#fb9f3a"
             ],
             [
              0.8888888888888888,
              "#fdca26"
             ],
             [
              1,
              "#f0f921"
             ]
            ],
            "type": "histogram2dcontour"
           }
          ],
          "mesh3d": [
           {
            "colorbar": {
             "outlinewidth": 0,
             "ticks": ""
            },
            "type": "mesh3d"
           }
          ],
          "parcoords": [
           {
            "line": {
             "colorbar": {
              "outlinewidth": 0,
              "ticks": ""
             }
            },
            "type": "parcoords"
           }
          ],
          "pie": [
           {
            "automargin": true,
            "type": "pie"
           }
          ],
          "scatter": [
           {
            "fillpattern": {
             "fillmode": "overlay",
             "size": 10,
             "solidity": 0.2
            },
            "type": "scatter"
           }
          ],
          "scatter3d": [
           {
            "line": {
             "colorbar": {
              "outlinewidth": 0,
              "ticks": ""
             }
            },
            "marker": {
             "colorbar": {
              "outlinewidth": 0,
              "ticks": ""
             }
            },
            "type": "scatter3d"
           }
          ],
          "scattercarpet": [
           {
            "marker": {
             "colorbar": {
              "outlinewidth": 0,
              "ticks": ""
             }
            },
            "type": "scattercarpet"
           }
          ],
          "scattergeo": [
           {
            "marker": {
             "colorbar": {
              "outlinewidth": 0,
              "ticks": ""
             }
            },
            "type": "scattergeo"
           }
          ],
          "scattergl": [
           {
            "marker": {
             "colorbar": {
              "outlinewidth": 0,
              "ticks": ""
             }
            },
            "type": "scattergl"
           }
          ],
          "scattermapbox": [
           {
            "marker": {
             "colorbar": {
              "outlinewidth": 0,
              "ticks": ""
             }
            },
            "type": "scattermapbox"
           }
          ],
          "scatterpolar": [
           {
            "marker": {
             "colorbar": {
              "outlinewidth": 0,
              "ticks": ""
             }
            },
            "type": "scatterpolar"
           }
          ],
          "scatterpolargl": [
           {
            "marker": {
             "colorbar": {
              "outlinewidth": 0,
              "ticks": ""
             }
            },
            "type": "scatterpolargl"
           }
          ],
          "scatterternary": [
           {
            "marker": {
             "colorbar": {
              "outlinewidth": 0,
              "ticks": ""
             }
            },
            "type": "scatterternary"
           }
          ],
          "surface": [
           {
            "colorbar": {
             "outlinewidth": 0,
             "ticks": ""
            },
            "colorscale": [
             [
              0,
              "#0d0887"
             ],
             [
              0.1111111111111111,
              "#46039f"
             ],
             [
              0.2222222222222222,
              "#7201a8"
             ],
             [
              0.3333333333333333,
              "#9c179e"
             ],
             [
              0.4444444444444444,
              "#bd3786"
             ],
             [
              0.5555555555555556,
              "#d8576b"
             ],
             [
              0.6666666666666666,
              "#ed7953"
             ],
             [
              0.7777777777777778,
              "#fb9f3a"
             ],
             [
              0.8888888888888888,
              "#fdca26"
             ],
             [
              1,
              "#f0f921"
             ]
            ],
            "type": "surface"
           }
          ],
          "table": [
           {
            "cells": {
             "fill": {
              "color": "#EBF0F8"
             },
             "line": {
              "color": "white"
             }
            },
            "header": {
             "fill": {
              "color": "#C8D4E3"
             },
             "line": {
              "color": "white"
             }
            },
            "type": "table"
           }
          ]
         },
         "layout": {
          "annotationdefaults": {
           "arrowcolor": "#2a3f5f",
           "arrowhead": 0,
           "arrowwidth": 1
          },
          "autotypenumbers": "strict",
          "coloraxis": {
           "colorbar": {
            "outlinewidth": 0,
            "ticks": ""
           }
          },
          "colorscale": {
           "diverging": [
            [
             0,
             "#8e0152"
            ],
            [
             0.1,
             "#c51b7d"
            ],
            [
             0.2,
             "#de77ae"
            ],
            [
             0.3,
             "#f1b6da"
            ],
            [
             0.4,
             "#fde0ef"
            ],
            [
             0.5,
             "#f7f7f7"
            ],
            [
             0.6,
             "#e6f5d0"
            ],
            [
             0.7,
             "#b8e186"
            ],
            [
             0.8,
             "#7fbc41"
            ],
            [
             0.9,
             "#4d9221"
            ],
            [
             1,
             "#276419"
            ]
           ],
           "sequential": [
            [
             0,
             "#0d0887"
            ],
            [
             0.1111111111111111,
             "#46039f"
            ],
            [
             0.2222222222222222,
             "#7201a8"
            ],
            [
             0.3333333333333333,
             "#9c179e"
            ],
            [
             0.4444444444444444,
             "#bd3786"
            ],
            [
             0.5555555555555556,
             "#d8576b"
            ],
            [
             0.6666666666666666,
             "#ed7953"
            ],
            [
             0.7777777777777778,
             "#fb9f3a"
            ],
            [
             0.8888888888888888,
             "#fdca26"
            ],
            [
             1,
             "#f0f921"
            ]
           ],
           "sequentialminus": [
            [
             0,
             "#0d0887"
            ],
            [
             0.1111111111111111,
             "#46039f"
            ],
            [
             0.2222222222222222,
             "#7201a8"
            ],
            [
             0.3333333333333333,
             "#9c179e"
            ],
            [
             0.4444444444444444,
             "#bd3786"
            ],
            [
             0.5555555555555556,
             "#d8576b"
            ],
            [
             0.6666666666666666,
             "#ed7953"
            ],
            [
             0.7777777777777778,
             "#fb9f3a"
            ],
            [
             0.8888888888888888,
             "#fdca26"
            ],
            [
             1,
             "#f0f921"
            ]
           ]
          },
          "colorway": [
           "#636efa",
           "#EF553B",
           "#00cc96",
           "#ab63fa",
           "#FFA15A",
           "#19d3f3",
           "#FF6692",
           "#B6E880",
           "#FF97FF",
           "#FECB52"
          ],
          "font": {
           "color": "#2a3f5f"
          },
          "geo": {
           "bgcolor": "white",
           "lakecolor": "white",
           "landcolor": "#E5ECF6",
           "showlakes": true,
           "showland": true,
           "subunitcolor": "white"
          },
          "hoverlabel": {
           "align": "left"
          },
          "hovermode": "closest",
          "mapbox": {
           "style": "light"
          },
          "paper_bgcolor": "white",
          "plot_bgcolor": "#E5ECF6",
          "polar": {
           "angularaxis": {
            "gridcolor": "white",
            "linecolor": "white",
            "ticks": ""
           },
           "bgcolor": "#E5ECF6",
           "radialaxis": {
            "gridcolor": "white",
            "linecolor": "white",
            "ticks": ""
           }
          },
          "scene": {
           "xaxis": {
            "backgroundcolor": "#E5ECF6",
            "gridcolor": "white",
            "gridwidth": 2,
            "linecolor": "white",
            "showbackground": true,
            "ticks": "",
            "zerolinecolor": "white"
           },
           "yaxis": {
            "backgroundcolor": "#E5ECF6",
            "gridcolor": "white",
            "gridwidth": 2,
            "linecolor": "white",
            "showbackground": true,
            "ticks": "",
            "zerolinecolor": "white"
           },
           "zaxis": {
            "backgroundcolor": "#E5ECF6",
            "gridcolor": "white",
            "gridwidth": 2,
            "linecolor": "white",
            "showbackground": true,
            "ticks": "",
            "zerolinecolor": "white"
           }
          },
          "shapedefaults": {
           "line": {
            "color": "#2a3f5f"
           }
          },
          "ternary": {
           "aaxis": {
            "gridcolor": "white",
            "linecolor": "white",
            "ticks": ""
           },
           "baxis": {
            "gridcolor": "white",
            "linecolor": "white",
            "ticks": ""
           },
           "bgcolor": "#E5ECF6",
           "caxis": {
            "gridcolor": "white",
            "linecolor": "white",
            "ticks": ""
           }
          },
          "title": {
           "x": 0.05
          },
          "xaxis": {
           "automargin": true,
           "gridcolor": "white",
           "linecolor": "white",
           "ticks": "",
           "title": {
            "standoff": 15
           },
           "zerolinecolor": "white",
           "zerolinewidth": 2
          },
          "yaxis": {
           "automargin": true,
           "gridcolor": "white",
           "linecolor": "white",
           "ticks": "",
           "title": {
            "standoff": 15
           },
           "zerolinecolor": "white",
           "zerolinewidth": 2
          }
         }
        },
        "title": {
         "text": "Sentiment Distribution by Country"
        },
        "treemapcolorway": [
         "rgb(141,211,199)",
         "rgb(255,255,179)",
         "rgb(190,186,218)",
         "rgb(251,128,114)",
         "rgb(128,177,211)",
         "rgb(253,180,98)",
         "rgb(179,222,105)",
         "rgb(252,205,229)",
         "rgb(217,217,217)",
         "rgb(188,128,189)",
         "rgb(204,235,197)",
         "rgb(255,237,111)"
        ]
       }
      }
     },
     "metadata": {},
     "output_type": "display_data"
    }
   ],
   "source": [
    "fig = px.treemap(\n",
    "    country_sentiment_counts,\n",
    "    path=['Country', 'General_Sentiment'],\n",
    "    values='Count',\n",
    "    title='Sentiment Distribution by Country',\n",
    "    color='General_Sentiment',\n",
    "    color_discrete_sequence=px.colors.qualitative.Set3\n",
    ")\n",
    "\n",
    "fig.show()\n",
    "#This chart visualize sentiment distribution across different countries.\n",
    "#The data, `country_sentiment_counts`, is organized using the `path` parameter to create a hierarchical structure.\n",
    "#The first level represents countries and the second level represents general sentiments.\n",
    "#The size of each block in the treemap is determined by the 'Count' column, while the colors represent different sentiments using the Set3 color sequence..\n",
    "#The chart is titled \"Sentiment Distribution by Country,\" and the treemap is displayed with `fig.show()`."
   ]
  },
  {
   "cell_type": "code",
   "execution_count": null,
   "id": "281ff574",
   "metadata": {},
   "outputs": [],
   "source": []
  },
  {
   "cell_type": "markdown",
   "id": "0b2f5737",
   "metadata": {},
   "source": [
    "## HashTags analsis by sentiment"
   ]
  },
  {
   "cell_type": "code",
   "execution_count": 435,
   "id": "038c83cd",
   "metadata": {},
   "outputs": [],
   "source": [
    "from collections import Counter\n",
    "import itertools\n",
    "\n",
    "# Extract all hashtags and split them into individual tags\n",
    "all_hashtags = data['Hashtags'].str.split().tolist()\n",
    "all_hashtags_flat = list(itertools.chain.from_iterable(all_hashtags))\n",
    "\n",
    "# Count the frequency of each hashtag\n",
    "hashtag_counts = Counter(all_hashtags_flat)\n",
    "\n",
    "# Get the top 10 most common hashtags\n",
    "top_10_hashtags = hashtag_counts.most_common(10)\n",
    "top_10_hashtags_list = [hashtag for hashtag, count in top_10_hashtags]"
   ]
  },
  {
   "cell_type": "code",
   "execution_count": 436,
   "id": "9270dba2",
   "metadata": {},
   "outputs": [],
   "source": [
    "# Filter the data to include only rows with the top 10 hashtags\n",
    "filtered_data_top10 = data[data['Hashtags'].apply(lambda x: any(tag in x for tag in top_10_hashtags_list))]\n",
    "\n",
    "# Explode the hashtags into individual rows\n",
    "exploded_data = filtered_data_top10.assign(Hashtag=filtered_data_top10['Hashtags'].str.split()).explode('Hashtag')\n",
    "\n",
    "# Filter to include only top 10 hashtags\n",
    "exploded_data = exploded_data[exploded_data['Hashtag'].isin(top_10_hashtags_list)]\n",
    "\n",
    "# Group by Hashtag and Country and count the occurrences\n",
    "country_hashtag_counts = exploded_data.groupby(['Country', 'Hashtag']).size().reset_index(name='Count')"
   ]
  },
  {
   "cell_type": "code",
   "execution_count": 437,
   "id": "095d8088",
   "metadata": {},
   "outputs": [
    {
     "name": "stderr",
     "output_type": "stream",
     "text": [
      "/var/folders/0_/ryhxg2cd71z1f4879zqk8ffr0000gn/T/ipykernel_6471/3742760260.py:6: UserWarning:\n",
      "\n",
      "The palette list has more values (30) than needed (20), which may not be intended.\n",
      "\n"
     ]
    },
    {
     "data": {
      "image/png": "[encoded data removed]",
      "text/plain": [
       "<Figure size 1600x800 with 1 Axes>"
      ]
     },
     "metadata": {},
     "output_type": "display_data"
    }
   ],
   "source": [
    "import seaborn as sns\n",
    "# Use the 'husl' palette for 20 distinct colors\n",
    "palette = sns.color_palette(\"husl\", n_colors=30)\n",
    "\n",
    "plt.figure(figsize=(16, 8))\n",
    "sns.barplot(x='Hashtag', y='Count', hue='Country', data=country_hashtag_counts, palette=palette)\n",
    "\n",
    "plt.xlabel('Hashtag')\n",
    "plt.ylabel('Count')\n",
    "plt.title('Top 10 Hashtags Distribution by Country')\n",
    "\n",
    "# Move the legend box outside the plot area to the right\n",
    "plt.legend(bbox_to_anchor=(1.05, 1), loc='upper left', borderaxespad=0.0)\n",
    "\n",
    "plt.show()"
   ]
  },
  {
   "cell_type": "code",
   "execution_count": 438,
   "id": "eba83c57",
   "metadata": {},
   "outputs": [
    {
     "data": {
      "image/png": "[encoded data removed]",
      "text/plain": [
       "<Figure size 1600x800 with 7 Axes>"
      ]
     },
     "metadata": {},
     "output_type": "display_data"
    }
   ],
   "source": [
    "# Group by Hashtag and General_Sentiment and count the occurrences\n",
    "sentiment_hashtag_counts = exploded_data.groupby(['General_Sentiment', 'Hashtag']).size().reset_index(name='Count')\n",
    "\n",
    "# Filter top_sentiment_hashtags to keep only the top 10 hashtags\n",
    "top_sentiment_hashtags_filtered = sentiment_hashtag_counts[sentiment_hashtag_counts['Hashtag'].isin(top_10_hashtags_list)]\n",
    "\n",
    "# List of unique sentiments\n",
    "sentiments = top_sentiment_hashtags_filtered['General_Sentiment'].unique()\n",
    "\n",
    "# Create a figure with subplots\n",
    "fig, axes = plt.subplots(nrows=1, ncols=len(sentiments), figsize=(16, 8))\n",
    "\n",
    "# Iterate over each sentiment and plot a pie chart\n",
    "for sentiment, ax in zip(sentiments, axes):\n",
    "    # Filter data for the current sentiment\n",
    "    data = top_sentiment_hashtags_filtered[top_sentiment_hashtags_filtered['General_Sentiment'] == sentiment]\n",
    "    \n",
    "    # Pie chart\n",
    "    ax.pie(data['Count'], labels=data['Hashtag'], autopct='%1.1f%%', startangle=140, \n",
    "    \n",
    "           colors=sns.color_palette('coolwarm', n_colors=len(data)))\n",
    "    ax.set_title(f'{sentiment} Sentiment')\n",
    "\n",
    "# Adjust layout\n",
    "plt.tight_layout()\n",
    "plt.show()"
   ]
  },
  {
   "cell_type": "markdown",
   "id": "0a5fb908",
   "metadata": {},
   "source": [
    "## Average number of likes compared to the sentiments"
   ]
  },
  {
   "cell_type": "code",
   "execution_count": 439,
   "id": "67176631",
   "metadata": {},
   "outputs": [],
   "source": [
    "from wordcloud import WordCloud\n",
    "from matplotlib import pyplot as plt"
   ]
  },
  {
   "cell_type": "code",
   "execution_count": 440,
   "id": "e6f48d02",
   "metadata": {},
   "outputs": [],
   "source": [
    "#average_like_number = data.groupby('General_Sentiment')['Likes'].mean()"
   ]
  },
  {
   "cell_type": "code",
   "execution_count": 441,
   "id": "8789a9d1",
   "metadata": {},
   "outputs": [
    {
     "data": {
      "image/png": "[encoded data removed]",
      "text/plain": [
       "<Figure size 640x480 with 1 Axes>"
      ]
     },
     "metadata": {},
     "output_type": "display_data"
    }
   ],
   "source": [
    "wc = WordCloud(background_color=\"white\")\n",
    "wc.generate_from_frequencies(average_like_number.to_dict())\n",
    "\n",
    "plt.imshow(wc, interpolation=\"bilinear\")\n",
    "plt.axis(\"off\")\n",
    "\n",
    "plt.show()"
   ]
  },
  {
   "cell_type": "markdown",
   "id": "a2ff2752",
   "metadata": {},
   "source": [
    "## Average number of retweets compared to the sentiments"
   ]
  },
  {
   "cell_type": "code",
   "execution_count": 442,
   "id": "23597e84",
   "metadata": {},
   "outputs": [],
   "source": [
    "#average_retweet_number = data.groupby('General_Sentiment')['Retweets'].mean()\n"
   ]
  },
  {
   "cell_type": "code",
   "execution_count": 443,
   "id": "53d24836",
   "metadata": {},
   "outputs": [
    {
     "data": {
      "image/png": "[encoded data removed]",
      "text/plain": [
       "<Figure size 640x480 with 1 Axes>"
      ]
     },
     "metadata": {},
     "output_type": "display_data"
    }
   ],
   "source": [
    "wc = WordCloud(background_color=\"white\")\n",
    "wc.generate_from_frequencies(average_retweet_number.to_dict())\n",
    "\n",
    "plt.imshow(wc, interpolation=\"bilinear\")\n",
    "plt.axis(\"off\")\n",
    "\n",
    "plt.show()"
   ]
  },
  {
   "cell_type": "markdown",
   "id": "b8758907",
   "metadata": {},
   "source": [
    "## Analysis of post content\n"
   ]
  },
  {
   "cell_type": "code",
   "execution_count": 444,
   "id": "f6fb8114",
   "metadata": {},
   "outputs": [
    {
     "ename": "KeyError",
     "evalue": "'Text'",
     "output_type": "error",
     "traceback": [
      "\u001b[0;31m---------------------------------------------------------------------------\u001b[0m",
      "\u001b[0;31mKeyError\u001b[0m                                  Traceback (most recent call last)",
      "File \u001b[0;32m/Library/Frameworks/Python.framework/Versions/3.11/lib/python3.11/site-packages/pandas/core/indexes/base.py:3802\u001b[0m, in \u001b[0;36mIndex.get_loc\u001b[0;34m(self, key)\u001b[0m\n\u001b[1;32m   3801\u001b[0m \u001b[38;5;28;01mtry\u001b[39;00m:\n\u001b[0;32m-> 3802\u001b[0m     \u001b[38;5;28;01mreturn\u001b[39;00m \u001b[38;5;28;43mself\u001b[39;49m\u001b[38;5;241;43m.\u001b[39;49m\u001b[43m_engine\u001b[49m\u001b[38;5;241;43m.\u001b[39;49m\u001b[43mget_loc\u001b[49m\u001b[43m(\u001b[49m\u001b[43mcasted_key\u001b[49m\u001b[43m)\u001b[49m\n\u001b[1;32m   3803\u001b[0m \u001b[38;5;28;01mexcept\u001b[39;00m \u001b[38;5;167;01mKeyError\u001b[39;00m \u001b[38;5;28;01mas\u001b[39;00m err:\n",
      "File \u001b[0;32mindex.pyx:153\u001b[0m, in \u001b[0;36mpandas._libs.index.IndexEngine.get_loc\u001b[0;34m()\u001b[0m\n",
      "File \u001b[0;32mindex.pyx:182\u001b[0m, in \u001b[0;36mpandas._libs.index.IndexEngine.get_loc\u001b[0;34m()\u001b[0m\n",
      "File \u001b[0;32mpandas/_libs/hashtable_class_helper.pxi:7081\u001b[0m, in \u001b[0;36mpandas._libs.hashtable.PyObjectHashTable.get_item\u001b[0;34m()\u001b[0m\n",
      "File \u001b[0;32mpandas/_libs/hashtable_class_helper.pxi:7089\u001b[0m, in \u001b[0;36mpandas._libs.hashtable.PyObjectHashTable.get_item\u001b[0;34m()\u001b[0m\n",
      "\u001b[0;31mKeyError\u001b[0m: 'Text'",
      "\nThe above exception was the direct cause of the following exception:\n",
      "\u001b[0;31mKeyError\u001b[0m                                  Traceback (most recent call last)",
      "Cell \u001b[0;32mIn[444], line 5\u001b[0m\n\u001b[1;32m      1\u001b[0m sentiments \u001b[38;5;241m=\u001b[39m data[\u001b[38;5;124m'\u001b[39m\u001b[38;5;124mGeneral_Sentiment\u001b[39m\u001b[38;5;124m'\u001b[39m]\u001b[38;5;241m.\u001b[39munique()\n\u001b[1;32m      3\u001b[0m \u001b[38;5;28;01mfor\u001b[39;00m sentiment \u001b[38;5;129;01min\u001b[39;00m sentiments:\n\u001b[0;32m----> 5\u001b[0m     text_data \u001b[38;5;241m=\u001b[39m \u001b[43mdata\u001b[49m\u001b[43m[\u001b[49m\u001b[43mdata\u001b[49m\u001b[43m[\u001b[49m\u001b[38;5;124;43m'\u001b[39;49m\u001b[38;5;124;43mGeneral_Sentiment\u001b[39;49m\u001b[38;5;124;43m'\u001b[39;49m\u001b[43m]\u001b[49m\u001b[43m \u001b[49m\u001b[38;5;241;43m==\u001b[39;49m\u001b[43m \u001b[49m\u001b[43msentiment\u001b[49m\u001b[43m]\u001b[49m\u001b[43m[\u001b[49m\u001b[38;5;124;43m'\u001b[39;49m\u001b[38;5;124;43mText\u001b[39;49m\u001b[38;5;124;43m'\u001b[39;49m\u001b[43m]\u001b[49m\n\u001b[1;32m      7\u001b[0m     combined_text \u001b[38;5;241m=\u001b[39m \u001b[38;5;124m'\u001b[39m\u001b[38;5;124m \u001b[39m\u001b[38;5;124m'\u001b[39m\u001b[38;5;241m.\u001b[39mjoin(text_data)\n\u001b[1;32m      9\u001b[0m     wordcloud \u001b[38;5;241m=\u001b[39m WordCloud(width\u001b[38;5;241m=\u001b[39m\u001b[38;5;241m800\u001b[39m, height\u001b[38;5;241m=\u001b[39m\u001b[38;5;241m300\u001b[39m, background_color\u001b[38;5;241m=\u001b[39m\u001b[38;5;124m'\u001b[39m\u001b[38;5;124mwhite\u001b[39m\u001b[38;5;124m'\u001b[39m)\u001b[38;5;241m.\u001b[39mgenerate(combined_text)\n",
      "File \u001b[0;32m/Library/Frameworks/Python.framework/Versions/3.11/lib/python3.11/site-packages/pandas/core/frame.py:4090\u001b[0m, in \u001b[0;36mDataFrame.__getitem__\u001b[0;34m(self, key)\u001b[0m\n\u001b[1;32m   4088\u001b[0m \u001b[38;5;28;01mif\u001b[39;00m \u001b[38;5;28mself\u001b[39m\u001b[38;5;241m.\u001b[39mcolumns\u001b[38;5;241m.\u001b[39mnlevels \u001b[38;5;241m>\u001b[39m \u001b[38;5;241m1\u001b[39m:\n\u001b[1;32m   4089\u001b[0m     \u001b[38;5;28;01mreturn\u001b[39;00m \u001b[38;5;28mself\u001b[39m\u001b[38;5;241m.\u001b[39m_getitem_multilevel(key)\n\u001b[0;32m-> 4090\u001b[0m indexer \u001b[38;5;241m=\u001b[39m \u001b[38;5;28;43mself\u001b[39;49m\u001b[38;5;241;43m.\u001b[39;49m\u001b[43mcolumns\u001b[49m\u001b[38;5;241;43m.\u001b[39;49m\u001b[43mget_loc\u001b[49m\u001b[43m(\u001b[49m\u001b[43mkey\u001b[49m\u001b[43m)\u001b[49m\n\u001b[1;32m   4091\u001b[0m \u001b[38;5;28;01mif\u001b[39;00m is_integer(indexer):\n\u001b[1;32m   4092\u001b[0m     indexer \u001b[38;5;241m=\u001b[39m [indexer]\n",
      "File \u001b[0;32m/Library/Frameworks/Python.framework/Versions/3.11/lib/python3.11/site-packages/pandas/core/indexes/base.py:3809\u001b[0m, in \u001b[0;36mIndex.get_loc\u001b[0;34m(self, key)\u001b[0m\n\u001b[1;32m   3804\u001b[0m     \u001b[38;5;28;01mif\u001b[39;00m \u001b[38;5;28misinstance\u001b[39m(casted_key, \u001b[38;5;28mslice\u001b[39m) \u001b[38;5;129;01mor\u001b[39;00m (\n\u001b[1;32m   3805\u001b[0m         \u001b[38;5;28misinstance\u001b[39m(casted_key, abc\u001b[38;5;241m.\u001b[39mIterable)\n\u001b[1;32m   3806\u001b[0m         \u001b[38;5;129;01mand\u001b[39;00m \u001b[38;5;28many\u001b[39m(\u001b[38;5;28misinstance\u001b[39m(x, \u001b[38;5;28mslice\u001b[39m) \u001b[38;5;28;01mfor\u001b[39;00m x \u001b[38;5;129;01min\u001b[39;00m casted_key)\n\u001b[1;32m   3807\u001b[0m     ):\n\u001b[1;32m   3808\u001b[0m         \u001b[38;5;28;01mraise\u001b[39;00m InvalidIndexError(key)\n\u001b[0;32m-> 3809\u001b[0m     \u001b[38;5;28;01mraise\u001b[39;00m \u001b[38;5;167;01mKeyError\u001b[39;00m(key) \u001b[38;5;28;01mfrom\u001b[39;00m \u001b[38;5;21;01merr\u001b[39;00m\n\u001b[1;32m   3810\u001b[0m \u001b[38;5;28;01mexcept\u001b[39;00m \u001b[38;5;167;01mTypeError\u001b[39;00m:\n\u001b[1;32m   3811\u001b[0m     \u001b[38;5;66;03m# If we have a listlike key, _check_indexing_error will raise\u001b[39;00m\n\u001b[1;32m   3812\u001b[0m     \u001b[38;5;66;03m#  InvalidIndexError. Otherwise we fall through and re-raise\u001b[39;00m\n\u001b[1;32m   3813\u001b[0m     \u001b[38;5;66;03m#  the TypeError.\u001b[39;00m\n\u001b[1;32m   3814\u001b[0m     \u001b[38;5;28mself\u001b[39m\u001b[38;5;241m.\u001b[39m_check_indexing_error(key)\n",
      "\u001b[0;31mKeyError\u001b[0m: 'Text'"
     ]
    }
   ],
   "source": [
    "sentiments = data['General_Sentiment'].unique()\n",
    "\n",
    "for sentiment in sentiments:\n",
    "    \n",
    "    text_data = data[data['General_Sentiment'] == sentiment]['Text']\n",
    "    \n",
    "    combined_text = ' '.join(text_data)\n",
    "    \n",
    "    wordcloud = WordCloud(width=800, height=300, background_color='white').generate(combined_text)\n",
    "        \n",
    "    plt.figure(figsize=(10, 5))\n",
    "    \n",
    "    plt.imshow(wordcloud, interpolation='bilinear')\n",
    "    \n",
    "    plt.title(f'Word Cloud for Sentiment: {sentiment}', fontsize=16)\n",
    "    \n",
    "    plt.axis('off')\n",
    "    \n",
    "    plt.show()"
   ]
  }
 ],
 "metadata": {
  "kernelspec": {
   "display_name": "Python 3 (ipykernel)",
   "language": "python",
   "name": "python3"
  },
  "language_info": {
   "codemirror_mode": {
    "name": "ipython",
    "version": 3
   },
   "file_extension": ".py",
   "mimetype": "text/x-python",
   "name": "python",
   "nbconvert_exporter": "python",
   "pygments_lexer": "ipython3",
   "version": "3.11.4"
  }
 },
 "nbformat": 4,
 "nbformat_minor": 5
}
