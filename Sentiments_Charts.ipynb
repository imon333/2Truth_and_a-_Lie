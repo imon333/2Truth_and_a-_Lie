{
 "cells": [
  {
   "cell_type": "code",
   "execution_count": 1,
   "id": "6ea72de6",
   "metadata": {},
   "outputs": [],
   "source": [
    "import plotly.express as px\n",
    "import pandas as pd"
   ]
  },
  {
   "cell_type": "code",
   "execution_count": 4,
   "id": "568c2dfd",
   "metadata": {},
   "outputs": [],
   "source": [
    "data=pd.read_excel(\"sentimentdataset_clean.xlsx\")"
   ]
  },
  {
   "cell_type": "markdown",
   "id": "f8fd8750",
   "metadata": {},
   "source": [
    "# 1. Yearly distribution of sentiments"
   ]
  },
  {
   "cell_type": "code",
   "execution_count": 47,
   "id": "43224885",
   "metadata": {},
   "outputs": [],
   "source": [
    "# sentiments across year\n",
    "sentiment_counts = data.groupby(\"Year\")[\"General_Sentiment\"].value_counts().unstack().fillna(0)"
   ]
  },
  {
   "cell_type": "code",
   "execution_count": 48,
   "id": "05f22c28",
   "metadata": {
    "scrolled": true
   },
   "outputs": [
    {
     "data": {
      "application/vnd.plotly.v1+json": {
       "config": {
        "plotlyServerURL": "https://plot.ly"
       },
       "data": [
        {
         "alignmentgroup": "True",
         "hovertemplate": "General_Sentiment=Anger<br>Year=%{x}<br>Count=%{y}<extra></extra>",
         "legendgroup": "Anger",
         "marker": {
          "color": "rgb(102, 197, 204)",
          "pattern": {
           "shape": ""
          }
         },
         "name": "Anger",
         "offsetgroup": "Anger",
         "orientation": "v",
         "showlegend": true,
         "textposition": "auto",
         "type": "bar",
         "x": [
          2010,
          2011,
          2012,
          2013,
          2014,
          2015,
          2016,
          2017,
          2018,
          2019,
          2020,
          2021,
          2022,
          2023
         ],
         "xaxis": "x",
         "y": [
          0,
          0,
          0,
          0,
          0,
          1,
          0,
          4,
          3,
          3,
          4,
          3,
          3,
          18
         ],
         "yaxis": "y"
        },
        {
         "alignmentgroup": "True",
         "hovertemplate": "General_Sentiment=Anticipation<br>Year=%{x}<br>Count=%{y}<extra></extra>",
         "legendgroup": "Anticipation",
         "marker": {
          "color": "rgb(246, 207, 113)",
          "pattern": {
           "shape": ""
          }
         },
         "name": "Anticipation",
         "offsetgroup": "Anticipation",
         "orientation": "v",
         "showlegend": true,
         "textposition": "auto",
         "type": "bar",
         "x": [
          2010,
          2011,
          2012,
          2013,
          2014,
          2015,
          2016,
          2017,
          2018,
          2019,
          2020,
          2021,
          2022,
          2023
         ],
         "xaxis": "x",
         "y": [
          0,
          0,
          0,
          0,
          0,
          5,
          3,
          4,
          3,
          9,
          7,
          2,
          10,
          14
         ],
         "yaxis": "y"
        },
        {
         "alignmentgroup": "True",
         "hovertemplate": "General_Sentiment=Disgust<br>Year=%{x}<br>Count=%{y}<extra></extra>",
         "legendgroup": "Disgust",
         "marker": {
          "color": "rgb(248, 156, 116)",
          "pattern": {
           "shape": ""
          }
         },
         "name": "Disgust",
         "offsetgroup": "Disgust",
         "orientation": "v",
         "showlegend": true,
         "textposition": "auto",
         "type": "bar",
         "x": [
          2010,
          2011,
          2012,
          2013,
          2014,
          2015,
          2016,
          2017,
          2018,
          2019,
          2020,
          2021,
          2022,
          2023
         ],
         "xaxis": "x",
         "y": [
          0,
          0,
          0,
          0,
          0,
          0,
          2,
          0,
          2,
          2,
          0,
          0,
          0,
          9
         ],
         "yaxis": "y"
        },
        {
         "alignmentgroup": "True",
         "hovertemplate": "General_Sentiment=Fear<br>Year=%{x}<br>Count=%{y}<extra></extra>",
         "legendgroup": "Fear",
         "marker": {
          "color": "rgb(220, 176, 242)",
          "pattern": {
           "shape": ""
          }
         },
         "name": "Fear",
         "offsetgroup": "Fear",
         "orientation": "v",
         "showlegend": true,
         "textposition": "auto",
         "type": "bar",
         "x": [
          2010,
          2011,
          2012,
          2013,
          2014,
          2015,
          2016,
          2017,
          2018,
          2019,
          2020,
          2021,
          2022,
          2023
         ],
         "xaxis": "x",
         "y": [
          0,
          0,
          0,
          0,
          0,
          0,
          1,
          0,
          2,
          5,
          2,
          6,
          3,
          5
         ],
         "yaxis": "y"
        },
        {
         "alignmentgroup": "True",
         "hovertemplate": "General_Sentiment=Joy/Happiness<br>Year=%{x}<br>Count=%{y}<extra></extra>",
         "legendgroup": "Joy/Happiness",
         "marker": {
          "color": "rgb(135, 197, 95)",
          "pattern": {
           "shape": ""
          }
         },
         "name": "Joy/Happiness",
         "offsetgroup": "Joy/Happiness",
         "orientation": "v",
         "showlegend": true,
         "textposition": "auto",
         "type": "bar",
         "x": [
          2010,
          2011,
          2012,
          2013,
          2014,
          2015,
          2016,
          2017,
          2018,
          2019,
          2020,
          2021,
          2022,
          2023
         ],
         "xaxis": "x",
         "y": [
          1,
          1,
          4,
          4,
          4,
          4,
          6,
          13,
          25,
          22,
          21,
          18,
          18,
          142
         ],
         "yaxis": "y"
        },
        {
         "alignmentgroup": "True",
         "hovertemplate": "General_Sentiment=Love/Affection<br>Year=%{x}<br>Count=%{y}<extra></extra>",
         "legendgroup": "Love/Affection",
         "marker": {
          "color": "rgb(158, 185, 243)",
          "pattern": {
           "shape": ""
          }
         },
         "name": "Love/Affection",
         "offsetgroup": "Love/Affection",
         "orientation": "v",
         "showlegend": true,
         "textposition": "auto",
         "type": "bar",
         "x": [
          2010,
          2011,
          2012,
          2013,
          2014,
          2015,
          2016,
          2017,
          2018,
          2019,
          2020,
          2021,
          2022,
          2023
         ],
         "xaxis": "x",
         "y": [
          0,
          0,
          0,
          0,
          0,
          3,
          7,
          6,
          4,
          4,
          1,
          4,
          4,
          17
         ],
         "yaxis": "y"
        },
        {
         "alignmentgroup": "True",
         "hovertemplate": "General_Sentiment=Neutral/Calm<br>Year=%{x}<br>Count=%{y}<extra></extra>",
         "legendgroup": "Neutral/Calm",
         "marker": {
          "color": "rgb(254, 136, 177)",
          "pattern": {
           "shape": ""
          }
         },
         "name": "Neutral/Calm",
         "offsetgroup": "Neutral/Calm",
         "orientation": "v",
         "showlegend": true,
         "textposition": "auto",
         "type": "bar",
         "x": [
          2010,
          2011,
          2012,
          2013,
          2014,
          2015,
          2016,
          2017,
          2018,
          2019,
          2020,
          2021,
          2022,
          2023
         ],
         "xaxis": "x",
         "y": [
          2,
          3,
          0,
          0,
          0,
          2,
          6,
          3,
          2,
          10,
          10,
          10,
          4,
          40
         ],
         "yaxis": "y"
        },
        {
         "alignmentgroup": "True",
         "hovertemplate": "General_Sentiment=Sadness<br>Year=%{x}<br>Count=%{y}<extra></extra>",
         "legendgroup": "Sadness",
         "marker": {
          "color": "rgb(201, 219, 116)",
          "pattern": {
           "shape": ""
          }
         },
         "name": "Sadness",
         "offsetgroup": "Sadness",
         "orientation": "v",
         "showlegend": true,
         "textposition": "auto",
         "type": "bar",
         "x": [
          2010,
          2011,
          2012,
          2013,
          2014,
          2015,
          2016,
          2017,
          2018,
          2019,
          2020,
          2021,
          2022,
          2023
         ],
         "xaxis": "x",
         "y": [
          0,
          0,
          0,
          0,
          0,
          3,
          9,
          10,
          10,
          13,
          11,
          8,
          12,
          27
         ],
         "yaxis": "y"
        },
        {
         "alignmentgroup": "True",
         "hovertemplate": "General_Sentiment=Suprise<br>Year=%{x}<br>Count=%{y}<extra></extra>",
         "legendgroup": "Suprise",
         "marker": {
          "color": "rgb(139, 224, 164)",
          "pattern": {
           "shape": ""
          }
         },
         "name": "Suprise",
         "offsetgroup": "Suprise",
         "orientation": "v",
         "showlegend": true,
         "textposition": "auto",
         "type": "bar",
         "x": [
          2010,
          2011,
          2012,
          2013,
          2014,
          2015,
          2016,
          2017,
          2018,
          2019,
          2020,
          2021,
          2022,
          2023
         ],
         "xaxis": "x",
         "y": [
          0,
          0,
          0,
          0,
          0,
          1,
          2,
          1,
          2,
          2,
          3,
          4,
          3,
          9
         ],
         "yaxis": "y"
        },
        {
         "alignmentgroup": "True",
         "hovertemplate": "General_Sentiment=Trust<br>Year=%{x}<br>Count=%{y}<extra></extra>",
         "legendgroup": "Trust",
         "marker": {
          "color": "rgb(180, 151, 231)",
          "pattern": {
           "shape": ""
          }
         },
         "name": "Trust",
         "offsetgroup": "Trust",
         "orientation": "v",
         "showlegend": true,
         "textposition": "auto",
         "type": "bar",
         "x": [
          2010,
          2011,
          2012,
          2013,
          2014,
          2015,
          2016,
          2017,
          2018,
          2019,
          2020,
          2021,
          2022,
          2023
         ],
         "xaxis": "x",
         "y": [
          0,
          0,
          0,
          0,
          0,
          0,
          1,
          1,
          0,
          0,
          5,
          3,
          1,
          6
         ],
         "yaxis": "y"
        }
       ],
       "layout": {
        "barmode": "relative",
        "legend": {
         "title": {
          "text": "General_Sentiment"
         },
         "tracegroupgap": 0
        },
        "template": {
         "data": {
          "bar": [
           {
            "error_x": {
             "color": "#2a3f5f"
            },
            "error_y": {
             "color": "#2a3f5f"
            },
            "marker": {
             "line": {
              "color": "#E5ECF6",
              "width": 0.5
             },
             "pattern": {
              "fillmode": "overlay",
              "size": 10,
              "solidity": 0.2
             }
            },
            "type": "bar"
           }
          ],
          "barpolar": [
           {
            "marker": {
             "line": {
              "color": "#E5ECF6",
              "width": 0.5
             },
             "pattern": {
              "fillmode": "overlay",
              "size": 10,
              "solidity": 0.2
             }
            },
            "type": "barpolar"
           }
          ],
          "carpet": [
           {
            "aaxis": {
             "endlinecolor": "#2a3f5f",
             "gridcolor": "white",
             "linecolor": "white",
             "minorgridcolor": "white",
             "startlinecolor": "#2a3f5f"
            },
            "baxis": {
             "endlinecolor": "#2a3f5f",
             "gridcolor": "white",
             "linecolor": "white",
             "minorgridcolor": "white",
             "startlinecolor": "#2a3f5f"
            },
            "type": "carpet"
           }
          ],
          "choropleth": [
           {
            "colorbar": {
             "outlinewidth": 0,
             "ticks": ""
            },
            "type": "choropleth"
           }
          ],
          "contour": [
           {
            "colorbar": {
             "outlinewidth": 0,
             "ticks": ""
            },
            "colorscale": [
             [
              0,
              "#0d0887"
             ],
             [
              0.1111111111111111,
              "#46039f"
             ],
             [
              0.2222222222222222,
              "#7201a8"
             ],
             [
              0.3333333333333333,
              "#9c179e"
             ],
             [
              0.4444444444444444,
              "#bd3786"
             ],
             [
              0.5555555555555556,
              "#d8576b"
             ],
             [
              0.6666666666666666,
              "#ed7953"
             ],
             [
              0.7777777777777778,
              "#fb9f3a"
             ],
             [
              0.8888888888888888,
              "#fdca26"
             ],
             [
              1,
              "#f0f921"
             ]
            ],
            "type": "contour"
           }
          ],
          "contourcarpet": [
           {
            "colorbar": {
             "outlinewidth": 0,
             "ticks": ""
            },
            "type": "contourcarpet"
           }
          ],
          "heatmap": [
           {
            "colorbar": {
             "outlinewidth": 0,
             "ticks": ""
            },
            "colorscale": [
             [
              0,
              "#0d0887"
             ],
             [
              0.1111111111111111,
              "#46039f"
             ],
             [
              0.2222222222222222,
              "#7201a8"
             ],
             [
              0.3333333333333333,
              "#9c179e"
             ],
             [
              0.4444444444444444,
              "#bd3786"
             ],
             [
              0.5555555555555556,
              "#d8576b"
             ],
             [
              0.6666666666666666,
              "#ed7953"
             ],
             [
              0.7777777777777778,
              "#fb9f3a"
             ],
             [
              0.8888888888888888,
              "#fdca26"
             ],
             [
              1,
              "#f0f921"
             ]
            ],
            "type": "heatmap"
           }
          ],
          "heatmapgl": [
           {
            "colorbar": {
             "outlinewidth": 0,
             "ticks": ""
            },
            "colorscale": [
             [
              0,
              "#0d0887"
             ],
             [
              0.1111111111111111,
              "#46039f"
             ],
             [
              0.2222222222222222,
              "#7201a8"
             ],
             [
              0.3333333333333333,
              "#9c179e"
             ],
             [
              0.4444444444444444,
              "#bd3786"
             ],
             [
              0.5555555555555556,
              "#d8576b"
             ],
             [
              0.6666666666666666,
              "#ed7953"
             ],
             [
              0.7777777777777778,
              "#fb9f3a"
             ],
             [
              0.8888888888888888,
              "#fdca26"
             ],
             [
              1,
              "#f0f921"
             ]
            ],
            "type": "heatmapgl"
           }
          ],
          "histogram": [
           {
            "marker": {
             "pattern": {
              "fillmode": "overlay",
              "size": 10,
              "solidity": 0.2
             }
            },
            "type": "histogram"
           }
          ],
          "histogram2d": [
           {
            "colorbar": {
             "outlinewidth": 0,
             "ticks": ""
            },
            "colorscale": [
             [
              0,
              "#0d0887"
             ],
             [
              0.1111111111111111,
              "#46039f"
             ],
             [
              0.2222222222222222,
              "#7201a8"
             ],
             [
              0.3333333333333333,
              "#9c179e"
             ],
             [
              0.4444444444444444,
              "#bd3786"
             ],
             [
              0.5555555555555556,
              "#d8576b"
             ],
             [
              0.6666666666666666,
              "#ed7953"
             ],
             [
              0.7777777777777778,
              "#fb9f3a"
             ],
             [
              0.8888888888888888,
              "#fdca26"
             ],
             [
              1,
              "#f0f921"
             ]
            ],
            "type": "histogram2d"
           }
          ],
          "histogram2dcontour": [
           {
            "colorbar": {
             "outlinewidth": 0,
             "ticks": ""
            },
            "colorscale": [
             [
              0,
              "#0d0887"
             ],
             [
              0.1111111111111111,
              "#46039f"
             ],
             [
              0.2222222222222222,
              "#7201a8"
             ],
             [
              0.3333333333333333,
              "#9c179e"
             ],
             [
              0.4444444444444444,
              "#bd3786"
             ],
             [
              0.5555555555555556,
              "#d8576b"
             ],
             [
              0.6666666666666666,
              "#ed7953"
             ],
             [
              0.7777777777777778,
              "#fb9f3a"
             ],
             [
              0.8888888888888888,
              "#fdca26"
             ],
             [
              1,
              "#f0f921"
             ]
            ],
            "type": "histogram2dcontour"
           }
          ],
          "mesh3d": [
           {
            "colorbar": {
             "outlinewidth": 0,
             "ticks": ""
            },
            "type": "mesh3d"
           }
          ],
          "parcoords": [
           {
            "line": {
             "colorbar": {
              "outlinewidth": 0,
              "ticks": ""
             }
            },
            "type": "parcoords"
           }
          ],
          "pie": [
           {
            "automargin": true,
            "type": "pie"
           }
          ],
          "scatter": [
           {
            "fillpattern": {
             "fillmode": "overlay",
             "size": 10,
             "solidity": 0.2
            },
            "type": "scatter"
           }
          ],
          "scatter3d": [
           {
            "line": {
             "colorbar": {
              "outlinewidth": 0,
              "ticks": ""
             }
            },
            "marker": {
             "colorbar": {
              "outlinewidth": 0,
              "ticks": ""
             }
            },
            "type": "scatter3d"
           }
          ],
          "scattercarpet": [
           {
            "marker": {
             "colorbar": {
              "outlinewidth": 0,
              "ticks": ""
             }
            },
            "type": "scattercarpet"
           }
          ],
          "scattergeo": [
           {
            "marker": {
             "colorbar": {
              "outlinewidth": 0,
              "ticks": ""
             }
            },
            "type": "scattergeo"
           }
          ],
          "scattergl": [
           {
            "marker": {
             "colorbar": {
              "outlinewidth": 0,
              "ticks": ""
             }
            },
            "type": "scattergl"
           }
          ],
          "scattermapbox": [
           {
            "marker": {
             "colorbar": {
              "outlinewidth": 0,
              "ticks": ""
             }
            },
            "type": "scattermapbox"
           }
          ],
          "scatterpolar": [
           {
            "marker": {
             "colorbar": {
              "outlinewidth": 0,
              "ticks": ""
             }
            },
            "type": "scatterpolar"
           }
          ],
          "scatterpolargl": [
           {
            "marker": {
             "colorbar": {
              "outlinewidth": 0,
              "ticks": ""
             }
            },
            "type": "scatterpolargl"
           }
          ],
          "scatterternary": [
           {
            "marker": {
             "colorbar": {
              "outlinewidth": 0,
              "ticks": ""
             }
            },
            "type": "scatterternary"
           }
          ],
          "surface": [
           {
            "colorbar": {
             "outlinewidth": 0,
             "ticks": ""
            },
            "colorscale": [
             [
              0,
              "#0d0887"
             ],
             [
              0.1111111111111111,
              "#46039f"
             ],
             [
              0.2222222222222222,
              "#7201a8"
             ],
             [
              0.3333333333333333,
              "#9c179e"
             ],
             [
              0.4444444444444444,
              "#bd3786"
             ],
             [
              0.5555555555555556,
              "#d8576b"
             ],
             [
              0.6666666666666666,
              "#ed7953"
             ],
             [
              0.7777777777777778,
              "#fb9f3a"
             ],
             [
              0.8888888888888888,
              "#fdca26"
             ],
             [
              1,
              "#f0f921"
             ]
            ],
            "type": "surface"
           }
          ],
          "table": [
           {
            "cells": {
             "fill": {
              "color": "#EBF0F8"
             },
             "line": {
              "color": "white"
             }
            },
            "header": {
             "fill": {
              "color": "#C8D4E3"
             },
             "line": {
              "color": "white"
             }
            },
            "type": "table"
           }
          ]
         },
         "layout": {
          "annotationdefaults": {
           "arrowcolor": "#2a3f5f",
           "arrowhead": 0,
           "arrowwidth": 1
          },
          "autotypenumbers": "strict",
          "coloraxis": {
           "colorbar": {
            "outlinewidth": 0,
            "ticks": ""
           }
          },
          "colorscale": {
           "diverging": [
            [
             0,
             "#8e0152"
            ],
            [
             0.1,
             "#c51b7d"
            ],
            [
             0.2,
             "#de77ae"
            ],
            [
             0.3,
             "#f1b6da"
            ],
            [
             0.4,
             "#fde0ef"
            ],
            [
             0.5,
             "#f7f7f7"
            ],
            [
             0.6,
             "#e6f5d0"
            ],
            [
             0.7,
             "#b8e186"
            ],
            [
             0.8,
             "#7fbc41"
            ],
            [
             0.9,
             "#4d9221"
            ],
            [
             1,
             "#276419"
            ]
           ],
           "sequential": [
            [
             0,
             "#0d0887"
            ],
            [
             0.1111111111111111,
             "#46039f"
            ],
            [
             0.2222222222222222,
             "#7201a8"
            ],
            [
             0.3333333333333333,
             "#9c179e"
            ],
            [
             0.4444444444444444,
             "#bd3786"
            ],
            [
             0.5555555555555556,
             "#d8576b"
            ],
            [
             0.6666666666666666,
             "#ed7953"
            ],
            [
             0.7777777777777778,
             "#fb9f3a"
            ],
            [
             0.8888888888888888,
             "#fdca26"
            ],
            [
             1,
             "#f0f921"
            ]
           ],
           "sequentialminus": [
            [
             0,
             "#0d0887"
            ],
            [
             0.1111111111111111,
             "#46039f"
            ],
            [
             0.2222222222222222,
             "#7201a8"
            ],
            [
             0.3333333333333333,
             "#9c179e"
            ],
            [
             0.4444444444444444,
             "#bd3786"
            ],
            [
             0.5555555555555556,
             "#d8576b"
            ],
            [
             0.6666666666666666,
             "#ed7953"
            ],
            [
             0.7777777777777778,
             "#fb9f3a"
            ],
            [
             0.8888888888888888,
             "#fdca26"
            ],
            [
             1,
             "#f0f921"
            ]
           ]
          },
          "colorway": [
           "#636efa",
           "#EF553B",
           "#00cc96",
           "#ab63fa",
           "#FFA15A",
           "#19d3f3",
           "#FF6692",
           "#B6E880",
           "#FF97FF",
           "#FECB52"
          ],
          "font": {
           "color": "#2a3f5f"
          },
          "geo": {
           "bgcolor": "white",
           "lakecolor": "white",
           "landcolor": "#E5ECF6",
           "showlakes": true,
           "showland": true,
           "subunitcolor": "white"
          },
          "hoverlabel": {
           "align": "left"
          },
          "hovermode": "closest",
          "mapbox": {
           "style": "light"
          },
          "paper_bgcolor": "white",
          "plot_bgcolor": "#E5ECF6",
          "polar": {
           "angularaxis": {
            "gridcolor": "white",
            "linecolor": "white",
            "ticks": ""
           },
           "bgcolor": "#E5ECF6",
           "radialaxis": {
            "gridcolor": "white",
            "linecolor": "white",
            "ticks": ""
           }
          },
          "scene": {
           "xaxis": {
            "backgroundcolor": "#E5ECF6",
            "gridcolor": "white",
            "gridwidth": 2,
            "linecolor": "white",
            "showbackground": true,
            "ticks": "",
            "zerolinecolor": "white"
           },
           "yaxis": {
            "backgroundcolor": "#E5ECF6",
            "gridcolor": "white",
            "gridwidth": 2,
            "linecolor": "white",
            "showbackground": true,
            "ticks": "",
            "zerolinecolor": "white"
           },
           "zaxis": {
            "backgroundcolor": "#E5ECF6",
            "gridcolor": "white",
            "gridwidth": 2,
            "linecolor": "white",
            "showbackground": true,
            "ticks": "",
            "zerolinecolor": "white"
           }
          },
          "shapedefaults": {
           "line": {
            "color": "#2a3f5f"
           }
          },
          "ternary": {
           "aaxis": {
            "gridcolor": "white",
            "linecolor": "white",
            "ticks": ""
           },
           "baxis": {
            "gridcolor": "white",
            "linecolor": "white",
            "ticks": ""
           },
           "bgcolor": "#E5ECF6",
           "caxis": {
            "gridcolor": "white",
            "linecolor": "white",
            "ticks": ""
           }
          },
          "title": {
           "x": 0.05
          },
          "xaxis": {
           "automargin": true,
           "gridcolor": "white",
           "linecolor": "white",
           "ticks": "",
           "title": {
            "standoff": 15
           },
           "zerolinecolor": "white",
           "zerolinewidth": 2
          },
          "yaxis": {
           "automargin": true,
           "gridcolor": "white",
           "linecolor": "white",
           "ticks": "",
           "title": {
            "standoff": 15
           },
           "zerolinecolor": "white",
           "zerolinewidth": 2
          }
         }
        },
        "title": {
         "text": "Sentiment Distribution Across Years"
        },
        "xaxis": {
         "anchor": "y",
         "domain": [
          0,
          1
         ],
         "title": {
          "text": "Year"
         }
        },
        "yaxis": {
         "anchor": "x",
         "domain": [
          0,
          1
         ],
         "title": {
          "text": "Count"
         }
        }
       }
      },
      "text/html": [
       "<div>                            <div id=\"2b7f6d37-0c79-43f7-aa92-4affdeaae643\" class=\"plotly-graph-div\" style=\"height:525px; width:100%;\"></div>            <script type=\"text/javascript\">                require([\"plotly\"], function(Plotly) {                    window.PLOTLYENV=window.PLOTLYENV || {};                                    if (document.getElementById(\"2b7f6d37-0c79-43f7-aa92-4affdeaae643\")) {                    Plotly.newPlot(                        \"2b7f6d37-0c79-43f7-aa92-4affdeaae643\",                        [{\"alignmentgroup\":\"True\",\"hovertemplate\":\"General_Sentiment=Anger<br>Year=%{x}<br>Count=%{y}<extra></extra>\",\"legendgroup\":\"Anger\",\"marker\":{\"color\":\"rgb(102, 197, 204)\",\"pattern\":{\"shape\":\"\"}},\"name\":\"Anger\",\"offsetgroup\":\"Anger\",\"orientation\":\"v\",\"showlegend\":true,\"textposition\":\"auto\",\"x\":[2010,2011,2012,2013,2014,2015,2016,2017,2018,2019,2020,2021,2022,2023],\"xaxis\":\"x\",\"y\":[0.0,0.0,0.0,0.0,0.0,1.0,0.0,4.0,3.0,3.0,4.0,3.0,3.0,18.0],\"yaxis\":\"y\",\"type\":\"bar\"},{\"alignmentgroup\":\"True\",\"hovertemplate\":\"General_Sentiment=Anticipation<br>Year=%{x}<br>Count=%{y}<extra></extra>\",\"legendgroup\":\"Anticipation\",\"marker\":{\"color\":\"rgb(246, 207, 113)\",\"pattern\":{\"shape\":\"\"}},\"name\":\"Anticipation\",\"offsetgroup\":\"Anticipation\",\"orientation\":\"v\",\"showlegend\":true,\"textposition\":\"auto\",\"x\":[2010,2011,2012,2013,2014,2015,2016,2017,2018,2019,2020,2021,2022,2023],\"xaxis\":\"x\",\"y\":[0.0,0.0,0.0,0.0,0.0,5.0,3.0,4.0,3.0,9.0,7.0,2.0,10.0,14.0],\"yaxis\":\"y\",\"type\":\"bar\"},{\"alignmentgroup\":\"True\",\"hovertemplate\":\"General_Sentiment=Disgust<br>Year=%{x}<br>Count=%{y}<extra></extra>\",\"legendgroup\":\"Disgust\",\"marker\":{\"color\":\"rgb(248, 156, 116)\",\"pattern\":{\"shape\":\"\"}},\"name\":\"Disgust\",\"offsetgroup\":\"Disgust\",\"orientation\":\"v\",\"showlegend\":true,\"textposition\":\"auto\",\"x\":[2010,2011,2012,2013,2014,2015,2016,2017,2018,2019,2020,2021,2022,2023],\"xaxis\":\"x\",\"y\":[0.0,0.0,0.0,0.0,0.0,0.0,2.0,0.0,2.0,2.0,0.0,0.0,0.0,9.0],\"yaxis\":\"y\",\"type\":\"bar\"},{\"alignmentgroup\":\"True\",\"hovertemplate\":\"General_Sentiment=Fear<br>Year=%{x}<br>Count=%{y}<extra></extra>\",\"legendgroup\":\"Fear\",\"marker\":{\"color\":\"rgb(220, 176, 242)\",\"pattern\":{\"shape\":\"\"}},\"name\":\"Fear\",\"offsetgroup\":\"Fear\",\"orientation\":\"v\",\"showlegend\":true,\"textposition\":\"auto\",\"x\":[2010,2011,2012,2013,2014,2015,2016,2017,2018,2019,2020,2021,2022,2023],\"xaxis\":\"x\",\"y\":[0.0,0.0,0.0,0.0,0.0,0.0,1.0,0.0,2.0,5.0,2.0,6.0,3.0,5.0],\"yaxis\":\"y\",\"type\":\"bar\"},{\"alignmentgroup\":\"True\",\"hovertemplate\":\"General_Sentiment=Joy/Happiness<br>Year=%{x}<br>Count=%{y}<extra></extra>\",\"legendgroup\":\"Joy/Happiness\",\"marker\":{\"color\":\"rgb(135, 197, 95)\",\"pattern\":{\"shape\":\"\"}},\"name\":\"Joy/Happiness\",\"offsetgroup\":\"Joy/Happiness\",\"orientation\":\"v\",\"showlegend\":true,\"textposition\":\"auto\",\"x\":[2010,2011,2012,2013,2014,2015,2016,2017,2018,2019,2020,2021,2022,2023],\"xaxis\":\"x\",\"y\":[1.0,1.0,4.0,4.0,4.0,4.0,6.0,13.0,25.0,22.0,21.0,18.0,18.0,142.0],\"yaxis\":\"y\",\"type\":\"bar\"},{\"alignmentgroup\":\"True\",\"hovertemplate\":\"General_Sentiment=Love/Affection<br>Year=%{x}<br>Count=%{y}<extra></extra>\",\"legendgroup\":\"Love/Affection\",\"marker\":{\"color\":\"rgb(158, 185, 243)\",\"pattern\":{\"shape\":\"\"}},\"name\":\"Love/Affection\",\"offsetgroup\":\"Love/Affection\",\"orientation\":\"v\",\"showlegend\":true,\"textposition\":\"auto\",\"x\":[2010,2011,2012,2013,2014,2015,2016,2017,2018,2019,2020,2021,2022,2023],\"xaxis\":\"x\",\"y\":[0.0,0.0,0.0,0.0,0.0,3.0,7.0,6.0,4.0,4.0,1.0,4.0,4.0,17.0],\"yaxis\":\"y\",\"type\":\"bar\"},{\"alignmentgroup\":\"True\",\"hovertemplate\":\"General_Sentiment=Neutral/Calm<br>Year=%{x}<br>Count=%{y}<extra></extra>\",\"legendgroup\":\"Neutral/Calm\",\"marker\":{\"color\":\"rgb(254, 136, 177)\",\"pattern\":{\"shape\":\"\"}},\"name\":\"Neutral/Calm\",\"offsetgroup\":\"Neutral/Calm\",\"orientation\":\"v\",\"showlegend\":true,\"textposition\":\"auto\",\"x\":[2010,2011,2012,2013,2014,2015,2016,2017,2018,2019,2020,2021,2022,2023],\"xaxis\":\"x\",\"y\":[2.0,3.0,0.0,0.0,0.0,2.0,6.0,3.0,2.0,10.0,10.0,10.0,4.0,40.0],\"yaxis\":\"y\",\"type\":\"bar\"},{\"alignmentgroup\":\"True\",\"hovertemplate\":\"General_Sentiment=Sadness<br>Year=%{x}<br>Count=%{y}<extra></extra>\",\"legendgroup\":\"Sadness\",\"marker\":{\"color\":\"rgb(201, 219, 116)\",\"pattern\":{\"shape\":\"\"}},\"name\":\"Sadness\",\"offsetgroup\":\"Sadness\",\"orientation\":\"v\",\"showlegend\":true,\"textposition\":\"auto\",\"x\":[2010,2011,2012,2013,2014,2015,2016,2017,2018,2019,2020,2021,2022,2023],\"xaxis\":\"x\",\"y\":[0.0,0.0,0.0,0.0,0.0,3.0,9.0,10.0,10.0,13.0,11.0,8.0,12.0,27.0],\"yaxis\":\"y\",\"type\":\"bar\"},{\"alignmentgroup\":\"True\",\"hovertemplate\":\"General_Sentiment=Suprise<br>Year=%{x}<br>Count=%{y}<extra></extra>\",\"legendgroup\":\"Suprise\",\"marker\":{\"color\":\"rgb(139, 224, 164)\",\"pattern\":{\"shape\":\"\"}},\"name\":\"Suprise\",\"offsetgroup\":\"Suprise\",\"orientation\":\"v\",\"showlegend\":true,\"textposition\":\"auto\",\"x\":[2010,2011,2012,2013,2014,2015,2016,2017,2018,2019,2020,2021,2022,2023],\"xaxis\":\"x\",\"y\":[0.0,0.0,0.0,0.0,0.0,1.0,2.0,1.0,2.0,2.0,3.0,4.0,3.0,9.0],\"yaxis\":\"y\",\"type\":\"bar\"},{\"alignmentgroup\":\"True\",\"hovertemplate\":\"General_Sentiment=Trust<br>Year=%{x}<br>Count=%{y}<extra></extra>\",\"legendgroup\":\"Trust\",\"marker\":{\"color\":\"rgb(180, 151, 231)\",\"pattern\":{\"shape\":\"\"}},\"name\":\"Trust\",\"offsetgroup\":\"Trust\",\"orientation\":\"v\",\"showlegend\":true,\"textposition\":\"auto\",\"x\":[2010,2011,2012,2013,2014,2015,2016,2017,2018,2019,2020,2021,2022,2023],\"xaxis\":\"x\",\"y\":[0.0,0.0,0.0,0.0,0.0,0.0,1.0,1.0,0.0,0.0,5.0,3.0,1.0,6.0],\"yaxis\":\"y\",\"type\":\"bar\"}],                        {\"template\":{\"data\":{\"histogram2dcontour\":[{\"type\":\"histogram2dcontour\",\"colorbar\":{\"outlinewidth\":0,\"ticks\":\"\"},\"colorscale\":[[0.0,\"#0d0887\"],[0.1111111111111111,\"#46039f\"],[0.2222222222222222,\"#7201a8\"],[0.3333333333333333,\"#9c179e\"],[0.4444444444444444,\"#bd3786\"],[0.5555555555555556,\"#d8576b\"],[0.6666666666666666,\"#ed7953\"],[0.7777777777777778,\"#fb9f3a\"],[0.8888888888888888,\"#fdca26\"],[1.0,\"#f0f921\"]]}],\"choropleth\":[{\"type\":\"choropleth\",\"colorbar\":{\"outlinewidth\":0,\"ticks\":\"\"}}],\"histogram2d\":[{\"type\":\"histogram2d\",\"colorbar\":{\"outlinewidth\":0,\"ticks\":\"\"},\"colorscale\":[[0.0,\"#0d0887\"],[0.1111111111111111,\"#46039f\"],[0.2222222222222222,\"#7201a8\"],[0.3333333333333333,\"#9c179e\"],[0.4444444444444444,\"#bd3786\"],[0.5555555555555556,\"#d8576b\"],[0.6666666666666666,\"#ed7953\"],[0.7777777777777778,\"#fb9f3a\"],[0.8888888888888888,\"#fdca26\"],[1.0,\"#f0f921\"]]}],\"heatmap\":[{\"type\":\"heatmap\",\"colorbar\":{\"outlinewidth\":0,\"ticks\":\"\"},\"colorscale\":[[0.0,\"#0d0887\"],[0.1111111111111111,\"#46039f\"],[0.2222222222222222,\"#7201a8\"],[0.3333333333333333,\"#9c179e\"],[0.4444444444444444,\"#bd3786\"],[0.5555555555555556,\"#d8576b\"],[0.6666666666666666,\"#ed7953\"],[0.7777777777777778,\"#fb9f3a\"],[0.8888888888888888,\"#fdca26\"],[1.0,\"#f0f921\"]]}],\"heatmapgl\":[{\"type\":\"heatmapgl\",\"colorbar\":{\"outlinewidth\":0,\"ticks\":\"\"},\"colorscale\":[[0.0,\"#0d0887\"],[0.1111111111111111,\"#46039f\"],[0.2222222222222222,\"#7201a8\"],[0.3333333333333333,\"#9c179e\"],[0.4444444444444444,\"#bd3786\"],[0.5555555555555556,\"#d8576b\"],[0.6666666666666666,\"#ed7953\"],[0.7777777777777778,\"#fb9f3a\"],[0.8888888888888888,\"#fdca26\"],[1.0,\"#f0f921\"]]}],\"contourcarpet\":[{\"type\":\"contourcarpet\",\"colorbar\":{\"outlinewidth\":0,\"ticks\":\"\"}}],\"contour\":[{\"type\":\"contour\",\"colorbar\":{\"outlinewidth\":0,\"ticks\":\"\"},\"colorscale\":[[0.0,\"#0d0887\"],[0.1111111111111111,\"#46039f\"],[0.2222222222222222,\"#7201a8\"],[0.3333333333333333,\"#9c179e\"],[0.4444444444444444,\"#bd3786\"],[0.5555555555555556,\"#d8576b\"],[0.6666666666666666,\"#ed7953\"],[0.7777777777777778,\"#fb9f3a\"],[0.8888888888888888,\"#fdca26\"],[1.0,\"#f0f921\"]]}],\"surface\":[{\"type\":\"surface\",\"colorbar\":{\"outlinewidth\":0,\"ticks\":\"\"},\"colorscale\":[[0.0,\"#0d0887\"],[0.1111111111111111,\"#46039f\"],[0.2222222222222222,\"#7201a8\"],[0.3333333333333333,\"#9c179e\"],[0.4444444444444444,\"#bd3786\"],[0.5555555555555556,\"#d8576b\"],[0.6666666666666666,\"#ed7953\"],[0.7777777777777778,\"#fb9f3a\"],[0.8888888888888888,\"#fdca26\"],[1.0,\"#f0f921\"]]}],\"mesh3d\":[{\"type\":\"mesh3d\",\"colorbar\":{\"outlinewidth\":0,\"ticks\":\"\"}}],\"scatter\":[{\"fillpattern\":{\"fillmode\":\"overlay\",\"size\":10,\"solidity\":0.2},\"type\":\"scatter\"}],\"parcoords\":[{\"type\":\"parcoords\",\"line\":{\"colorbar\":{\"outlinewidth\":0,\"ticks\":\"\"}}}],\"scatterpolargl\":[{\"type\":\"scatterpolargl\",\"marker\":{\"colorbar\":{\"outlinewidth\":0,\"ticks\":\"\"}}}],\"bar\":[{\"error_x\":{\"color\":\"#2a3f5f\"},\"error_y\":{\"color\":\"#2a3f5f\"},\"marker\":{\"line\":{\"color\":\"#E5ECF6\",\"width\":0.5},\"pattern\":{\"fillmode\":\"overlay\",\"size\":10,\"solidity\":0.2}},\"type\":\"bar\"}],\"scattergeo\":[{\"type\":\"scattergeo\",\"marker\":{\"colorbar\":{\"outlinewidth\":0,\"ticks\":\"\"}}}],\"scatterpolar\":[{\"type\":\"scatterpolar\",\"marker\":{\"colorbar\":{\"outlinewidth\":0,\"ticks\":\"\"}}}],\"histogram\":[{\"marker\":{\"pattern\":{\"fillmode\":\"overlay\",\"size\":10,\"solidity\":0.2}},\"type\":\"histogram\"}],\"scattergl\":[{\"type\":\"scattergl\",\"marker\":{\"colorbar\":{\"outlinewidth\":0,\"ticks\":\"\"}}}],\"scatter3d\":[{\"type\":\"scatter3d\",\"line\":{\"colorbar\":{\"outlinewidth\":0,\"ticks\":\"\"}},\"marker\":{\"colorbar\":{\"outlinewidth\":0,\"ticks\":\"\"}}}],\"scattermapbox\":[{\"type\":\"scattermapbox\",\"marker\":{\"colorbar\":{\"outlinewidth\":0,\"ticks\":\"\"}}}],\"scatterternary\":[{\"type\":\"scatterternary\",\"marker\":{\"colorbar\":{\"outlinewidth\":0,\"ticks\":\"\"}}}],\"scattercarpet\":[{\"type\":\"scattercarpet\",\"marker\":{\"colorbar\":{\"outlinewidth\":0,\"ticks\":\"\"}}}],\"carpet\":[{\"aaxis\":{\"endlinecolor\":\"#2a3f5f\",\"gridcolor\":\"white\",\"linecolor\":\"white\",\"minorgridcolor\":\"white\",\"startlinecolor\":\"#2a3f5f\"},\"baxis\":{\"endlinecolor\":\"#2a3f5f\",\"gridcolor\":\"white\",\"linecolor\":\"white\",\"minorgridcolor\":\"white\",\"startlinecolor\":\"#2a3f5f\"},\"type\":\"carpet\"}],\"table\":[{\"cells\":{\"fill\":{\"color\":\"#EBF0F8\"},\"line\":{\"color\":\"white\"}},\"header\":{\"fill\":{\"color\":\"#C8D4E3\"},\"line\":{\"color\":\"white\"}},\"type\":\"table\"}],\"barpolar\":[{\"marker\":{\"line\":{\"color\":\"#E5ECF6\",\"width\":0.5},\"pattern\":{\"fillmode\":\"overlay\",\"size\":10,\"solidity\":0.2}},\"type\":\"barpolar\"}],\"pie\":[{\"automargin\":true,\"type\":\"pie\"}]},\"layout\":{\"autotypenumbers\":\"strict\",\"colorway\":[\"#636efa\",\"#EF553B\",\"#00cc96\",\"#ab63fa\",\"#FFA15A\",\"#19d3f3\",\"#FF6692\",\"#B6E880\",\"#FF97FF\",\"#FECB52\"],\"font\":{\"color\":\"#2a3f5f\"},\"hovermode\":\"closest\",\"hoverlabel\":{\"align\":\"left\"},\"paper_bgcolor\":\"white\",\"plot_bgcolor\":\"#E5ECF6\",\"polar\":{\"bgcolor\":\"#E5ECF6\",\"angularaxis\":{\"gridcolor\":\"white\",\"linecolor\":\"white\",\"ticks\":\"\"},\"radialaxis\":{\"gridcolor\":\"white\",\"linecolor\":\"white\",\"ticks\":\"\"}},\"ternary\":{\"bgcolor\":\"#E5ECF6\",\"aaxis\":{\"gridcolor\":\"white\",\"linecolor\":\"white\",\"ticks\":\"\"},\"baxis\":{\"gridcolor\":\"white\",\"linecolor\":\"white\",\"ticks\":\"\"},\"caxis\":{\"gridcolor\":\"white\",\"linecolor\":\"white\",\"ticks\":\"\"}},\"coloraxis\":{\"colorbar\":{\"outlinewidth\":0,\"ticks\":\"\"}},\"colorscale\":{\"sequential\":[[0.0,\"#0d0887\"],[0.1111111111111111,\"#46039f\"],[0.2222222222222222,\"#7201a8\"],[0.3333333333333333,\"#9c179e\"],[0.4444444444444444,\"#bd3786\"],[0.5555555555555556,\"#d8576b\"],[0.6666666666666666,\"#ed7953\"],[0.7777777777777778,\"#fb9f3a\"],[0.8888888888888888,\"#fdca26\"],[1.0,\"#f0f921\"]],\"sequentialminus\":[[0.0,\"#0d0887\"],[0.1111111111111111,\"#46039f\"],[0.2222222222222222,\"#7201a8\"],[0.3333333333333333,\"#9c179e\"],[0.4444444444444444,\"#bd3786\"],[0.5555555555555556,\"#d8576b\"],[0.6666666666666666,\"#ed7953\"],[0.7777777777777778,\"#fb9f3a\"],[0.8888888888888888,\"#fdca26\"],[1.0,\"#f0f921\"]],\"diverging\":[[0,\"#8e0152\"],[0.1,\"#c51b7d\"],[0.2,\"#de77ae\"],[0.3,\"#f1b6da\"],[0.4,\"#fde0ef\"],[0.5,\"#f7f7f7\"],[0.6,\"#e6f5d0\"],[0.7,\"#b8e186\"],[0.8,\"#7fbc41\"],[0.9,\"#4d9221\"],[1,\"#276419\"]]},\"xaxis\":{\"gridcolor\":\"white\",\"linecolor\":\"white\",\"ticks\":\"\",\"title\":{\"standoff\":15},\"zerolinecolor\":\"white\",\"automargin\":true,\"zerolinewidth\":2},\"yaxis\":{\"gridcolor\":\"white\",\"linecolor\":\"white\",\"ticks\":\"\",\"title\":{\"standoff\":15},\"zerolinecolor\":\"white\",\"automargin\":true,\"zerolinewidth\":2},\"scene\":{\"xaxis\":{\"backgroundcolor\":\"#E5ECF6\",\"gridcolor\":\"white\",\"linecolor\":\"white\",\"showbackground\":true,\"ticks\":\"\",\"zerolinecolor\":\"white\",\"gridwidth\":2},\"yaxis\":{\"backgroundcolor\":\"#E5ECF6\",\"gridcolor\":\"white\",\"linecolor\":\"white\",\"showbackground\":true,\"ticks\":\"\",\"zerolinecolor\":\"white\",\"gridwidth\":2},\"zaxis\":{\"backgroundcolor\":\"#E5ECF6\",\"gridcolor\":\"white\",\"linecolor\":\"white\",\"showbackground\":true,\"ticks\":\"\",\"zerolinecolor\":\"white\",\"gridwidth\":2}},\"shapedefaults\":{\"line\":{\"color\":\"#2a3f5f\"}},\"annotationdefaults\":{\"arrowcolor\":\"#2a3f5f\",\"arrowhead\":0,\"arrowwidth\":1},\"geo\":{\"bgcolor\":\"white\",\"landcolor\":\"#E5ECF6\",\"subunitcolor\":\"white\",\"showland\":true,\"showlakes\":true,\"lakecolor\":\"white\"},\"title\":{\"x\":0.05},\"mapbox\":{\"style\":\"light\"}}},\"xaxis\":{\"anchor\":\"y\",\"domain\":[0.0,1.0],\"title\":{\"text\":\"Year\"}},\"yaxis\":{\"anchor\":\"x\",\"domain\":[0.0,1.0],\"title\":{\"text\":\"Count\"}},\"legend\":{\"title\":{\"text\":\"General_Sentiment\"},\"tracegroupgap\":0},\"title\":{\"text\":\"Sentiment Distribution Across Years\"},\"barmode\":\"relative\"},                        {\"responsive\": true}                    ).then(function(){\n",
       "                            \n",
       "var gd = document.getElementById('2b7f6d37-0c79-43f7-aa92-4affdeaae643');\n",
       "var x = new MutationObserver(function (mutations, observer) {{\n",
       "        var display = window.getComputedStyle(gd).display;\n",
       "        if (!display || display === 'none') {{\n",
       "            console.log([gd, 'removed!']);\n",
       "            Plotly.purge(gd);\n",
       "            observer.disconnect();\n",
       "        }}\n",
       "}});\n",
       "\n",
       "// Listen for the removal of the full notebook cells\n",
       "var notebookContainer = gd.closest('#notebook-container');\n",
       "if (notebookContainer) {{\n",
       "    x.observe(notebookContainer, {childList: true});\n",
       "}}\n",
       "\n",
       "// Listen for the clearing of the current output cell\n",
       "var outputEl = gd.closest('.output');\n",
       "if (outputEl) {{\n",
       "    x.observe(outputEl, {childList: true});\n",
       "}}\n",
       "\n",
       "                        })                };                });            </script>        </div>"
      ]
     },
     "metadata": {},
     "output_type": "display_data"
    }
   ],
   "source": [
    "fig = px.bar(\n",
    "    sentiment_counts,\n",
    "    x=sentiment_counts.index,\n",
    "    y=sentiment_counts.columns,\n",
    "    title=\"Sentiment Distribution Across Years\",\n",
    "    labels={\"value\": \"Count\", \"Year\": \"Year\"},\n",
    "    color_discrete_sequence=px.colors.qualitative.Pastel\n",
    ")\n",
    "\n",
    "fig.show()\n",
    "\n",
    "# here we can talk about how there is more and more available data over the years\n",
    "# and how most data in this dataset stems from year 2023"
   ]
  },
  {
   "cell_type": "markdown",
   "id": "35f22b52",
   "metadata": {},
   "source": [
    "# 2. Monthly distribution of sentiments"
   ]
  },
  {
   "cell_type": "code",
   "execution_count": 39,
   "id": "1eabb3f8",
   "metadata": {
    "scrolled": true
   },
   "outputs": [],
   "source": [
    "# start here for month\n",
    "sentiment_melted = sentiment_counts.reset_index().melt(id_vars='Month', value_vars=sentiment_counts.columns)"
   ]
  },
  {
   "cell_type": "code",
   "execution_count": 42,
   "id": "de8b2294",
   "metadata": {
    "scrolled": false
   },
   "outputs": [
    {
     "data": {
      "application/vnd.plotly.v1+json": {
       "config": {
        "plotlyServerURL": "https://plot.ly"
       },
       "data": [
        {
         "alignmentgroup": "True",
         "hovertemplate": "General_Sentiment=%{text}<br>Month=%{x}<br>Count=%{y}<extra></extra>",
         "legendgroup": "Anger",
         "marker": {
          "color": "#440154",
          "pattern": {
           "shape": ""
          }
         },
         "name": "Anger",
         "offsetgroup": "Anger",
         "orientation": "v",
         "showlegend": true,
         "text": [
          "Anger",
          "Anger",
          "Anger",
          "Anger",
          "Anger",
          "Anger",
          "Anger",
          "Anger",
          "Anger",
          "Anger",
          "Anger",
          "Anger"
         ],
         "textposition": "auto",
         "type": "bar",
         "x": [
          1,
          2,
          3,
          4,
          5,
          6,
          7,
          8,
          9,
          10,
          11,
          12
         ],
         "xaxis": "x",
         "y": [
          5,
          4,
          2,
          3,
          2,
          1,
          1,
          2,
          13,
          2,
          2,
          2
         ],
         "yaxis": "y"
        },
        {
         "alignmentgroup": "True",
         "hovertemplate": "General_Sentiment=%{text}<br>Month=%{x}<br>Count=%{y}<extra></extra>",
         "legendgroup": "Anticipation",
         "marker": {
          "color": "#482878",
          "pattern": {
           "shape": ""
          }
         },
         "name": "Anticipation",
         "offsetgroup": "Anticipation",
         "orientation": "v",
         "showlegend": true,
         "text": [
          "Anticipation",
          "Anticipation",
          "Anticipation",
          "Anticipation",
          "Anticipation",
          "Anticipation",
          "Anticipation",
          "Anticipation",
          "Anticipation",
          "Anticipation",
          "Anticipation",
          "Anticipation"
         ],
         "textposition": "auto",
         "type": "bar",
         "x": [
          1,
          2,
          3,
          4,
          5,
          6,
          7,
          8,
          9,
          10,
          11,
          12
         ],
         "xaxis": "x",
         "y": [
          1,
          6,
          2,
          5,
          3,
          6,
          5,
          5,
          6,
          5,
          10,
          3
         ],
         "yaxis": "y"
        },
        {
         "alignmentgroup": "True",
         "hovertemplate": "General_Sentiment=%{text}<br>Month=%{x}<br>Count=%{y}<extra></extra>",
         "legendgroup": "Disgust",
         "marker": {
          "color": "#3e4989",
          "pattern": {
           "shape": ""
          }
         },
         "name": "Disgust",
         "offsetgroup": "Disgust",
         "orientation": "v",
         "showlegend": true,
         "text": [
          "Disgust",
          "Disgust",
          "Disgust",
          "Disgust",
          "Disgust",
          "Disgust",
          "Disgust",
          "Disgust",
          "Disgust",
          "Disgust",
          "Disgust",
          "Disgust"
         ],
         "textposition": "auto",
         "type": "bar",
         "x": [
          1,
          2,
          3,
          4,
          5,
          6,
          7,
          8,
          9,
          10,
          11,
          12
         ],
         "xaxis": "x",
         "y": [
          0,
          7,
          2,
          0,
          2,
          0,
          2,
          1,
          0,
          0,
          1,
          0
         ],
         "yaxis": "y"
        },
        {
         "alignmentgroup": "True",
         "hovertemplate": "General_Sentiment=%{text}<br>Month=%{x}<br>Count=%{y}<extra></extra>",
         "legendgroup": "Fear",
         "marker": {
          "color": "#31688e",
          "pattern": {
           "shape": ""
          }
         },
         "name": "Fear",
         "offsetgroup": "Fear",
         "orientation": "v",
         "showlegend": true,
         "text": [
          "Fear",
          "Fear",
          "Fear",
          "Fear",
          "Fear",
          "Fear",
          "Fear",
          "Fear",
          "Fear",
          "Fear",
          "Fear",
          "Fear"
         ],
         "textposition": "auto",
         "type": "bar",
         "x": [
          1,
          2,
          3,
          4,
          5,
          6,
          7,
          8,
          9,
          10,
          11,
          12
         ],
         "xaxis": "x",
         "y": [
          3,
          3,
          1,
          3,
          3,
          3,
          1,
          2,
          1,
          1,
          1,
          2
         ],
         "yaxis": "y"
        },
        {
         "alignmentgroup": "True",
         "hovertemplate": "General_Sentiment=%{text}<br>Month=%{x}<br>Count=%{y}<extra></extra>",
         "legendgroup": "Joy/Happiness",
         "marker": {
          "color": "#26828e",
          "pattern": {
           "shape": ""
          }
         },
         "name": "Joy/Happiness",
         "offsetgroup": "Joy/Happiness",
         "orientation": "v",
         "showlegend": true,
         "text": [
          "Joy/Happiness",
          "Joy/Happiness",
          "Joy/Happiness",
          "Joy/Happiness",
          "Joy/Happiness",
          "Joy/Happiness",
          "Joy/Happiness",
          "Joy/Happiness",
          "Joy/Happiness",
          "Joy/Happiness",
          "Joy/Happiness",
          "Joy/Happiness"
         ],
         "textposition": "auto",
         "type": "bar",
         "x": [
          1,
          2,
          3,
          4,
          5,
          6,
          7,
          8,
          9,
          10,
          11,
          12
         ],
         "xaxis": "x",
         "y": [
          50,
          25,
          14,
          14,
          14,
          37,
          30,
          35,
          23,
          13,
          12,
          16
         ],
         "yaxis": "y"
        },
        {
         "alignmentgroup": "True",
         "hovertemplate": "General_Sentiment=%{text}<br>Month=%{x}<br>Count=%{y}<extra></extra>",
         "legendgroup": "Love/Affection",
         "marker": {
          "color": "#1f9e89",
          "pattern": {
           "shape": ""
          }
         },
         "name": "Love/Affection",
         "offsetgroup": "Love/Affection",
         "orientation": "v",
         "showlegend": true,
         "text": [
          "Love/Affection",
          "Love/Affection",
          "Love/Affection",
          "Love/Affection",
          "Love/Affection",
          "Love/Affection",
          "Love/Affection",
          "Love/Affection",
          "Love/Affection",
          "Love/Affection",
          "Love/Affection",
          "Love/Affection"
         ],
         "textposition": "auto",
         "type": "bar",
         "x": [
          1,
          2,
          3,
          4,
          5,
          6,
          7,
          8,
          9,
          10,
          11,
          12
         ],
         "xaxis": "x",
         "y": [
          2,
          16,
          5,
          6,
          2,
          2,
          2,
          2,
          5,
          1,
          3,
          4
         ],
         "yaxis": "y"
        },
        {
         "alignmentgroup": "True",
         "hovertemplate": "General_Sentiment=%{text}<br>Month=%{x}<br>Count=%{y}<extra></extra>",
         "legendgroup": "Neutral/Calm",
         "marker": {
          "color": "#35b779",
          "pattern": {
           "shape": ""
          }
         },
         "name": "Neutral/Calm",
         "offsetgroup": "Neutral/Calm",
         "orientation": "v",
         "showlegend": true,
         "text": [
          "Neutral/Calm",
          "Neutral/Calm",
          "Neutral/Calm",
          "Neutral/Calm",
          "Neutral/Calm",
          "Neutral/Calm",
          "Neutral/Calm",
          "Neutral/Calm",
          "Neutral/Calm",
          "Neutral/Calm",
          "Neutral/Calm",
          "Neutral/Calm"
         ],
         "textposition": "auto",
         "type": "bar",
         "x": [
          1,
          2,
          3,
          4,
          5,
          6,
          7,
          8,
          9,
          10,
          11,
          12
         ],
         "xaxis": "x",
         "y": [
          6,
          8,
          4,
          7,
          7,
          9,
          7,
          5,
          7,
          19,
          10,
          3
         ],
         "yaxis": "y"
        },
        {
         "alignmentgroup": "True",
         "hovertemplate": "General_Sentiment=%{text}<br>Month=%{x}<br>Count=%{y}<extra></extra>",
         "legendgroup": "Sadness",
         "marker": {
          "color": "#6ece58",
          "pattern": {
           "shape": ""
          }
         },
         "name": "Sadness",
         "offsetgroup": "Sadness",
         "orientation": "v",
         "showlegend": true,
         "text": [
          "Sadness",
          "Sadness",
          "Sadness",
          "Sadness",
          "Sadness",
          "Sadness",
          "Sadness",
          "Sadness",
          "Sadness",
          "Sadness",
          "Sadness",
          "Sadness"
         ],
         "textposition": "auto",
         "type": "bar",
         "x": [
          1,
          2,
          3,
          4,
          5,
          6,
          7,
          8,
          9,
          10,
          11,
          12
         ],
         "xaxis": "x",
         "y": [
          8,
          9,
          10,
          6,
          4,
          7,
          6,
          16,
          18,
          5,
          7,
          7
         ],
         "yaxis": "y"
        },
        {
         "alignmentgroup": "True",
         "hovertemplate": "General_Sentiment=%{text}<br>Month=%{x}<br>Count=%{y}<extra></extra>",
         "legendgroup": "Suprise",
         "marker": {
          "color": "#b5de2b",
          "pattern": {
           "shape": ""
          }
         },
         "name": "Suprise",
         "offsetgroup": "Suprise",
         "orientation": "v",
         "showlegend": true,
         "text": [
          "Suprise",
          "Suprise",
          "Suprise",
          "Suprise",
          "Suprise",
          "Suprise",
          "Suprise",
          "Suprise",
          "Suprise",
          "Suprise",
          "Suprise",
          "Suprise"
         ],
         "textposition": "auto",
         "type": "bar",
         "x": [
          1,
          2,
          3,
          4,
          5,
          6,
          7,
          8,
          9,
          10,
          11,
          12
         ],
         "xaxis": "x",
         "y": [
          1,
          5,
          3,
          2,
          5,
          3,
          2,
          4,
          1,
          1,
          0,
          0
         ],
         "yaxis": "y"
        },
        {
         "alignmentgroup": "True",
         "hovertemplate": "General_Sentiment=%{text}<br>Month=%{x}<br>Count=%{y}<extra></extra>",
         "legendgroup": "Trust",
         "marker": {
          "color": "#fde725",
          "pattern": {
           "shape": ""
          }
         },
         "name": "Trust",
         "offsetgroup": "Trust",
         "orientation": "v",
         "showlegend": true,
         "text": [
          "Trust",
          "Trust",
          "Trust",
          "Trust",
          "Trust",
          "Trust",
          "Trust",
          "Trust",
          "Trust",
          "Trust",
          "Trust",
          "Trust"
         ],
         "textposition": "auto",
         "type": "bar",
         "x": [
          1,
          2,
          3,
          4,
          5,
          6,
          7,
          8,
          9,
          10,
          11,
          12
         ],
         "xaxis": "x",
         "y": [
          1,
          2,
          1,
          3,
          3,
          2,
          2,
          2,
          0,
          0,
          1,
          0
         ],
         "yaxis": "y"
        }
       ],
       "layout": {
        "barmode": "relative",
        "legend": {
         "title": {
          "text": "General_Sentiment"
         },
         "tracegroupgap": 0
        },
        "template": {
         "data": {
          "bar": [
           {
            "error_x": {
             "color": "#2a3f5f"
            },
            "error_y": {
             "color": "#2a3f5f"
            },
            "marker": {
             "line": {
              "color": "#E5ECF6",
              "width": 0.5
             },
             "pattern": {
              "fillmode": "overlay",
              "size": 10,
              "solidity": 0.2
             }
            },
            "type": "bar"
           }
          ],
          "barpolar": [
           {
            "marker": {
             "line": {
              "color": "#E5ECF6",
              "width": 0.5
             },
             "pattern": {
              "fillmode": "overlay",
              "size": 10,
              "solidity": 0.2
             }
            },
            "type": "barpolar"
           }
          ],
          "carpet": [
           {
            "aaxis": {
             "endlinecolor": "#2a3f5f",
             "gridcolor": "white",
             "linecolor": "white",
             "minorgridcolor": "white",
             "startlinecolor": "#2a3f5f"
            },
            "baxis": {
             "endlinecolor": "#2a3f5f",
             "gridcolor": "white",
             "linecolor": "white",
             "minorgridcolor": "white",
             "startlinecolor": "#2a3f5f"
            },
            "type": "carpet"
           }
          ],
          "choropleth": [
           {
            "colorbar": {
             "outlinewidth": 0,
             "ticks": ""
            },
            "type": "choropleth"
           }
          ],
          "contour": [
           {
            "colorbar": {
             "outlinewidth": 0,
             "ticks": ""
            },
            "colorscale": [
             [
              0,
              "#0d0887"
             ],
             [
              0.1111111111111111,
              "#46039f"
             ],
             [
              0.2222222222222222,
              "#7201a8"
             ],
             [
              0.3333333333333333,
              "#9c179e"
             ],
             [
              0.4444444444444444,
              "#bd3786"
             ],
             [
              0.5555555555555556,
              "#d8576b"
             ],
             [
              0.6666666666666666,
              "#ed7953"
             ],
             [
              0.7777777777777778,
              "#fb9f3a"
             ],
             [
              0.8888888888888888,
              "#fdca26"
             ],
             [
              1,
              "#f0f921"
             ]
            ],
            "type": "contour"
           }
          ],
          "contourcarpet": [
           {
            "colorbar": {
             "outlinewidth": 0,
             "ticks": ""
            },
            "type": "contourcarpet"
           }
          ],
          "heatmap": [
           {
            "colorbar": {
             "outlinewidth": 0,
             "ticks": ""
            },
            "colorscale": [
             [
              0,
              "#0d0887"
             ],
             [
              0.1111111111111111,
              "#46039f"
             ],
             [
              0.2222222222222222,
              "#7201a8"
             ],
             [
              0.3333333333333333,
              "#9c179e"
             ],
             [
              0.4444444444444444,
              "#bd3786"
             ],
             [
              0.5555555555555556,
              "#d8576b"
             ],
             [
              0.6666666666666666,
              "#ed7953"
             ],
             [
              0.7777777777777778,
              "#fb9f3a"
             ],
             [
              0.8888888888888888,
              "#fdca26"
             ],
             [
              1,
              "#f0f921"
             ]
            ],
            "type": "heatmap"
           }
          ],
          "heatmapgl": [
           {
            "colorbar": {
             "outlinewidth": 0,
             "ticks": ""
            },
            "colorscale": [
             [
              0,
              "#0d0887"
             ],
             [
              0.1111111111111111,
              "#46039f"
             ],
             [
              0.2222222222222222,
              "#7201a8"
             ],
             [
              0.3333333333333333,
              "#9c179e"
             ],
             [
              0.4444444444444444,
              "#bd3786"
             ],
             [
              0.5555555555555556,
              "#d8576b"
             ],
             [
              0.6666666666666666,
              "#ed7953"
             ],
             [
              0.7777777777777778,
              "#fb9f3a"
             ],
             [
              0.8888888888888888,
              "#fdca26"
             ],
             [
              1,
              "#f0f921"
             ]
            ],
            "type": "heatmapgl"
           }
          ],
          "histogram": [
           {
            "marker": {
             "pattern": {
              "fillmode": "overlay",
              "size": 10,
              "solidity": 0.2
             }
            },
            "type": "histogram"
           }
          ],
          "histogram2d": [
           {
            "colorbar": {
             "outlinewidth": 0,
             "ticks": ""
            },
            "colorscale": [
             [
              0,
              "#0d0887"
             ],
             [
              0.1111111111111111,
              "#46039f"
             ],
             [
              0.2222222222222222,
              "#7201a8"
             ],
             [
              0.3333333333333333,
              "#9c179e"
             ],
             [
              0.4444444444444444,
              "#bd3786"
             ],
             [
              0.5555555555555556,
              "#d8576b"
             ],
             [
              0.6666666666666666,
              "#ed7953"
             ],
             [
              0.7777777777777778,
              "#fb9f3a"
             ],
             [
              0.8888888888888888,
              "#fdca26"
             ],
             [
              1,
              "#f0f921"
             ]
            ],
            "type": "histogram2d"
           }
          ],
          "histogram2dcontour": [
           {
            "colorbar": {
             "outlinewidth": 0,
             "ticks": ""
            },
            "colorscale": [
             [
              0,
              "#0d0887"
             ],
             [
              0.1111111111111111,
              "#46039f"
             ],
             [
              0.2222222222222222,
              "#7201a8"
             ],
             [
              0.3333333333333333,
              "#9c179e"
             ],
             [
              0.4444444444444444,
              "#bd3786"
             ],
             [
              0.5555555555555556,
              "#d8576b"
             ],
             [
              0.6666666666666666,
              "#ed7953"
             ],
             [
              0.7777777777777778,
              "#fb9f3a"
             ],
             [
              0.8888888888888888,
              "#fdca26"
             ],
             [
              1,
              "#f0f921"
             ]
            ],
            "type": "histogram2dcontour"
           }
          ],
          "mesh3d": [
           {
            "colorbar": {
             "outlinewidth": 0,
             "ticks": ""
            },
            "type": "mesh3d"
           }
          ],
          "parcoords": [
           {
            "line": {
             "colorbar": {
              "outlinewidth": 0,
              "ticks": ""
             }
            },
            "type": "parcoords"
           }
          ],
          "pie": [
           {
            "automargin": true,
            "type": "pie"
           }
          ],
          "scatter": [
           {
            "fillpattern": {
             "fillmode": "overlay",
             "size": 10,
             "solidity": 0.2
            },
            "type": "scatter"
           }
          ],
          "scatter3d": [
           {
            "line": {
             "colorbar": {
              "outlinewidth": 0,
              "ticks": ""
             }
            },
            "marker": {
             "colorbar": {
              "outlinewidth": 0,
              "ticks": ""
             }
            },
            "type": "scatter3d"
           }
          ],
          "scattercarpet": [
           {
            "marker": {
             "colorbar": {
              "outlinewidth": 0,
              "ticks": ""
             }
            },
            "type": "scattercarpet"
           }
          ],
          "scattergeo": [
           {
            "marker": {
             "colorbar": {
              "outlinewidth": 0,
              "ticks": ""
             }
            },
            "type": "scattergeo"
           }
          ],
          "scattergl": [
           {
            "marker": {
             "colorbar": {
              "outlinewidth": 0,
              "ticks": ""
             }
            },
            "type": "scattergl"
           }
          ],
          "scattermapbox": [
           {
            "marker": {
             "colorbar": {
              "outlinewidth": 0,
              "ticks": ""
             }
            },
            "type": "scattermapbox"
           }
          ],
          "scatterpolar": [
           {
            "marker": {
             "colorbar": {
              "outlinewidth": 0,
              "ticks": ""
             }
            },
            "type": "scatterpolar"
           }
          ],
          "scatterpolargl": [
           {
            "marker": {
             "colorbar": {
              "outlinewidth": 0,
              "ticks": ""
             }
            },
            "type": "scatterpolargl"
           }
          ],
          "scatterternary": [
           {
            "marker": {
             "colorbar": {
              "outlinewidth": 0,
              "ticks": ""
             }
            },
            "type": "scatterternary"
           }
          ],
          "surface": [
           {
            "colorbar": {
             "outlinewidth": 0,
             "ticks": ""
            },
            "colorscale": [
             [
              0,
              "#0d0887"
             ],
             [
              0.1111111111111111,
              "#46039f"
             ],
             [
              0.2222222222222222,
              "#7201a8"
             ],
             [
              0.3333333333333333,
              "#9c179e"
             ],
             [
              0.4444444444444444,
              "#bd3786"
             ],
             [
              0.5555555555555556,
              "#d8576b"
             ],
             [
              0.6666666666666666,
              "#ed7953"
             ],
             [
              0.7777777777777778,
              "#fb9f3a"
             ],
             [
              0.8888888888888888,
              "#fdca26"
             ],
             [
              1,
              "#f0f921"
             ]
            ],
            "type": "surface"
           }
          ],
          "table": [
           {
            "cells": {
             "fill": {
              "color": "#EBF0F8"
             },
             "line": {
              "color": "white"
             }
            },
            "header": {
             "fill": {
              "color": "#C8D4E3"
             },
             "line": {
              "color": "white"
             }
            },
            "type": "table"
           }
          ]
         },
         "layout": {
          "annotationdefaults": {
           "arrowcolor": "#2a3f5f",
           "arrowhead": 0,
           "arrowwidth": 1
          },
          "autotypenumbers": "strict",
          "coloraxis": {
           "colorbar": {
            "outlinewidth": 0,
            "ticks": ""
           }
          },
          "colorscale": {
           "diverging": [
            [
             0,
             "#8e0152"
            ],
            [
             0.1,
             "#c51b7d"
            ],
            [
             0.2,
             "#de77ae"
            ],
            [
             0.3,
             "#f1b6da"
            ],
            [
             0.4,
             "#fde0ef"
            ],
            [
             0.5,
             "#f7f7f7"
            ],
            [
             0.6,
             "#e6f5d0"
            ],
            [
             0.7,
             "#b8e186"
            ],
            [
             0.8,
             "#7fbc41"
            ],
            [
             0.9,
             "#4d9221"
            ],
            [
             1,
             "#276419"
            ]
           ],
           "sequential": [
            [
             0,
             "#0d0887"
            ],
            [
             0.1111111111111111,
             "#46039f"
            ],
            [
             0.2222222222222222,
             "#7201a8"
            ],
            [
             0.3333333333333333,
             "#9c179e"
            ],
            [
             0.4444444444444444,
             "#bd3786"
            ],
            [
             0.5555555555555556,
             "#d8576b"
            ],
            [
             0.6666666666666666,
             "#ed7953"
            ],
            [
             0.7777777777777778,
             "#fb9f3a"
            ],
            [
             0.8888888888888888,
             "#fdca26"
            ],
            [
             1,
             "#f0f921"
            ]
           ],
           "sequentialminus": [
            [
             0,
             "#0d0887"
            ],
            [
             0.1111111111111111,
             "#46039f"
            ],
            [
             0.2222222222222222,
             "#7201a8"
            ],
            [
             0.3333333333333333,
             "#9c179e"
            ],
            [
             0.4444444444444444,
             "#bd3786"
            ],
            [
             0.5555555555555556,
             "#d8576b"
            ],
            [
             0.6666666666666666,
             "#ed7953"
            ],
            [
             0.7777777777777778,
             "#fb9f3a"
            ],
            [
             0.8888888888888888,
             "#fdca26"
            ],
            [
             1,
             "#f0f921"
            ]
           ]
          },
          "colorway": [
           "#636efa",
           "#EF553B",
           "#00cc96",
           "#ab63fa",
           "#FFA15A",
           "#19d3f3",
           "#FF6692",
           "#B6E880",
           "#FF97FF",
           "#FECB52"
          ],
          "font": {
           "color": "#2a3f5f"
          },
          "geo": {
           "bgcolor": "white",
           "lakecolor": "white",
           "landcolor": "#E5ECF6",
           "showlakes": true,
           "showland": true,
           "subunitcolor": "white"
          },
          "hoverlabel": {
           "align": "left"
          },
          "hovermode": "closest",
          "mapbox": {
           "style": "light"
          },
          "paper_bgcolor": "white",
          "plot_bgcolor": "#E5ECF6",
          "polar": {
           "angularaxis": {
            "gridcolor": "white",
            "linecolor": "white",
            "ticks": ""
           },
           "bgcolor": "#E5ECF6",
           "radialaxis": {
            "gridcolor": "white",
            "linecolor": "white",
            "ticks": ""
           }
          },
          "scene": {
           "xaxis": {
            "backgroundcolor": "#E5ECF6",
            "gridcolor": "white",
            "gridwidth": 2,
            "linecolor": "white",
            "showbackground": true,
            "ticks": "",
            "zerolinecolor": "white"
           },
           "yaxis": {
            "backgroundcolor": "#E5ECF6",
            "gridcolor": "white",
            "gridwidth": 2,
            "linecolor": "white",
            "showbackground": true,
            "ticks": "",
            "zerolinecolor": "white"
           },
           "zaxis": {
            "backgroundcolor": "#E5ECF6",
            "gridcolor": "white",
            "gridwidth": 2,
            "linecolor": "white",
            "showbackground": true,
            "ticks": "",
            "zerolinecolor": "white"
           }
          },
          "shapedefaults": {
           "line": {
            "color": "#2a3f5f"
           }
          },
          "ternary": {
           "aaxis": {
            "gridcolor": "white",
            "linecolor": "white",
            "ticks": ""
           },
           "baxis": {
            "gridcolor": "white",
            "linecolor": "white",
            "ticks": ""
           },
           "bgcolor": "#E5ECF6",
           "caxis": {
            "gridcolor": "white",
            "linecolor": "white",
            "ticks": ""
           }
          },
          "title": {
           "x": 0.05
          },
          "xaxis": {
           "automargin": true,
           "gridcolor": "white",
           "linecolor": "white",
           "ticks": "",
           "title": {
            "standoff": 15
           },
           "zerolinecolor": "white",
           "zerolinewidth": 2
          },
          "yaxis": {
           "automargin": true,
           "gridcolor": "white",
           "linecolor": "white",
           "ticks": "",
           "title": {
            "standoff": 15
           },
           "zerolinecolor": "white",
           "zerolinewidth": 2
          }
         }
        },
        "title": {
         "text": "Sentiment Distribution Across Months"
        },
        "xaxis": {
         "anchor": "y",
         "domain": [
          0,
          1
         ],
         "title": {
          "text": "Month"
         }
        },
        "yaxis": {
         "anchor": "x",
         "domain": [
          0,
          1
         ],
         "title": {
          "text": "Count"
         }
        }
       }
      },
      "text/html": [
       "<div>                            <div id=\"3cb4749b-a197-44fe-9526-595d0a633808\" class=\"plotly-graph-div\" style=\"height:525px; width:100%;\"></div>            <script type=\"text/javascript\">                require([\"plotly\"], function(Plotly) {                    window.PLOTLYENV=window.PLOTLYENV || {};                                    if (document.getElementById(\"3cb4749b-a197-44fe-9526-595d0a633808\")) {                    Plotly.newPlot(                        \"3cb4749b-a197-44fe-9526-595d0a633808\",                        [{\"alignmentgroup\":\"True\",\"hovertemplate\":\"General_Sentiment=%{text}<br>Month=%{x}<br>Count=%{y}<extra></extra>\",\"legendgroup\":\"Anger\",\"marker\":{\"color\":\"#440154\",\"pattern\":{\"shape\":\"\"}},\"name\":\"Anger\",\"offsetgroup\":\"Anger\",\"orientation\":\"v\",\"showlegend\":true,\"text\":[\"Anger\",\"Anger\",\"Anger\",\"Anger\",\"Anger\",\"Anger\",\"Anger\",\"Anger\",\"Anger\",\"Anger\",\"Anger\",\"Anger\"],\"textposition\":\"auto\",\"x\":[1,2,3,4,5,6,7,8,9,10,11,12],\"xaxis\":\"x\",\"y\":[5.0,4.0,2.0,3.0,2.0,1.0,1.0,2.0,13.0,2.0,2.0,2.0],\"yaxis\":\"y\",\"type\":\"bar\"},{\"alignmentgroup\":\"True\",\"hovertemplate\":\"General_Sentiment=%{text}<br>Month=%{x}<br>Count=%{y}<extra></extra>\",\"legendgroup\":\"Anticipation\",\"marker\":{\"color\":\"#482878\",\"pattern\":{\"shape\":\"\"}},\"name\":\"Anticipation\",\"offsetgroup\":\"Anticipation\",\"orientation\":\"v\",\"showlegend\":true,\"text\":[\"Anticipation\",\"Anticipation\",\"Anticipation\",\"Anticipation\",\"Anticipation\",\"Anticipation\",\"Anticipation\",\"Anticipation\",\"Anticipation\",\"Anticipation\",\"Anticipation\",\"Anticipation\"],\"textposition\":\"auto\",\"x\":[1,2,3,4,5,6,7,8,9,10,11,12],\"xaxis\":\"x\",\"y\":[1.0,6.0,2.0,5.0,3.0,6.0,5.0,5.0,6.0,5.0,10.0,3.0],\"yaxis\":\"y\",\"type\":\"bar\"},{\"alignmentgroup\":\"True\",\"hovertemplate\":\"General_Sentiment=%{text}<br>Month=%{x}<br>Count=%{y}<extra></extra>\",\"legendgroup\":\"Disgust\",\"marker\":{\"color\":\"#3e4989\",\"pattern\":{\"shape\":\"\"}},\"name\":\"Disgust\",\"offsetgroup\":\"Disgust\",\"orientation\":\"v\",\"showlegend\":true,\"text\":[\"Disgust\",\"Disgust\",\"Disgust\",\"Disgust\",\"Disgust\",\"Disgust\",\"Disgust\",\"Disgust\",\"Disgust\",\"Disgust\",\"Disgust\",\"Disgust\"],\"textposition\":\"auto\",\"x\":[1,2,3,4,5,6,7,8,9,10,11,12],\"xaxis\":\"x\",\"y\":[0.0,7.0,2.0,0.0,2.0,0.0,2.0,1.0,0.0,0.0,1.0,0.0],\"yaxis\":\"y\",\"type\":\"bar\"},{\"alignmentgroup\":\"True\",\"hovertemplate\":\"General_Sentiment=%{text}<br>Month=%{x}<br>Count=%{y}<extra></extra>\",\"legendgroup\":\"Fear\",\"marker\":{\"color\":\"#31688e\",\"pattern\":{\"shape\":\"\"}},\"name\":\"Fear\",\"offsetgroup\":\"Fear\",\"orientation\":\"v\",\"showlegend\":true,\"text\":[\"Fear\",\"Fear\",\"Fear\",\"Fear\",\"Fear\",\"Fear\",\"Fear\",\"Fear\",\"Fear\",\"Fear\",\"Fear\",\"Fear\"],\"textposition\":\"auto\",\"x\":[1,2,3,4,5,6,7,8,9,10,11,12],\"xaxis\":\"x\",\"y\":[3.0,3.0,1.0,3.0,3.0,3.0,1.0,2.0,1.0,1.0,1.0,2.0],\"yaxis\":\"y\",\"type\":\"bar\"},{\"alignmentgroup\":\"True\",\"hovertemplate\":\"General_Sentiment=%{text}<br>Month=%{x}<br>Count=%{y}<extra></extra>\",\"legendgroup\":\"Joy/Happiness\",\"marker\":{\"color\":\"#26828e\",\"pattern\":{\"shape\":\"\"}},\"name\":\"Joy/Happiness\",\"offsetgroup\":\"Joy/Happiness\",\"orientation\":\"v\",\"showlegend\":true,\"text\":[\"Joy/Happiness\",\"Joy/Happiness\",\"Joy/Happiness\",\"Joy/Happiness\",\"Joy/Happiness\",\"Joy/Happiness\",\"Joy/Happiness\",\"Joy/Happiness\",\"Joy/Happiness\",\"Joy/Happiness\",\"Joy/Happiness\",\"Joy/Happiness\"],\"textposition\":\"auto\",\"x\":[1,2,3,4,5,6,7,8,9,10,11,12],\"xaxis\":\"x\",\"y\":[50.0,25.0,14.0,14.0,14.0,37.0,30.0,35.0,23.0,13.0,12.0,16.0],\"yaxis\":\"y\",\"type\":\"bar\"},{\"alignmentgroup\":\"True\",\"hovertemplate\":\"General_Sentiment=%{text}<br>Month=%{x}<br>Count=%{y}<extra></extra>\",\"legendgroup\":\"Love/Affection\",\"marker\":{\"color\":\"#1f9e89\",\"pattern\":{\"shape\":\"\"}},\"name\":\"Love/Affection\",\"offsetgroup\":\"Love/Affection\",\"orientation\":\"v\",\"showlegend\":true,\"text\":[\"Love/Affection\",\"Love/Affection\",\"Love/Affection\",\"Love/Affection\",\"Love/Affection\",\"Love/Affection\",\"Love/Affection\",\"Love/Affection\",\"Love/Affection\",\"Love/Affection\",\"Love/Affection\",\"Love/Affection\"],\"textposition\":\"auto\",\"x\":[1,2,3,4,5,6,7,8,9,10,11,12],\"xaxis\":\"x\",\"y\":[2.0,16.0,5.0,6.0,2.0,2.0,2.0,2.0,5.0,1.0,3.0,4.0],\"yaxis\":\"y\",\"type\":\"bar\"},{\"alignmentgroup\":\"True\",\"hovertemplate\":\"General_Sentiment=%{text}<br>Month=%{x}<br>Count=%{y}<extra></extra>\",\"legendgroup\":\"Neutral/Calm\",\"marker\":{\"color\":\"#35b779\",\"pattern\":{\"shape\":\"\"}},\"name\":\"Neutral/Calm\",\"offsetgroup\":\"Neutral/Calm\",\"orientation\":\"v\",\"showlegend\":true,\"text\":[\"Neutral/Calm\",\"Neutral/Calm\",\"Neutral/Calm\",\"Neutral/Calm\",\"Neutral/Calm\",\"Neutral/Calm\",\"Neutral/Calm\",\"Neutral/Calm\",\"Neutral/Calm\",\"Neutral/Calm\",\"Neutral/Calm\",\"Neutral/Calm\"],\"textposition\":\"auto\",\"x\":[1,2,3,4,5,6,7,8,9,10,11,12],\"xaxis\":\"x\",\"y\":[6.0,8.0,4.0,7.0,7.0,9.0,7.0,5.0,7.0,19.0,10.0,3.0],\"yaxis\":\"y\",\"type\":\"bar\"},{\"alignmentgroup\":\"True\",\"hovertemplate\":\"General_Sentiment=%{text}<br>Month=%{x}<br>Count=%{y}<extra></extra>\",\"legendgroup\":\"Sadness\",\"marker\":{\"color\":\"#6ece58\",\"pattern\":{\"shape\":\"\"}},\"name\":\"Sadness\",\"offsetgroup\":\"Sadness\",\"orientation\":\"v\",\"showlegend\":true,\"text\":[\"Sadness\",\"Sadness\",\"Sadness\",\"Sadness\",\"Sadness\",\"Sadness\",\"Sadness\",\"Sadness\",\"Sadness\",\"Sadness\",\"Sadness\",\"Sadness\"],\"textposition\":\"auto\",\"x\":[1,2,3,4,5,6,7,8,9,10,11,12],\"xaxis\":\"x\",\"y\":[8.0,9.0,10.0,6.0,4.0,7.0,6.0,16.0,18.0,5.0,7.0,7.0],\"yaxis\":\"y\",\"type\":\"bar\"},{\"alignmentgroup\":\"True\",\"hovertemplate\":\"General_Sentiment=%{text}<br>Month=%{x}<br>Count=%{y}<extra></extra>\",\"legendgroup\":\"Suprise\",\"marker\":{\"color\":\"#b5de2b\",\"pattern\":{\"shape\":\"\"}},\"name\":\"Suprise\",\"offsetgroup\":\"Suprise\",\"orientation\":\"v\",\"showlegend\":true,\"text\":[\"Suprise\",\"Suprise\",\"Suprise\",\"Suprise\",\"Suprise\",\"Suprise\",\"Suprise\",\"Suprise\",\"Suprise\",\"Suprise\",\"Suprise\",\"Suprise\"],\"textposition\":\"auto\",\"x\":[1,2,3,4,5,6,7,8,9,10,11,12],\"xaxis\":\"x\",\"y\":[1.0,5.0,3.0,2.0,5.0,3.0,2.0,4.0,1.0,1.0,0.0,0.0],\"yaxis\":\"y\",\"type\":\"bar\"},{\"alignmentgroup\":\"True\",\"hovertemplate\":\"General_Sentiment=%{text}<br>Month=%{x}<br>Count=%{y}<extra></extra>\",\"legendgroup\":\"Trust\",\"marker\":{\"color\":\"#fde725\",\"pattern\":{\"shape\":\"\"}},\"name\":\"Trust\",\"offsetgroup\":\"Trust\",\"orientation\":\"v\",\"showlegend\":true,\"text\":[\"Trust\",\"Trust\",\"Trust\",\"Trust\",\"Trust\",\"Trust\",\"Trust\",\"Trust\",\"Trust\",\"Trust\",\"Trust\",\"Trust\"],\"textposition\":\"auto\",\"x\":[1,2,3,4,5,6,7,8,9,10,11,12],\"xaxis\":\"x\",\"y\":[1.0,2.0,1.0,3.0,3.0,2.0,2.0,2.0,0.0,0.0,1.0,0.0],\"yaxis\":\"y\",\"type\":\"bar\"}],                        {\"template\":{\"data\":{\"histogram2dcontour\":[{\"type\":\"histogram2dcontour\",\"colorbar\":{\"outlinewidth\":0,\"ticks\":\"\"},\"colorscale\":[[0.0,\"#0d0887\"],[0.1111111111111111,\"#46039f\"],[0.2222222222222222,\"#7201a8\"],[0.3333333333333333,\"#9c179e\"],[0.4444444444444444,\"#bd3786\"],[0.5555555555555556,\"#d8576b\"],[0.6666666666666666,\"#ed7953\"],[0.7777777777777778,\"#fb9f3a\"],[0.8888888888888888,\"#fdca26\"],[1.0,\"#f0f921\"]]}],\"choropleth\":[{\"type\":\"choropleth\",\"colorbar\":{\"outlinewidth\":0,\"ticks\":\"\"}}],\"histogram2d\":[{\"type\":\"histogram2d\",\"colorbar\":{\"outlinewidth\":0,\"ticks\":\"\"},\"colorscale\":[[0.0,\"#0d0887\"],[0.1111111111111111,\"#46039f\"],[0.2222222222222222,\"#7201a8\"],[0.3333333333333333,\"#9c179e\"],[0.4444444444444444,\"#bd3786\"],[0.5555555555555556,\"#d8576b\"],[0.6666666666666666,\"#ed7953\"],[0.7777777777777778,\"#fb9f3a\"],[0.8888888888888888,\"#fdca26\"],[1.0,\"#f0f921\"]]}],\"heatmap\":[{\"type\":\"heatmap\",\"colorbar\":{\"outlinewidth\":0,\"ticks\":\"\"},\"colorscale\":[[0.0,\"#0d0887\"],[0.1111111111111111,\"#46039f\"],[0.2222222222222222,\"#7201a8\"],[0.3333333333333333,\"#9c179e\"],[0.4444444444444444,\"#bd3786\"],[0.5555555555555556,\"#d8576b\"],[0.6666666666666666,\"#ed7953\"],[0.7777777777777778,\"#fb9f3a\"],[0.8888888888888888,\"#fdca26\"],[1.0,\"#f0f921\"]]}],\"heatmapgl\":[{\"type\":\"heatmapgl\",\"colorbar\":{\"outlinewidth\":0,\"ticks\":\"\"},\"colorscale\":[[0.0,\"#0d0887\"],[0.1111111111111111,\"#46039f\"],[0.2222222222222222,\"#7201a8\"],[0.3333333333333333,\"#9c179e\"],[0.4444444444444444,\"#bd3786\"],[0.5555555555555556,\"#d8576b\"],[0.6666666666666666,\"#ed7953\"],[0.7777777777777778,\"#fb9f3a\"],[0.8888888888888888,\"#fdca26\"],[1.0,\"#f0f921\"]]}],\"contourcarpet\":[{\"type\":\"contourcarpet\",\"colorbar\":{\"outlinewidth\":0,\"ticks\":\"\"}}],\"contour\":[{\"type\":\"contour\",\"colorbar\":{\"outlinewidth\":0,\"ticks\":\"\"},\"colorscale\":[[0.0,\"#0d0887\"],[0.1111111111111111,\"#46039f\"],[0.2222222222222222,\"#7201a8\"],[0.3333333333333333,\"#9c179e\"],[0.4444444444444444,\"#bd3786\"],[0.5555555555555556,\"#d8576b\"],[0.6666666666666666,\"#ed7953\"],[0.7777777777777778,\"#fb9f3a\"],[0.8888888888888888,\"#fdca26\"],[1.0,\"#f0f921\"]]}],\"surface\":[{\"type\":\"surface\",\"colorbar\":{\"outlinewidth\":0,\"ticks\":\"\"},\"colorscale\":[[0.0,\"#0d0887\"],[0.1111111111111111,\"#46039f\"],[0.2222222222222222,\"#7201a8\"],[0.3333333333333333,\"#9c179e\"],[0.4444444444444444,\"#bd3786\"],[0.5555555555555556,\"#d8576b\"],[0.6666666666666666,\"#ed7953\"],[0.7777777777777778,\"#fb9f3a\"],[0.8888888888888888,\"#fdca26\"],[1.0,\"#f0f921\"]]}],\"mesh3d\":[{\"type\":\"mesh3d\",\"colorbar\":{\"outlinewidth\":0,\"ticks\":\"\"}}],\"scatter\":[{\"fillpattern\":{\"fillmode\":\"overlay\",\"size\":10,\"solidity\":0.2},\"type\":\"scatter\"}],\"parcoords\":[{\"type\":\"parcoords\",\"line\":{\"colorbar\":{\"outlinewidth\":0,\"ticks\":\"\"}}}],\"scatterpolargl\":[{\"type\":\"scatterpolargl\",\"marker\":{\"colorbar\":{\"outlinewidth\":0,\"ticks\":\"\"}}}],\"bar\":[{\"error_x\":{\"color\":\"#2a3f5f\"},\"error_y\":{\"color\":\"#2a3f5f\"},\"marker\":{\"line\":{\"color\":\"#E5ECF6\",\"width\":0.5},\"pattern\":{\"fillmode\":\"overlay\",\"size\":10,\"solidity\":0.2}},\"type\":\"bar\"}],\"scattergeo\":[{\"type\":\"scattergeo\",\"marker\":{\"colorbar\":{\"outlinewidth\":0,\"ticks\":\"\"}}}],\"scatterpolar\":[{\"type\":\"scatterpolar\",\"marker\":{\"colorbar\":{\"outlinewidth\":0,\"ticks\":\"\"}}}],\"histogram\":[{\"marker\":{\"pattern\":{\"fillmode\":\"overlay\",\"size\":10,\"solidity\":0.2}},\"type\":\"histogram\"}],\"scattergl\":[{\"type\":\"scattergl\",\"marker\":{\"colorbar\":{\"outlinewidth\":0,\"ticks\":\"\"}}}],\"scatter3d\":[{\"type\":\"scatter3d\",\"line\":{\"colorbar\":{\"outlinewidth\":0,\"ticks\":\"\"}},\"marker\":{\"colorbar\":{\"outlinewidth\":0,\"ticks\":\"\"}}}],\"scattermapbox\":[{\"type\":\"scattermapbox\",\"marker\":{\"colorbar\":{\"outlinewidth\":0,\"ticks\":\"\"}}}],\"scatterternary\":[{\"type\":\"scatterternary\",\"marker\":{\"colorbar\":{\"outlinewidth\":0,\"ticks\":\"\"}}}],\"scattercarpet\":[{\"type\":\"scattercarpet\",\"marker\":{\"colorbar\":{\"outlinewidth\":0,\"ticks\":\"\"}}}],\"carpet\":[{\"aaxis\":{\"endlinecolor\":\"#2a3f5f\",\"gridcolor\":\"white\",\"linecolor\":\"white\",\"minorgridcolor\":\"white\",\"startlinecolor\":\"#2a3f5f\"},\"baxis\":{\"endlinecolor\":\"#2a3f5f\",\"gridcolor\":\"white\",\"linecolor\":\"white\",\"minorgridcolor\":\"white\",\"startlinecolor\":\"#2a3f5f\"},\"type\":\"carpet\"}],\"table\":[{\"cells\":{\"fill\":{\"color\":\"#EBF0F8\"},\"line\":{\"color\":\"white\"}},\"header\":{\"fill\":{\"color\":\"#C8D4E3\"},\"line\":{\"color\":\"white\"}},\"type\":\"table\"}],\"barpolar\":[{\"marker\":{\"line\":{\"color\":\"#E5ECF6\",\"width\":0.5},\"pattern\":{\"fillmode\":\"overlay\",\"size\":10,\"solidity\":0.2}},\"type\":\"barpolar\"}],\"pie\":[{\"automargin\":true,\"type\":\"pie\"}]},\"layout\":{\"autotypenumbers\":\"strict\",\"colorway\":[\"#636efa\",\"#EF553B\",\"#00cc96\",\"#ab63fa\",\"#FFA15A\",\"#19d3f3\",\"#FF6692\",\"#B6E880\",\"#FF97FF\",\"#FECB52\"],\"font\":{\"color\":\"#2a3f5f\"},\"hovermode\":\"closest\",\"hoverlabel\":{\"align\":\"left\"},\"paper_bgcolor\":\"white\",\"plot_bgcolor\":\"#E5ECF6\",\"polar\":{\"bgcolor\":\"#E5ECF6\",\"angularaxis\":{\"gridcolor\":\"white\",\"linecolor\":\"white\",\"ticks\":\"\"},\"radialaxis\":{\"gridcolor\":\"white\",\"linecolor\":\"white\",\"ticks\":\"\"}},\"ternary\":{\"bgcolor\":\"#E5ECF6\",\"aaxis\":{\"gridcolor\":\"white\",\"linecolor\":\"white\",\"ticks\":\"\"},\"baxis\":{\"gridcolor\":\"white\",\"linecolor\":\"white\",\"ticks\":\"\"},\"caxis\":{\"gridcolor\":\"white\",\"linecolor\":\"white\",\"ticks\":\"\"}},\"coloraxis\":{\"colorbar\":{\"outlinewidth\":0,\"ticks\":\"\"}},\"colorscale\":{\"sequential\":[[0.0,\"#0d0887\"],[0.1111111111111111,\"#46039f\"],[0.2222222222222222,\"#7201a8\"],[0.3333333333333333,\"#9c179e\"],[0.4444444444444444,\"#bd3786\"],[0.5555555555555556,\"#d8576b\"],[0.6666666666666666,\"#ed7953\"],[0.7777777777777778,\"#fb9f3a\"],[0.8888888888888888,\"#fdca26\"],[1.0,\"#f0f921\"]],\"sequentialminus\":[[0.0,\"#0d0887\"],[0.1111111111111111,\"#46039f\"],[0.2222222222222222,\"#7201a8\"],[0.3333333333333333,\"#9c179e\"],[0.4444444444444444,\"#bd3786\"],[0.5555555555555556,\"#d8576b\"],[0.6666666666666666,\"#ed7953\"],[0.7777777777777778,\"#fb9f3a\"],[0.8888888888888888,\"#fdca26\"],[1.0,\"#f0f921\"]],\"diverging\":[[0,\"#8e0152\"],[0.1,\"#c51b7d\"],[0.2,\"#de77ae\"],[0.3,\"#f1b6da\"],[0.4,\"#fde0ef\"],[0.5,\"#f7f7f7\"],[0.6,\"#e6f5d0\"],[0.7,\"#b8e186\"],[0.8,\"#7fbc41\"],[0.9,\"#4d9221\"],[1,\"#276419\"]]},\"xaxis\":{\"gridcolor\":\"white\",\"linecolor\":\"white\",\"ticks\":\"\",\"title\":{\"standoff\":15},\"zerolinecolor\":\"white\",\"automargin\":true,\"zerolinewidth\":2},\"yaxis\":{\"gridcolor\":\"white\",\"linecolor\":\"white\",\"ticks\":\"\",\"title\":{\"standoff\":15},\"zerolinecolor\":\"white\",\"automargin\":true,\"zerolinewidth\":2},\"scene\":{\"xaxis\":{\"backgroundcolor\":\"#E5ECF6\",\"gridcolor\":\"white\",\"linecolor\":\"white\",\"showbackground\":true,\"ticks\":\"\",\"zerolinecolor\":\"white\",\"gridwidth\":2},\"yaxis\":{\"backgroundcolor\":\"#E5ECF6\",\"gridcolor\":\"white\",\"linecolor\":\"white\",\"showbackground\":true,\"ticks\":\"\",\"zerolinecolor\":\"white\",\"gridwidth\":2},\"zaxis\":{\"backgroundcolor\":\"#E5ECF6\",\"gridcolor\":\"white\",\"linecolor\":\"white\",\"showbackground\":true,\"ticks\":\"\",\"zerolinecolor\":\"white\",\"gridwidth\":2}},\"shapedefaults\":{\"line\":{\"color\":\"#2a3f5f\"}},\"annotationdefaults\":{\"arrowcolor\":\"#2a3f5f\",\"arrowhead\":0,\"arrowwidth\":1},\"geo\":{\"bgcolor\":\"white\",\"landcolor\":\"#E5ECF6\",\"subunitcolor\":\"white\",\"showland\":true,\"showlakes\":true,\"lakecolor\":\"white\"},\"title\":{\"x\":0.05},\"mapbox\":{\"style\":\"light\"}}},\"xaxis\":{\"anchor\":\"y\",\"domain\":[0.0,1.0],\"title\":{\"text\":\"Month\"}},\"yaxis\":{\"anchor\":\"x\",\"domain\":[0.0,1.0],\"title\":{\"text\":\"Count\"}},\"legend\":{\"title\":{\"text\":\"General_Sentiment\"},\"tracegroupgap\":0},\"title\":{\"text\":\"Sentiment Distribution Across Months\"},\"barmode\":\"relative\"},                        {\"responsive\": true}                    ).then(function(){\n",
       "                            \n",
       "var gd = document.getElementById('3cb4749b-a197-44fe-9526-595d0a633808');\n",
       "var x = new MutationObserver(function (mutations, observer) {{\n",
       "        var display = window.getComputedStyle(gd).display;\n",
       "        if (!display || display === 'none') {{\n",
       "            console.log([gd, 'removed!']);\n",
       "            Plotly.purge(gd);\n",
       "            observer.disconnect();\n",
       "        }}\n",
       "}});\n",
       "\n",
       "// Listen for the removal of the full notebook cells\n",
       "var notebookContainer = gd.closest('#notebook-container');\n",
       "if (notebookContainer) {{\n",
       "    x.observe(notebookContainer, {childList: true});\n",
       "}}\n",
       "\n",
       "// Listen for the clearing of the current output cell\n",
       "var outputEl = gd.closest('.output');\n",
       "if (outputEl) {{\n",
       "    x.observe(outputEl, {childList: true});\n",
       "}}\n",
       "\n",
       "                        })                };                });            </script>        </div>"
      ]
     },
     "metadata": {},
     "output_type": "display_data"
    }
   ],
   "source": [
    "fig = px.bar(\n",
    "    sentiment_melted,\n",
    "    x='Month',\n",
    "    y='value',\n",
    "    color='General_Sentiment',\n",
    "    title=\"Sentiment Distribution Across Months\",\n",
    "    labels={\"value\": \"Count\", \"Month\": \"Month\"},\n",
    "    color_discrete_sequence=px.colors.sequential.Viridis,\n",
    "    text='General_Sentiment'\n",
    ")\n",
    "\n",
    "fig.show()\n",
    "# talk about more and less \"active\" months"
   ]
  },
  {
   "cell_type": "markdown",
   "id": "365a63e4",
   "metadata": {},
   "source": [
    "# 3. Daily distribution of sentiments"
   ]
  },
  {
   "cell_type": "code",
   "execution_count": 15,
   "id": "4ef54599",
   "metadata": {},
   "outputs": [],
   "source": [
    "# day\n",
    "sentiment_counts = data.groupby(\"Day\")[\"General_Sentiment\"].value_counts().unstack().fillna(0)"
   ]
  },
  {
   "cell_type": "code",
   "execution_count": 44,
   "id": "5bc504bc",
   "metadata": {
    "scrolled": false
   },
   "outputs": [
    {
     "data": {
      "application/vnd.plotly.v1+json": {
       "config": {
        "plotlyServerURL": "https://plot.ly"
       },
       "data": [
        {
         "alignmentgroup": "True",
         "hovertemplate": "General_Sentiment=Anger<br>Month=%{x}<br>Count=%{y}<extra></extra>",
         "legendgroup": "Anger",
         "marker": {
          "color": "#1F77B4",
          "pattern": {
           "shape": ""
          }
         },
         "name": "Anger",
         "offsetgroup": "Anger",
         "orientation": "v",
         "showlegend": true,
         "textposition": "auto",
         "type": "bar",
         "x": [
          1,
          2,
          3,
          4,
          5,
          6,
          7,
          8,
          9,
          10,
          11,
          12
         ],
         "xaxis": "x",
         "y": [
          5,
          4,
          2,
          3,
          2,
          1,
          1,
          2,
          13,
          2,
          2,
          2
         ],
         "yaxis": "y"
        },
        {
         "alignmentgroup": "True",
         "hovertemplate": "General_Sentiment=Anticipation<br>Month=%{x}<br>Count=%{y}<extra></extra>",
         "legendgroup": "Anticipation",
         "marker": {
          "color": "#FF7F0E",
          "pattern": {
           "shape": ""
          }
         },
         "name": "Anticipation",
         "offsetgroup": "Anticipation",
         "orientation": "v",
         "showlegend": true,
         "textposition": "auto",
         "type": "bar",
         "x": [
          1,
          2,
          3,
          4,
          5,
          6,
          7,
          8,
          9,
          10,
          11,
          12
         ],
         "xaxis": "x",
         "y": [
          1,
          6,
          2,
          5,
          3,
          6,
          5,
          5,
          6,
          5,
          10,
          3
         ],
         "yaxis": "y"
        },
        {
         "alignmentgroup": "True",
         "hovertemplate": "General_Sentiment=Disgust<br>Month=%{x}<br>Count=%{y}<extra></extra>",
         "legendgroup": "Disgust",
         "marker": {
          "color": "#2CA02C",
          "pattern": {
           "shape": ""
          }
         },
         "name": "Disgust",
         "offsetgroup": "Disgust",
         "orientation": "v",
         "showlegend": true,
         "textposition": "auto",
         "type": "bar",
         "x": [
          1,
          2,
          3,
          4,
          5,
          6,
          7,
          8,
          9,
          10,
          11,
          12
         ],
         "xaxis": "x",
         "y": [
          0,
          7,
          2,
          0,
          2,
          0,
          2,
          1,
          0,
          0,
          1,
          0
         ],
         "yaxis": "y"
        },
        {
         "alignmentgroup": "True",
         "hovertemplate": "General_Sentiment=Fear<br>Month=%{x}<br>Count=%{y}<extra></extra>",
         "legendgroup": "Fear",
         "marker": {
          "color": "#D62728",
          "pattern": {
           "shape": ""
          }
         },
         "name": "Fear",
         "offsetgroup": "Fear",
         "orientation": "v",
         "showlegend": true,
         "textposition": "auto",
         "type": "bar",
         "x": [
          1,
          2,
          3,
          4,
          5,
          6,
          7,
          8,
          9,
          10,
          11,
          12
         ],
         "xaxis": "x",
         "y": [
          3,
          3,
          1,
          3,
          3,
          3,
          1,
          2,
          1,
          1,
          1,
          2
         ],
         "yaxis": "y"
        },
        {
         "alignmentgroup": "True",
         "hovertemplate": "General_Sentiment=Joy/Happiness<br>Month=%{x}<br>Count=%{y}<extra></extra>",
         "legendgroup": "Joy/Happiness",
         "marker": {
          "color": "#9467BD",
          "pattern": {
           "shape": ""
          }
         },
         "name": "Joy/Happiness",
         "offsetgroup": "Joy/Happiness",
         "orientation": "v",
         "showlegend": true,
         "textposition": "auto",
         "type": "bar",
         "x": [
          1,
          2,
          3,
          4,
          5,
          6,
          7,
          8,
          9,
          10,
          11,
          12
         ],
         "xaxis": "x",
         "y": [
          50,
          25,
          14,
          14,
          14,
          37,
          30,
          35,
          23,
          13,
          12,
          16
         ],
         "yaxis": "y"
        },
        {
         "alignmentgroup": "True",
         "hovertemplate": "General_Sentiment=Love/Affection<br>Month=%{x}<br>Count=%{y}<extra></extra>",
         "legendgroup": "Love/Affection",
         "marker": {
          "color": "#8C564B",
          "pattern": {
           "shape": ""
          }
         },
         "name": "Love/Affection",
         "offsetgroup": "Love/Affection",
         "orientation": "v",
         "showlegend": true,
         "textposition": "auto",
         "type": "bar",
         "x": [
          1,
          2,
          3,
          4,
          5,
          6,
          7,
          8,
          9,
          10,
          11,
          12
         ],
         "xaxis": "x",
         "y": [
          2,
          16,
          5,
          6,
          2,
          2,
          2,
          2,
          5,
          1,
          3,
          4
         ],
         "yaxis": "y"
        },
        {
         "alignmentgroup": "True",
         "hovertemplate": "General_Sentiment=Neutral/Calm<br>Month=%{x}<br>Count=%{y}<extra></extra>",
         "legendgroup": "Neutral/Calm",
         "marker": {
          "color": "#E377C2",
          "pattern": {
           "shape": ""
          }
         },
         "name": "Neutral/Calm",
         "offsetgroup": "Neutral/Calm",
         "orientation": "v",
         "showlegend": true,
         "textposition": "auto",
         "type": "bar",
         "x": [
          1,
          2,
          3,
          4,
          5,
          6,
          7,
          8,
          9,
          10,
          11,
          12
         ],
         "xaxis": "x",
         "y": [
          6,
          8,
          4,
          7,
          7,
          9,
          7,
          5,
          7,
          19,
          10,
          3
         ],
         "yaxis": "y"
        },
        {
         "alignmentgroup": "True",
         "hovertemplate": "General_Sentiment=Sadness<br>Month=%{x}<br>Count=%{y}<extra></extra>",
         "legendgroup": "Sadness",
         "marker": {
          "color": "#7F7F7F",
          "pattern": {
           "shape": ""
          }
         },
         "name": "Sadness",
         "offsetgroup": "Sadness",
         "orientation": "v",
         "showlegend": true,
         "textposition": "auto",
         "type": "bar",
         "x": [
          1,
          2,
          3,
          4,
          5,
          6,
          7,
          8,
          9,
          10,
          11,
          12
         ],
         "xaxis": "x",
         "y": [
          8,
          9,
          10,
          6,
          4,
          7,
          6,
          16,
          18,
          5,
          7,
          7
         ],
         "yaxis": "y"
        },
        {
         "alignmentgroup": "True",
         "hovertemplate": "General_Sentiment=Suprise<br>Month=%{x}<br>Count=%{y}<extra></extra>",
         "legendgroup": "Suprise",
         "marker": {
          "color": "#BCBD22",
          "pattern": {
           "shape": ""
          }
         },
         "name": "Suprise",
         "offsetgroup": "Suprise",
         "orientation": "v",
         "showlegend": true,
         "textposition": "auto",
         "type": "bar",
         "x": [
          1,
          2,
          3,
          4,
          5,
          6,
          7,
          8,
          9,
          10,
          11,
          12
         ],
         "xaxis": "x",
         "y": [
          1,
          5,
          3,
          2,
          5,
          3,
          2,
          4,
          1,
          1,
          0,
          0
         ],
         "yaxis": "y"
        },
        {
         "alignmentgroup": "True",
         "hovertemplate": "General_Sentiment=Trust<br>Month=%{x}<br>Count=%{y}<extra></extra>",
         "legendgroup": "Trust",
         "marker": {
          "color": "#17BECF",
          "pattern": {
           "shape": ""
          }
         },
         "name": "Trust",
         "offsetgroup": "Trust",
         "orientation": "v",
         "showlegend": true,
         "textposition": "auto",
         "type": "bar",
         "x": [
          1,
          2,
          3,
          4,
          5,
          6,
          7,
          8,
          9,
          10,
          11,
          12
         ],
         "xaxis": "x",
         "y": [
          1,
          2,
          1,
          3,
          3,
          2,
          2,
          2,
          0,
          0,
          1,
          0
         ],
         "yaxis": "y"
        }
       ],
       "layout": {
        "barmode": "relative",
        "legend": {
         "title": {
          "text": "General_Sentiment"
         },
         "tracegroupgap": 0
        },
        "template": {
         "data": {
          "bar": [
           {
            "error_x": {
             "color": "#2a3f5f"
            },
            "error_y": {
             "color": "#2a3f5f"
            },
            "marker": {
             "line": {
              "color": "#E5ECF6",
              "width": 0.5
             },
             "pattern": {
              "fillmode": "overlay",
              "size": 10,
              "solidity": 0.2
             }
            },
            "type": "bar"
           }
          ],
          "barpolar": [
           {
            "marker": {
             "line": {
              "color": "#E5ECF6",
              "width": 0.5
             },
             "pattern": {
              "fillmode": "overlay",
              "size": 10,
              "solidity": 0.2
             }
            },
            "type": "barpolar"
           }
          ],
          "carpet": [
           {
            "aaxis": {
             "endlinecolor": "#2a3f5f",
             "gridcolor": "white",
             "linecolor": "white",
             "minorgridcolor": "white",
             "startlinecolor": "#2a3f5f"
            },
            "baxis": {
             "endlinecolor": "#2a3f5f",
             "gridcolor": "white",
             "linecolor": "white",
             "minorgridcolor": "white",
             "startlinecolor": "#2a3f5f"
            },
            "type": "carpet"
           }
          ],
          "choropleth": [
           {
            "colorbar": {
             "outlinewidth": 0,
             "ticks": ""
            },
            "type": "choropleth"
           }
          ],
          "contour": [
           {
            "colorbar": {
             "outlinewidth": 0,
             "ticks": ""
            },
            "colorscale": [
             [
              0,
              "#0d0887"
             ],
             [
              0.1111111111111111,
              "#46039f"
             ],
             [
              0.2222222222222222,
              "#7201a8"
             ],
             [
              0.3333333333333333,
              "#9c179e"
             ],
             [
              0.4444444444444444,
              "#bd3786"
             ],
             [
              0.5555555555555556,
              "#d8576b"
             ],
             [
              0.6666666666666666,
              "#ed7953"
             ],
             [
              0.7777777777777778,
              "#fb9f3a"
             ],
             [
              0.8888888888888888,
              "#fdca26"
             ],
             [
              1,
              "#f0f921"
             ]
            ],
            "type": "contour"
           }
          ],
          "contourcarpet": [
           {
            "colorbar": {
             "outlinewidth": 0,
             "ticks": ""
            },
            "type": "contourcarpet"
           }
          ],
          "heatmap": [
           {
            "colorbar": {
             "outlinewidth": 0,
             "ticks": ""
            },
            "colorscale": [
             [
              0,
              "#0d0887"
             ],
             [
              0.1111111111111111,
              "#46039f"
             ],
             [
              0.2222222222222222,
              "#7201a8"
             ],
             [
              0.3333333333333333,
              "#9c179e"
             ],
             [
              0.4444444444444444,
              "#bd3786"
             ],
             [
              0.5555555555555556,
              "#d8576b"
             ],
             [
              0.6666666666666666,
              "#ed7953"
             ],
             [
              0.7777777777777778,
              "#fb9f3a"
             ],
             [
              0.8888888888888888,
              "#fdca26"
             ],
             [
              1,
              "#f0f921"
             ]
            ],
            "type": "heatmap"
           }
          ],
          "heatmapgl": [
           {
            "colorbar": {
             "outlinewidth": 0,
             "ticks": ""
            },
            "colorscale": [
             [
              0,
              "#0d0887"
             ],
             [
              0.1111111111111111,
              "#46039f"
             ],
             [
              0.2222222222222222,
              "#7201a8"
             ],
             [
              0.3333333333333333,
              "#9c179e"
             ],
             [
              0.4444444444444444,
              "#bd3786"
             ],
             [
              0.5555555555555556,
              "#d8576b"
             ],
             [
              0.6666666666666666,
              "#ed7953"
             ],
             [
              0.7777777777777778,
              "#fb9f3a"
             ],
             [
              0.8888888888888888,
              "#fdca26"
             ],
             [
              1,
              "#f0f921"
             ]
            ],
            "type": "heatmapgl"
           }
          ],
          "histogram": [
           {
            "marker": {
             "pattern": {
              "fillmode": "overlay",
              "size": 10,
              "solidity": 0.2
             }
            },
            "type": "histogram"
           }
          ],
          "histogram2d": [
           {
            "colorbar": {
             "outlinewidth": 0,
             "ticks": ""
            },
            "colorscale": [
             [
              0,
              "#0d0887"
             ],
             [
              0.1111111111111111,
              "#46039f"
             ],
             [
              0.2222222222222222,
              "#7201a8"
             ],
             [
              0.3333333333333333,
              "#9c179e"
             ],
             [
              0.4444444444444444,
              "#bd3786"
             ],
             [
              0.5555555555555556,
              "#d8576b"
             ],
             [
              0.6666666666666666,
              "#ed7953"
             ],
             [
              0.7777777777777778,
              "#fb9f3a"
             ],
             [
              0.8888888888888888,
              "#fdca26"
             ],
             [
              1,
              "#f0f921"
             ]
            ],
            "type": "histogram2d"
           }
          ],
          "histogram2dcontour": [
           {
            "colorbar": {
             "outlinewidth": 0,
             "ticks": ""
            },
            "colorscale": [
             [
              0,
              "#0d0887"
             ],
             [
              0.1111111111111111,
              "#46039f"
             ],
             [
              0.2222222222222222,
              "#7201a8"
             ],
             [
              0.3333333333333333,
              "#9c179e"
             ],
             [
              0.4444444444444444,
              "#bd3786"
             ],
             [
              0.5555555555555556,
              "#d8576b"
             ],
             [
              0.6666666666666666,
              "#ed7953"
             ],
             [
              0.7777777777777778,
              "#fb9f3a"
             ],
             [
              0.8888888888888888,
              "#fdca26"
             ],
             [
              1,
              "#f0f921"
             ]
            ],
            "type": "histogram2dcontour"
           }
          ],
          "mesh3d": [
           {
            "colorbar": {
             "outlinewidth": 0,
             "ticks": ""
            },
            "type": "mesh3d"
           }
          ],
          "parcoords": [
           {
            "line": {
             "colorbar": {
              "outlinewidth": 0,
              "ticks": ""
             }
            },
            "type": "parcoords"
           }
          ],
          "pie": [
           {
            "automargin": true,
            "type": "pie"
           }
          ],
          "scatter": [
           {
            "fillpattern": {
             "fillmode": "overlay",
             "size": 10,
             "solidity": 0.2
            },
            "type": "scatter"
           }
          ],
          "scatter3d": [
           {
            "line": {
             "colorbar": {
              "outlinewidth": 0,
              "ticks": ""
             }
            },
            "marker": {
             "colorbar": {
              "outlinewidth": 0,
              "ticks": ""
             }
            },
            "type": "scatter3d"
           }
          ],
          "scattercarpet": [
           {
            "marker": {
             "colorbar": {
              "outlinewidth": 0,
              "ticks": ""
             }
            },
            "type": "scattercarpet"
           }
          ],
          "scattergeo": [
           {
            "marker": {
             "colorbar": {
              "outlinewidth": 0,
              "ticks": ""
             }
            },
            "type": "scattergeo"
           }
          ],
          "scattergl": [
           {
            "marker": {
             "colorbar": {
              "outlinewidth": 0,
              "ticks": ""
             }
            },
            "type": "scattergl"
           }
          ],
          "scattermapbox": [
           {
            "marker": {
             "colorbar": {
              "outlinewidth": 0,
              "ticks": ""
             }
            },
            "type": "scattermapbox"
           }
          ],
          "scatterpolar": [
           {
            "marker": {
             "colorbar": {
              "outlinewidth": 0,
              "ticks": ""
             }
            },
            "type": "scatterpolar"
           }
          ],
          "scatterpolargl": [
           {
            "marker": {
             "colorbar": {
              "outlinewidth": 0,
              "ticks": ""
             }
            },
            "type": "scatterpolargl"
           }
          ],
          "scatterternary": [
           {
            "marker": {
             "colorbar": {
              "outlinewidth": 0,
              "ticks": ""
             }
            },
            "type": "scatterternary"
           }
          ],
          "surface": [
           {
            "colorbar": {
             "outlinewidth": 0,
             "ticks": ""
            },
            "colorscale": [
             [
              0,
              "#0d0887"
             ],
             [
              0.1111111111111111,
              "#46039f"
             ],
             [
              0.2222222222222222,
              "#7201a8"
             ],
             [
              0.3333333333333333,
              "#9c179e"
             ],
             [
              0.4444444444444444,
              "#bd3786"
             ],
             [
              0.5555555555555556,
              "#d8576b"
             ],
             [
              0.6666666666666666,
              "#ed7953"
             ],
             [
              0.7777777777777778,
              "#fb9f3a"
             ],
             [
              0.8888888888888888,
              "#fdca26"
             ],
             [
              1,
              "#f0f921"
             ]
            ],
            "type": "surface"
           }
          ],
          "table": [
           {
            "cells": {
             "fill": {
              "color": "#EBF0F8"
             },
             "line": {
              "color": "white"
             }
            },
            "header": {
             "fill": {
              "color": "#C8D4E3"
             },
             "line": {
              "color": "white"
             }
            },
            "type": "table"
           }
          ]
         },
         "layout": {
          "annotationdefaults": {
           "arrowcolor": "#2a3f5f",
           "arrowhead": 0,
           "arrowwidth": 1
          },
          "autotypenumbers": "strict",
          "coloraxis": {
           "colorbar": {
            "outlinewidth": 0,
            "ticks": ""
           }
          },
          "colorscale": {
           "diverging": [
            [
             0,
             "#8e0152"
            ],
            [
             0.1,
             "#c51b7d"
            ],
            [
             0.2,
             "#de77ae"
            ],
            [
             0.3,
             "#f1b6da"
            ],
            [
             0.4,
             "#fde0ef"
            ],
            [
             0.5,
             "#f7f7f7"
            ],
            [
             0.6,
             "#e6f5d0"
            ],
            [
             0.7,
             "#b8e186"
            ],
            [
             0.8,
             "#7fbc41"
            ],
            [
             0.9,
             "#4d9221"
            ],
            [
             1,
             "#276419"
            ]
           ],
           "sequential": [
            [
             0,
             "#0d0887"
            ],
            [
             0.1111111111111111,
             "#46039f"
            ],
            [
             0.2222222222222222,
             "#7201a8"
            ],
            [
             0.3333333333333333,
             "#9c179e"
            ],
            [
             0.4444444444444444,
             "#bd3786"
            ],
            [
             0.5555555555555556,
             "#d8576b"
            ],
            [
             0.6666666666666666,
             "#ed7953"
            ],
            [
             0.7777777777777778,
             "#fb9f3a"
            ],
            [
             0.8888888888888888,
             "#fdca26"
            ],
            [
             1,
             "#f0f921"
            ]
           ],
           "sequentialminus": [
            [
             0,
             "#0d0887"
            ],
            [
             0.1111111111111111,
             "#46039f"
            ],
            [
             0.2222222222222222,
             "#7201a8"
            ],
            [
             0.3333333333333333,
             "#9c179e"
            ],
            [
             0.4444444444444444,
             "#bd3786"
            ],
            [
             0.5555555555555556,
             "#d8576b"
            ],
            [
             0.6666666666666666,
             "#ed7953"
            ],
            [
             0.7777777777777778,
             "#fb9f3a"
            ],
            [
             0.8888888888888888,
             "#fdca26"
            ],
            [
             1,
             "#f0f921"
            ]
           ]
          },
          "colorway": [
           "#636efa",
           "#EF553B",
           "#00cc96",
           "#ab63fa",
           "#FFA15A",
           "#19d3f3",
           "#FF6692",
           "#B6E880",
           "#FF97FF",
           "#FECB52"
          ],
          "font": {
           "color": "#2a3f5f"
          },
          "geo": {
           "bgcolor": "white",
           "lakecolor": "white",
           "landcolor": "#E5ECF6",
           "showlakes": true,
           "showland": true,
           "subunitcolor": "white"
          },
          "hoverlabel": {
           "align": "left"
          },
          "hovermode": "closest",
          "mapbox": {
           "style": "light"
          },
          "paper_bgcolor": "white",
          "plot_bgcolor": "#E5ECF6",
          "polar": {
           "angularaxis": {
            "gridcolor": "white",
            "linecolor": "white",
            "ticks": ""
           },
           "bgcolor": "#E5ECF6",
           "radialaxis": {
            "gridcolor": "white",
            "linecolor": "white",
            "ticks": ""
           }
          },
          "scene": {
           "xaxis": {
            "backgroundcolor": "#E5ECF6",
            "gridcolor": "white",
            "gridwidth": 2,
            "linecolor": "white",
            "showbackground": true,
            "ticks": "",
            "zerolinecolor": "white"
           },
           "yaxis": {
            "backgroundcolor": "#E5ECF6",
            "gridcolor": "white",
            "gridwidth": 2,
            "linecolor": "white",
            "showbackground": true,
            "ticks": "",
            "zerolinecolor": "white"
           },
           "zaxis": {
            "backgroundcolor": "#E5ECF6",
            "gridcolor": "white",
            "gridwidth": 2,
            "linecolor": "white",
            "showbackground": true,
            "ticks": "",
            "zerolinecolor": "white"
           }
          },
          "shapedefaults": {
           "line": {
            "color": "#2a3f5f"
           }
          },
          "ternary": {
           "aaxis": {
            "gridcolor": "white",
            "linecolor": "white",
            "ticks": ""
           },
           "baxis": {
            "gridcolor": "white",
            "linecolor": "white",
            "ticks": ""
           },
           "bgcolor": "#E5ECF6",
           "caxis": {
            "gridcolor": "white",
            "linecolor": "white",
            "ticks": ""
           }
          },
          "title": {
           "x": 0.05
          },
          "xaxis": {
           "automargin": true,
           "gridcolor": "white",
           "linecolor": "white",
           "ticks": "",
           "title": {
            "standoff": 15
           },
           "zerolinecolor": "white",
           "zerolinewidth": 2
          },
          "yaxis": {
           "automargin": true,
           "gridcolor": "white",
           "linecolor": "white",
           "ticks": "",
           "title": {
            "standoff": 15
           },
           "zerolinecolor": "white",
           "zerolinewidth": 2
          }
         }
        },
        "title": {
         "text": "Sentiment Distribution Across Days"
        },
        "xaxis": {
         "anchor": "y",
         "domain": [
          0,
          1
         ],
         "title": {
          "text": "Month"
         }
        },
        "yaxis": {
         "anchor": "x",
         "domain": [
          0,
          1
         ],
         "title": {
          "text": "Count"
         }
        }
       }
      },
      "text/html": [
       "<div>                            <div id=\"08d2d496-2edb-4c5f-8da7-6fce9470fa45\" class=\"plotly-graph-div\" style=\"height:525px; width:100%;\"></div>            <script type=\"text/javascript\">                require([\"plotly\"], function(Plotly) {                    window.PLOTLYENV=window.PLOTLYENV || {};                                    if (document.getElementById(\"08d2d496-2edb-4c5f-8da7-6fce9470fa45\")) {                    Plotly.newPlot(                        \"08d2d496-2edb-4c5f-8da7-6fce9470fa45\",                        [{\"alignmentgroup\":\"True\",\"hovertemplate\":\"General_Sentiment=Anger<br>Month=%{x}<br>Count=%{y}<extra></extra>\",\"legendgroup\":\"Anger\",\"marker\":{\"color\":\"#1F77B4\",\"pattern\":{\"shape\":\"\"}},\"name\":\"Anger\",\"offsetgroup\":\"Anger\",\"orientation\":\"v\",\"showlegend\":true,\"textposition\":\"auto\",\"x\":[1,2,3,4,5,6,7,8,9,10,11,12],\"xaxis\":\"x\",\"y\":[5.0,4.0,2.0,3.0,2.0,1.0,1.0,2.0,13.0,2.0,2.0,2.0],\"yaxis\":\"y\",\"type\":\"bar\"},{\"alignmentgroup\":\"True\",\"hovertemplate\":\"General_Sentiment=Anticipation<br>Month=%{x}<br>Count=%{y}<extra></extra>\",\"legendgroup\":\"Anticipation\",\"marker\":{\"color\":\"#FF7F0E\",\"pattern\":{\"shape\":\"\"}},\"name\":\"Anticipation\",\"offsetgroup\":\"Anticipation\",\"orientation\":\"v\",\"showlegend\":true,\"textposition\":\"auto\",\"x\":[1,2,3,4,5,6,7,8,9,10,11,12],\"xaxis\":\"x\",\"y\":[1.0,6.0,2.0,5.0,3.0,6.0,5.0,5.0,6.0,5.0,10.0,3.0],\"yaxis\":\"y\",\"type\":\"bar\"},{\"alignmentgroup\":\"True\",\"hovertemplate\":\"General_Sentiment=Disgust<br>Month=%{x}<br>Count=%{y}<extra></extra>\",\"legendgroup\":\"Disgust\",\"marker\":{\"color\":\"#2CA02C\",\"pattern\":{\"shape\":\"\"}},\"name\":\"Disgust\",\"offsetgroup\":\"Disgust\",\"orientation\":\"v\",\"showlegend\":true,\"textposition\":\"auto\",\"x\":[1,2,3,4,5,6,7,8,9,10,11,12],\"xaxis\":\"x\",\"y\":[0.0,7.0,2.0,0.0,2.0,0.0,2.0,1.0,0.0,0.0,1.0,0.0],\"yaxis\":\"y\",\"type\":\"bar\"},{\"alignmentgroup\":\"True\",\"hovertemplate\":\"General_Sentiment=Fear<br>Month=%{x}<br>Count=%{y}<extra></extra>\",\"legendgroup\":\"Fear\",\"marker\":{\"color\":\"#D62728\",\"pattern\":{\"shape\":\"\"}},\"name\":\"Fear\",\"offsetgroup\":\"Fear\",\"orientation\":\"v\",\"showlegend\":true,\"textposition\":\"auto\",\"x\":[1,2,3,4,5,6,7,8,9,10,11,12],\"xaxis\":\"x\",\"y\":[3.0,3.0,1.0,3.0,3.0,3.0,1.0,2.0,1.0,1.0,1.0,2.0],\"yaxis\":\"y\",\"type\":\"bar\"},{\"alignmentgroup\":\"True\",\"hovertemplate\":\"General_Sentiment=Joy/Happiness<br>Month=%{x}<br>Count=%{y}<extra></extra>\",\"legendgroup\":\"Joy/Happiness\",\"marker\":{\"color\":\"#9467BD\",\"pattern\":{\"shape\":\"\"}},\"name\":\"Joy/Happiness\",\"offsetgroup\":\"Joy/Happiness\",\"orientation\":\"v\",\"showlegend\":true,\"textposition\":\"auto\",\"x\":[1,2,3,4,5,6,7,8,9,10,11,12],\"xaxis\":\"x\",\"y\":[50.0,25.0,14.0,14.0,14.0,37.0,30.0,35.0,23.0,13.0,12.0,16.0],\"yaxis\":\"y\",\"type\":\"bar\"},{\"alignmentgroup\":\"True\",\"hovertemplate\":\"General_Sentiment=Love/Affection<br>Month=%{x}<br>Count=%{y}<extra></extra>\",\"legendgroup\":\"Love/Affection\",\"marker\":{\"color\":\"#8C564B\",\"pattern\":{\"shape\":\"\"}},\"name\":\"Love/Affection\",\"offsetgroup\":\"Love/Affection\",\"orientation\":\"v\",\"showlegend\":true,\"textposition\":\"auto\",\"x\":[1,2,3,4,5,6,7,8,9,10,11,12],\"xaxis\":\"x\",\"y\":[2.0,16.0,5.0,6.0,2.0,2.0,2.0,2.0,5.0,1.0,3.0,4.0],\"yaxis\":\"y\",\"type\":\"bar\"},{\"alignmentgroup\":\"True\",\"hovertemplate\":\"General_Sentiment=Neutral/Calm<br>Month=%{x}<br>Count=%{y}<extra></extra>\",\"legendgroup\":\"Neutral/Calm\",\"marker\":{\"color\":\"#E377C2\",\"pattern\":{\"shape\":\"\"}},\"name\":\"Neutral/Calm\",\"offsetgroup\":\"Neutral/Calm\",\"orientation\":\"v\",\"showlegend\":true,\"textposition\":\"auto\",\"x\":[1,2,3,4,5,6,7,8,9,10,11,12],\"xaxis\":\"x\",\"y\":[6.0,8.0,4.0,7.0,7.0,9.0,7.0,5.0,7.0,19.0,10.0,3.0],\"yaxis\":\"y\",\"type\":\"bar\"},{\"alignmentgroup\":\"True\",\"hovertemplate\":\"General_Sentiment=Sadness<br>Month=%{x}<br>Count=%{y}<extra></extra>\",\"legendgroup\":\"Sadness\",\"marker\":{\"color\":\"#7F7F7F\",\"pattern\":{\"shape\":\"\"}},\"name\":\"Sadness\",\"offsetgroup\":\"Sadness\",\"orientation\":\"v\",\"showlegend\":true,\"textposition\":\"auto\",\"x\":[1,2,3,4,5,6,7,8,9,10,11,12],\"xaxis\":\"x\",\"y\":[8.0,9.0,10.0,6.0,4.0,7.0,6.0,16.0,18.0,5.0,7.0,7.0],\"yaxis\":\"y\",\"type\":\"bar\"},{\"alignmentgroup\":\"True\",\"hovertemplate\":\"General_Sentiment=Suprise<br>Month=%{x}<br>Count=%{y}<extra></extra>\",\"legendgroup\":\"Suprise\",\"marker\":{\"color\":\"#BCBD22\",\"pattern\":{\"shape\":\"\"}},\"name\":\"Suprise\",\"offsetgroup\":\"Suprise\",\"orientation\":\"v\",\"showlegend\":true,\"textposition\":\"auto\",\"x\":[1,2,3,4,5,6,7,8,9,10,11,12],\"xaxis\":\"x\",\"y\":[1.0,5.0,3.0,2.0,5.0,3.0,2.0,4.0,1.0,1.0,0.0,0.0],\"yaxis\":\"y\",\"type\":\"bar\"},{\"alignmentgroup\":\"True\",\"hovertemplate\":\"General_Sentiment=Trust<br>Month=%{x}<br>Count=%{y}<extra></extra>\",\"legendgroup\":\"Trust\",\"marker\":{\"color\":\"#17BECF\",\"pattern\":{\"shape\":\"\"}},\"name\":\"Trust\",\"offsetgroup\":\"Trust\",\"orientation\":\"v\",\"showlegend\":true,\"textposition\":\"auto\",\"x\":[1,2,3,4,5,6,7,8,9,10,11,12],\"xaxis\":\"x\",\"y\":[1.0,2.0,1.0,3.0,3.0,2.0,2.0,2.0,0.0,0.0,1.0,0.0],\"yaxis\":\"y\",\"type\":\"bar\"}],                        {\"template\":{\"data\":{\"histogram2dcontour\":[{\"type\":\"histogram2dcontour\",\"colorbar\":{\"outlinewidth\":0,\"ticks\":\"\"},\"colorscale\":[[0.0,\"#0d0887\"],[0.1111111111111111,\"#46039f\"],[0.2222222222222222,\"#7201a8\"],[0.3333333333333333,\"#9c179e\"],[0.4444444444444444,\"#bd3786\"],[0.5555555555555556,\"#d8576b\"],[0.6666666666666666,\"#ed7953\"],[0.7777777777777778,\"#fb9f3a\"],[0.8888888888888888,\"#fdca26\"],[1.0,\"#f0f921\"]]}],\"choropleth\":[{\"type\":\"choropleth\",\"colorbar\":{\"outlinewidth\":0,\"ticks\":\"\"}}],\"histogram2d\":[{\"type\":\"histogram2d\",\"colorbar\":{\"outlinewidth\":0,\"ticks\":\"\"},\"colorscale\":[[0.0,\"#0d0887\"],[0.1111111111111111,\"#46039f\"],[0.2222222222222222,\"#7201a8\"],[0.3333333333333333,\"#9c179e\"],[0.4444444444444444,\"#bd3786\"],[0.5555555555555556,\"#d8576b\"],[0.6666666666666666,\"#ed7953\"],[0.7777777777777778,\"#fb9f3a\"],[0.8888888888888888,\"#fdca26\"],[1.0,\"#f0f921\"]]}],\"heatmap\":[{\"type\":\"heatmap\",\"colorbar\":{\"outlinewidth\":0,\"ticks\":\"\"},\"colorscale\":[[0.0,\"#0d0887\"],[0.1111111111111111,\"#46039f\"],[0.2222222222222222,\"#7201a8\"],[0.3333333333333333,\"#9c179e\"],[0.4444444444444444,\"#bd3786\"],[0.5555555555555556,\"#d8576b\"],[0.6666666666666666,\"#ed7953\"],[0.7777777777777778,\"#fb9f3a\"],[0.8888888888888888,\"#fdca26\"],[1.0,\"#f0f921\"]]}],\"heatmapgl\":[{\"type\":\"heatmapgl\",\"colorbar\":{\"outlinewidth\":0,\"ticks\":\"\"},\"colorscale\":[[0.0,\"#0d0887\"],[0.1111111111111111,\"#46039f\"],[0.2222222222222222,\"#7201a8\"],[0.3333333333333333,\"#9c179e\"],[0.4444444444444444,\"#bd3786\"],[0.5555555555555556,\"#d8576b\"],[0.6666666666666666,\"#ed7953\"],[0.7777777777777778,\"#fb9f3a\"],[0.8888888888888888,\"#fdca26\"],[1.0,\"#f0f921\"]]}],\"contourcarpet\":[{\"type\":\"contourcarpet\",\"colorbar\":{\"outlinewidth\":0,\"ticks\":\"\"}}],\"contour\":[{\"type\":\"contour\",\"colorbar\":{\"outlinewidth\":0,\"ticks\":\"\"},\"colorscale\":[[0.0,\"#0d0887\"],[0.1111111111111111,\"#46039f\"],[0.2222222222222222,\"#7201a8\"],[0.3333333333333333,\"#9c179e\"],[0.4444444444444444,\"#bd3786\"],[0.5555555555555556,\"#d8576b\"],[0.6666666666666666,\"#ed7953\"],[0.7777777777777778,\"#fb9f3a\"],[0.8888888888888888,\"#fdca26\"],[1.0,\"#f0f921\"]]}],\"surface\":[{\"type\":\"surface\",\"colorbar\":{\"outlinewidth\":0,\"ticks\":\"\"},\"colorscale\":[[0.0,\"#0d0887\"],[0.1111111111111111,\"#46039f\"],[0.2222222222222222,\"#7201a8\"],[0.3333333333333333,\"#9c179e\"],[0.4444444444444444,\"#bd3786\"],[0.5555555555555556,\"#d8576b\"],[0.6666666666666666,\"#ed7953\"],[0.7777777777777778,\"#fb9f3a\"],[0.8888888888888888,\"#fdca26\"],[1.0,\"#f0f921\"]]}],\"mesh3d\":[{\"type\":\"mesh3d\",\"colorbar\":{\"outlinewidth\":0,\"ticks\":\"\"}}],\"scatter\":[{\"fillpattern\":{\"fillmode\":\"overlay\",\"size\":10,\"solidity\":0.2},\"type\":\"scatter\"}],\"parcoords\":[{\"type\":\"parcoords\",\"line\":{\"colorbar\":{\"outlinewidth\":0,\"ticks\":\"\"}}}],\"scatterpolargl\":[{\"type\":\"scatterpolargl\",\"marker\":{\"colorbar\":{\"outlinewidth\":0,\"ticks\":\"\"}}}],\"bar\":[{\"error_x\":{\"color\":\"#2a3f5f\"},\"error_y\":{\"color\":\"#2a3f5f\"},\"marker\":{\"line\":{\"color\":\"#E5ECF6\",\"width\":0.5},\"pattern\":{\"fillmode\":\"overlay\",\"size\":10,\"solidity\":0.2}},\"type\":\"bar\"}],\"scattergeo\":[{\"type\":\"scattergeo\",\"marker\":{\"colorbar\":{\"outlinewidth\":0,\"ticks\":\"\"}}}],\"scatterpolar\":[{\"type\":\"scatterpolar\",\"marker\":{\"colorbar\":{\"outlinewidth\":0,\"ticks\":\"\"}}}],\"histogram\":[{\"marker\":{\"pattern\":{\"fillmode\":\"overlay\",\"size\":10,\"solidity\":0.2}},\"type\":\"histogram\"}],\"scattergl\":[{\"type\":\"scattergl\",\"marker\":{\"colorbar\":{\"outlinewidth\":0,\"ticks\":\"\"}}}],\"scatter3d\":[{\"type\":\"scatter3d\",\"line\":{\"colorbar\":{\"outlinewidth\":0,\"ticks\":\"\"}},\"marker\":{\"colorbar\":{\"outlinewidth\":0,\"ticks\":\"\"}}}],\"scattermapbox\":[{\"type\":\"scattermapbox\",\"marker\":{\"colorbar\":{\"outlinewidth\":0,\"ticks\":\"\"}}}],\"scatterternary\":[{\"type\":\"scatterternary\",\"marker\":{\"colorbar\":{\"outlinewidth\":0,\"ticks\":\"\"}}}],\"scattercarpet\":[{\"type\":\"scattercarpet\",\"marker\":{\"colorbar\":{\"outlinewidth\":0,\"ticks\":\"\"}}}],\"carpet\":[{\"aaxis\":{\"endlinecolor\":\"#2a3f5f\",\"gridcolor\":\"white\",\"linecolor\":\"white\",\"minorgridcolor\":\"white\",\"startlinecolor\":\"#2a3f5f\"},\"baxis\":{\"endlinecolor\":\"#2a3f5f\",\"gridcolor\":\"white\",\"linecolor\":\"white\",\"minorgridcolor\":\"white\",\"startlinecolor\":\"#2a3f5f\"},\"type\":\"carpet\"}],\"table\":[{\"cells\":{\"fill\":{\"color\":\"#EBF0F8\"},\"line\":{\"color\":\"white\"}},\"header\":{\"fill\":{\"color\":\"#C8D4E3\"},\"line\":{\"color\":\"white\"}},\"type\":\"table\"}],\"barpolar\":[{\"marker\":{\"line\":{\"color\":\"#E5ECF6\",\"width\":0.5},\"pattern\":{\"fillmode\":\"overlay\",\"size\":10,\"solidity\":0.2}},\"type\":\"barpolar\"}],\"pie\":[{\"automargin\":true,\"type\":\"pie\"}]},\"layout\":{\"autotypenumbers\":\"strict\",\"colorway\":[\"#636efa\",\"#EF553B\",\"#00cc96\",\"#ab63fa\",\"#FFA15A\",\"#19d3f3\",\"#FF6692\",\"#B6E880\",\"#FF97FF\",\"#FECB52\"],\"font\":{\"color\":\"#2a3f5f\"},\"hovermode\":\"closest\",\"hoverlabel\":{\"align\":\"left\"},\"paper_bgcolor\":\"white\",\"plot_bgcolor\":\"#E5ECF6\",\"polar\":{\"bgcolor\":\"#E5ECF6\",\"angularaxis\":{\"gridcolor\":\"white\",\"linecolor\":\"white\",\"ticks\":\"\"},\"radialaxis\":{\"gridcolor\":\"white\",\"linecolor\":\"white\",\"ticks\":\"\"}},\"ternary\":{\"bgcolor\":\"#E5ECF6\",\"aaxis\":{\"gridcolor\":\"white\",\"linecolor\":\"white\",\"ticks\":\"\"},\"baxis\":{\"gridcolor\":\"white\",\"linecolor\":\"white\",\"ticks\":\"\"},\"caxis\":{\"gridcolor\":\"white\",\"linecolor\":\"white\",\"ticks\":\"\"}},\"coloraxis\":{\"colorbar\":{\"outlinewidth\":0,\"ticks\":\"\"}},\"colorscale\":{\"sequential\":[[0.0,\"#0d0887\"],[0.1111111111111111,\"#46039f\"],[0.2222222222222222,\"#7201a8\"],[0.3333333333333333,\"#9c179e\"],[0.4444444444444444,\"#bd3786\"],[0.5555555555555556,\"#d8576b\"],[0.6666666666666666,\"#ed7953\"],[0.7777777777777778,\"#fb9f3a\"],[0.8888888888888888,\"#fdca26\"],[1.0,\"#f0f921\"]],\"sequentialminus\":[[0.0,\"#0d0887\"],[0.1111111111111111,\"#46039f\"],[0.2222222222222222,\"#7201a8\"],[0.3333333333333333,\"#9c179e\"],[0.4444444444444444,\"#bd3786\"],[0.5555555555555556,\"#d8576b\"],[0.6666666666666666,\"#ed7953\"],[0.7777777777777778,\"#fb9f3a\"],[0.8888888888888888,\"#fdca26\"],[1.0,\"#f0f921\"]],\"diverging\":[[0,\"#8e0152\"],[0.1,\"#c51b7d\"],[0.2,\"#de77ae\"],[0.3,\"#f1b6da\"],[0.4,\"#fde0ef\"],[0.5,\"#f7f7f7\"],[0.6,\"#e6f5d0\"],[0.7,\"#b8e186\"],[0.8,\"#7fbc41\"],[0.9,\"#4d9221\"],[1,\"#276419\"]]},\"xaxis\":{\"gridcolor\":\"white\",\"linecolor\":\"white\",\"ticks\":\"\",\"title\":{\"standoff\":15},\"zerolinecolor\":\"white\",\"automargin\":true,\"zerolinewidth\":2},\"yaxis\":{\"gridcolor\":\"white\",\"linecolor\":\"white\",\"ticks\":\"\",\"title\":{\"standoff\":15},\"zerolinecolor\":\"white\",\"automargin\":true,\"zerolinewidth\":2},\"scene\":{\"xaxis\":{\"backgroundcolor\":\"#E5ECF6\",\"gridcolor\":\"white\",\"linecolor\":\"white\",\"showbackground\":true,\"ticks\":\"\",\"zerolinecolor\":\"white\",\"gridwidth\":2},\"yaxis\":{\"backgroundcolor\":\"#E5ECF6\",\"gridcolor\":\"white\",\"linecolor\":\"white\",\"showbackground\":true,\"ticks\":\"\",\"zerolinecolor\":\"white\",\"gridwidth\":2},\"zaxis\":{\"backgroundcolor\":\"#E5ECF6\",\"gridcolor\":\"white\",\"linecolor\":\"white\",\"showbackground\":true,\"ticks\":\"\",\"zerolinecolor\":\"white\",\"gridwidth\":2}},\"shapedefaults\":{\"line\":{\"color\":\"#2a3f5f\"}},\"annotationdefaults\":{\"arrowcolor\":\"#2a3f5f\",\"arrowhead\":0,\"arrowwidth\":1},\"geo\":{\"bgcolor\":\"white\",\"landcolor\":\"#E5ECF6\",\"subunitcolor\":\"white\",\"showland\":true,\"showlakes\":true,\"lakecolor\":\"white\"},\"title\":{\"x\":0.05},\"mapbox\":{\"style\":\"light\"}}},\"xaxis\":{\"anchor\":\"y\",\"domain\":[0.0,1.0],\"title\":{\"text\":\"Month\"}},\"yaxis\":{\"anchor\":\"x\",\"domain\":[0.0,1.0],\"title\":{\"text\":\"Count\"}},\"legend\":{\"title\":{\"text\":\"General_Sentiment\"},\"tracegroupgap\":0},\"title\":{\"text\":\"Sentiment Distribution Across Days\"},\"barmode\":\"relative\"},                        {\"responsive\": true}                    ).then(function(){\n",
       "                            \n",
       "var gd = document.getElementById('08d2d496-2edb-4c5f-8da7-6fce9470fa45');\n",
       "var x = new MutationObserver(function (mutations, observer) {{\n",
       "        var display = window.getComputedStyle(gd).display;\n",
       "        if (!display || display === 'none') {{\n",
       "            console.log([gd, 'removed!']);\n",
       "            Plotly.purge(gd);\n",
       "            observer.disconnect();\n",
       "        }}\n",
       "}});\n",
       "\n",
       "// Listen for the removal of the full notebook cells\n",
       "var notebookContainer = gd.closest('#notebook-container');\n",
       "if (notebookContainer) {{\n",
       "    x.observe(notebookContainer, {childList: true});\n",
       "}}\n",
       "\n",
       "// Listen for the clearing of the current output cell\n",
       "var outputEl = gd.closest('.output');\n",
       "if (outputEl) {{\n",
       "    x.observe(outputEl, {childList: true});\n",
       "}}\n",
       "\n",
       "                        })                };                });            </script>        </div>"
      ]
     },
     "metadata": {},
     "output_type": "display_data"
    }
   ],
   "source": [
    "fig = px.bar(\n",
    "    sentiment_counts,\n",
    "    x=sentiment_counts.index,\n",
    "    y=sentiment_counts.columns,\n",
    "    title=\"Sentiment Distribution Across Days\",\n",
    "    labels={\"value\": \"Count\", \"Day\": \"Day\"},\n",
    "    color_discrete_sequence=px.colors.qualitative.D3\n",
    ")\n",
    "\n",
    "fig.show()\n",
    "# talk about popular days for social media posts"
   ]
  },
  {
   "cell_type": "markdown",
   "id": "2a2d8598",
   "metadata": {},
   "source": [
    "# 4. Hourly distribution of sentiments"
   ]
  },
  {
   "cell_type": "code",
   "execution_count": 18,
   "id": "4421ef83",
   "metadata": {},
   "outputs": [],
   "source": [
    "# hour\n",
    "sentiment_counts = data.groupby(\"Hour\")[\"General_Sentiment\"].value_counts().unstack().fillna(0)"
   ]
  },
  {
   "cell_type": "code",
   "execution_count": 45,
   "id": "7489480f",
   "metadata": {
    "scrolled": false
   },
   "outputs": [
    {
     "data": {
      "application/vnd.plotly.v1+json": {
       "config": {
        "plotlyServerURL": "https://plot.ly"
       },
       "data": [
        {
         "alignmentgroup": "True",
         "hovertemplate": "General_Sentiment=Anger<br>Month=%{x}<br>Count=%{y}<extra></extra>",
         "legendgroup": "Anger",
         "marker": {
          "color": "#2E91E5",
          "pattern": {
           "shape": ""
          }
         },
         "name": "Anger",
         "offsetgroup": "Anger",
         "orientation": "v",
         "showlegend": true,
         "textposition": "auto",
         "type": "bar",
         "x": [
          1,
          2,
          3,
          4,
          5,
          6,
          7,
          8,
          9,
          10,
          11,
          12
         ],
         "xaxis": "x",
         "y": [
          5,
          4,
          2,
          3,
          2,
          1,
          1,
          2,
          13,
          2,
          2,
          2
         ],
         "yaxis": "y"
        },
        {
         "alignmentgroup": "True",
         "hovertemplate": "General_Sentiment=Anticipation<br>Month=%{x}<br>Count=%{y}<extra></extra>",
         "legendgroup": "Anticipation",
         "marker": {
          "color": "#E15F99",
          "pattern": {
           "shape": ""
          }
         },
         "name": "Anticipation",
         "offsetgroup": "Anticipation",
         "orientation": "v",
         "showlegend": true,
         "textposition": "auto",
         "type": "bar",
         "x": [
          1,
          2,
          3,
          4,
          5,
          6,
          7,
          8,
          9,
          10,
          11,
          12
         ],
         "xaxis": "x",
         "y": [
          1,
          6,
          2,
          5,
          3,
          6,
          5,
          5,
          6,
          5,
          10,
          3
         ],
         "yaxis": "y"
        },
        {
         "alignmentgroup": "True",
         "hovertemplate": "General_Sentiment=Disgust<br>Month=%{x}<br>Count=%{y}<extra></extra>",
         "legendgroup": "Disgust",
         "marker": {
          "color": "#1CA71C",
          "pattern": {
           "shape": ""
          }
         },
         "name": "Disgust",
         "offsetgroup": "Disgust",
         "orientation": "v",
         "showlegend": true,
         "textposition": "auto",
         "type": "bar",
         "x": [
          1,
          2,
          3,
          4,
          5,
          6,
          7,
          8,
          9,
          10,
          11,
          12
         ],
         "xaxis": "x",
         "y": [
          0,
          7,
          2,
          0,
          2,
          0,
          2,
          1,
          0,
          0,
          1,
          0
         ],
         "yaxis": "y"
        },
        {
         "alignmentgroup": "True",
         "hovertemplate": "General_Sentiment=Fear<br>Month=%{x}<br>Count=%{y}<extra></extra>",
         "legendgroup": "Fear",
         "marker": {
          "color": "#FB0D0D",
          "pattern": {
           "shape": ""
          }
         },
         "name": "Fear",
         "offsetgroup": "Fear",
         "orientation": "v",
         "showlegend": true,
         "textposition": "auto",
         "type": "bar",
         "x": [
          1,
          2,
          3,
          4,
          5,
          6,
          7,
          8,
          9,
          10,
          11,
          12
         ],
         "xaxis": "x",
         "y": [
          3,
          3,
          1,
          3,
          3,
          3,
          1,
          2,
          1,
          1,
          1,
          2
         ],
         "yaxis": "y"
        },
        {
         "alignmentgroup": "True",
         "hovertemplate": "General_Sentiment=Joy/Happiness<br>Month=%{x}<br>Count=%{y}<extra></extra>",
         "legendgroup": "Joy/Happiness",
         "marker": {
          "color": "#DA16FF",
          "pattern": {
           "shape": ""
          }
         },
         "name": "Joy/Happiness",
         "offsetgroup": "Joy/Happiness",
         "orientation": "v",
         "showlegend": true,
         "textposition": "auto",
         "type": "bar",
         "x": [
          1,
          2,
          3,
          4,
          5,
          6,
          7,
          8,
          9,
          10,
          11,
          12
         ],
         "xaxis": "x",
         "y": [
          50,
          25,
          14,
          14,
          14,
          37,
          30,
          35,
          23,
          13,
          12,
          16
         ],
         "yaxis": "y"
        },
        {
         "alignmentgroup": "True",
         "hovertemplate": "General_Sentiment=Love/Affection<br>Month=%{x}<br>Count=%{y}<extra></extra>",
         "legendgroup": "Love/Affection",
         "marker": {
          "color": "#222A2A",
          "pattern": {
           "shape": ""
          }
         },
         "name": "Love/Affection",
         "offsetgroup": "Love/Affection",
         "orientation": "v",
         "showlegend": true,
         "textposition": "auto",
         "type": "bar",
         "x": [
          1,
          2,
          3,
          4,
          5,
          6,
          7,
          8,
          9,
          10,
          11,
          12
         ],
         "xaxis": "x",
         "y": [
          2,
          16,
          5,
          6,
          2,
          2,
          2,
          2,
          5,
          1,
          3,
          4
         ],
         "yaxis": "y"
        },
        {
         "alignmentgroup": "True",
         "hovertemplate": "General_Sentiment=Neutral/Calm<br>Month=%{x}<br>Count=%{y}<extra></extra>",
         "legendgroup": "Neutral/Calm",
         "marker": {
          "color": "#B68100",
          "pattern": {
           "shape": ""
          }
         },
         "name": "Neutral/Calm",
         "offsetgroup": "Neutral/Calm",
         "orientation": "v",
         "showlegend": true,
         "textposition": "auto",
         "type": "bar",
         "x": [
          1,
          2,
          3,
          4,
          5,
          6,
          7,
          8,
          9,
          10,
          11,
          12
         ],
         "xaxis": "x",
         "y": [
          6,
          8,
          4,
          7,
          7,
          9,
          7,
          5,
          7,
          19,
          10,
          3
         ],
         "yaxis": "y"
        },
        {
         "alignmentgroup": "True",
         "hovertemplate": "General_Sentiment=Sadness<br>Month=%{x}<br>Count=%{y}<extra></extra>",
         "legendgroup": "Sadness",
         "marker": {
          "color": "#750D86",
          "pattern": {
           "shape": ""
          }
         },
         "name": "Sadness",
         "offsetgroup": "Sadness",
         "orientation": "v",
         "showlegend": true,
         "textposition": "auto",
         "type": "bar",
         "x": [
          1,
          2,
          3,
          4,
          5,
          6,
          7,
          8,
          9,
          10,
          11,
          12
         ],
         "xaxis": "x",
         "y": [
          8,
          9,
          10,
          6,
          4,
          7,
          6,
          16,
          18,
          5,
          7,
          7
         ],
         "yaxis": "y"
        },
        {
         "alignmentgroup": "True",
         "hovertemplate": "General_Sentiment=Suprise<br>Month=%{x}<br>Count=%{y}<extra></extra>",
         "legendgroup": "Suprise",
         "marker": {
          "color": "#EB663B",
          "pattern": {
           "shape": ""
          }
         },
         "name": "Suprise",
         "offsetgroup": "Suprise",
         "orientation": "v",
         "showlegend": true,
         "textposition": "auto",
         "type": "bar",
         "x": [
          1,
          2,
          3,
          4,
          5,
          6,
          7,
          8,
          9,
          10,
          11,
          12
         ],
         "xaxis": "x",
         "y": [
          1,
          5,
          3,
          2,
          5,
          3,
          2,
          4,
          1,
          1,
          0,
          0
         ],
         "yaxis": "y"
        },
        {
         "alignmentgroup": "True",
         "hovertemplate": "General_Sentiment=Trust<br>Month=%{x}<br>Count=%{y}<extra></extra>",
         "legendgroup": "Trust",
         "marker": {
          "color": "#511CFB",
          "pattern": {
           "shape": ""
          }
         },
         "name": "Trust",
         "offsetgroup": "Trust",
         "orientation": "v",
         "showlegend": true,
         "textposition": "auto",
         "type": "bar",
         "x": [
          1,
          2,
          3,
          4,
          5,
          6,
          7,
          8,
          9,
          10,
          11,
          12
         ],
         "xaxis": "x",
         "y": [
          1,
          2,
          1,
          3,
          3,
          2,
          2,
          2,
          0,
          0,
          1,
          0
         ],
         "yaxis": "y"
        }
       ],
       "layout": {
        "barmode": "relative",
        "legend": {
         "title": {
          "text": "General_Sentiment"
         },
         "tracegroupgap": 0
        },
        "template": {
         "data": {
          "bar": [
           {
            "error_x": {
             "color": "#2a3f5f"
            },
            "error_y": {
             "color": "#2a3f5f"
            },
            "marker": {
             "line": {
              "color": "#E5ECF6",
              "width": 0.5
             },
             "pattern": {
              "fillmode": "overlay",
              "size": 10,
              "solidity": 0.2
             }
            },
            "type": "bar"
           }
          ],
          "barpolar": [
           {
            "marker": {
             "line": {
              "color": "#E5ECF6",
              "width": 0.5
             },
             "pattern": {
              "fillmode": "overlay",
              "size": 10,
              "solidity": 0.2
             }
            },
            "type": "barpolar"
           }
          ],
          "carpet": [
           {
            "aaxis": {
             "endlinecolor": "#2a3f5f",
             "gridcolor": "white",
             "linecolor": "white",
             "minorgridcolor": "white",
             "startlinecolor": "#2a3f5f"
            },
            "baxis": {
             "endlinecolor": "#2a3f5f",
             "gridcolor": "white",
             "linecolor": "white",
             "minorgridcolor": "white",
             "startlinecolor": "#2a3f5f"
            },
            "type": "carpet"
           }
          ],
          "choropleth": [
           {
            "colorbar": {
             "outlinewidth": 0,
             "ticks": ""
            },
            "type": "choropleth"
           }
          ],
          "contour": [
           {
            "colorbar": {
             "outlinewidth": 0,
             "ticks": ""
            },
            "colorscale": [
             [
              0,
              "#0d0887"
             ],
             [
              0.1111111111111111,
              "#46039f"
             ],
             [
              0.2222222222222222,
              "#7201a8"
             ],
             [
              0.3333333333333333,
              "#9c179e"
             ],
             [
              0.4444444444444444,
              "#bd3786"
             ],
             [
              0.5555555555555556,
              "#d8576b"
             ],
             [
              0.6666666666666666,
              "#ed7953"
             ],
             [
              0.7777777777777778,
              "#fb9f3a"
             ],
             [
              0.8888888888888888,
              "#fdca26"
             ],
             [
              1,
              "#f0f921"
             ]
            ],
            "type": "contour"
           }
          ],
          "contourcarpet": [
           {
            "colorbar": {
             "outlinewidth": 0,
             "ticks": ""
            },
            "type": "contourcarpet"
           }
          ],
          "heatmap": [
           {
            "colorbar": {
             "outlinewidth": 0,
             "ticks": ""
            },
            "colorscale": [
             [
              0,
              "#0d0887"
             ],
             [
              0.1111111111111111,
              "#46039f"
             ],
             [
              0.2222222222222222,
              "#7201a8"
             ],
             [
              0.3333333333333333,
              "#9c179e"
             ],
             [
              0.4444444444444444,
              "#bd3786"
             ],
             [
              0.5555555555555556,
              "#d8576b"
             ],
             [
              0.6666666666666666,
              "#ed7953"
             ],
             [
              0.7777777777777778,
              "#fb9f3a"
             ],
             [
              0.8888888888888888,
              "#fdca26"
             ],
             [
              1,
              "#f0f921"
             ]
            ],
            "type": "heatmap"
           }
          ],
          "heatmapgl": [
           {
            "colorbar": {
             "outlinewidth": 0,
             "ticks": ""
            },
            "colorscale": [
             [
              0,
              "#0d0887"
             ],
             [
              0.1111111111111111,
              "#46039f"
             ],
             [
              0.2222222222222222,
              "#7201a8"
             ],
             [
              0.3333333333333333,
              "#9c179e"
             ],
             [
              0.4444444444444444,
              "#bd3786"
             ],
             [
              0.5555555555555556,
              "#d8576b"
             ],
             [
              0.6666666666666666,
              "#ed7953"
             ],
             [
              0.7777777777777778,
              "#fb9f3a"
             ],
             [
              0.8888888888888888,
              "#fdca26"
             ],
             [
              1,
              "#f0f921"
             ]
            ],
            "type": "heatmapgl"
           }
          ],
          "histogram": [
           {
            "marker": {
             "pattern": {
              "fillmode": "overlay",
              "size": 10,
              "solidity": 0.2
             }
            },
            "type": "histogram"
           }
          ],
          "histogram2d": [
           {
            "colorbar": {
             "outlinewidth": 0,
             "ticks": ""
            },
            "colorscale": [
             [
              0,
              "#0d0887"
             ],
             [
              0.1111111111111111,
              "#46039f"
             ],
             [
              0.2222222222222222,
              "#7201a8"
             ],
             [
              0.3333333333333333,
              "#9c179e"
             ],
             [
              0.4444444444444444,
              "#bd3786"
             ],
             [
              0.5555555555555556,
              "#d8576b"
             ],
             [
              0.6666666666666666,
              "#ed7953"
             ],
             [
              0.7777777777777778,
              "#fb9f3a"
             ],
             [
              0.8888888888888888,
              "#fdca26"
             ],
             [
              1,
              "#f0f921"
             ]
            ],
            "type": "histogram2d"
           }
          ],
          "histogram2dcontour": [
           {
            "colorbar": {
             "outlinewidth": 0,
             "ticks": ""
            },
            "colorscale": [
             [
              0,
              "#0d0887"
             ],
             [
              0.1111111111111111,
              "#46039f"
             ],
             [
              0.2222222222222222,
              "#7201a8"
             ],
             [
              0.3333333333333333,
              "#9c179e"
             ],
             [
              0.4444444444444444,
              "#bd3786"
             ],
             [
              0.5555555555555556,
              "#d8576b"
             ],
             [
              0.6666666666666666,
              "#ed7953"
             ],
             [
              0.7777777777777778,
              "#fb9f3a"
             ],
             [
              0.8888888888888888,
              "#fdca26"
             ],
             [
              1,
              "#f0f921"
             ]
            ],
            "type": "histogram2dcontour"
           }
          ],
          "mesh3d": [
           {
            "colorbar": {
             "outlinewidth": 0,
             "ticks": ""
            },
            "type": "mesh3d"
           }
          ],
          "parcoords": [
           {
            "line": {
             "colorbar": {
              "outlinewidth": 0,
              "ticks": ""
             }
            },
            "type": "parcoords"
           }
          ],
          "pie": [
           {
            "automargin": true,
            "type": "pie"
           }
          ],
          "scatter": [
           {
            "fillpattern": {
             "fillmode": "overlay",
             "size": 10,
             "solidity": 0.2
            },
            "type": "scatter"
           }
          ],
          "scatter3d": [
           {
            "line": {
             "colorbar": {
              "outlinewidth": 0,
              "ticks": ""
             }
            },
            "marker": {
             "colorbar": {
              "outlinewidth": 0,
              "ticks": ""
             }
            },
            "type": "scatter3d"
           }
          ],
          "scattercarpet": [
           {
            "marker": {
             "colorbar": {
              "outlinewidth": 0,
              "ticks": ""
             }
            },
            "type": "scattercarpet"
           }
          ],
          "scattergeo": [
           {
            "marker": {
             "colorbar": {
              "outlinewidth": 0,
              "ticks": ""
             }
            },
            "type": "scattergeo"
           }
          ],
          "scattergl": [
           {
            "marker": {
             "colorbar": {
              "outlinewidth": 0,
              "ticks": ""
             }
            },
            "type": "scattergl"
           }
          ],
          "scattermapbox": [
           {
            "marker": {
             "colorbar": {
              "outlinewidth": 0,
              "ticks": ""
             }
            },
            "type": "scattermapbox"
           }
          ],
          "scatterpolar": [
           {
            "marker": {
             "colorbar": {
              "outlinewidth": 0,
              "ticks": ""
             }
            },
            "type": "scatterpolar"
           }
          ],
          "scatterpolargl": [
           {
            "marker": {
             "colorbar": {
              "outlinewidth": 0,
              "ticks": ""
             }
            },
            "type": "scatterpolargl"
           }
          ],
          "scatterternary": [
           {
            "marker": {
             "colorbar": {
              "outlinewidth": 0,
              "ticks": ""
             }
            },
            "type": "scatterternary"
           }
          ],
          "surface": [
           {
            "colorbar": {
             "outlinewidth": 0,
             "ticks": ""
            },
            "colorscale": [
             [
              0,
              "#0d0887"
             ],
             [
              0.1111111111111111,
              "#46039f"
             ],
             [
              0.2222222222222222,
              "#7201a8"
             ],
             [
              0.3333333333333333,
              "#9c179e"
             ],
             [
              0.4444444444444444,
              "#bd3786"
             ],
             [
              0.5555555555555556,
              "#d8576b"
             ],
             [
              0.6666666666666666,
              "#ed7953"
             ],
             [
              0.7777777777777778,
              "#fb9f3a"
             ],
             [
              0.8888888888888888,
              "#fdca26"
             ],
             [
              1,
              "#f0f921"
             ]
            ],
            "type": "surface"
           }
          ],
          "table": [
           {
            "cells": {
             "fill": {
              "color": "#EBF0F8"
             },
             "line": {
              "color": "white"
             }
            },
            "header": {
             "fill": {
              "color": "#C8D4E3"
             },
             "line": {
              "color": "white"
             }
            },
            "type": "table"
           }
          ]
         },
         "layout": {
          "annotationdefaults": {
           "arrowcolor": "#2a3f5f",
           "arrowhead": 0,
           "arrowwidth": 1
          },
          "autotypenumbers": "strict",
          "coloraxis": {
           "colorbar": {
            "outlinewidth": 0,
            "ticks": ""
           }
          },
          "colorscale": {
           "diverging": [
            [
             0,
             "#8e0152"
            ],
            [
             0.1,
             "#c51b7d"
            ],
            [
             0.2,
             "#de77ae"
            ],
            [
             0.3,
             "#f1b6da"
            ],
            [
             0.4,
             "#fde0ef"
            ],
            [
             0.5,
             "#f7f7f7"
            ],
            [
             0.6,
             "#e6f5d0"
            ],
            [
             0.7,
             "#b8e186"
            ],
            [
             0.8,
             "#7fbc41"
            ],
            [
             0.9,
             "#4d9221"
            ],
            [
             1,
             "#276419"
            ]
           ],
           "sequential": [
            [
             0,
             "#0d0887"
            ],
            [
             0.1111111111111111,
             "#46039f"
            ],
            [
             0.2222222222222222,
             "#7201a8"
            ],
            [
             0.3333333333333333,
             "#9c179e"
            ],
            [
             0.4444444444444444,
             "#bd3786"
            ],
            [
             0.5555555555555556,
             "#d8576b"
            ],
            [
             0.6666666666666666,
             "#ed7953"
            ],
            [
             0.7777777777777778,
             "#fb9f3a"
            ],
            [
             0.8888888888888888,
             "#fdca26"
            ],
            [
             1,
             "#f0f921"
            ]
           ],
           "sequentialminus": [
            [
             0,
             "#0d0887"
            ],
            [
             0.1111111111111111,
             "#46039f"
            ],
            [
             0.2222222222222222,
             "#7201a8"
            ],
            [
             0.3333333333333333,
             "#9c179e"
            ],
            [
             0.4444444444444444,
             "#bd3786"
            ],
            [
             0.5555555555555556,
             "#d8576b"
            ],
            [
             0.6666666666666666,
             "#ed7953"
            ],
            [
             0.7777777777777778,
             "#fb9f3a"
            ],
            [
             0.8888888888888888,
             "#fdca26"
            ],
            [
             1,
             "#f0f921"
            ]
           ]
          },
          "colorway": [
           "#636efa",
           "#EF553B",
           "#00cc96",
           "#ab63fa",
           "#FFA15A",
           "#19d3f3",
           "#FF6692",
           "#B6E880",
           "#FF97FF",
           "#FECB52"
          ],
          "font": {
           "color": "#2a3f5f"
          },
          "geo": {
           "bgcolor": "white",
           "lakecolor": "white",
           "landcolor": "#E5ECF6",
           "showlakes": true,
           "showland": true,
           "subunitcolor": "white"
          },
          "hoverlabel": {
           "align": "left"
          },
          "hovermode": "closest",
          "mapbox": {
           "style": "light"
          },
          "paper_bgcolor": "white",
          "plot_bgcolor": "#E5ECF6",
          "polar": {
           "angularaxis": {
            "gridcolor": "white",
            "linecolor": "white",
            "ticks": ""
           },
           "bgcolor": "#E5ECF6",
           "radialaxis": {
            "gridcolor": "white",
            "linecolor": "white",
            "ticks": ""
           }
          },
          "scene": {
           "xaxis": {
            "backgroundcolor": "#E5ECF6",
            "gridcolor": "white",
            "gridwidth": 2,
            "linecolor": "white",
            "showbackground": true,
            "ticks": "",
            "zerolinecolor": "white"
           },
           "yaxis": {
            "backgroundcolor": "#E5ECF6",
            "gridcolor": "white",
            "gridwidth": 2,
            "linecolor": "white",
            "showbackground": true,
            "ticks": "",
            "zerolinecolor": "white"
           },
           "zaxis": {
            "backgroundcolor": "#E5ECF6",
            "gridcolor": "white",
            "gridwidth": 2,
            "linecolor": "white",
            "showbackground": true,
            "ticks": "",
            "zerolinecolor": "white"
           }
          },
          "shapedefaults": {
           "line": {
            "color": "#2a3f5f"
           }
          },
          "ternary": {
           "aaxis": {
            "gridcolor": "white",
            "linecolor": "white",
            "ticks": ""
           },
           "baxis": {
            "gridcolor": "white",
            "linecolor": "white",
            "ticks": ""
           },
           "bgcolor": "#E5ECF6",
           "caxis": {
            "gridcolor": "white",
            "linecolor": "white",
            "ticks": ""
           }
          },
          "title": {
           "x": 0.05
          },
          "xaxis": {
           "automargin": true,
           "gridcolor": "white",
           "linecolor": "white",
           "ticks": "",
           "title": {
            "standoff": 15
           },
           "zerolinecolor": "white",
           "zerolinewidth": 2
          },
          "yaxis": {
           "automargin": true,
           "gridcolor": "white",
           "linecolor": "white",
           "ticks": "",
           "title": {
            "standoff": 15
           },
           "zerolinecolor": "white",
           "zerolinewidth": 2
          }
         }
        },
        "title": {
         "text": "Sentiment Distribution Across Hours"
        },
        "xaxis": {
         "anchor": "y",
         "domain": [
          0,
          1
         ],
         "title": {
          "text": "Month"
         }
        },
        "yaxis": {
         "anchor": "x",
         "domain": [
          0,
          1
         ],
         "title": {
          "text": "Count"
         }
        }
       }
      },
      "text/html": [
       "<div>                            <div id=\"d2254b2d-6a8a-4733-9cdd-54c3b420cfc9\" class=\"plotly-graph-div\" style=\"height:525px; width:100%;\"></div>            <script type=\"text/javascript\">                require([\"plotly\"], function(Plotly) {                    window.PLOTLYENV=window.PLOTLYENV || {};                                    if (document.getElementById(\"d2254b2d-6a8a-4733-9cdd-54c3b420cfc9\")) {                    Plotly.newPlot(                        \"d2254b2d-6a8a-4733-9cdd-54c3b420cfc9\",                        [{\"alignmentgroup\":\"True\",\"hovertemplate\":\"General_Sentiment=Anger<br>Month=%{x}<br>Count=%{y}<extra></extra>\",\"legendgroup\":\"Anger\",\"marker\":{\"color\":\"#2E91E5\",\"pattern\":{\"shape\":\"\"}},\"name\":\"Anger\",\"offsetgroup\":\"Anger\",\"orientation\":\"v\",\"showlegend\":true,\"textposition\":\"auto\",\"x\":[1,2,3,4,5,6,7,8,9,10,11,12],\"xaxis\":\"x\",\"y\":[5.0,4.0,2.0,3.0,2.0,1.0,1.0,2.0,13.0,2.0,2.0,2.0],\"yaxis\":\"y\",\"type\":\"bar\"},{\"alignmentgroup\":\"True\",\"hovertemplate\":\"General_Sentiment=Anticipation<br>Month=%{x}<br>Count=%{y}<extra></extra>\",\"legendgroup\":\"Anticipation\",\"marker\":{\"color\":\"#E15F99\",\"pattern\":{\"shape\":\"\"}},\"name\":\"Anticipation\",\"offsetgroup\":\"Anticipation\",\"orientation\":\"v\",\"showlegend\":true,\"textposition\":\"auto\",\"x\":[1,2,3,4,5,6,7,8,9,10,11,12],\"xaxis\":\"x\",\"y\":[1.0,6.0,2.0,5.0,3.0,6.0,5.0,5.0,6.0,5.0,10.0,3.0],\"yaxis\":\"y\",\"type\":\"bar\"},{\"alignmentgroup\":\"True\",\"hovertemplate\":\"General_Sentiment=Disgust<br>Month=%{x}<br>Count=%{y}<extra></extra>\",\"legendgroup\":\"Disgust\",\"marker\":{\"color\":\"#1CA71C\",\"pattern\":{\"shape\":\"\"}},\"name\":\"Disgust\",\"offsetgroup\":\"Disgust\",\"orientation\":\"v\",\"showlegend\":true,\"textposition\":\"auto\",\"x\":[1,2,3,4,5,6,7,8,9,10,11,12],\"xaxis\":\"x\",\"y\":[0.0,7.0,2.0,0.0,2.0,0.0,2.0,1.0,0.0,0.0,1.0,0.0],\"yaxis\":\"y\",\"type\":\"bar\"},{\"alignmentgroup\":\"True\",\"hovertemplate\":\"General_Sentiment=Fear<br>Month=%{x}<br>Count=%{y}<extra></extra>\",\"legendgroup\":\"Fear\",\"marker\":{\"color\":\"#FB0D0D\",\"pattern\":{\"shape\":\"\"}},\"name\":\"Fear\",\"offsetgroup\":\"Fear\",\"orientation\":\"v\",\"showlegend\":true,\"textposition\":\"auto\",\"x\":[1,2,3,4,5,6,7,8,9,10,11,12],\"xaxis\":\"x\",\"y\":[3.0,3.0,1.0,3.0,3.0,3.0,1.0,2.0,1.0,1.0,1.0,2.0],\"yaxis\":\"y\",\"type\":\"bar\"},{\"alignmentgroup\":\"True\",\"hovertemplate\":\"General_Sentiment=Joy/Happiness<br>Month=%{x}<br>Count=%{y}<extra></extra>\",\"legendgroup\":\"Joy/Happiness\",\"marker\":{\"color\":\"#DA16FF\",\"pattern\":{\"shape\":\"\"}},\"name\":\"Joy/Happiness\",\"offsetgroup\":\"Joy/Happiness\",\"orientation\":\"v\",\"showlegend\":true,\"textposition\":\"auto\",\"x\":[1,2,3,4,5,6,7,8,9,10,11,12],\"xaxis\":\"x\",\"y\":[50.0,25.0,14.0,14.0,14.0,37.0,30.0,35.0,23.0,13.0,12.0,16.0],\"yaxis\":\"y\",\"type\":\"bar\"},{\"alignmentgroup\":\"True\",\"hovertemplate\":\"General_Sentiment=Love/Affection<br>Month=%{x}<br>Count=%{y}<extra></extra>\",\"legendgroup\":\"Love/Affection\",\"marker\":{\"color\":\"#222A2A\",\"pattern\":{\"shape\":\"\"}},\"name\":\"Love/Affection\",\"offsetgroup\":\"Love/Affection\",\"orientation\":\"v\",\"showlegend\":true,\"textposition\":\"auto\",\"x\":[1,2,3,4,5,6,7,8,9,10,11,12],\"xaxis\":\"x\",\"y\":[2.0,16.0,5.0,6.0,2.0,2.0,2.0,2.0,5.0,1.0,3.0,4.0],\"yaxis\":\"y\",\"type\":\"bar\"},{\"alignmentgroup\":\"True\",\"hovertemplate\":\"General_Sentiment=Neutral/Calm<br>Month=%{x}<br>Count=%{y}<extra></extra>\",\"legendgroup\":\"Neutral/Calm\",\"marker\":{\"color\":\"#B68100\",\"pattern\":{\"shape\":\"\"}},\"name\":\"Neutral/Calm\",\"offsetgroup\":\"Neutral/Calm\",\"orientation\":\"v\",\"showlegend\":true,\"textposition\":\"auto\",\"x\":[1,2,3,4,5,6,7,8,9,10,11,12],\"xaxis\":\"x\",\"y\":[6.0,8.0,4.0,7.0,7.0,9.0,7.0,5.0,7.0,19.0,10.0,3.0],\"yaxis\":\"y\",\"type\":\"bar\"},{\"alignmentgroup\":\"True\",\"hovertemplate\":\"General_Sentiment=Sadness<br>Month=%{x}<br>Count=%{y}<extra></extra>\",\"legendgroup\":\"Sadness\",\"marker\":{\"color\":\"#750D86\",\"pattern\":{\"shape\":\"\"}},\"name\":\"Sadness\",\"offsetgroup\":\"Sadness\",\"orientation\":\"v\",\"showlegend\":true,\"textposition\":\"auto\",\"x\":[1,2,3,4,5,6,7,8,9,10,11,12],\"xaxis\":\"x\",\"y\":[8.0,9.0,10.0,6.0,4.0,7.0,6.0,16.0,18.0,5.0,7.0,7.0],\"yaxis\":\"y\",\"type\":\"bar\"},{\"alignmentgroup\":\"True\",\"hovertemplate\":\"General_Sentiment=Suprise<br>Month=%{x}<br>Count=%{y}<extra></extra>\",\"legendgroup\":\"Suprise\",\"marker\":{\"color\":\"#EB663B\",\"pattern\":{\"shape\":\"\"}},\"name\":\"Suprise\",\"offsetgroup\":\"Suprise\",\"orientation\":\"v\",\"showlegend\":true,\"textposition\":\"auto\",\"x\":[1,2,3,4,5,6,7,8,9,10,11,12],\"xaxis\":\"x\",\"y\":[1.0,5.0,3.0,2.0,5.0,3.0,2.0,4.0,1.0,1.0,0.0,0.0],\"yaxis\":\"y\",\"type\":\"bar\"},{\"alignmentgroup\":\"True\",\"hovertemplate\":\"General_Sentiment=Trust<br>Month=%{x}<br>Count=%{y}<extra></extra>\",\"legendgroup\":\"Trust\",\"marker\":{\"color\":\"#511CFB\",\"pattern\":{\"shape\":\"\"}},\"name\":\"Trust\",\"offsetgroup\":\"Trust\",\"orientation\":\"v\",\"showlegend\":true,\"textposition\":\"auto\",\"x\":[1,2,3,4,5,6,7,8,9,10,11,12],\"xaxis\":\"x\",\"y\":[1.0,2.0,1.0,3.0,3.0,2.0,2.0,2.0,0.0,0.0,1.0,0.0],\"yaxis\":\"y\",\"type\":\"bar\"}],                        {\"template\":{\"data\":{\"histogram2dcontour\":[{\"type\":\"histogram2dcontour\",\"colorbar\":{\"outlinewidth\":0,\"ticks\":\"\"},\"colorscale\":[[0.0,\"#0d0887\"],[0.1111111111111111,\"#46039f\"],[0.2222222222222222,\"#7201a8\"],[0.3333333333333333,\"#9c179e\"],[0.4444444444444444,\"#bd3786\"],[0.5555555555555556,\"#d8576b\"],[0.6666666666666666,\"#ed7953\"],[0.7777777777777778,\"#fb9f3a\"],[0.8888888888888888,\"#fdca26\"],[1.0,\"#f0f921\"]]}],\"choropleth\":[{\"type\":\"choropleth\",\"colorbar\":{\"outlinewidth\":0,\"ticks\":\"\"}}],\"histogram2d\":[{\"type\":\"histogram2d\",\"colorbar\":{\"outlinewidth\":0,\"ticks\":\"\"},\"colorscale\":[[0.0,\"#0d0887\"],[0.1111111111111111,\"#46039f\"],[0.2222222222222222,\"#7201a8\"],[0.3333333333333333,\"#9c179e\"],[0.4444444444444444,\"#bd3786\"],[0.5555555555555556,\"#d8576b\"],[0.6666666666666666,\"#ed7953\"],[0.7777777777777778,\"#fb9f3a\"],[0.8888888888888888,\"#fdca26\"],[1.0,\"#f0f921\"]]}],\"heatmap\":[{\"type\":\"heatmap\",\"colorbar\":{\"outlinewidth\":0,\"ticks\":\"\"},\"colorscale\":[[0.0,\"#0d0887\"],[0.1111111111111111,\"#46039f\"],[0.2222222222222222,\"#7201a8\"],[0.3333333333333333,\"#9c179e\"],[0.4444444444444444,\"#bd3786\"],[0.5555555555555556,\"#d8576b\"],[0.6666666666666666,\"#ed7953\"],[0.7777777777777778,\"#fb9f3a\"],[0.8888888888888888,\"#fdca26\"],[1.0,\"#f0f921\"]]}],\"heatmapgl\":[{\"type\":\"heatmapgl\",\"colorbar\":{\"outlinewidth\":0,\"ticks\":\"\"},\"colorscale\":[[0.0,\"#0d0887\"],[0.1111111111111111,\"#46039f\"],[0.2222222222222222,\"#7201a8\"],[0.3333333333333333,\"#9c179e\"],[0.4444444444444444,\"#bd3786\"],[0.5555555555555556,\"#d8576b\"],[0.6666666666666666,\"#ed7953\"],[0.7777777777777778,\"#fb9f3a\"],[0.8888888888888888,\"#fdca26\"],[1.0,\"#f0f921\"]]}],\"contourcarpet\":[{\"type\":\"contourcarpet\",\"colorbar\":{\"outlinewidth\":0,\"ticks\":\"\"}}],\"contour\":[{\"type\":\"contour\",\"colorbar\":{\"outlinewidth\":0,\"ticks\":\"\"},\"colorscale\":[[0.0,\"#0d0887\"],[0.1111111111111111,\"#46039f\"],[0.2222222222222222,\"#7201a8\"],[0.3333333333333333,\"#9c179e\"],[0.4444444444444444,\"#bd3786\"],[0.5555555555555556,\"#d8576b\"],[0.6666666666666666,\"#ed7953\"],[0.7777777777777778,\"#fb9f3a\"],[0.8888888888888888,\"#fdca26\"],[1.0,\"#f0f921\"]]}],\"surface\":[{\"type\":\"surface\",\"colorbar\":{\"outlinewidth\":0,\"ticks\":\"\"},\"colorscale\":[[0.0,\"#0d0887\"],[0.1111111111111111,\"#46039f\"],[0.2222222222222222,\"#7201a8\"],[0.3333333333333333,\"#9c179e\"],[0.4444444444444444,\"#bd3786\"],[0.5555555555555556,\"#d8576b\"],[0.6666666666666666,\"#ed7953\"],[0.7777777777777778,\"#fb9f3a\"],[0.8888888888888888,\"#fdca26\"],[1.0,\"#f0f921\"]]}],\"mesh3d\":[{\"type\":\"mesh3d\",\"colorbar\":{\"outlinewidth\":0,\"ticks\":\"\"}}],\"scatter\":[{\"fillpattern\":{\"fillmode\":\"overlay\",\"size\":10,\"solidity\":0.2},\"type\":\"scatter\"}],\"parcoords\":[{\"type\":\"parcoords\",\"line\":{\"colorbar\":{\"outlinewidth\":0,\"ticks\":\"\"}}}],\"scatterpolargl\":[{\"type\":\"scatterpolargl\",\"marker\":{\"colorbar\":{\"outlinewidth\":0,\"ticks\":\"\"}}}],\"bar\":[{\"error_x\":{\"color\":\"#2a3f5f\"},\"error_y\":{\"color\":\"#2a3f5f\"},\"marker\":{\"line\":{\"color\":\"#E5ECF6\",\"width\":0.5},\"pattern\":{\"fillmode\":\"overlay\",\"size\":10,\"solidity\":0.2}},\"type\":\"bar\"}],\"scattergeo\":[{\"type\":\"scattergeo\",\"marker\":{\"colorbar\":{\"outlinewidth\":0,\"ticks\":\"\"}}}],\"scatterpolar\":[{\"type\":\"scatterpolar\",\"marker\":{\"colorbar\":{\"outlinewidth\":0,\"ticks\":\"\"}}}],\"histogram\":[{\"marker\":{\"pattern\":{\"fillmode\":\"overlay\",\"size\":10,\"solidity\":0.2}},\"type\":\"histogram\"}],\"scattergl\":[{\"type\":\"scattergl\",\"marker\":{\"colorbar\":{\"outlinewidth\":0,\"ticks\":\"\"}}}],\"scatter3d\":[{\"type\":\"scatter3d\",\"line\":{\"colorbar\":{\"outlinewidth\":0,\"ticks\":\"\"}},\"marker\":{\"colorbar\":{\"outlinewidth\":0,\"ticks\":\"\"}}}],\"scattermapbox\":[{\"type\":\"scattermapbox\",\"marker\":{\"colorbar\":{\"outlinewidth\":0,\"ticks\":\"\"}}}],\"scatterternary\":[{\"type\":\"scatterternary\",\"marker\":{\"colorbar\":{\"outlinewidth\":0,\"ticks\":\"\"}}}],\"scattercarpet\":[{\"type\":\"scattercarpet\",\"marker\":{\"colorbar\":{\"outlinewidth\":0,\"ticks\":\"\"}}}],\"carpet\":[{\"aaxis\":{\"endlinecolor\":\"#2a3f5f\",\"gridcolor\":\"white\",\"linecolor\":\"white\",\"minorgridcolor\":\"white\",\"startlinecolor\":\"#2a3f5f\"},\"baxis\":{\"endlinecolor\":\"#2a3f5f\",\"gridcolor\":\"white\",\"linecolor\":\"white\",\"minorgridcolor\":\"white\",\"startlinecolor\":\"#2a3f5f\"},\"type\":\"carpet\"}],\"table\":[{\"cells\":{\"fill\":{\"color\":\"#EBF0F8\"},\"line\":{\"color\":\"white\"}},\"header\":{\"fill\":{\"color\":\"#C8D4E3\"},\"line\":{\"color\":\"white\"}},\"type\":\"table\"}],\"barpolar\":[{\"marker\":{\"line\":{\"color\":\"#E5ECF6\",\"width\":0.5},\"pattern\":{\"fillmode\":\"overlay\",\"size\":10,\"solidity\":0.2}},\"type\":\"barpolar\"}],\"pie\":[{\"automargin\":true,\"type\":\"pie\"}]},\"layout\":{\"autotypenumbers\":\"strict\",\"colorway\":[\"#636efa\",\"#EF553B\",\"#00cc96\",\"#ab63fa\",\"#FFA15A\",\"#19d3f3\",\"#FF6692\",\"#B6E880\",\"#FF97FF\",\"#FECB52\"],\"font\":{\"color\":\"#2a3f5f\"},\"hovermode\":\"closest\",\"hoverlabel\":{\"align\":\"left\"},\"paper_bgcolor\":\"white\",\"plot_bgcolor\":\"#E5ECF6\",\"polar\":{\"bgcolor\":\"#E5ECF6\",\"angularaxis\":{\"gridcolor\":\"white\",\"linecolor\":\"white\",\"ticks\":\"\"},\"radialaxis\":{\"gridcolor\":\"white\",\"linecolor\":\"white\",\"ticks\":\"\"}},\"ternary\":{\"bgcolor\":\"#E5ECF6\",\"aaxis\":{\"gridcolor\":\"white\",\"linecolor\":\"white\",\"ticks\":\"\"},\"baxis\":{\"gridcolor\":\"white\",\"linecolor\":\"white\",\"ticks\":\"\"},\"caxis\":{\"gridcolor\":\"white\",\"linecolor\":\"white\",\"ticks\":\"\"}},\"coloraxis\":{\"colorbar\":{\"outlinewidth\":0,\"ticks\":\"\"}},\"colorscale\":{\"sequential\":[[0.0,\"#0d0887\"],[0.1111111111111111,\"#46039f\"],[0.2222222222222222,\"#7201a8\"],[0.3333333333333333,\"#9c179e\"],[0.4444444444444444,\"#bd3786\"],[0.5555555555555556,\"#d8576b\"],[0.6666666666666666,\"#ed7953\"],[0.7777777777777778,\"#fb9f3a\"],[0.8888888888888888,\"#fdca26\"],[1.0,\"#f0f921\"]],\"sequentialminus\":[[0.0,\"#0d0887\"],[0.1111111111111111,\"#46039f\"],[0.2222222222222222,\"#7201a8\"],[0.3333333333333333,\"#9c179e\"],[0.4444444444444444,\"#bd3786\"],[0.5555555555555556,\"#d8576b\"],[0.6666666666666666,\"#ed7953\"],[0.7777777777777778,\"#fb9f3a\"],[0.8888888888888888,\"#fdca26\"],[1.0,\"#f0f921\"]],\"diverging\":[[0,\"#8e0152\"],[0.1,\"#c51b7d\"],[0.2,\"#de77ae\"],[0.3,\"#f1b6da\"],[0.4,\"#fde0ef\"],[0.5,\"#f7f7f7\"],[0.6,\"#e6f5d0\"],[0.7,\"#b8e186\"],[0.8,\"#7fbc41\"],[0.9,\"#4d9221\"],[1,\"#276419\"]]},\"xaxis\":{\"gridcolor\":\"white\",\"linecolor\":\"white\",\"ticks\":\"\",\"title\":{\"standoff\":15},\"zerolinecolor\":\"white\",\"automargin\":true,\"zerolinewidth\":2},\"yaxis\":{\"gridcolor\":\"white\",\"linecolor\":\"white\",\"ticks\":\"\",\"title\":{\"standoff\":15},\"zerolinecolor\":\"white\",\"automargin\":true,\"zerolinewidth\":2},\"scene\":{\"xaxis\":{\"backgroundcolor\":\"#E5ECF6\",\"gridcolor\":\"white\",\"linecolor\":\"white\",\"showbackground\":true,\"ticks\":\"\",\"zerolinecolor\":\"white\",\"gridwidth\":2},\"yaxis\":{\"backgroundcolor\":\"#E5ECF6\",\"gridcolor\":\"white\",\"linecolor\":\"white\",\"showbackground\":true,\"ticks\":\"\",\"zerolinecolor\":\"white\",\"gridwidth\":2},\"zaxis\":{\"backgroundcolor\":\"#E5ECF6\",\"gridcolor\":\"white\",\"linecolor\":\"white\",\"showbackground\":true,\"ticks\":\"\",\"zerolinecolor\":\"white\",\"gridwidth\":2}},\"shapedefaults\":{\"line\":{\"color\":\"#2a3f5f\"}},\"annotationdefaults\":{\"arrowcolor\":\"#2a3f5f\",\"arrowhead\":0,\"arrowwidth\":1},\"geo\":{\"bgcolor\":\"white\",\"landcolor\":\"#E5ECF6\",\"subunitcolor\":\"white\",\"showland\":true,\"showlakes\":true,\"lakecolor\":\"white\"},\"title\":{\"x\":0.05},\"mapbox\":{\"style\":\"light\"}}},\"xaxis\":{\"anchor\":\"y\",\"domain\":[0.0,1.0],\"title\":{\"text\":\"Month\"}},\"yaxis\":{\"anchor\":\"x\",\"domain\":[0.0,1.0],\"title\":{\"text\":\"Count\"}},\"legend\":{\"title\":{\"text\":\"General_Sentiment\"},\"tracegroupgap\":0},\"title\":{\"text\":\"Sentiment Distribution Across Hours\"},\"barmode\":\"relative\"},                        {\"responsive\": true}                    ).then(function(){\n",
       "                            \n",
       "var gd = document.getElementById('d2254b2d-6a8a-4733-9cdd-54c3b420cfc9');\n",
       "var x = new MutationObserver(function (mutations, observer) {{\n",
       "        var display = window.getComputedStyle(gd).display;\n",
       "        if (!display || display === 'none') {{\n",
       "            console.log([gd, 'removed!']);\n",
       "            Plotly.purge(gd);\n",
       "            observer.disconnect();\n",
       "        }}\n",
       "}});\n",
       "\n",
       "// Listen for the removal of the full notebook cells\n",
       "var notebookContainer = gd.closest('#notebook-container');\n",
       "if (notebookContainer) {{\n",
       "    x.observe(notebookContainer, {childList: true});\n",
       "}}\n",
       "\n",
       "// Listen for the clearing of the current output cell\n",
       "var outputEl = gd.closest('.output');\n",
       "if (outputEl) {{\n",
       "    x.observe(outputEl, {childList: true});\n",
       "}}\n",
       "\n",
       "                        })                };                });            </script>        </div>"
      ]
     },
     "metadata": {},
     "output_type": "display_data"
    }
   ],
   "source": [
    "fig = px.bar(\n",
    "    sentiment_counts,\n",
    "    x=sentiment_counts.index,\n",
    "    y=sentiment_counts.columns,\n",
    "    title=\"Sentiment Distribution Across Hours\",\n",
    "    labels={\"value\": \"Count\", \"Hours\": \"Hours\"},\n",
    "    color_discrete_sequence=px.colors.qualitative.Dark24\n",
    ")\n",
    "\n",
    "\n",
    "fig.show()\n",
    "# social media activity during the day"
   ]
  },
  {
   "cell_type": "markdown",
   "id": "63705eb1",
   "metadata": {},
   "source": [
    "# Additional: Sentiments per platform"
   ]
  },
  {
   "cell_type": "code",
   "execution_count": 20,
   "id": "d391864e",
   "metadata": {},
   "outputs": [],
   "source": [
    "# platform\n",
    "platform_sentiment_counts = data.groupby(['Platform', 'General_Sentiment']).size().reset_index(name='Count')"
   ]
  },
  {
   "cell_type": "code",
   "execution_count": 24,
   "id": "ccff0f46",
   "metadata": {
    "scrolled": true
   },
   "outputs": [
    {
     "data": {
      "application/vnd.plotly.v1+json": {
       "config": {
        "plotlyServerURL": "https://plot.ly"
       },
       "data": [
        {
         "domain": {
          "x": [
           0,
           0.45
          ],
          "y": [
           0.625,
           1
          ]
         },
         "labels": [
          "Anger",
          "Anticipation",
          "Disgust",
          "Fear",
          "Joy/Happiness",
          "Love/Affection",
          "Neutral/Calm",
          "Sadness",
          "Suprise",
          "Trust"
         ],
         "name": "Facebook",
         "textinfo": "percent+label",
         "textposition": "inside",
         "type": "pie",
         "values": [
          12,
          18,
          4,
          9,
          98,
          9,
          30,
          32,
          4,
          6
         ]
        },
        {
         "domain": {
          "x": [
           0.55,
           1
          ],
          "y": [
           0.625,
           1
          ]
         },
         "labels": [
          "Anger",
          "Anticipation",
          "Disgust",
          "Fear",
          "Joy/Happiness",
          "Love/Affection",
          "Neutral/Calm",
          "Sadness",
          "Suprise",
          "Trust"
         ],
         "name": "Instagram",
         "textinfo": "percent+label",
         "textposition": "inside",
         "type": "pie",
         "values": [
          14,
          19,
          4,
          7,
          97,
          20,
          32,
          36,
          17,
          4
         ]
        },
        {
         "domain": {
          "x": [
           0,
           0.45
          ],
          "y": [
           0,
           0.375
          ]
         },
         "labels": [
          "Anger",
          "Anticipation",
          "Disgust",
          "Fear",
          "Joy/Happiness",
          "Love/Affection",
          "Neutral/Calm",
          "Sadness",
          "Suprise",
          "Trust"
         ],
         "name": "Twitter",
         "textinfo": "percent+label",
         "textposition": "inside",
         "type": "pie",
         "values": [
          13,
          20,
          7,
          8,
          88,
          21,
          30,
          35,
          6,
          7
         ]
        }
       ],
       "layout": {
        "annotations": [
         {
          "font": {
           "size": 16
          },
          "showarrow": false,
          "text": "Facebook",
          "x": 0.225,
          "xanchor": "center",
          "xref": "paper",
          "y": 1,
          "yanchor": "bottom",
          "yref": "paper"
         },
         {
          "font": {
           "size": 16
          },
          "showarrow": false,
          "text": "Instagram",
          "x": 0.775,
          "xanchor": "center",
          "xref": "paper",
          "y": 1,
          "yanchor": "bottom",
          "yref": "paper"
         },
         {
          "font": {
           "size": 16
          },
          "showarrow": false,
          "text": "Twitter",
          "x": 0.225,
          "xanchor": "center",
          "xref": "paper",
          "y": 0.375,
          "yanchor": "bottom",
          "yref": "paper"
         }
        ],
        "height": 800,
        "template": {
         "data": {
          "bar": [
           {
            "error_x": {
             "color": "#2a3f5f"
            },
            "error_y": {
             "color": "#2a3f5f"
            },
            "marker": {
             "line": {
              "color": "#E5ECF6",
              "width": 0.5
             },
             "pattern": {
              "fillmode": "overlay",
              "size": 10,
              "solidity": 0.2
             }
            },
            "type": "bar"
           }
          ],
          "barpolar": [
           {
            "marker": {
             "line": {
              "color": "#E5ECF6",
              "width": 0.5
             },
             "pattern": {
              "fillmode": "overlay",
              "size": 10,
              "solidity": 0.2
             }
            },
            "type": "barpolar"
           }
          ],
          "carpet": [
           {
            "aaxis": {
             "endlinecolor": "#2a3f5f",
             "gridcolor": "white",
             "linecolor": "white",
             "minorgridcolor": "white",
             "startlinecolor": "#2a3f5f"
            },
            "baxis": {
             "endlinecolor": "#2a3f5f",
             "gridcolor": "white",
             "linecolor": "white",
             "minorgridcolor": "white",
             "startlinecolor": "#2a3f5f"
            },
            "type": "carpet"
           }
          ],
          "choropleth": [
           {
            "colorbar": {
             "outlinewidth": 0,
             "ticks": ""
            },
            "type": "choropleth"
           }
          ],
          "contour": [
           {
            "colorbar": {
             "outlinewidth": 0,
             "ticks": ""
            },
            "colorscale": [
             [
              0,
              "#0d0887"
             ],
             [
              0.1111111111111111,
              "#46039f"
             ],
             [
              0.2222222222222222,
              "#7201a8"
             ],
             [
              0.3333333333333333,
              "#9c179e"
             ],
             [
              0.4444444444444444,
              "#bd3786"
             ],
             [
              0.5555555555555556,
              "#d8576b"
             ],
             [
              0.6666666666666666,
              "#ed7953"
             ],
             [
              0.7777777777777778,
              "#fb9f3a"
             ],
             [
              0.8888888888888888,
              "#fdca26"
             ],
             [
              1,
              "#f0f921"
             ]
            ],
            "type": "contour"
           }
          ],
          "contourcarpet": [
           {
            "colorbar": {
             "outlinewidth": 0,
             "ticks": ""
            },
            "type": "contourcarpet"
           }
          ],
          "heatmap": [
           {
            "colorbar": {
             "outlinewidth": 0,
             "ticks": ""
            },
            "colorscale": [
             [
              0,
              "#0d0887"
             ],
             [
              0.1111111111111111,
              "#46039f"
             ],
             [
              0.2222222222222222,
              "#7201a8"
             ],
             [
              0.3333333333333333,
              "#9c179e"
             ],
             [
              0.4444444444444444,
              "#bd3786"
             ],
             [
              0.5555555555555556,
              "#d8576b"
             ],
             [
              0.6666666666666666,
              "#ed7953"
             ],
             [
              0.7777777777777778,
              "#fb9f3a"
             ],
             [
              0.8888888888888888,
              "#fdca26"
             ],
             [
              1,
              "#f0f921"
             ]
            ],
            "type": "heatmap"
           }
          ],
          "heatmapgl": [
           {
            "colorbar": {
             "outlinewidth": 0,
             "ticks": ""
            },
            "colorscale": [
             [
              0,
              "#0d0887"
             ],
             [
              0.1111111111111111,
              "#46039f"
             ],
             [
              0.2222222222222222,
              "#7201a8"
             ],
             [
              0.3333333333333333,
              "#9c179e"
             ],
             [
              0.4444444444444444,
              "#bd3786"
             ],
             [
              0.5555555555555556,
              "#d8576b"
             ],
             [
              0.6666666666666666,
              "#ed7953"
             ],
             [
              0.7777777777777778,
              "#fb9f3a"
             ],
             [
              0.8888888888888888,
              "#fdca26"
             ],
             [
              1,
              "#f0f921"
             ]
            ],
            "type": "heatmapgl"
           }
          ],
          "histogram": [
           {
            "marker": {
             "pattern": {
              "fillmode": "overlay",
              "size": 10,
              "solidity": 0.2
             }
            },
            "type": "histogram"
           }
          ],
          "histogram2d": [
           {
            "colorbar": {
             "outlinewidth": 0,
             "ticks": ""
            },
            "colorscale": [
             [
              0,
              "#0d0887"
             ],
             [
              0.1111111111111111,
              "#46039f"
             ],
             [
              0.2222222222222222,
              "#7201a8"
             ],
             [
              0.3333333333333333,
              "#9c179e"
             ],
             [
              0.4444444444444444,
              "#bd3786"
             ],
             [
              0.5555555555555556,
              "#d8576b"
             ],
             [
              0.6666666666666666,
              "#ed7953"
             ],
             [
              0.7777777777777778,
              "#fb9f3a"
             ],
             [
              0.8888888888888888,
              "#fdca26"
             ],
             [
              1,
              "#f0f921"
             ]
            ],
            "type": "histogram2d"
           }
          ],
          "histogram2dcontour": [
           {
            "colorbar": {
             "outlinewidth": 0,
             "ticks": ""
            },
            "colorscale": [
             [
              0,
              "#0d0887"
             ],
             [
              0.1111111111111111,
              "#46039f"
             ],
             [
              0.2222222222222222,
              "#7201a8"
             ],
             [
              0.3333333333333333,
              "#9c179e"
             ],
             [
              0.4444444444444444,
              "#bd3786"
             ],
             [
              0.5555555555555556,
              "#d8576b"
             ],
             [
              0.6666666666666666,
              "#ed7953"
             ],
             [
              0.7777777777777778,
              "#fb9f3a"
             ],
             [
              0.8888888888888888,
              "#fdca26"
             ],
             [
              1,
              "#f0f921"
             ]
            ],
            "type": "histogram2dcontour"
           }
          ],
          "mesh3d": [
           {
            "colorbar": {
             "outlinewidth": 0,
             "ticks": ""
            },
            "type": "mesh3d"
           }
          ],
          "parcoords": [
           {
            "line": {
             "colorbar": {
              "outlinewidth": 0,
              "ticks": ""
             }
            },
            "type": "parcoords"
           }
          ],
          "pie": [
           {
            "automargin": true,
            "type": "pie"
           }
          ],
          "scatter": [
           {
            "fillpattern": {
             "fillmode": "overlay",
             "size": 10,
             "solidity": 0.2
            },
            "type": "scatter"
           }
          ],
          "scatter3d": [
           {
            "line": {
             "colorbar": {
              "outlinewidth": 0,
              "ticks": ""
             }
            },
            "marker": {
             "colorbar": {
              "outlinewidth": 0,
              "ticks": ""
             }
            },
            "type": "scatter3d"
           }
          ],
          "scattercarpet": [
           {
            "marker": {
             "colorbar": {
              "outlinewidth": 0,
              "ticks": ""
             }
            },
            "type": "scattercarpet"
           }
          ],
          "scattergeo": [
           {
            "marker": {
             "colorbar": {
              "outlinewidth": 0,
              "ticks": ""
             }
            },
            "type": "scattergeo"
           }
          ],
          "scattergl": [
           {
            "marker": {
             "colorbar": {
              "outlinewidth": 0,
              "ticks": ""
             }
            },
            "type": "scattergl"
           }
          ],
          "scattermapbox": [
           {
            "marker": {
             "colorbar": {
              "outlinewidth": 0,
              "ticks": ""
             }
            },
            "type": "scattermapbox"
           }
          ],
          "scatterpolar": [
           {
            "marker": {
             "colorbar": {
              "outlinewidth": 0,
              "ticks": ""
             }
            },
            "type": "scatterpolar"
           }
          ],
          "scatterpolargl": [
           {
            "marker": {
             "colorbar": {
              "outlinewidth": 0,
              "ticks": ""
             }
            },
            "type": "scatterpolargl"
           }
          ],
          "scatterternary": [
           {
            "marker": {
             "colorbar": {
              "outlinewidth": 0,
              "ticks": ""
             }
            },
            "type": "scatterternary"
           }
          ],
          "surface": [
           {
            "colorbar": {
             "outlinewidth": 0,
             "ticks": ""
            },
            "colorscale": [
             [
              0,
              "#0d0887"
             ],
             [
              0.1111111111111111,
              "#46039f"
             ],
             [
              0.2222222222222222,
              "#7201a8"
             ],
             [
              0.3333333333333333,
              "#9c179e"
             ],
             [
              0.4444444444444444,
              "#bd3786"
             ],
             [
              0.5555555555555556,
              "#d8576b"
             ],
             [
              0.6666666666666666,
              "#ed7953"
             ],
             [
              0.7777777777777778,
              "#fb9f3a"
             ],
             [
              0.8888888888888888,
              "#fdca26"
             ],
             [
              1,
              "#f0f921"
             ]
            ],
            "type": "surface"
           }
          ],
          "table": [
           {
            "cells": {
             "fill": {
              "color": "#EBF0F8"
             },
             "line": {
              "color": "white"
             }
            },
            "header": {
             "fill": {
              "color": "#C8D4E3"
             },
             "line": {
              "color": "white"
             }
            },
            "type": "table"
           }
          ]
         },
         "layout": {
          "annotationdefaults": {
           "arrowcolor": "#2a3f5f",
           "arrowhead": 0,
           "arrowwidth": 1
          },
          "autotypenumbers": "strict",
          "coloraxis": {
           "colorbar": {
            "outlinewidth": 0,
            "ticks": ""
           }
          },
          "colorscale": {
           "diverging": [
            [
             0,
             "#8e0152"
            ],
            [
             0.1,
             "#c51b7d"
            ],
            [
             0.2,
             "#de77ae"
            ],
            [
             0.3,
             "#f1b6da"
            ],
            [
             0.4,
             "#fde0ef"
            ],
            [
             0.5,
             "#f7f7f7"
            ],
            [
             0.6,
             "#e6f5d0"
            ],
            [
             0.7,
             "#b8e186"
            ],
            [
             0.8,
             "#7fbc41"
            ],
            [
             0.9,
             "#4d9221"
            ],
            [
             1,
             "#276419"
            ]
           ],
           "sequential": [
            [
             0,
             "#0d0887"
            ],
            [
             0.1111111111111111,
             "#46039f"
            ],
            [
             0.2222222222222222,
             "#7201a8"
            ],
            [
             0.3333333333333333,
             "#9c179e"
            ],
            [
             0.4444444444444444,
             "#bd3786"
            ],
            [
             0.5555555555555556,
             "#d8576b"
            ],
            [
             0.6666666666666666,
             "#ed7953"
            ],
            [
             0.7777777777777778,
             "#fb9f3a"
            ],
            [
             0.8888888888888888,
             "#fdca26"
            ],
            [
             1,
             "#f0f921"
            ]
           ],
           "sequentialminus": [
            [
             0,
             "#0d0887"
            ],
            [
             0.1111111111111111,
             "#46039f"
            ],
            [
             0.2222222222222222,
             "#7201a8"
            ],
            [
             0.3333333333333333,
             "#9c179e"
            ],
            [
             0.4444444444444444,
             "#bd3786"
            ],
            [
             0.5555555555555556,
             "#d8576b"
            ],
            [
             0.6666666666666666,
             "#ed7953"
            ],
            [
             0.7777777777777778,
             "#fb9f3a"
            ],
            [
             0.8888888888888888,
             "#fdca26"
            ],
            [
             1,
             "#f0f921"
            ]
           ]
          },
          "colorway": [
           "#636efa",
           "#EF553B",
           "#00cc96",
           "#ab63fa",
           "#FFA15A",
           "#19d3f3",
           "#FF6692",
           "#B6E880",
           "#FF97FF",
           "#FECB52"
          ],
          "font": {
           "color": "#2a3f5f"
          },
          "geo": {
           "bgcolor": "white",
           "lakecolor": "white",
           "landcolor": "#E5ECF6",
           "showlakes": true,
           "showland": true,
           "subunitcolor": "white"
          },
          "hoverlabel": {
           "align": "left"
          },
          "hovermode": "closest",
          "mapbox": {
           "style": "light"
          },
          "paper_bgcolor": "white",
          "plot_bgcolor": "#E5ECF6",
          "polar": {
           "angularaxis": {
            "gridcolor": "white",
            "linecolor": "white",
            "ticks": ""
           },
           "bgcolor": "#E5ECF6",
           "radialaxis": {
            "gridcolor": "white",
            "linecolor": "white",
            "ticks": ""
           }
          },
          "scene": {
           "xaxis": {
            "backgroundcolor": "#E5ECF6",
            "gridcolor": "white",
            "gridwidth": 2,
            "linecolor": "white",
            "showbackground": true,
            "ticks": "",
            "zerolinecolor": "white"
           },
           "yaxis": {
            "backgroundcolor": "#E5ECF6",
            "gridcolor": "white",
            "gridwidth": 2,
            "linecolor": "white",
            "showbackground": true,
            "ticks": "",
            "zerolinecolor": "white"
           },
           "zaxis": {
            "backgroundcolor": "#E5ECF6",
            "gridcolor": "white",
            "gridwidth": 2,
            "linecolor": "white",
            "showbackground": true,
            "ticks": "",
            "zerolinecolor": "white"
           }
          },
          "shapedefaults": {
           "line": {
            "color": "#2a3f5f"
           }
          },
          "ternary": {
           "aaxis": {
            "gridcolor": "white",
            "linecolor": "white",
            "ticks": ""
           },
           "baxis": {
            "gridcolor": "white",
            "linecolor": "white",
            "ticks": ""
           },
           "bgcolor": "#E5ECF6",
           "caxis": {
            "gridcolor": "white",
            "linecolor": "white",
            "ticks": ""
           }
          },
          "title": {
           "x": 0.05
          },
          "xaxis": {
           "automargin": true,
           "gridcolor": "white",
           "linecolor": "white",
           "ticks": "",
           "title": {
            "standoff": 15
           },
           "zerolinecolor": "white",
           "zerolinewidth": 2
          },
          "yaxis": {
           "automargin": true,
           "gridcolor": "white",
           "linecolor": "white",
           "ticks": "",
           "title": {
            "standoff": 15
           },
           "zerolinecolor": "white",
           "zerolinewidth": 2
          }
         }
        },
        "title": {
         "text": "Sentiment Distribution Across Platforms"
        }
       }
      },
      "text/html": [
       "<div>                            <div id=\"3493174f-004c-45fb-93ae-7f6b710277c2\" class=\"plotly-graph-div\" style=\"height:800px; width:100%;\"></div>            <script type=\"text/javascript\">                require([\"plotly\"], function(Plotly) {                    window.PLOTLYENV=window.PLOTLYENV || {};                                    if (document.getElementById(\"3493174f-004c-45fb-93ae-7f6b710277c2\")) {                    Plotly.newPlot(                        \"3493174f-004c-45fb-93ae-7f6b710277c2\",                        [{\"labels\":[\"Anger\",\"Anticipation\",\"Disgust\",\"Fear\",\"Joy/Happiness\",\"Love/Affection\",\"Neutral/Calm\",\"Sadness\",\"Suprise\",\"Trust\"],\"name\":\"Facebook\",\"values\":[12,18,4,9,98,9,30,32,4,6],\"type\":\"pie\",\"domain\":{\"x\":[0.0,0.45],\"y\":[0.625,1.0]},\"textinfo\":\"percent+label\",\"textposition\":\"inside\"},{\"labels\":[\"Anger\",\"Anticipation\",\"Disgust\",\"Fear\",\"Joy/Happiness\",\"Love/Affection\",\"Neutral/Calm\",\"Sadness\",\"Suprise\",\"Trust\"],\"name\":\"Instagram\",\"values\":[14,19,4,7,97,20,32,36,17,4],\"type\":\"pie\",\"domain\":{\"x\":[0.55,1.0],\"y\":[0.625,1.0]},\"textinfo\":\"percent+label\",\"textposition\":\"inside\"},{\"labels\":[\"Anger\",\"Anticipation\",\"Disgust\",\"Fear\",\"Joy/Happiness\",\"Love/Affection\",\"Neutral/Calm\",\"Sadness\",\"Suprise\",\"Trust\"],\"name\":\"Twitter\",\"values\":[13,20,7,8,88,21,30,35,6,7],\"type\":\"pie\",\"domain\":{\"x\":[0.0,0.45],\"y\":[0.0,0.375]},\"textinfo\":\"percent+label\",\"textposition\":\"inside\"}],                        {\"template\":{\"data\":{\"histogram2dcontour\":[{\"type\":\"histogram2dcontour\",\"colorbar\":{\"outlinewidth\":0,\"ticks\":\"\"},\"colorscale\":[[0.0,\"#0d0887\"],[0.1111111111111111,\"#46039f\"],[0.2222222222222222,\"#7201a8\"],[0.3333333333333333,\"#9c179e\"],[0.4444444444444444,\"#bd3786\"],[0.5555555555555556,\"#d8576b\"],[0.6666666666666666,\"#ed7953\"],[0.7777777777777778,\"#fb9f3a\"],[0.8888888888888888,\"#fdca26\"],[1.0,\"#f0f921\"]]}],\"choropleth\":[{\"type\":\"choropleth\",\"colorbar\":{\"outlinewidth\":0,\"ticks\":\"\"}}],\"histogram2d\":[{\"type\":\"histogram2d\",\"colorbar\":{\"outlinewidth\":0,\"ticks\":\"\"},\"colorscale\":[[0.0,\"#0d0887\"],[0.1111111111111111,\"#46039f\"],[0.2222222222222222,\"#7201a8\"],[0.3333333333333333,\"#9c179e\"],[0.4444444444444444,\"#bd3786\"],[0.5555555555555556,\"#d8576b\"],[0.6666666666666666,\"#ed7953\"],[0.7777777777777778,\"#fb9f3a\"],[0.8888888888888888,\"#fdca26\"],[1.0,\"#f0f921\"]]}],\"heatmap\":[{\"type\":\"heatmap\",\"colorbar\":{\"outlinewidth\":0,\"ticks\":\"\"},\"colorscale\":[[0.0,\"#0d0887\"],[0.1111111111111111,\"#46039f\"],[0.2222222222222222,\"#7201a8\"],[0.3333333333333333,\"#9c179e\"],[0.4444444444444444,\"#bd3786\"],[0.5555555555555556,\"#d8576b\"],[0.6666666666666666,\"#ed7953\"],[0.7777777777777778,\"#fb9f3a\"],[0.8888888888888888,\"#fdca26\"],[1.0,\"#f0f921\"]]}],\"heatmapgl\":[{\"type\":\"heatmapgl\",\"colorbar\":{\"outlinewidth\":0,\"ticks\":\"\"},\"colorscale\":[[0.0,\"#0d0887\"],[0.1111111111111111,\"#46039f\"],[0.2222222222222222,\"#7201a8\"],[0.3333333333333333,\"#9c179e\"],[0.4444444444444444,\"#bd3786\"],[0.5555555555555556,\"#d8576b\"],[0.6666666666666666,\"#ed7953\"],[0.7777777777777778,\"#fb9f3a\"],[0.8888888888888888,\"#fdca26\"],[1.0,\"#f0f921\"]]}],\"contourcarpet\":[{\"type\":\"contourcarpet\",\"colorbar\":{\"outlinewidth\":0,\"ticks\":\"\"}}],\"contour\":[{\"type\":\"contour\",\"colorbar\":{\"outlinewidth\":0,\"ticks\":\"\"},\"colorscale\":[[0.0,\"#0d0887\"],[0.1111111111111111,\"#46039f\"],[0.2222222222222222,\"#7201a8\"],[0.3333333333333333,\"#9c179e\"],[0.4444444444444444,\"#bd3786\"],[0.5555555555555556,\"#d8576b\"],[0.6666666666666666,\"#ed7953\"],[0.7777777777777778,\"#fb9f3a\"],[0.8888888888888888,\"#fdca26\"],[1.0,\"#f0f921\"]]}],\"surface\":[{\"type\":\"surface\",\"colorbar\":{\"outlinewidth\":0,\"ticks\":\"\"},\"colorscale\":[[0.0,\"#0d0887\"],[0.1111111111111111,\"#46039f\"],[0.2222222222222222,\"#7201a8\"],[0.3333333333333333,\"#9c179e\"],[0.4444444444444444,\"#bd3786\"],[0.5555555555555556,\"#d8576b\"],[0.6666666666666666,\"#ed7953\"],[0.7777777777777778,\"#fb9f3a\"],[0.8888888888888888,\"#fdca26\"],[1.0,\"#f0f921\"]]}],\"mesh3d\":[{\"type\":\"mesh3d\",\"colorbar\":{\"outlinewidth\":0,\"ticks\":\"\"}}],\"scatter\":[{\"fillpattern\":{\"fillmode\":\"overlay\",\"size\":10,\"solidity\":0.2},\"type\":\"scatter\"}],\"parcoords\":[{\"type\":\"parcoords\",\"line\":{\"colorbar\":{\"outlinewidth\":0,\"ticks\":\"\"}}}],\"scatterpolargl\":[{\"type\":\"scatterpolargl\",\"marker\":{\"colorbar\":{\"outlinewidth\":0,\"ticks\":\"\"}}}],\"bar\":[{\"error_x\":{\"color\":\"#2a3f5f\"},\"error_y\":{\"color\":\"#2a3f5f\"},\"marker\":{\"line\":{\"color\":\"#E5ECF6\",\"width\":0.5},\"pattern\":{\"fillmode\":\"overlay\",\"size\":10,\"solidity\":0.2}},\"type\":\"bar\"}],\"scattergeo\":[{\"type\":\"scattergeo\",\"marker\":{\"colorbar\":{\"outlinewidth\":0,\"ticks\":\"\"}}}],\"scatterpolar\":[{\"type\":\"scatterpolar\",\"marker\":{\"colorbar\":{\"outlinewidth\":0,\"ticks\":\"\"}}}],\"histogram\":[{\"marker\":{\"pattern\":{\"fillmode\":\"overlay\",\"size\":10,\"solidity\":0.2}},\"type\":\"histogram\"}],\"scattergl\":[{\"type\":\"scattergl\",\"marker\":{\"colorbar\":{\"outlinewidth\":0,\"ticks\":\"\"}}}],\"scatter3d\":[{\"type\":\"scatter3d\",\"line\":{\"colorbar\":{\"outlinewidth\":0,\"ticks\":\"\"}},\"marker\":{\"colorbar\":{\"outlinewidth\":0,\"ticks\":\"\"}}}],\"scattermapbox\":[{\"type\":\"scattermapbox\",\"marker\":{\"colorbar\":{\"outlinewidth\":0,\"ticks\":\"\"}}}],\"scatterternary\":[{\"type\":\"scatterternary\",\"marker\":{\"colorbar\":{\"outlinewidth\":0,\"ticks\":\"\"}}}],\"scattercarpet\":[{\"type\":\"scattercarpet\",\"marker\":{\"colorbar\":{\"outlinewidth\":0,\"ticks\":\"\"}}}],\"carpet\":[{\"aaxis\":{\"endlinecolor\":\"#2a3f5f\",\"gridcolor\":\"white\",\"linecolor\":\"white\",\"minorgridcolor\":\"white\",\"startlinecolor\":\"#2a3f5f\"},\"baxis\":{\"endlinecolor\":\"#2a3f5f\",\"gridcolor\":\"white\",\"linecolor\":\"white\",\"minorgridcolor\":\"white\",\"startlinecolor\":\"#2a3f5f\"},\"type\":\"carpet\"}],\"table\":[{\"cells\":{\"fill\":{\"color\":\"#EBF0F8\"},\"line\":{\"color\":\"white\"}},\"header\":{\"fill\":{\"color\":\"#C8D4E3\"},\"line\":{\"color\":\"white\"}},\"type\":\"table\"}],\"barpolar\":[{\"marker\":{\"line\":{\"color\":\"#E5ECF6\",\"width\":0.5},\"pattern\":{\"fillmode\":\"overlay\",\"size\":10,\"solidity\":0.2}},\"type\":\"barpolar\"}],\"pie\":[{\"automargin\":true,\"type\":\"pie\"}]},\"layout\":{\"autotypenumbers\":\"strict\",\"colorway\":[\"#636efa\",\"#EF553B\",\"#00cc96\",\"#ab63fa\",\"#FFA15A\",\"#19d3f3\",\"#FF6692\",\"#B6E880\",\"#FF97FF\",\"#FECB52\"],\"font\":{\"color\":\"#2a3f5f\"},\"hovermode\":\"closest\",\"hoverlabel\":{\"align\":\"left\"},\"paper_bgcolor\":\"white\",\"plot_bgcolor\":\"#E5ECF6\",\"polar\":{\"bgcolor\":\"#E5ECF6\",\"angularaxis\":{\"gridcolor\":\"white\",\"linecolor\":\"white\",\"ticks\":\"\"},\"radialaxis\":{\"gridcolor\":\"white\",\"linecolor\":\"white\",\"ticks\":\"\"}},\"ternary\":{\"bgcolor\":\"#E5ECF6\",\"aaxis\":{\"gridcolor\":\"white\",\"linecolor\":\"white\",\"ticks\":\"\"},\"baxis\":{\"gridcolor\":\"white\",\"linecolor\":\"white\",\"ticks\":\"\"},\"caxis\":{\"gridcolor\":\"white\",\"linecolor\":\"white\",\"ticks\":\"\"}},\"coloraxis\":{\"colorbar\":{\"outlinewidth\":0,\"ticks\":\"\"}},\"colorscale\":{\"sequential\":[[0.0,\"#0d0887\"],[0.1111111111111111,\"#46039f\"],[0.2222222222222222,\"#7201a8\"],[0.3333333333333333,\"#9c179e\"],[0.4444444444444444,\"#bd3786\"],[0.5555555555555556,\"#d8576b\"],[0.6666666666666666,\"#ed7953\"],[0.7777777777777778,\"#fb9f3a\"],[0.8888888888888888,\"#fdca26\"],[1.0,\"#f0f921\"]],\"sequentialminus\":[[0.0,\"#0d0887\"],[0.1111111111111111,\"#46039f\"],[0.2222222222222222,\"#7201a8\"],[0.3333333333333333,\"#9c179e\"],[0.4444444444444444,\"#bd3786\"],[0.5555555555555556,\"#d8576b\"],[0.6666666666666666,\"#ed7953\"],[0.7777777777777778,\"#fb9f3a\"],[0.8888888888888888,\"#fdca26\"],[1.0,\"#f0f921\"]],\"diverging\":[[0,\"#8e0152\"],[0.1,\"#c51b7d\"],[0.2,\"#de77ae\"],[0.3,\"#f1b6da\"],[0.4,\"#fde0ef\"],[0.5,\"#f7f7f7\"],[0.6,\"#e6f5d0\"],[0.7,\"#b8e186\"],[0.8,\"#7fbc41\"],[0.9,\"#4d9221\"],[1,\"#276419\"]]},\"xaxis\":{\"gridcolor\":\"white\",\"linecolor\":\"white\",\"ticks\":\"\",\"title\":{\"standoff\":15},\"zerolinecolor\":\"white\",\"automargin\":true,\"zerolinewidth\":2},\"yaxis\":{\"gridcolor\":\"white\",\"linecolor\":\"white\",\"ticks\":\"\",\"title\":{\"standoff\":15},\"zerolinecolor\":\"white\",\"automargin\":true,\"zerolinewidth\":2},\"scene\":{\"xaxis\":{\"backgroundcolor\":\"#E5ECF6\",\"gridcolor\":\"white\",\"linecolor\":\"white\",\"showbackground\":true,\"ticks\":\"\",\"zerolinecolor\":\"white\",\"gridwidth\":2},\"yaxis\":{\"backgroundcolor\":\"#E5ECF6\",\"gridcolor\":\"white\",\"linecolor\":\"white\",\"showbackground\":true,\"ticks\":\"\",\"zerolinecolor\":\"white\",\"gridwidth\":2},\"zaxis\":{\"backgroundcolor\":\"#E5ECF6\",\"gridcolor\":\"white\",\"linecolor\":\"white\",\"showbackground\":true,\"ticks\":\"\",\"zerolinecolor\":\"white\",\"gridwidth\":2}},\"shapedefaults\":{\"line\":{\"color\":\"#2a3f5f\"}},\"annotationdefaults\":{\"arrowcolor\":\"#2a3f5f\",\"arrowhead\":0,\"arrowwidth\":1},\"geo\":{\"bgcolor\":\"white\",\"landcolor\":\"#E5ECF6\",\"subunitcolor\":\"white\",\"showland\":true,\"showlakes\":true,\"lakecolor\":\"white\"},\"title\":{\"x\":0.05},\"mapbox\":{\"style\":\"light\"}}},\"annotations\":[{\"font\":{\"size\":16},\"showarrow\":false,\"text\":\"Facebook\",\"x\":0.225,\"xanchor\":\"center\",\"xref\":\"paper\",\"y\":1.0,\"yanchor\":\"bottom\",\"yref\":\"paper\"},{\"font\":{\"size\":16},\"showarrow\":false,\"text\":\"Instagram\",\"x\":0.775,\"xanchor\":\"center\",\"xref\":\"paper\",\"y\":1.0,\"yanchor\":\"bottom\",\"yref\":\"paper\"},{\"font\":{\"size\":16},\"showarrow\":false,\"text\":\"Twitter\",\"x\":0.225,\"xanchor\":\"center\",\"xref\":\"paper\",\"y\":0.375,\"yanchor\":\"bottom\",\"yref\":\"paper\"}],\"title\":{\"text\":\"Sentiment Distribution Across Platforms\"},\"height\":800},                        {\"responsive\": true}                    ).then(function(){\n",
       "                            \n",
       "var gd = document.getElementById('3493174f-004c-45fb-93ae-7f6b710277c2');\n",
       "var x = new MutationObserver(function (mutations, observer) {{\n",
       "        var display = window.getComputedStyle(gd).display;\n",
       "        if (!display || display === 'none') {{\n",
       "            console.log([gd, 'removed!']);\n",
       "            Plotly.purge(gd);\n",
       "            observer.disconnect();\n",
       "        }}\n",
       "}});\n",
       "\n",
       "// Listen for the removal of the full notebook cells\n",
       "var notebookContainer = gd.closest('#notebook-container');\n",
       "if (notebookContainer) {{\n",
       "    x.observe(notebookContainer, {childList: true});\n",
       "}}\n",
       "\n",
       "// Listen for the clearing of the current output cell\n",
       "var outputEl = gd.closest('.output');\n",
       "if (outputEl) {{\n",
       "    x.observe(outputEl, {childList: true});\n",
       "}}\n",
       "\n",
       "                        })                };                });            </script>        </div>"
      ]
     },
     "metadata": {},
     "output_type": "display_data"
    }
   ],
   "source": [
    "from plotly.subplots import make_subplots\n",
    "import plotly.graph_objects as go\n",
    "\n",
    "platforms = platform_sentiment_counts['Platform'].unique()\n",
    "\n",
    "cols = 2\n",
    "rows = (len(platforms) + 1) // cols\n",
    "\n",
    "fig = make_subplots(rows=rows, cols=cols, specs=[[{'type':'domain'}]*cols]*rows,\n",
    "                    subplot_titles=platforms)\n",
    "\n",
    "for i, platform in enumerate(platforms):\n",
    "    platform_data = platform_sentiment_counts[platform_sentiment_counts['Platform'] == platform]\n",
    "    row = i // cols + 1\n",
    "    col = i % cols + 1\n",
    "    \n",
    "    fig.add_trace(\n",
    "        go.Pie(\n",
    "            labels=platform_data['General_Sentiment'],\n",
    "            values=platform_data['Count'],\n",
    "            name=platform\n",
    "        ),\n",
    "        row=row, col=col\n",
    "    )\n",
    "\n",
    "fig.update_layout(\n",
    "    title_text='Sentiment Distribution Across Platforms',\n",
    "    height=400 * rows,\n",
    ")\n",
    "\n",
    "fig.update_traces(textposition='inside', textinfo='percent+label')\n",
    "\n",
    "fig.show()"
   ]
  },
  {
   "cell_type": "markdown",
   "id": "57fd9893",
   "metadata": {},
   "source": [
    "# Additional: Sentiments per county"
   ]
  },
  {
   "cell_type": "code",
   "execution_count": 25,
   "id": "60fb7c82",
   "metadata": {},
   "outputs": [],
   "source": [
    "import pandas as pd\n",
    "import plotly.express as px"
   ]
  },
  {
   "cell_type": "code",
   "execution_count": 27,
   "id": "7dc0c4ae",
   "metadata": {},
   "outputs": [],
   "source": [
    "# sentiments/country\n",
    "country_sentiment_counts = data.groupby(['Country', 'General_Sentiment']).size().reset_index(name='Count')"
   ]
  },
  {
   "cell_type": "code",
   "execution_count": 46,
   "id": "253cc6ba",
   "metadata": {},
   "outputs": [
    {
     "data": {
      "application/vnd.plotly.v1+json": {
       "config": {
        "plotlyServerURL": "https://plot.ly"
       },
       "data": [
        {
         "branchvalues": "total",
         "customdata": [
          [
           "Anger"
          ],
          [
           "Anticipation"
          ],
          [
           "Sadness"
          ],
          [
           "Suprise"
          ],
          [
           "Joy/Happiness"
          ],
          [
           "Joy/Happiness"
          ],
          [
           "Fear"
          ],
          [
           "Fear"
          ],
          [
           "Love/Affection"
          ],
          [
           "Neutral/Calm"
          ],
          [
           "Neutral/Calm"
          ],
          [
           "Sadness"
          ],
          [
           "Joy/Happiness"
          ],
          [
           "Joy/Happiness"
          ],
          [
           "Anticipation"
          ],
          [
           "Neutral/Calm"
          ],
          [
           "Sadness"
          ],
          [
           "Anticipation"
          ],
          [
           "Anger"
          ],
          [
           "Anticipation"
          ],
          [
           "Suprise"
          ],
          [
           "Joy/Happiness"
          ],
          [
           "Love/Affection"
          ],
          [
           "Joy/Happiness"
          ],
          [
           "Joy/Happiness"
          ],
          [
           "Anger"
          ],
          [
           "Anticipation"
          ],
          [
           "Sadness"
          ],
          [
           "Suprise"
          ],
          [
           "Anger"
          ],
          [
           "Joy/Happiness"
          ],
          [
           "Fear"
          ],
          [
           "Sadness"
          ],
          [
           "Trust"
          ],
          [
           "Disgust"
          ],
          [
           "Joy/Happiness"
          ],
          [
           "Anticipation"
          ],
          [
           "Neutral/Calm"
          ],
          [
           "Joy/Happiness"
          ],
          [
           "Joy/Happiness"
          ],
          [
           "Love/Affection"
          ],
          [
           "Neutral/Calm"
          ],
          [
           "Love/Affection"
          ],
          [
           "Sadness"
          ],
          [
           "Fear"
          ],
          [
           "Fear"
          ],
          [
           "Fear"
          ],
          [
           "Disgust"
          ],
          [
           "Sadness"
          ],
          [
           "Anticipation"
          ],
          [
           "Anticipation"
          ],
          [
           "Anticipation"
          ],
          [
           "Trust"
          ],
          [
           "Anger"
          ],
          [
           "Love/Affection"
          ],
          [
           "Neutral/Calm"
          ],
          [
           "Suprise"
          ],
          [
           "Neutral/Calm"
          ],
          [
           "Trust"
          ],
          [
           "Neutral/Calm"
          ],
          [
           "Joy/Happiness"
          ],
          [
           "Love/Affection"
          ],
          [
           "Anger"
          ],
          [
           "Disgust"
          ],
          [
           "Anticipation"
          ],
          [
           "Love/Affection"
          ],
          [
           "Love/Affection"
          ],
          [
           "Sadness"
          ],
          [
           "Sadness"
          ],
          [
           "Fear"
          ],
          [
           "Disgust"
          ],
          [
           "Anticipation"
          ],
          [
           "Joy/Happiness"
          ],
          [
           "Suprise"
          ],
          [
           "Sadness"
          ],
          [
           "Joy/Happiness"
          ],
          [
           "Anticipation"
          ],
          [
           "Neutral/Calm"
          ],
          [
           "Love/Affection"
          ],
          [
           "Trust"
          ],
          [
           "Neutral/Calm"
          ],
          [
           "Anticipation"
          ],
          [
           "Anticipation"
          ],
          [
           "Disgust"
          ],
          [
           "Trust"
          ],
          [
           "Suprise"
          ],
          [
           "Sadness"
          ],
          [
           "Sadness"
          ],
          [
           "Joy/Happiness"
          ],
          [
           "Love/Affection"
          ],
          [
           "Love/Affection"
          ],
          [
           "Neutral/Calm"
          ],
          [
           "Joy/Happiness"
          ],
          [
           "Neutral/Calm"
          ],
          [
           "Suprise"
          ],
          [
           "Sadness"
          ],
          [
           "Joy/Happiness"
          ],
          [
           "Anticipation"
          ],
          [
           "Disgust"
          ],
          [
           "Trust"
          ],
          [
           "Neutral/Calm"
          ],
          [
           "Anticipation"
          ],
          [
           "Fear"
          ],
          [
           "Anticipation"
          ],
          [
           "Suprise"
          ],
          [
           "Joy/Happiness"
          ],
          [
           "Neutral/Calm"
          ],
          [
           "Neutral/Calm"
          ],
          [
           "Trust"
          ],
          [
           "(?)"
          ],
          [
           "Joy/Happiness"
          ],
          [
           "(?)"
          ],
          [
           "(?)"
          ],
          [
           "Anticipation"
          ],
          [
           "(?)"
          ],
          [
           "Anticipation"
          ],
          [
           "Joy/Happiness"
          ],
          [
           "Anticipation"
          ],
          [
           "Joy/Happiness"
          ],
          [
           "(?)"
          ],
          [
           "(?)"
          ],
          [
           "(?)"
          ],
          [
           "(?)"
          ],
          [
           "Love/Affection"
          ],
          [
           "(?)"
          ],
          [
           "Joy/Happiness"
          ],
          [
           "(?)"
          ],
          [
           "Suprise"
          ],
          [
           "Love/Affection"
          ],
          [
           "Neutral/Calm"
          ],
          [
           "(?)"
          ],
          [
           "Joy/Happiness"
          ],
          [
           "Anticipation"
          ],
          [
           "Trust"
          ],
          [
           "Anticipation"
          ],
          [
           "(?)"
          ],
          [
           "(?)"
          ],
          [
           "Neutral/Calm"
          ],
          [
           "(?)"
          ],
          [
           "Neutral/Calm"
          ],
          [
           "(?)"
          ],
          [
           "(?)"
          ]
         ],
         "domain": {
          "x": [
           0,
           1
          ],
          "y": [
           0,
           1
          ]
         },
         "hovertemplate": "labels=%{label}<br>Count=%{value}<br>parent=%{parent}<br>id=%{id}<br>General_Sentiment=%{customdata[0]}<extra></extra>",
         "ids": [
          "Australia/Anger",
          "Switzerland/Anticipation",
          "Netherlands/Sadness",
          "South Africa/Suprise",
          "Japan/Joy/Happiness",
          "Brazil/Joy/Happiness",
          "France/Fear",
          "Brazil/Fear",
          "India/Love/Affection",
          "Thailand/Neutral/Calm",
          "Sweden/Neutral/Calm",
          "South Africa/Sadness",
          "Italy/Joy/Happiness",
          "Canada/Joy/Happiness",
          "South Africa/Anticipation",
          "UK/Neutral/Calm",
          "India/Sadness",
          "UK/Anticipation",
          "Canada/Anger",
          "Czech Republic/Anticipation",
          "UK/Suprise",
          "Netherlands/Joy/Happiness",
          "UK/Love/Affection",
          "Colombia/Joy/Happiness",
          "Norway/Joy/Happiness",
          "Germany/Anger",
          "USA/Anticipation",
          "Spain/Sadness",
          "USA/Suprise",
          "India/Anger",
          "Denmark/Joy/Happiness",
          "India/Fear",
          "UK/Sadness",
          "Australia/Trust",
          "Australia/Disgust",
          "Spain/Joy/Happiness",
          "Greece/Anticipation",
          "Maldives/Neutral/Calm",
          "France/Joy/Happiness",
          "UK/Joy/Happiness",
          "South Africa/Love/Affection",
          "Italy/Neutral/Calm",
          "USA/Love/Affection",
          "Canada/Sadness",
          "UK/Fear",
          "Germany/Fear",
          "Canada/Fear",
          "Canada/Disgust",
          "USA/Sadness",
          "India/Anticipation",
          "Germany/Anticipation",
          "China/Anticipation",
          "Canada/Trust",
          "UK/Anger",
          "Ireland/Love/Affection",
          "Greece/Neutral/Calm",
          "Australia/Suprise",
          "Australia/Neutral/Calm",
          "France/Trust",
          "USA/Neutral/Calm",
          "USA/Joy/Happiness",
          "Canada/Love/Affection",
          "USA/Anger",
          "Germany/Disgust",
          "Italy/Anticipation",
          "Italy/Love/Affection",
          "Japan/Love/Affection",
          "Italy/Sadness",
          "Japan/Sadness",
          "USA/Fear",
          "India/Disgust",
          "Japan/Anticipation",
          "Germany/Joy/Happiness",
          "Brazil/Suprise",
          "Germany/Sadness",
          "Jamaica/Joy/Happiness",
          "Australia/Anticipation",
          "Brazil/Neutral/Calm",
          "Australia/Love/Affection",
          "Japan/Trust",
          "India/Neutral/Calm",
          "Belgium/Anticipation",
          "Peru/Anticipation",
          "UK/Disgust",
          "Portugal/Trust",
          "Canada/Suprise",
          "France/Sadness",
          "Australia/Sadness",
          "Australia/Joy/Happiness",
          "Kenya/Love/Affection",
          "Brazil/Love/Affection",
          "Japan/Neutral/Calm",
          "India/Joy/Happiness",
          "Canada/Neutral/Calm",
          "France/Suprise",
          "Brazil/Sadness",
          "Austria/Joy/Happiness",
          "Scotland/Anticipation",
          "USA/Disgust",
          "UK/Trust",
          "Germany/Neutral/Calm",
          "Cambodia/Anticipation",
          "Australia/Fear",
          "Canada/Anticipation",
          "Jordan/Suprise",
          "Belgium/Joy/Happiness",
          "Switzerland/Neutral/Calm",
          "France/Neutral/Calm",
          "USA/Trust",
          "Australia",
          "Austria",
          "Belgium",
          "Brazil",
          "Cambodia",
          "Canada",
          "China",
          "Colombia",
          "Czech Republic",
          "Denmark",
          "France",
          "Germany",
          "Greece",
          "India",
          "Ireland",
          "Italy",
          "Jamaica",
          "Japan",
          "Jordan",
          "Kenya",
          "Maldives",
          "Netherlands",
          "Norway",
          "Peru",
          "Portugal",
          "Scotland",
          "South Africa",
          "Spain",
          "Sweden",
          "Switzerland",
          "Thailand",
          "UK",
          "USA"
         ],
         "labels": [
          "Anger",
          "Anticipation",
          "Sadness",
          "Suprise",
          "Joy/Happiness",
          "Joy/Happiness",
          "Fear",
          "Fear",
          "Love/Affection",
          "Neutral/Calm",
          "Neutral/Calm",
          "Sadness",
          "Joy/Happiness",
          "Joy/Happiness",
          "Anticipation",
          "Neutral/Calm",
          "Sadness",
          "Anticipation",
          "Anger",
          "Anticipation",
          "Suprise",
          "Joy/Happiness",
          "Love/Affection",
          "Joy/Happiness",
          "Joy/Happiness",
          "Anger",
          "Anticipation",
          "Sadness",
          "Suprise",
          "Anger",
          "Joy/Happiness",
          "Fear",
          "Sadness",
          "Trust",
          "Disgust",
          "Joy/Happiness",
          "Anticipation",
          "Neutral/Calm",
          "Joy/Happiness",
          "Joy/Happiness",
          "Love/Affection",
          "Neutral/Calm",
          "Love/Affection",
          "Sadness",
          "Fear",
          "Fear",
          "Fear",
          "Disgust",
          "Sadness",
          "Anticipation",
          "Anticipation",
          "Anticipation",
          "Trust",
          "Anger",
          "Love/Affection",
          "Neutral/Calm",
          "Suprise",
          "Neutral/Calm",
          "Trust",
          "Neutral/Calm",
          "Joy/Happiness",
          "Love/Affection",
          "Anger",
          "Disgust",
          "Anticipation",
          "Love/Affection",
          "Love/Affection",
          "Sadness",
          "Sadness",
          "Fear",
          "Disgust",
          "Anticipation",
          "Joy/Happiness",
          "Suprise",
          "Sadness",
          "Joy/Happiness",
          "Anticipation",
          "Neutral/Calm",
          "Love/Affection",
          "Trust",
          "Neutral/Calm",
          "Anticipation",
          "Anticipation",
          "Disgust",
          "Trust",
          "Suprise",
          "Sadness",
          "Sadness",
          "Joy/Happiness",
          "Love/Affection",
          "Love/Affection",
          "Neutral/Calm",
          "Joy/Happiness",
          "Neutral/Calm",
          "Suprise",
          "Sadness",
          "Joy/Happiness",
          "Anticipation",
          "Disgust",
          "Trust",
          "Neutral/Calm",
          "Anticipation",
          "Fear",
          "Anticipation",
          "Suprise",
          "Joy/Happiness",
          "Neutral/Calm",
          "Neutral/Calm",
          "Trust",
          "Australia",
          "Austria",
          "Belgium",
          "Brazil",
          "Cambodia",
          "Canada",
          "China",
          "Colombia",
          "Czech Republic",
          "Denmark",
          "France",
          "Germany",
          "Greece",
          "India",
          "Ireland",
          "Italy",
          "Jamaica",
          "Japan",
          "Jordan",
          "Kenya",
          "Maldives",
          "Netherlands",
          "Norway",
          "Peru",
          "Portugal",
          "Scotland",
          "South Africa",
          "Spain",
          "Sweden",
          "Switzerland",
          "Thailand",
          "UK",
          "USA"
         ],
         "marker": {
          "colors": [
           "rgb(141,211,199)",
           "rgb(255,255,179)",
           "rgb(190,186,218)",
           "rgb(251,128,114)",
           "rgb(128,177,211)",
           "rgb(128,177,211)",
           "rgb(253,180,98)",
           "rgb(253,180,98)",
           "rgb(179,222,105)",
           "rgb(252,205,229)",
           "rgb(252,205,229)",
           "rgb(190,186,218)",
           "rgb(128,177,211)",
           "rgb(128,177,211)",
           "rgb(255,255,179)",
           "rgb(252,205,229)",
           "rgb(190,186,218)",
           "rgb(255,255,179)",
           "rgb(141,211,199)",
           "rgb(255,255,179)",
           "rgb(251,128,114)",
           "rgb(128,177,211)",
           "rgb(179,222,105)",
           "rgb(128,177,211)",
           "rgb(128,177,211)",
           "rgb(141,211,199)",
           "rgb(255,255,179)",
           "rgb(190,186,218)",
           "rgb(251,128,114)",
           "rgb(141,211,199)",
           "rgb(128,177,211)",
           "rgb(253,180,98)",
           "rgb(190,186,218)",
           "rgb(217,217,217)",
           "rgb(188,128,189)",
           "rgb(128,177,211)",
           "rgb(255,255,179)",
           "rgb(252,205,229)",
           "rgb(128,177,211)",
           "rgb(128,177,211)",
           "rgb(179,222,105)",
           "rgb(252,205,229)",
           "rgb(179,222,105)",
           "rgb(190,186,218)",
           "rgb(253,180,98)",
           "rgb(253,180,98)",
           "rgb(253,180,98)",
           "rgb(188,128,189)",
           "rgb(190,186,218)",
           "rgb(255,255,179)",
           "rgb(255,255,179)",
           "rgb(255,255,179)",
           "rgb(217,217,217)",
           "rgb(141,211,199)",
           "rgb(179,222,105)",
           "rgb(252,205,229)",
           "rgb(251,128,114)",
           "rgb(252,205,229)",
           "rgb(217,217,217)",
           "rgb(252,205,229)",
           "rgb(128,177,211)",
           "rgb(179,222,105)",
           "rgb(141,211,199)",
           "rgb(188,128,189)",
           "rgb(255,255,179)",
           "rgb(179,222,105)",
           "rgb(179,222,105)",
           "rgb(190,186,218)",
           "rgb(190,186,218)",
           "rgb(253,180,98)",
           "rgb(188,128,189)",
           "rgb(255,255,179)",
           "rgb(128,177,211)",
           "rgb(251,128,114)",
           "rgb(190,186,218)",
           "rgb(128,177,211)",
           "rgb(255,255,179)",
           "rgb(252,205,229)",
           "rgb(179,222,105)",
           "rgb(217,217,217)",
           "rgb(252,205,229)",
           "rgb(255,255,179)",
           "rgb(255,255,179)",
           "rgb(188,128,189)",
           "rgb(217,217,217)",
           "rgb(251,128,114)",
           "rgb(190,186,218)",
           "rgb(190,186,218)",
           "rgb(128,177,211)",
           "rgb(179,222,105)",
           "rgb(179,222,105)",
           "rgb(252,205,229)",
           "rgb(128,177,211)",
           "rgb(252,205,229)",
           "rgb(251,128,114)",
           "rgb(190,186,218)",
           "rgb(128,177,211)",
           "rgb(255,255,179)",
           "rgb(188,128,189)",
           "rgb(217,217,217)",
           "rgb(252,205,229)",
           "rgb(255,255,179)",
           "rgb(253,180,98)",
           "rgb(255,255,179)",
           "rgb(251,128,114)",
           "rgb(128,177,211)",
           "rgb(252,205,229)",
           "rgb(252,205,229)",
           "rgb(217,217,217)",
           "rgb(204,235,197)",
           "rgb(128,177,211)",
           "rgb(204,235,197)",
           "rgb(204,235,197)",
           "rgb(255,255,179)",
           "rgb(204,235,197)",
           "rgb(255,255,179)",
           "rgb(128,177,211)",
           "rgb(255,255,179)",
           "rgb(128,177,211)",
           "rgb(204,235,197)",
           "rgb(204,235,197)",
           "rgb(204,235,197)",
           "rgb(204,235,197)",
           "rgb(179,222,105)",
           "rgb(204,235,197)",
           "rgb(128,177,211)",
           "rgb(204,235,197)",
           "rgb(251,128,114)",
           "rgb(179,222,105)",
           "rgb(252,205,229)",
           "rgb(204,235,197)",
           "rgb(128,177,211)",
           "rgb(255,255,179)",
           "rgb(217,217,217)",
           "rgb(255,255,179)",
           "rgb(204,235,197)",
           "rgb(204,235,197)",
           "rgb(252,205,229)",
           "rgb(204,235,197)",
           "rgb(252,205,229)",
           "rgb(204,235,197)",
           "rgb(204,235,197)"
          ]
         },
         "name": "",
         "parents": [
          "Australia",
          "Switzerland",
          "Netherlands",
          "South Africa",
          "Japan",
          "Brazil",
          "France",
          "Brazil",
          "India",
          "Thailand",
          "Sweden",
          "South Africa",
          "Italy",
          "Canada",
          "South Africa",
          "UK",
          "India",
          "UK",
          "Canada",
          "Czech Republic",
          "UK",
          "Netherlands",
          "UK",
          "Colombia",
          "Norway",
          "Germany",
          "USA",
          "Spain",
          "USA",
          "India",
          "Denmark",
          "India",
          "UK",
          "Australia",
          "Australia",
          "Spain",
          "Greece",
          "Maldives",
          "France",
          "UK",
          "South Africa",
          "Italy",
          "USA",
          "Canada",
          "UK",
          "Germany",
          "Canada",
          "Canada",
          "USA",
          "India",
          "Germany",
          "China",
          "Canada",
          "UK",
          "Ireland",
          "Greece",
          "Australia",
          "Australia",
          "France",
          "USA",
          "USA",
          "Canada",
          "USA",
          "Germany",
          "Italy",
          "Italy",
          "Japan",
          "Italy",
          "Japan",
          "USA",
          "India",
          "Japan",
          "Germany",
          "Brazil",
          "Germany",
          "Jamaica",
          "Australia",
          "Brazil",
          "Australia",
          "Japan",
          "India",
          "Belgium",
          "Peru",
          "UK",
          "Portugal",
          "Canada",
          "France",
          "Australia",
          "Australia",
          "Kenya",
          "Brazil",
          "Japan",
          "India",
          "Canada",
          "France",
          "Brazil",
          "Austria",
          "Scotland",
          "USA",
          "UK",
          "Germany",
          "Cambodia",
          "Australia",
          "Canada",
          "Jordan",
          "Belgium",
          "Switzerland",
          "France",
          "USA",
          "",
          "",
          "",
          "",
          "",
          "",
          "",
          "",
          "",
          "",
          "",
          "",
          "",
          "",
          "",
          "",
          "",
          "",
          "",
          "",
          "",
          "",
          "",
          "",
          "",
          "",
          "",
          "",
          "",
          "",
          "",
          "",
          ""
         ],
         "type": "treemap",
         "values": [
          3,
          1,
          1,
          2,
          6,
          5,
          1,
          1,
          2,
          1,
          2,
          2,
          4,
          61,
          1,
          16,
          11,
          8,
          9,
          2,
          5,
          3,
          11,
          1,
          1,
          1,
          12,
          4,
          9,
          4,
          2,
          4,
          15,
          4,
          1,
          1,
          1,
          1,
          3,
          62,
          1,
          1,
          15,
          18,
          5,
          1,
          2,
          2,
          21,
          9,
          2,
          1,
          3,
          9,
          1,
          4,
          4,
          8,
          3,
          17,
          85,
          5,
          13,
          1,
          2,
          2,
          1,
          2,
          3,
          7,
          3,
          2,
          4,
          4,
          4,
          1,
          8,
          1,
          10,
          1,
          9,
          1,
          1,
          6,
          1,
          1,
          5,
          12,
          16,
          1,
          1,
          2,
          26,
          25,
          1,
          5,
          1,
          1,
          2,
          2,
          1,
          1,
          3,
          4,
          1,
          1,
          1,
          3,
          3,
          69,
          1,
          2,
          17,
          1,
          130,
          1,
          1,
          2,
          2,
          16,
          14,
          5,
          68,
          1,
          11,
          1,
          15,
          1,
          1,
          1,
          4,
          1,
          1,
          1,
          1,
          6,
          5,
          2,
          2,
          1,
          139,
          184
         ]
        }
       ],
       "layout": {
        "legend": {
         "tracegroupgap": 0
        },
        "template": {
         "data": {
          "bar": [
           {
            "error_x": {
             "color": "#2a3f5f"
            },
            "error_y": {
             "color": "#2a3f5f"
            },
            "marker": {
             "line": {
              "color": "#E5ECF6",
              "width": 0.5
             },
             "pattern": {
              "fillmode": "overlay",
              "size": 10,
              "solidity": 0.2
             }
            },
            "type": "bar"
           }
          ],
          "barpolar": [
           {
            "marker": {
             "line": {
              "color": "#E5ECF6",
              "width": 0.5
             },
             "pattern": {
              "fillmode": "overlay",
              "size": 10,
              "solidity": 0.2
             }
            },
            "type": "barpolar"
           }
          ],
          "carpet": [
           {
            "aaxis": {
             "endlinecolor": "#2a3f5f",
             "gridcolor": "white",
             "linecolor": "white",
             "minorgridcolor": "white",
             "startlinecolor": "#2a3f5f"
            },
            "baxis": {
             "endlinecolor": "#2a3f5f",
             "gridcolor": "white",
             "linecolor": "white",
             "minorgridcolor": "white",
             "startlinecolor": "#2a3f5f"
            },
            "type": "carpet"
           }
          ],
          "choropleth": [
           {
            "colorbar": {
             "outlinewidth": 0,
             "ticks": ""
            },
            "type": "choropleth"
           }
          ],
          "contour": [
           {
            "colorbar": {
             "outlinewidth": 0,
             "ticks": ""
            },
            "colorscale": [
             [
              0,
              "#0d0887"
             ],
             [
              0.1111111111111111,
              "#46039f"
             ],
             [
              0.2222222222222222,
              "#7201a8"
             ],
             [
              0.3333333333333333,
              "#9c179e"
             ],
             [
              0.4444444444444444,
              "#bd3786"
             ],
             [
              0.5555555555555556,
              "#d8576b"
             ],
             [
              0.6666666666666666,
              "#ed7953"
             ],
             [
              0.7777777777777778,
              "#fb9f3a"
             ],
             [
              0.8888888888888888,
              "#fdca26"
             ],
             [
              1,
              "#f0f921"
             ]
            ],
            "type": "contour"
           }
          ],
          "contourcarpet": [
           {
            "colorbar": {
             "outlinewidth": 0,
             "ticks": ""
            },
            "type": "contourcarpet"
           }
          ],
          "heatmap": [
           {
            "colorbar": {
             "outlinewidth": 0,
             "ticks": ""
            },
            "colorscale": [
             [
              0,
              "#0d0887"
             ],
             [
              0.1111111111111111,
              "#46039f"
             ],
             [
              0.2222222222222222,
              "#7201a8"
             ],
             [
              0.3333333333333333,
              "#9c179e"
             ],
             [
              0.4444444444444444,
              "#bd3786"
             ],
             [
              0.5555555555555556,
              "#d8576b"
             ],
             [
              0.6666666666666666,
              "#ed7953"
             ],
             [
              0.7777777777777778,
              "#fb9f3a"
             ],
             [
              0.8888888888888888,
              "#fdca26"
             ],
             [
              1,
              "#f0f921"
             ]
            ],
            "type": "heatmap"
           }
          ],
          "heatmapgl": [
           {
            "colorbar": {
             "outlinewidth": 0,
             "ticks": ""
            },
            "colorscale": [
             [
              0,
              "#0d0887"
             ],
             [
              0.1111111111111111,
              "#46039f"
             ],
             [
              0.2222222222222222,
              "#7201a8"
             ],
             [
              0.3333333333333333,
              "#9c179e"
             ],
             [
              0.4444444444444444,
              "#bd3786"
             ],
             [
              0.5555555555555556,
              "#d8576b"
             ],
             [
              0.6666666666666666,
              "#ed7953"
             ],
             [
              0.7777777777777778,
              "#fb9f3a"
             ],
             [
              0.8888888888888888,
              "#fdca26"
             ],
             [
              1,
              "#f0f921"
             ]
            ],
            "type": "heatmapgl"
           }
          ],
          "histogram": [
           {
            "marker": {
             "pattern": {
              "fillmode": "overlay",
              "size": 10,
              "solidity": 0.2
             }
            },
            "type": "histogram"
           }
          ],
          "histogram2d": [
           {
            "colorbar": {
             "outlinewidth": 0,
             "ticks": ""
            },
            "colorscale": [
             [
              0,
              "#0d0887"
             ],
             [
              0.1111111111111111,
              "#46039f"
             ],
             [
              0.2222222222222222,
              "#7201a8"
             ],
             [
              0.3333333333333333,
              "#9c179e"
             ],
             [
              0.4444444444444444,
              "#bd3786"
             ],
             [
              0.5555555555555556,
              "#d8576b"
             ],
             [
              0.6666666666666666,
              "#ed7953"
             ],
             [
              0.7777777777777778,
              "#fb9f3a"
             ],
             [
              0.8888888888888888,
              "#fdca26"
             ],
             [
              1,
              "#f0f921"
             ]
            ],
            "type": "histogram2d"
           }
          ],
          "histogram2dcontour": [
           {
            "colorbar": {
             "outlinewidth": 0,
             "ticks": ""
            },
            "colorscale": [
             [
              0,
              "#0d0887"
             ],
             [
              0.1111111111111111,
              "#46039f"
             ],
             [
              0.2222222222222222,
              "#7201a8"
             ],
             [
              0.3333333333333333,
              "#9c179e"
             ],
             [
              0.4444444444444444,
              "#bd3786"
             ],
             [
              0.5555555555555556,
              "#d8576b"
             ],
             [
              0.6666666666666666,
              "#ed7953"
             ],
             [
              0.7777777777777778,
              "#fb9f3a"
             ],
             [
              0.8888888888888888,
              "#fdca26"
             ],
             [
              1,
              "#f0f921"
             ]
            ],
            "type": "histogram2dcontour"
           }
          ],
          "mesh3d": [
           {
            "colorbar": {
             "outlinewidth": 0,
             "ticks": ""
            },
            "type": "mesh3d"
           }
          ],
          "parcoords": [
           {
            "line": {
             "colorbar": {
              "outlinewidth": 0,
              "ticks": ""
             }
            },
            "type": "parcoords"
           }
          ],
          "pie": [
           {
            "automargin": true,
            "type": "pie"
           }
          ],
          "scatter": [
           {
            "fillpattern": {
             "fillmode": "overlay",
             "size": 10,
             "solidity": 0.2
            },
            "type": "scatter"
           }
          ],
          "scatter3d": [
           {
            "line": {
             "colorbar": {
              "outlinewidth": 0,
              "ticks": ""
             }
            },
            "marker": {
             "colorbar": {
              "outlinewidth": 0,
              "ticks": ""
             }
            },
            "type": "scatter3d"
           }
          ],
          "scattercarpet": [
           {
            "marker": {
             "colorbar": {
              "outlinewidth": 0,
              "ticks": ""
             }
            },
            "type": "scattercarpet"
           }
          ],
          "scattergeo": [
           {
            "marker": {
             "colorbar": {
              "outlinewidth": 0,
              "ticks": ""
             }
            },
            "type": "scattergeo"
           }
          ],
          "scattergl": [
           {
            "marker": {
             "colorbar": {
              "outlinewidth": 0,
              "ticks": ""
             }
            },
            "type": "scattergl"
           }
          ],
          "scattermapbox": [
           {
            "marker": {
             "colorbar": {
              "outlinewidth": 0,
              "ticks": ""
             }
            },
            "type": "scattermapbox"
           }
          ],
          "scatterpolar": [
           {
            "marker": {
             "colorbar": {
              "outlinewidth": 0,
              "ticks": ""
             }
            },
            "type": "scatterpolar"
           }
          ],
          "scatterpolargl": [
           {
            "marker": {
             "colorbar": {
              "outlinewidth": 0,
              "ticks": ""
             }
            },
            "type": "scatterpolargl"
           }
          ],
          "scatterternary": [
           {
            "marker": {
             "colorbar": {
              "outlinewidth": 0,
              "ticks": ""
             }
            },
            "type": "scatterternary"
           }
          ],
          "surface": [
           {
            "colorbar": {
             "outlinewidth": 0,
             "ticks": ""
            },
            "colorscale": [
             [
              0,
              "#0d0887"
             ],
             [
              0.1111111111111111,
              "#46039f"
             ],
             [
              0.2222222222222222,
              "#7201a8"
             ],
             [
              0.3333333333333333,
              "#9c179e"
             ],
             [
              0.4444444444444444,
              "#bd3786"
             ],
             [
              0.5555555555555556,
              "#d8576b"
             ],
             [
              0.6666666666666666,
              "#ed7953"
             ],
             [
              0.7777777777777778,
              "#fb9f3a"
             ],
             [
              0.8888888888888888,
              "#fdca26"
             ],
             [
              1,
              "#f0f921"
             ]
            ],
            "type": "surface"
           }
          ],
          "table": [
           {
            "cells": {
             "fill": {
              "color": "#EBF0F8"
             },
             "line": {
              "color": "white"
             }
            },
            "header": {
             "fill": {
              "color": "#C8D4E3"
             },
             "line": {
              "color": "white"
             }
            },
            "type": "table"
           }
          ]
         },
         "layout": {
          "annotationdefaults": {
           "arrowcolor": "#2a3f5f",
           "arrowhead": 0,
           "arrowwidth": 1
          },
          "autotypenumbers": "strict",
          "coloraxis": {
           "colorbar": {
            "outlinewidth": 0,
            "ticks": ""
           }
          },
          "colorscale": {
           "diverging": [
            [
             0,
             "#8e0152"
            ],
            [
             0.1,
             "#c51b7d"
            ],
            [
             0.2,
             "#de77ae"
            ],
            [
             0.3,
             "#f1b6da"
            ],
            [
             0.4,
             "#fde0ef"
            ],
            [
             0.5,
             "#f7f7f7"
            ],
            [
             0.6,
             "#e6f5d0"
            ],
            [
             0.7,
             "#b8e186"
            ],
            [
             0.8,
             "#7fbc41"
            ],
            [
             0.9,
             "#4d9221"
            ],
            [
             1,
             "#276419"
            ]
           ],
           "sequential": [
            [
             0,
             "#0d0887"
            ],
            [
             0.1111111111111111,
             "#46039f"
            ],
            [
             0.2222222222222222,
             "#7201a8"
            ],
            [
             0.3333333333333333,
             "#9c179e"
            ],
            [
             0.4444444444444444,
             "#bd3786"
            ],
            [
             0.5555555555555556,
             "#d8576b"
            ],
            [
             0.6666666666666666,
             "#ed7953"
            ],
            [
             0.7777777777777778,
             "#fb9f3a"
            ],
            [
             0.8888888888888888,
             "#fdca26"
            ],
            [
             1,
             "#f0f921"
            ]
           ],
           "sequentialminus": [
            [
             0,
             "#0d0887"
            ],
            [
             0.1111111111111111,
             "#46039f"
            ],
            [
             0.2222222222222222,
             "#7201a8"
            ],
            [
             0.3333333333333333,
             "#9c179e"
            ],
            [
             0.4444444444444444,
             "#bd3786"
            ],
            [
             0.5555555555555556,
             "#d8576b"
            ],
            [
             0.6666666666666666,
             "#ed7953"
            ],
            [
             0.7777777777777778,
             "#fb9f3a"
            ],
            [
             0.8888888888888888,
             "#fdca26"
            ],
            [
             1,
             "#f0f921"
            ]
           ]
          },
          "colorway": [
           "#636efa",
           "#EF553B",
           "#00cc96",
           "#ab63fa",
           "#FFA15A",
           "#19d3f3",
           "#FF6692",
           "#B6E880",
           "#FF97FF",
           "#FECB52"
          ],
          "font": {
           "color": "#2a3f5f"
          },
          "geo": {
           "bgcolor": "white",
           "lakecolor": "white",
           "landcolor": "#E5ECF6",
           "showlakes": true,
           "showland": true,
           "subunitcolor": "white"
          },
          "hoverlabel": {
           "align": "left"
          },
          "hovermode": "closest",
          "mapbox": {
           "style": "light"
          },
          "paper_bgcolor": "white",
          "plot_bgcolor": "#E5ECF6",
          "polar": {
           "angularaxis": {
            "gridcolor": "white",
            "linecolor": "white",
            "ticks": ""
           },
           "bgcolor": "#E5ECF6",
           "radialaxis": {
            "gridcolor": "white",
            "linecolor": "white",
            "ticks": ""
           }
          },
          "scene": {
           "xaxis": {
            "backgroundcolor": "#E5ECF6",
            "gridcolor": "white",
            "gridwidth": 2,
            "linecolor": "white",
            "showbackground": true,
            "ticks": "",
            "zerolinecolor": "white"
           },
           "yaxis": {
            "backgroundcolor": "#E5ECF6",
            "gridcolor": "white",
            "gridwidth": 2,
            "linecolor": "white",
            "showbackground": true,
            "ticks": "",
            "zerolinecolor": "white"
           },
           "zaxis": {
            "backgroundcolor": "#E5ECF6",
            "gridcolor": "white",
            "gridwidth": 2,
            "linecolor": "white",
            "showbackground": true,
            "ticks": "",
            "zerolinecolor": "white"
           }
          },
          "shapedefaults": {
           "line": {
            "color": "#2a3f5f"
           }
          },
          "ternary": {
           "aaxis": {
            "gridcolor": "white",
            "linecolor": "white",
            "ticks": ""
           },
           "baxis": {
            "gridcolor": "white",
            "linecolor": "white",
            "ticks": ""
           },
           "bgcolor": "#E5ECF6",
           "caxis": {
            "gridcolor": "white",
            "linecolor": "white",
            "ticks": ""
           }
          },
          "title": {
           "x": 0.05
          },
          "xaxis": {
           "automargin": true,
           "gridcolor": "white",
           "linecolor": "white",
           "ticks": "",
           "title": {
            "standoff": 15
           },
           "zerolinecolor": "white",
           "zerolinewidth": 2
          },
          "yaxis": {
           "automargin": true,
           "gridcolor": "white",
           "linecolor": "white",
           "ticks": "",
           "title": {
            "standoff": 15
           },
           "zerolinecolor": "white",
           "zerolinewidth": 2
          }
         }
        },
        "title": {
         "text": "Sentiment Distribution by Country"
        },
        "treemapcolorway": [
         "rgb(141,211,199)",
         "rgb(255,255,179)",
         "rgb(190,186,218)",
         "rgb(251,128,114)",
         "rgb(128,177,211)",
         "rgb(253,180,98)",
         "rgb(179,222,105)",
         "rgb(252,205,229)",
         "rgb(217,217,217)",
         "rgb(188,128,189)",
         "rgb(204,235,197)",
         "rgb(255,237,111)"
        ]
       }
      },
      "text/html": [
       "<div>                            <div id=\"c92c4af7-c7ea-4141-90d0-c377a338c13b\" class=\"plotly-graph-div\" style=\"height:525px; width:100%;\"></div>            <script type=\"text/javascript\">                require([\"plotly\"], function(Plotly) {                    window.PLOTLYENV=window.PLOTLYENV || {};                                    if (document.getElementById(\"c92c4af7-c7ea-4141-90d0-c377a338c13b\")) {                    Plotly.newPlot(                        \"c92c4af7-c7ea-4141-90d0-c377a338c13b\",                        [{\"branchvalues\":\"total\",\"customdata\":[[\"Anger\"],[\"Anticipation\"],[\"Sadness\"],[\"Suprise\"],[\"Joy/Happiness\"],[\"Joy/Happiness\"],[\"Fear\"],[\"Fear\"],[\"Love/Affection\"],[\"Neutral/Calm\"],[\"Neutral/Calm\"],[\"Sadness\"],[\"Joy/Happiness\"],[\"Joy/Happiness\"],[\"Anticipation\"],[\"Neutral/Calm\"],[\"Sadness\"],[\"Anticipation\"],[\"Anger\"],[\"Anticipation\"],[\"Suprise\"],[\"Joy/Happiness\"],[\"Love/Affection\"],[\"Joy/Happiness\"],[\"Joy/Happiness\"],[\"Anger\"],[\"Anticipation\"],[\"Sadness\"],[\"Suprise\"],[\"Anger\"],[\"Joy/Happiness\"],[\"Fear\"],[\"Sadness\"],[\"Trust\"],[\"Disgust\"],[\"Joy/Happiness\"],[\"Anticipation\"],[\"Neutral/Calm\"],[\"Joy/Happiness\"],[\"Joy/Happiness\"],[\"Love/Affection\"],[\"Neutral/Calm\"],[\"Love/Affection\"],[\"Sadness\"],[\"Fear\"],[\"Fear\"],[\"Fear\"],[\"Disgust\"],[\"Sadness\"],[\"Anticipation\"],[\"Anticipation\"],[\"Anticipation\"],[\"Trust\"],[\"Anger\"],[\"Love/Affection\"],[\"Neutral/Calm\"],[\"Suprise\"],[\"Neutral/Calm\"],[\"Trust\"],[\"Neutral/Calm\"],[\"Joy/Happiness\"],[\"Love/Affection\"],[\"Anger\"],[\"Disgust\"],[\"Anticipation\"],[\"Love/Affection\"],[\"Love/Affection\"],[\"Sadness\"],[\"Sadness\"],[\"Fear\"],[\"Disgust\"],[\"Anticipation\"],[\"Joy/Happiness\"],[\"Suprise\"],[\"Sadness\"],[\"Joy/Happiness\"],[\"Anticipation\"],[\"Neutral/Calm\"],[\"Love/Affection\"],[\"Trust\"],[\"Neutral/Calm\"],[\"Anticipation\"],[\"Anticipation\"],[\"Disgust\"],[\"Trust\"],[\"Suprise\"],[\"Sadness\"],[\"Sadness\"],[\"Joy/Happiness\"],[\"Love/Affection\"],[\"Love/Affection\"],[\"Neutral/Calm\"],[\"Joy/Happiness\"],[\"Neutral/Calm\"],[\"Suprise\"],[\"Sadness\"],[\"Joy/Happiness\"],[\"Anticipation\"],[\"Disgust\"],[\"Trust\"],[\"Neutral/Calm\"],[\"Anticipation\"],[\"Fear\"],[\"Anticipation\"],[\"Suprise\"],[\"Joy/Happiness\"],[\"Neutral/Calm\"],[\"Neutral/Calm\"],[\"Trust\"],[\"(?)\"],[\"Joy/Happiness\"],[\"(?)\"],[\"(?)\"],[\"Anticipation\"],[\"(?)\"],[\"Anticipation\"],[\"Joy/Happiness\"],[\"Anticipation\"],[\"Joy/Happiness\"],[\"(?)\"],[\"(?)\"],[\"(?)\"],[\"(?)\"],[\"Love/Affection\"],[\"(?)\"],[\"Joy/Happiness\"],[\"(?)\"],[\"Suprise\"],[\"Love/Affection\"],[\"Neutral/Calm\"],[\"(?)\"],[\"Joy/Happiness\"],[\"Anticipation\"],[\"Trust\"],[\"Anticipation\"],[\"(?)\"],[\"(?)\"],[\"Neutral/Calm\"],[\"(?)\"],[\"Neutral/Calm\"],[\"(?)\"],[\"(?)\"]],\"domain\":{\"x\":[0.0,1.0],\"y\":[0.0,1.0]},\"hovertemplate\":\"labels=%{label}<br>Count=%{value}<br>parent=%{parent}<br>id=%{id}<br>General_Sentiment=%{customdata[0]}<extra></extra>\",\"ids\":[\"Australia/Anger\",\"Switzerland/Anticipation\",\"Netherlands/Sadness\",\"South Africa/Suprise\",\"Japan/Joy/Happiness\",\"Brazil/Joy/Happiness\",\"France/Fear\",\"Brazil/Fear\",\"India/Love/Affection\",\"Thailand/Neutral/Calm\",\"Sweden/Neutral/Calm\",\"South Africa/Sadness\",\"Italy/Joy/Happiness\",\"Canada/Joy/Happiness\",\"South Africa/Anticipation\",\"UK/Neutral/Calm\",\"India/Sadness\",\"UK/Anticipation\",\"Canada/Anger\",\"Czech Republic/Anticipation\",\"UK/Suprise\",\"Netherlands/Joy/Happiness\",\"UK/Love/Affection\",\"Colombia/Joy/Happiness\",\"Norway/Joy/Happiness\",\"Germany/Anger\",\"USA/Anticipation\",\"Spain/Sadness\",\"USA/Suprise\",\"India/Anger\",\"Denmark/Joy/Happiness\",\"India/Fear\",\"UK/Sadness\",\"Australia/Trust\",\"Australia/Disgust\",\"Spain/Joy/Happiness\",\"Greece/Anticipation\",\"Maldives/Neutral/Calm\",\"France/Joy/Happiness\",\"UK/Joy/Happiness\",\"South Africa/Love/Affection\",\"Italy/Neutral/Calm\",\"USA/Love/Affection\",\"Canada/Sadness\",\"UK/Fear\",\"Germany/Fear\",\"Canada/Fear\",\"Canada/Disgust\",\"USA/Sadness\",\"India/Anticipation\",\"Germany/Anticipation\",\"China/Anticipation\",\"Canada/Trust\",\"UK/Anger\",\"Ireland/Love/Affection\",\"Greece/Neutral/Calm\",\"Australia/Suprise\",\"Australia/Neutral/Calm\",\"France/Trust\",\"USA/Neutral/Calm\",\"USA/Joy/Happiness\",\"Canada/Love/Affection\",\"USA/Anger\",\"Germany/Disgust\",\"Italy/Anticipation\",\"Italy/Love/Affection\",\"Japan/Love/Affection\",\"Italy/Sadness\",\"Japan/Sadness\",\"USA/Fear\",\"India/Disgust\",\"Japan/Anticipation\",\"Germany/Joy/Happiness\",\"Brazil/Suprise\",\"Germany/Sadness\",\"Jamaica/Joy/Happiness\",\"Australia/Anticipation\",\"Brazil/Neutral/Calm\",\"Australia/Love/Affection\",\"Japan/Trust\",\"India/Neutral/Calm\",\"Belgium/Anticipation\",\"Peru/Anticipation\",\"UK/Disgust\",\"Portugal/Trust\",\"Canada/Suprise\",\"France/Sadness\",\"Australia/Sadness\",\"Australia/Joy/Happiness\",\"Kenya/Love/Affection\",\"Brazil/Love/Affection\",\"Japan/Neutral/Calm\",\"India/Joy/Happiness\",\"Canada/Neutral/Calm\",\"France/Suprise\",\"Brazil/Sadness\",\"Austria/Joy/Happiness\",\"Scotland/Anticipation\",\"USA/Disgust\",\"UK/Trust\",\"Germany/Neutral/Calm\",\"Cambodia/Anticipation\",\"Australia/Fear\",\"Canada/Anticipation\",\"Jordan/Suprise\",\"Belgium/Joy/Happiness\",\"Switzerland/Neutral/Calm\",\"France/Neutral/Calm\",\"USA/Trust\",\"Australia\",\"Austria\",\"Belgium\",\"Brazil\",\"Cambodia\",\"Canada\",\"China\",\"Colombia\",\"Czech Republic\",\"Denmark\",\"France\",\"Germany\",\"Greece\",\"India\",\"Ireland\",\"Italy\",\"Jamaica\",\"Japan\",\"Jordan\",\"Kenya\",\"Maldives\",\"Netherlands\",\"Norway\",\"Peru\",\"Portugal\",\"Scotland\",\"South Africa\",\"Spain\",\"Sweden\",\"Switzerland\",\"Thailand\",\"UK\",\"USA\"],\"labels\":[\"Anger\",\"Anticipation\",\"Sadness\",\"Suprise\",\"Joy/Happiness\",\"Joy/Happiness\",\"Fear\",\"Fear\",\"Love/Affection\",\"Neutral/Calm\",\"Neutral/Calm\",\"Sadness\",\"Joy/Happiness\",\"Joy/Happiness\",\"Anticipation\",\"Neutral/Calm\",\"Sadness\",\"Anticipation\",\"Anger\",\"Anticipation\",\"Suprise\",\"Joy/Happiness\",\"Love/Affection\",\"Joy/Happiness\",\"Joy/Happiness\",\"Anger\",\"Anticipation\",\"Sadness\",\"Suprise\",\"Anger\",\"Joy/Happiness\",\"Fear\",\"Sadness\",\"Trust\",\"Disgust\",\"Joy/Happiness\",\"Anticipation\",\"Neutral/Calm\",\"Joy/Happiness\",\"Joy/Happiness\",\"Love/Affection\",\"Neutral/Calm\",\"Love/Affection\",\"Sadness\",\"Fear\",\"Fear\",\"Fear\",\"Disgust\",\"Sadness\",\"Anticipation\",\"Anticipation\",\"Anticipation\",\"Trust\",\"Anger\",\"Love/Affection\",\"Neutral/Calm\",\"Suprise\",\"Neutral/Calm\",\"Trust\",\"Neutral/Calm\",\"Joy/Happiness\",\"Love/Affection\",\"Anger\",\"Disgust\",\"Anticipation\",\"Love/Affection\",\"Love/Affection\",\"Sadness\",\"Sadness\",\"Fear\",\"Disgust\",\"Anticipation\",\"Joy/Happiness\",\"Suprise\",\"Sadness\",\"Joy/Happiness\",\"Anticipation\",\"Neutral/Calm\",\"Love/Affection\",\"Trust\",\"Neutral/Calm\",\"Anticipation\",\"Anticipation\",\"Disgust\",\"Trust\",\"Suprise\",\"Sadness\",\"Sadness\",\"Joy/Happiness\",\"Love/Affection\",\"Love/Affection\",\"Neutral/Calm\",\"Joy/Happiness\",\"Neutral/Calm\",\"Suprise\",\"Sadness\",\"Joy/Happiness\",\"Anticipation\",\"Disgust\",\"Trust\",\"Neutral/Calm\",\"Anticipation\",\"Fear\",\"Anticipation\",\"Suprise\",\"Joy/Happiness\",\"Neutral/Calm\",\"Neutral/Calm\",\"Trust\",\"Australia\",\"Austria\",\"Belgium\",\"Brazil\",\"Cambodia\",\"Canada\",\"China\",\"Colombia\",\"Czech Republic\",\"Denmark\",\"France\",\"Germany\",\"Greece\",\"India\",\"Ireland\",\"Italy\",\"Jamaica\",\"Japan\",\"Jordan\",\"Kenya\",\"Maldives\",\"Netherlands\",\"Norway\",\"Peru\",\"Portugal\",\"Scotland\",\"South Africa\",\"Spain\",\"Sweden\",\"Switzerland\",\"Thailand\",\"UK\",\"USA\"],\"marker\":{\"colors\":[\"rgb(141,211,199)\",\"rgb(255,255,179)\",\"rgb(190,186,218)\",\"rgb(251,128,114)\",\"rgb(128,177,211)\",\"rgb(128,177,211)\",\"rgb(253,180,98)\",\"rgb(253,180,98)\",\"rgb(179,222,105)\",\"rgb(252,205,229)\",\"rgb(252,205,229)\",\"rgb(190,186,218)\",\"rgb(128,177,211)\",\"rgb(128,177,211)\",\"rgb(255,255,179)\",\"rgb(252,205,229)\",\"rgb(190,186,218)\",\"rgb(255,255,179)\",\"rgb(141,211,199)\",\"rgb(255,255,179)\",\"rgb(251,128,114)\",\"rgb(128,177,211)\",\"rgb(179,222,105)\",\"rgb(128,177,211)\",\"rgb(128,177,211)\",\"rgb(141,211,199)\",\"rgb(255,255,179)\",\"rgb(190,186,218)\",\"rgb(251,128,114)\",\"rgb(141,211,199)\",\"rgb(128,177,211)\",\"rgb(253,180,98)\",\"rgb(190,186,218)\",\"rgb(217,217,217)\",\"rgb(188,128,189)\",\"rgb(128,177,211)\",\"rgb(255,255,179)\",\"rgb(252,205,229)\",\"rgb(128,177,211)\",\"rgb(128,177,211)\",\"rgb(179,222,105)\",\"rgb(252,205,229)\",\"rgb(179,222,105)\",\"rgb(190,186,218)\",\"rgb(253,180,98)\",\"rgb(253,180,98)\",\"rgb(253,180,98)\",\"rgb(188,128,189)\",\"rgb(190,186,218)\",\"rgb(255,255,179)\",\"rgb(255,255,179)\",\"rgb(255,255,179)\",\"rgb(217,217,217)\",\"rgb(141,211,199)\",\"rgb(179,222,105)\",\"rgb(252,205,229)\",\"rgb(251,128,114)\",\"rgb(252,205,229)\",\"rgb(217,217,217)\",\"rgb(252,205,229)\",\"rgb(128,177,211)\",\"rgb(179,222,105)\",\"rgb(141,211,199)\",\"rgb(188,128,189)\",\"rgb(255,255,179)\",\"rgb(179,222,105)\",\"rgb(179,222,105)\",\"rgb(190,186,218)\",\"rgb(190,186,218)\",\"rgb(253,180,98)\",\"rgb(188,128,189)\",\"rgb(255,255,179)\",\"rgb(128,177,211)\",\"rgb(251,128,114)\",\"rgb(190,186,218)\",\"rgb(128,177,211)\",\"rgb(255,255,179)\",\"rgb(252,205,229)\",\"rgb(179,222,105)\",\"rgb(217,217,217)\",\"rgb(252,205,229)\",\"rgb(255,255,179)\",\"rgb(255,255,179)\",\"rgb(188,128,189)\",\"rgb(217,217,217)\",\"rgb(251,128,114)\",\"rgb(190,186,218)\",\"rgb(190,186,218)\",\"rgb(128,177,211)\",\"rgb(179,222,105)\",\"rgb(179,222,105)\",\"rgb(252,205,229)\",\"rgb(128,177,211)\",\"rgb(252,205,229)\",\"rgb(251,128,114)\",\"rgb(190,186,218)\",\"rgb(128,177,211)\",\"rgb(255,255,179)\",\"rgb(188,128,189)\",\"rgb(217,217,217)\",\"rgb(252,205,229)\",\"rgb(255,255,179)\",\"rgb(253,180,98)\",\"rgb(255,255,179)\",\"rgb(251,128,114)\",\"rgb(128,177,211)\",\"rgb(252,205,229)\",\"rgb(252,205,229)\",\"rgb(217,217,217)\",\"rgb(204,235,197)\",\"rgb(128,177,211)\",\"rgb(204,235,197)\",\"rgb(204,235,197)\",\"rgb(255,255,179)\",\"rgb(204,235,197)\",\"rgb(255,255,179)\",\"rgb(128,177,211)\",\"rgb(255,255,179)\",\"rgb(128,177,211)\",\"rgb(204,235,197)\",\"rgb(204,235,197)\",\"rgb(204,235,197)\",\"rgb(204,235,197)\",\"rgb(179,222,105)\",\"rgb(204,235,197)\",\"rgb(128,177,211)\",\"rgb(204,235,197)\",\"rgb(251,128,114)\",\"rgb(179,222,105)\",\"rgb(252,205,229)\",\"rgb(204,235,197)\",\"rgb(128,177,211)\",\"rgb(255,255,179)\",\"rgb(217,217,217)\",\"rgb(255,255,179)\",\"rgb(204,235,197)\",\"rgb(204,235,197)\",\"rgb(252,205,229)\",\"rgb(204,235,197)\",\"rgb(252,205,229)\",\"rgb(204,235,197)\",\"rgb(204,235,197)\"]},\"name\":\"\",\"parents\":[\"Australia\",\"Switzerland\",\"Netherlands\",\"South Africa\",\"Japan\",\"Brazil\",\"France\",\"Brazil\",\"India\",\"Thailand\",\"Sweden\",\"South Africa\",\"Italy\",\"Canada\",\"South Africa\",\"UK\",\"India\",\"UK\",\"Canada\",\"Czech Republic\",\"UK\",\"Netherlands\",\"UK\",\"Colombia\",\"Norway\",\"Germany\",\"USA\",\"Spain\",\"USA\",\"India\",\"Denmark\",\"India\",\"UK\",\"Australia\",\"Australia\",\"Spain\",\"Greece\",\"Maldives\",\"France\",\"UK\",\"South Africa\",\"Italy\",\"USA\",\"Canada\",\"UK\",\"Germany\",\"Canada\",\"Canada\",\"USA\",\"India\",\"Germany\",\"China\",\"Canada\",\"UK\",\"Ireland\",\"Greece\",\"Australia\",\"Australia\",\"France\",\"USA\",\"USA\",\"Canada\",\"USA\",\"Germany\",\"Italy\",\"Italy\",\"Japan\",\"Italy\",\"Japan\",\"USA\",\"India\",\"Japan\",\"Germany\",\"Brazil\",\"Germany\",\"Jamaica\",\"Australia\",\"Brazil\",\"Australia\",\"Japan\",\"India\",\"Belgium\",\"Peru\",\"UK\",\"Portugal\",\"Canada\",\"France\",\"Australia\",\"Australia\",\"Kenya\",\"Brazil\",\"Japan\",\"India\",\"Canada\",\"France\",\"Brazil\",\"Austria\",\"Scotland\",\"USA\",\"UK\",\"Germany\",\"Cambodia\",\"Australia\",\"Canada\",\"Jordan\",\"Belgium\",\"Switzerland\",\"France\",\"USA\",\"\",\"\",\"\",\"\",\"\",\"\",\"\",\"\",\"\",\"\",\"\",\"\",\"\",\"\",\"\",\"\",\"\",\"\",\"\",\"\",\"\",\"\",\"\",\"\",\"\",\"\",\"\",\"\",\"\",\"\",\"\",\"\",\"\"],\"values\":[3,1,1,2,6,5,1,1,2,1,2,2,4,61,1,16,11,8,9,2,5,3,11,1,1,1,12,4,9,4,2,4,15,4,1,1,1,1,3,62,1,1,15,18,5,1,2,2,21,9,2,1,3,9,1,4,4,8,3,17,85,5,13,1,2,2,1,2,3,7,3,2,4,4,4,1,8,1,10,1,9,1,1,6,1,1,5,12,16,1,1,2,26,25,1,5,1,1,2,2,1,1,3,4,1,1,1,3,3,69,1,2,17,1,130,1,1,2,2,16,14,5,68,1,11,1,15,1,1,1,4,1,1,1,1,6,5,2,2,1,139,184],\"type\":\"treemap\"}],                        {\"template\":{\"data\":{\"histogram2dcontour\":[{\"type\":\"histogram2dcontour\",\"colorbar\":{\"outlinewidth\":0,\"ticks\":\"\"},\"colorscale\":[[0.0,\"#0d0887\"],[0.1111111111111111,\"#46039f\"],[0.2222222222222222,\"#7201a8\"],[0.3333333333333333,\"#9c179e\"],[0.4444444444444444,\"#bd3786\"],[0.5555555555555556,\"#d8576b\"],[0.6666666666666666,\"#ed7953\"],[0.7777777777777778,\"#fb9f3a\"],[0.8888888888888888,\"#fdca26\"],[1.0,\"#f0f921\"]]}],\"choropleth\":[{\"type\":\"choropleth\",\"colorbar\":{\"outlinewidth\":0,\"ticks\":\"\"}}],\"histogram2d\":[{\"type\":\"histogram2d\",\"colorbar\":{\"outlinewidth\":0,\"ticks\":\"\"},\"colorscale\":[[0.0,\"#0d0887\"],[0.1111111111111111,\"#46039f\"],[0.2222222222222222,\"#7201a8\"],[0.3333333333333333,\"#9c179e\"],[0.4444444444444444,\"#bd3786\"],[0.5555555555555556,\"#d8576b\"],[0.6666666666666666,\"#ed7953\"],[0.7777777777777778,\"#fb9f3a\"],[0.8888888888888888,\"#fdca26\"],[1.0,\"#f0f921\"]]}],\"heatmap\":[{\"type\":\"heatmap\",\"colorbar\":{\"outlinewidth\":0,\"ticks\":\"\"},\"colorscale\":[[0.0,\"#0d0887\"],[0.1111111111111111,\"#46039f\"],[0.2222222222222222,\"#7201a8\"],[0.3333333333333333,\"#9c179e\"],[0.4444444444444444,\"#bd3786\"],[0.5555555555555556,\"#d8576b\"],[0.6666666666666666,\"#ed7953\"],[0.7777777777777778,\"#fb9f3a\"],[0.8888888888888888,\"#fdca26\"],[1.0,\"#f0f921\"]]}],\"heatmapgl\":[{\"type\":\"heatmapgl\",\"colorbar\":{\"outlinewidth\":0,\"ticks\":\"\"},\"colorscale\":[[0.0,\"#0d0887\"],[0.1111111111111111,\"#46039f\"],[0.2222222222222222,\"#7201a8\"],[0.3333333333333333,\"#9c179e\"],[0.4444444444444444,\"#bd3786\"],[0.5555555555555556,\"#d8576b\"],[0.6666666666666666,\"#ed7953\"],[0.7777777777777778,\"#fb9f3a\"],[0.8888888888888888,\"#fdca26\"],[1.0,\"#f0f921\"]]}],\"contourcarpet\":[{\"type\":\"contourcarpet\",\"colorbar\":{\"outlinewidth\":0,\"ticks\":\"\"}}],\"contour\":[{\"type\":\"contour\",\"colorbar\":{\"outlinewidth\":0,\"ticks\":\"\"},\"colorscale\":[[0.0,\"#0d0887\"],[0.1111111111111111,\"#46039f\"],[0.2222222222222222,\"#7201a8\"],[0.3333333333333333,\"#9c179e\"],[0.4444444444444444,\"#bd3786\"],[0.5555555555555556,\"#d8576b\"],[0.6666666666666666,\"#ed7953\"],[0.7777777777777778,\"#fb9f3a\"],[0.8888888888888888,\"#fdca26\"],[1.0,\"#f0f921\"]]}],\"surface\":[{\"type\":\"surface\",\"colorbar\":{\"outlinewidth\":0,\"ticks\":\"\"},\"colorscale\":[[0.0,\"#0d0887\"],[0.1111111111111111,\"#46039f\"],[0.2222222222222222,\"#7201a8\"],[0.3333333333333333,\"#9c179e\"],[0.4444444444444444,\"#bd3786\"],[0.5555555555555556,\"#d8576b\"],[0.6666666666666666,\"#ed7953\"],[0.7777777777777778,\"#fb9f3a\"],[0.8888888888888888,\"#fdca26\"],[1.0,\"#f0f921\"]]}],\"mesh3d\":[{\"type\":\"mesh3d\",\"colorbar\":{\"outlinewidth\":0,\"ticks\":\"\"}}],\"scatter\":[{\"fillpattern\":{\"fillmode\":\"overlay\",\"size\":10,\"solidity\":0.2},\"type\":\"scatter\"}],\"parcoords\":[{\"type\":\"parcoords\",\"line\":{\"colorbar\":{\"outlinewidth\":0,\"ticks\":\"\"}}}],\"scatterpolargl\":[{\"type\":\"scatterpolargl\",\"marker\":{\"colorbar\":{\"outlinewidth\":0,\"ticks\":\"\"}}}],\"bar\":[{\"error_x\":{\"color\":\"#2a3f5f\"},\"error_y\":{\"color\":\"#2a3f5f\"},\"marker\":{\"line\":{\"color\":\"#E5ECF6\",\"width\":0.5},\"pattern\":{\"fillmode\":\"overlay\",\"size\":10,\"solidity\":0.2}},\"type\":\"bar\"}],\"scattergeo\":[{\"type\":\"scattergeo\",\"marker\":{\"colorbar\":{\"outlinewidth\":0,\"ticks\":\"\"}}}],\"scatterpolar\":[{\"type\":\"scatterpolar\",\"marker\":{\"colorbar\":{\"outlinewidth\":0,\"ticks\":\"\"}}}],\"histogram\":[{\"marker\":{\"pattern\":{\"fillmode\":\"overlay\",\"size\":10,\"solidity\":0.2}},\"type\":\"histogram\"}],\"scattergl\":[{\"type\":\"scattergl\",\"marker\":{\"colorbar\":{\"outlinewidth\":0,\"ticks\":\"\"}}}],\"scatter3d\":[{\"type\":\"scatter3d\",\"line\":{\"colorbar\":{\"outlinewidth\":0,\"ticks\":\"\"}},\"marker\":{\"colorbar\":{\"outlinewidth\":0,\"ticks\":\"\"}}}],\"scattermapbox\":[{\"type\":\"scattermapbox\",\"marker\":{\"colorbar\":{\"outlinewidth\":0,\"ticks\":\"\"}}}],\"scatterternary\":[{\"type\":\"scatterternary\",\"marker\":{\"colorbar\":{\"outlinewidth\":0,\"ticks\":\"\"}}}],\"scattercarpet\":[{\"type\":\"scattercarpet\",\"marker\":{\"colorbar\":{\"outlinewidth\":0,\"ticks\":\"\"}}}],\"carpet\":[{\"aaxis\":{\"endlinecolor\":\"#2a3f5f\",\"gridcolor\":\"white\",\"linecolor\":\"white\",\"minorgridcolor\":\"white\",\"startlinecolor\":\"#2a3f5f\"},\"baxis\":{\"endlinecolor\":\"#2a3f5f\",\"gridcolor\":\"white\",\"linecolor\":\"white\",\"minorgridcolor\":\"white\",\"startlinecolor\":\"#2a3f5f\"},\"type\":\"carpet\"}],\"table\":[{\"cells\":{\"fill\":{\"color\":\"#EBF0F8\"},\"line\":{\"color\":\"white\"}},\"header\":{\"fill\":{\"color\":\"#C8D4E3\"},\"line\":{\"color\":\"white\"}},\"type\":\"table\"}],\"barpolar\":[{\"marker\":{\"line\":{\"color\":\"#E5ECF6\",\"width\":0.5},\"pattern\":{\"fillmode\":\"overlay\",\"size\":10,\"solidity\":0.2}},\"type\":\"barpolar\"}],\"pie\":[{\"automargin\":true,\"type\":\"pie\"}]},\"layout\":{\"autotypenumbers\":\"strict\",\"colorway\":[\"#636efa\",\"#EF553B\",\"#00cc96\",\"#ab63fa\",\"#FFA15A\",\"#19d3f3\",\"#FF6692\",\"#B6E880\",\"#FF97FF\",\"#FECB52\"],\"font\":{\"color\":\"#2a3f5f\"},\"hovermode\":\"closest\",\"hoverlabel\":{\"align\":\"left\"},\"paper_bgcolor\":\"white\",\"plot_bgcolor\":\"#E5ECF6\",\"polar\":{\"bgcolor\":\"#E5ECF6\",\"angularaxis\":{\"gridcolor\":\"white\",\"linecolor\":\"white\",\"ticks\":\"\"},\"radialaxis\":{\"gridcolor\":\"white\",\"linecolor\":\"white\",\"ticks\":\"\"}},\"ternary\":{\"bgcolor\":\"#E5ECF6\",\"aaxis\":{\"gridcolor\":\"white\",\"linecolor\":\"white\",\"ticks\":\"\"},\"baxis\":{\"gridcolor\":\"white\",\"linecolor\":\"white\",\"ticks\":\"\"},\"caxis\":{\"gridcolor\":\"white\",\"linecolor\":\"white\",\"ticks\":\"\"}},\"coloraxis\":{\"colorbar\":{\"outlinewidth\":0,\"ticks\":\"\"}},\"colorscale\":{\"sequential\":[[0.0,\"#0d0887\"],[0.1111111111111111,\"#46039f\"],[0.2222222222222222,\"#7201a8\"],[0.3333333333333333,\"#9c179e\"],[0.4444444444444444,\"#bd3786\"],[0.5555555555555556,\"#d8576b\"],[0.6666666666666666,\"#ed7953\"],[0.7777777777777778,\"#fb9f3a\"],[0.8888888888888888,\"#fdca26\"],[1.0,\"#f0f921\"]],\"sequentialminus\":[[0.0,\"#0d0887\"],[0.1111111111111111,\"#46039f\"],[0.2222222222222222,\"#7201a8\"],[0.3333333333333333,\"#9c179e\"],[0.4444444444444444,\"#bd3786\"],[0.5555555555555556,\"#d8576b\"],[0.6666666666666666,\"#ed7953\"],[0.7777777777777778,\"#fb9f3a\"],[0.8888888888888888,\"#fdca26\"],[1.0,\"#f0f921\"]],\"diverging\":[[0,\"#8e0152\"],[0.1,\"#c51b7d\"],[0.2,\"#de77ae\"],[0.3,\"#f1b6da\"],[0.4,\"#fde0ef\"],[0.5,\"#f7f7f7\"],[0.6,\"#e6f5d0\"],[0.7,\"#b8e186\"],[0.8,\"#7fbc41\"],[0.9,\"#4d9221\"],[1,\"#276419\"]]},\"xaxis\":{\"gridcolor\":\"white\",\"linecolor\":\"white\",\"ticks\":\"\",\"title\":{\"standoff\":15},\"zerolinecolor\":\"white\",\"automargin\":true,\"zerolinewidth\":2},\"yaxis\":{\"gridcolor\":\"white\",\"linecolor\":\"white\",\"ticks\":\"\",\"title\":{\"standoff\":15},\"zerolinecolor\":\"white\",\"automargin\":true,\"zerolinewidth\":2},\"scene\":{\"xaxis\":{\"backgroundcolor\":\"#E5ECF6\",\"gridcolor\":\"white\",\"linecolor\":\"white\",\"showbackground\":true,\"ticks\":\"\",\"zerolinecolor\":\"white\",\"gridwidth\":2},\"yaxis\":{\"backgroundcolor\":\"#E5ECF6\",\"gridcolor\":\"white\",\"linecolor\":\"white\",\"showbackground\":true,\"ticks\":\"\",\"zerolinecolor\":\"white\",\"gridwidth\":2},\"zaxis\":{\"backgroundcolor\":\"#E5ECF6\",\"gridcolor\":\"white\",\"linecolor\":\"white\",\"showbackground\":true,\"ticks\":\"\",\"zerolinecolor\":\"white\",\"gridwidth\":2}},\"shapedefaults\":{\"line\":{\"color\":\"#2a3f5f\"}},\"annotationdefaults\":{\"arrowcolor\":\"#2a3f5f\",\"arrowhead\":0,\"arrowwidth\":1},\"geo\":{\"bgcolor\":\"white\",\"landcolor\":\"#E5ECF6\",\"subunitcolor\":\"white\",\"showland\":true,\"showlakes\":true,\"lakecolor\":\"white\"},\"title\":{\"x\":0.05},\"mapbox\":{\"style\":\"light\"}}},\"legend\":{\"tracegroupgap\":0},\"title\":{\"text\":\"Sentiment Distribution by Country\"},\"treemapcolorway\":[\"rgb(141,211,199)\",\"rgb(255,255,179)\",\"rgb(190,186,218)\",\"rgb(251,128,114)\",\"rgb(128,177,211)\",\"rgb(253,180,98)\",\"rgb(179,222,105)\",\"rgb(252,205,229)\",\"rgb(217,217,217)\",\"rgb(188,128,189)\",\"rgb(204,235,197)\",\"rgb(255,237,111)\"]},                        {\"responsive\": true}                    ).then(function(){\n",
       "                            \n",
       "var gd = document.getElementById('c92c4af7-c7ea-4141-90d0-c377a338c13b');\n",
       "var x = new MutationObserver(function (mutations, observer) {{\n",
       "        var display = window.getComputedStyle(gd).display;\n",
       "        if (!display || display === 'none') {{\n",
       "            console.log([gd, 'removed!']);\n",
       "            Plotly.purge(gd);\n",
       "            observer.disconnect();\n",
       "        }}\n",
       "}});\n",
       "\n",
       "// Listen for the removal of the full notebook cells\n",
       "var notebookContainer = gd.closest('#notebook-container');\n",
       "if (notebookContainer) {{\n",
       "    x.observe(notebookContainer, {childList: true});\n",
       "}}\n",
       "\n",
       "// Listen for the clearing of the current output cell\n",
       "var outputEl = gd.closest('.output');\n",
       "if (outputEl) {{\n",
       "    x.observe(outputEl, {childList: true});\n",
       "}}\n",
       "\n",
       "                        })                };                });            </script>        </div>"
      ]
     },
     "metadata": {},
     "output_type": "display_data"
    }
   ],
   "source": [
    "fig = px.treemap(\n",
    "    country_sentiment_counts,\n",
    "    path=['Country', 'General_Sentiment'],\n",
    "    values='Count',\n",
    "    title='Sentiment Distribution by Country',\n",
    "    color='General_Sentiment',\n",
    "    color_discrete_sequence=px.colors.qualitative.Set3\n",
    ")\n",
    "\n",
    "fig.show()\n",
    "# also reflects the amount of data per countly"
   ]
  }
 ],
 "metadata": {
  "kernelspec": {
   "display_name": "Python 3 (ipykernel)",
   "language": "python",
   "name": "python3"
  },
  "language_info": {
   "codemirror_mode": {
    "name": "ipython",
    "version": 3
   },
   "file_extension": ".py",
   "mimetype": "text/x-python",
   "name": "python",
   "nbconvert_exporter": "python",
   "pygments_lexer": "ipython3",
   "version": "3.10.9"
  }
 },
 "nbformat": 4,
 "nbformat_minor": 5
}
